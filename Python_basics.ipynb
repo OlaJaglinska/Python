{
 "cells": [
  {
   "cell_type": "markdown",
   "id": "4aed962a",
   "metadata": {},
   "source": [
    "## Simple question about basic python."
   ]
  },
  {
   "cell_type": "markdown",
   "id": "b3479316",
   "metadata": {},
   "source": [
    "**List od unique elements**"
   ]
  },
  {
   "cell_type": "code",
   "execution_count": 1,
   "id": "a72a639e",
   "metadata": {},
   "outputs": [],
   "source": [
    "a = [1,2,2,1,3,2,3]"
   ]
  },
  {
   "cell_type": "code",
   "execution_count": 2,
   "id": "9bb7e67c",
   "metadata": {},
   "outputs": [
    {
     "data": {
      "text/plain": [
       "[1, 2, 3]"
      ]
     },
     "execution_count": 2,
     "metadata": {},
     "output_type": "execute_result"
    }
   ],
   "source": [
    "b = list(set(a))\n",
    "b"
   ]
  },
  {
   "cell_type": "markdown",
   "id": "130e7e7e",
   "metadata": {},
   "source": [
    "other solution"
   ]
  },
  {
   "cell_type": "code",
   "execution_count": 3,
   "id": "08c4b9fa",
   "metadata": {},
   "outputs": [
    {
     "data": {
      "text/plain": [
       "[1, 2, 3]"
      ]
     },
     "execution_count": 3,
     "metadata": {},
     "output_type": "execute_result"
    }
   ],
   "source": [
    "c = []\n",
    "for i in a:\n",
    "    if i not in c:\n",
    "        c.append(i)\n",
    "c"
   ]
  },
  {
   "cell_type": "code",
   "execution_count": 4,
   "id": "71def7d7",
   "metadata": {},
   "outputs": [
    {
     "data": {
      "text/plain": [
       "3"
      ]
     },
     "execution_count": 4,
     "metadata": {},
     "output_type": "execute_result"
    }
   ],
   "source": [
    "len(c)"
   ]
  },
  {
   "cell_type": "markdown",
   "id": "7392dc83",
   "metadata": {},
   "source": [
    "**Mutable and immutable objects**"
   ]
  },
  {
   "cell_type": "markdown",
   "id": "e45b263f",
   "metadata": {},
   "source": [
    "What happend?\n",
    "\n",
    "a  = 'abcdefg'\n",
    "a[1] = 'X'\n",
    "\n",
    "Answer: Error because string object is immutable object. For changing second element I can change str to list."
   ]
  },
  {
   "cell_type": "code",
   "execution_count": 5,
   "id": "8bd97b1e",
   "metadata": {},
   "outputs": [
    {
     "data": {
      "text/plain": [
       "'aXcdefg'"
      ]
     },
     "execution_count": 5,
     "metadata": {},
     "output_type": "execute_result"
    }
   ],
   "source": [
    "a  = 'abcdefg'\n",
    "a_list = list(a)\n",
    "a_list[1] = 'X'\n",
    "a = ''.join(a_list)\n",
    "a"
   ]
  },
  {
   "cell_type": "markdown",
   "id": "d3086a36",
   "metadata": {},
   "source": [
    "immutable obj: int, float, bool, str, tuple, unicode\n",
    "mutable obj: list, set, dict"
   ]
  },
  {
   "cell_type": "markdown",
   "id": "ec242378",
   "metadata": {},
   "source": [
    "**List vs. tuple**\n",
    "\n",
    "Indicate the difference with code notation\n",
    "\n",
    "(list -> mutable;\n",
    "tuple -> immutable)"
   ]
  },
  {
   "cell_type": "code",
   "execution_count": 6,
   "id": "dd09d75c",
   "metadata": {},
   "outputs": [
    {
     "name": "stdout",
     "output_type": "stream",
     "text": [
      "[1, 2, 'three', 'four', (1, 2, 'five')]\n"
     ]
    }
   ],
   "source": [
    "l = [1, 2, 3, 'four', (1,2,'five')]\n",
    "t = (1, 2, 3, 'five', [1,2,'six'])\n",
    "\n",
    "l[2] = 'three'\n",
    "print(l)\n",
    "\n",
    "# ERROR\n",
    "#t[2] = 'three'\n",
    "#print(t)"
   ]
  },
  {
   "cell_type": "markdown",
   "id": "195c2afe",
   "metadata": {},
   "source": [
    "**Multidimensional list**\n",
    "\n",
    "Cabinet modeling:\n",
    "3 drawers, 3 compartments, put 'pen' in the middle compartment of the middle drawer"
   ]
  },
  {
   "cell_type": "code",
   "execution_count": 7,
   "id": "9f2c3acc",
   "metadata": {},
   "outputs": [
    {
     "name": "stdout",
     "output_type": "stream",
     "text": [
      "[[], [], []]\n",
      "[[], 'pen', []]\n",
      "[[], [], []]\n"
     ]
    }
   ],
   "source": [
    "cabinet = [[[],[],[]],[[],[],[]],[[],[],[]]]\n",
    "cabinet[1][1] = 'pen'\n",
    "\n",
    "for i in cabinet:\n",
    "    print(i)"
   ]
  },
  {
   "cell_type": "markdown",
   "id": "623ac509",
   "metadata": {},
   "source": [
    "**Nested data structures**\n",
    "\n",
    "print str 'hidden'"
   ]
  },
  {
   "cell_type": "code",
   "execution_count": 8,
   "id": "36a71ba2",
   "metadata": {},
   "outputs": [
    {
     "name": "stdout",
     "output_type": "stream",
     "text": [
      "hidden\n"
     ]
    }
   ],
   "source": [
    "l = [[32, True], [3], [('abc', 3), {'a':8, 'x': (False, 'hidden', 2)}]]\n",
    "print(l[2][1]['x'][1])"
   ]
  },
  {
   "cell_type": "markdown",
   "id": "a479d052",
   "metadata": {},
   "source": [
    "**What structure would you use to register names and numbers of clients?**\n",
    "123456789 - Joe Black\n",
    "122333444 - Regina Phalange\n",
    "999555666 - Joe Black\n",
    "\n",
    "I will use dictionary because it have unique key (telefon number) and not unique value (name). Dictionary will also be fast with finding value -> time to look up dictionary item is 1 (dictionary and set is hash table)."
   ]
  },
  {
   "cell_type": "code",
   "execution_count": 9,
   "id": "3bebcabc",
   "metadata": {},
   "outputs": [],
   "source": [
    "tel_nums = {\n",
    "    123456789:'Joe Black',\n",
    "    122333444:'Regina Phalange',\n",
    "    999555666:'Joe Black'\n",
    "}"
   ]
  },
  {
   "cell_type": "code",
   "execution_count": 10,
   "id": "6b2f2a88",
   "metadata": {},
   "outputs": [
    {
     "data": {
      "text/plain": [
       "'Joe Black'"
      ]
     },
     "execution_count": 10,
     "metadata": {},
     "output_type": "execute_result"
    }
   ],
   "source": [
    "tel_nums[123456789]"
   ]
  },
  {
   "cell_type": "markdown",
   "id": "574058bb",
   "metadata": {},
   "source": [
    "**Which object cannot be a key in a dictionary?**\n",
    "\n",
    "A = {1: 1, 2: 4, 3: 9}\n",
    "\n",
    "B = {'imie': 'Anna', 'nazwisko': 'Kowalska'}\n",
    "\n",
    "C = {[4, 5]: [16, 25]}   \n",
    "\n",
    "D = {(4, 5): [16, 25]}\n",
    "\n",
    "E = {{1:2}: 'jeden_dwa'}\n",
    "\n",
    "\n",
    "Answer: C and E. \n",
    "A list an a dictionary cannot be a key because it is immutable"
   ]
  },
  {
   "cell_type": "markdown",
   "id": "aa6391c3",
   "metadata": {},
   "source": [
    "**For a string, create a dictionary that stores information on how many times a given letter has occurred**"
   ]
  },
  {
   "cell_type": "code",
   "execution_count": 11,
   "id": "2d998413",
   "metadata": {
    "scrolled": true
   },
   "outputs": [
    {
     "data": {
      "text/plain": [
       "{'r': 6,\n",
       " 'o': 4,\n",
       " 's': 7,\n",
       " 'e': 9,\n",
       " 'a': 5,\n",
       " 'd': 2,\n",
       " 'v': 1,\n",
       " 'i': 2,\n",
       " 'l': 2,\n",
       " 't': 2,\n",
       " 'b': 1,\n",
       " 'u': 3,\n",
       " 'g': 1,\n",
       " 'w': 1,\n",
       " 'n': 1,\n",
       " 'y': 1}"
      ]
     },
     "execution_count": 11,
     "metadata": {},
     "output_type": "execute_result"
    }
   ],
   "source": [
    "x = 'rosesareredvioletsarebluesugarissweetandsoareyou'\n",
    "\n",
    "d = {}\n",
    "for i in x:\n",
    "    if i not in d.keys(): #or just d\n",
    "        d[i]=1\n",
    "    else:\n",
    "        d[i]+=1\n",
    "d"
   ]
  },
  {
   "cell_type": "markdown",
   "id": "cfc9e8ae",
   "metadata": {},
   "source": [
    "**For the dictionary from the last task, print True if some letter appears four times.**"
   ]
  },
  {
   "cell_type": "code",
   "execution_count": 12,
   "id": "44a53f1c",
   "metadata": {},
   "outputs": [
    {
     "name": "stdout",
     "output_type": "stream",
     "text": [
      "[6, 4, 7, 9, 5, 2, 1, 2, 2, 2, 1, 3, 1, 1, 1, 1]\n",
      "True\n"
     ]
    }
   ],
   "source": [
    "print(list(d.values()))\n",
    "\n",
    "print(True if 4 in d.values() else False)"
   ]
  },
  {
   "cell_type": "code",
   "execution_count": 13,
   "id": "5d202b88",
   "metadata": {},
   "outputs": [
    {
     "data": {
      "text/plain": [
       "13500"
      ]
     },
     "execution_count": 13,
     "metadata": {},
     "output_type": "execute_result"
    }
   ],
   "source": [
    "pensje = {'ksiegowa': 5000, 'kierowca': 4500, 'recepcjonistka': 4000}\n",
    "\n",
    "sum(pensje.values())"
   ]
  },
  {
   "cell_type": "markdown",
   "id": "75661baf",
   "metadata": {},
   "source": [
    "**Create new list that is an inverted list l**"
   ]
  },
  {
   "cell_type": "code",
   "execution_count": 14,
   "id": "ffb022f0",
   "metadata": {},
   "outputs": [],
   "source": [
    "l = ['Python', 'Java', 'C#', 'C++']"
   ]
  },
  {
   "cell_type": "code",
   "execution_count": 15,
   "id": "843c596f",
   "metadata": {},
   "outputs": [
    {
     "data": {
      "text/plain": [
       "['C++', 'C#', 'Java', 'Python']"
      ]
     },
     "execution_count": 15,
     "metadata": {},
     "output_type": "execute_result"
    }
   ],
   "source": [
    "l_new = l[::-1]\n",
    "l_new"
   ]
  },
  {
   "cell_type": "code",
   "execution_count": 16,
   "id": "cbdef20c",
   "metadata": {},
   "outputs": [
    {
     "data": {
      "text/plain": [
       "['C++', 'C#', 'Java', 'Python']"
      ]
     },
     "execution_count": 16,
     "metadata": {},
     "output_type": "execute_result"
    }
   ],
   "source": [
    "l_new2 = list(reversed(l))\n",
    "l_new2"
   ]
  },
  {
   "cell_type": "code",
   "execution_count": 17,
   "id": "0a254c6f",
   "metadata": {},
   "outputs": [
    {
     "data": {
      "text/plain": [
       "['C++', 'C#', 'Java', 'Python']"
      ]
     },
     "execution_count": 17,
     "metadata": {},
     "output_type": "execute_result"
    }
   ],
   "source": [
    "l_new3 = []\n",
    "for i in l:\n",
    "    l_new3.insert(0,i)\n",
    "l_new3"
   ]
  },
  {
   "cell_type": "markdown",
   "id": "ba0ee67d",
   "metadata": {},
   "source": [
    "**write a function that checks whether a given word is a palindrome**"
   ]
  },
  {
   "cell_type": "code",
   "execution_count": 18,
   "id": "e22dd72d",
   "metadata": {},
   "outputs": [],
   "source": [
    "def palindrom(word):\n",
    "    return True if word == word[::-1] else False"
   ]
  },
  {
   "cell_type": "code",
   "execution_count": 19,
   "id": "dae081f2",
   "metadata": {},
   "outputs": [
    {
     "data": {
      "text/plain": [
       "True"
      ]
     },
     "execution_count": 19,
     "metadata": {},
     "output_type": "execute_result"
    }
   ],
   "source": [
    "palindrom('kayak')"
   ]
  },
  {
   "cell_type": "code",
   "execution_count": 20,
   "id": "8b59d619",
   "metadata": {},
   "outputs": [
    {
     "data": {
      "text/plain": [
       "False"
      ]
     },
     "execution_count": 20,
     "metadata": {},
     "output_type": "execute_result"
    }
   ],
   "source": [
    "palindrom('anconda')"
   ]
  },
  {
   "cell_type": "code",
   "execution_count": 21,
   "id": "e0d3b842",
   "metadata": {},
   "outputs": [],
   "source": [
    "def palindrom2(word):\n",
    "    start = 0\n",
    "    end = len(word)-1\n",
    "    while start <= end:\n",
    "        if word[start] != word[end]:\n",
    "            return False\n",
    "        else:\n",
    "            start += 1\n",
    "            end -= 1\n",
    "    return True"
   ]
  },
  {
   "cell_type": "code",
   "execution_count": 22,
   "id": "567c9e68",
   "metadata": {},
   "outputs": [
    {
     "data": {
      "text/plain": [
       "True"
      ]
     },
     "execution_count": 22,
     "metadata": {},
     "output_type": "execute_result"
    }
   ],
   "source": [
    "palindrom2('kayak')"
   ]
  },
  {
   "cell_type": "code",
   "execution_count": 23,
   "id": "088f5cfe",
   "metadata": {},
   "outputs": [
    {
     "data": {
      "text/plain": [
       "False"
      ]
     },
     "execution_count": 23,
     "metadata": {},
     "output_type": "execute_result"
    }
   ],
   "source": [
    "palindrom2('anconda')\n"
   ]
  },
  {
   "cell_type": "markdown",
   "id": "c7f7b383",
   "metadata": {},
   "source": [
    "**Create two lists (one line of code):\n",
    "1st a list containing numbers 1-10\n",
    "2nd a list containing every third number in the range 100-1**"
   ]
  },
  {
   "cell_type": "code",
   "execution_count": 24,
   "id": "97ef3db0",
   "metadata": {},
   "outputs": [
    {
     "data": {
      "text/plain": [
       "[1, 2, 3, 4, 5, 6, 7, 8, 9, 10]"
      ]
     },
     "execution_count": 24,
     "metadata": {},
     "output_type": "execute_result"
    }
   ],
   "source": [
    "a = list(range(1,11))\n",
    "a"
   ]
  },
  {
   "cell_type": "code",
   "execution_count": 25,
   "id": "2e57b133",
   "metadata": {},
   "outputs": [
    {
     "data": {
      "text/plain": [
       "[100,\n",
       " 97,\n",
       " 94,\n",
       " 91,\n",
       " 88,\n",
       " 85,\n",
       " 82,\n",
       " 79,\n",
       " 76,\n",
       " 73,\n",
       " 70,\n",
       " 67,\n",
       " 64,\n",
       " 61,\n",
       " 58,\n",
       " 55,\n",
       " 52,\n",
       " 49,\n",
       " 46,\n",
       " 43,\n",
       " 40,\n",
       " 37,\n",
       " 34,\n",
       " 31,\n",
       " 28,\n",
       " 25,\n",
       " 22,\n",
       " 19,\n",
       " 16,\n",
       " 13,\n",
       " 10,\n",
       " 7,\n",
       " 4,\n",
       " 1]"
      ]
     },
     "execution_count": 25,
     "metadata": {},
     "output_type": "execute_result"
    }
   ],
   "source": [
    "b = list(range(100,0,-3))\n",
    "b"
   ]
  },
  {
   "cell_type": "code",
   "execution_count": 26,
   "id": "afb5d02f",
   "metadata": {},
   "outputs": [
    {
     "data": {
      "text/plain": [
       "[-5, -3, -1, 1, 3, 5]"
      ]
     },
     "execution_count": 26,
     "metadata": {},
     "output_type": "execute_result"
    }
   ],
   "source": [
    "c = list(range(-5,6,2))\n",
    "c"
   ]
  },
  {
   "cell_type": "markdown",
   "id": "37f6333a",
   "metadata": {},
   "source": [
    "**Print the first 5 items from list L**"
   ]
  },
  {
   "cell_type": "code",
   "execution_count": 27,
   "id": "0fa554dd",
   "metadata": {},
   "outputs": [
    {
     "name": "stdout",
     "output_type": "stream",
     "text": [
      "[11, 22, 33, 44, 55]\n"
     ]
    }
   ],
   "source": [
    "L = [11, 22, 33, 44, 55, 66, 77, 88, 99, 1010]\n",
    "print(L[0:5])"
   ]
  },
  {
   "cell_type": "markdown",
   "id": "996c7dec",
   "metadata": {},
   "source": [
    "**Print every second letter of the string S, starting with the last one and going back to the beginning**"
   ]
  },
  {
   "cell_type": "code",
   "execution_count": 28,
   "id": "a562f92a",
   "metadata": {},
   "outputs": [
    {
     "name": "stdout",
     "output_type": "stream",
     "text": [
      "I like Python.\n"
     ]
    }
   ],
   "source": [
    "S = '.pnjo^het9y2Pj ie4k i$l. jI'\n",
    "print(''.join(list(S)[-1::-2]))"
   ]
  },
  {
   "cell_type": "markdown",
   "id": "7439b01e",
   "metadata": {},
   "source": [
    "**Write a function that checks a string starting by 'python' and ending by '.py'**"
   ]
  },
  {
   "cell_type": "code",
   "execution_count": 29,
   "id": "8e96d184",
   "metadata": {},
   "outputs": [],
   "source": [
    "def check_if_python(file_name):\n",
    "    if file_name[:6]=='python' and file_name[-2:]=='py':\n",
    "        return True\n",
    "    else:\n",
    "        return False"
   ]
  },
  {
   "cell_type": "code",
   "execution_count": 30,
   "id": "7d3a0bf1",
   "metadata": {},
   "outputs": [
    {
     "data": {
      "text/plain": [
       "True"
      ]
     },
     "execution_count": 30,
     "metadata": {},
     "output_type": "execute_result"
    }
   ],
   "source": [
    "check_if_python('python_my_code.py')"
   ]
  },
  {
   "cell_type": "code",
   "execution_count": 31,
   "id": "b0f74c30",
   "metadata": {},
   "outputs": [
    {
     "data": {
      "text/plain": [
       "False"
      ]
     },
     "execution_count": 31,
     "metadata": {},
     "output_type": "execute_result"
    }
   ],
   "source": [
    "check_if_python('python_notes.txt')"
   ]
  },
  {
   "cell_type": "markdown",
   "id": "49224e0b",
   "metadata": {},
   "source": [
    "**Print list 'names' with next numbers before names**"
   ]
  },
  {
   "cell_type": "code",
   "execution_count": 32,
   "id": "21ea8a0a",
   "metadata": {},
   "outputs": [
    {
     "name": "stdout",
     "output_type": "stream",
     "text": [
      "1 Sophie\n",
      "2 John\n",
      "3 Bob\n",
      "4 Anne\n",
      "5 Sara\n"
     ]
    }
   ],
   "source": [
    "names = ['Sophie', 'John', 'Bob', 'Anne', 'Sara']\n",
    "\n",
    "for num, name in enumerate(names,1):\n",
    "    print(num, name)"
   ]
  },
  {
   "cell_type": "code",
   "execution_count": 33,
   "id": "08e9200c",
   "metadata": {},
   "outputs": [
    {
     "name": "stdout",
     "output_type": "stream",
     "text": [
      "1 Sophie\n",
      "2 John\n",
      "3 Bob\n",
      "4 Anne\n",
      "5 Sara\n"
     ]
    }
   ],
   "source": [
    "names = ['Sophie', 'John', 'Bob', 'Anne', 'Sara']\n",
    "\n",
    "num = 1\n",
    "for name in names:\n",
    "    print(num, name)\n",
    "    num+=1"
   ]
  },
  {
   "cell_type": "markdown",
   "id": "57a8bf3e",
   "metadata": {},
   "source": [
    "**Find the difference between the largest and smallest value in the list below**"
   ]
  },
  {
   "cell_type": "code",
   "execution_count": 34,
   "id": "ca964b0d",
   "metadata": {},
   "outputs": [],
   "source": [
    "a = [3,5,6,8,-3,2,-10,4,11]"
   ]
  },
  {
   "cell_type": "code",
   "execution_count": 35,
   "id": "1b24b1a4",
   "metadata": {},
   "outputs": [
    {
     "data": {
      "text/plain": [
       "21"
      ]
     },
     "execution_count": 35,
     "metadata": {},
     "output_type": "execute_result"
    }
   ],
   "source": [
    "max(a)-min(a)"
   ]
  },
  {
   "cell_type": "code",
   "execution_count": 36,
   "id": "91c70887",
   "metadata": {},
   "outputs": [
    {
     "data": {
      "text/plain": [
       "21"
      ]
     },
     "execution_count": 36,
     "metadata": {},
     "output_type": "execute_result"
    }
   ],
   "source": [
    "A = sorted(a) #high computational complexity, worst solve\n",
    "A[-1]-A[0]"
   ]
  },
  {
   "cell_type": "markdown",
   "id": "b4cb9406",
   "metadata": {},
   "source": [
    "**Write a function that takes two numbers and checks if the first is divisible by the second**"
   ]
  },
  {
   "cell_type": "code",
   "execution_count": 37,
   "id": "e2c769e9",
   "metadata": {},
   "outputs": [
    {
     "name": "stdout",
     "output_type": "stream",
     "text": [
      "True\n",
      "False\n"
     ]
    }
   ],
   "source": [
    "def divisible(a,b):\n",
    "    return(a%b==0)\n",
    "\n",
    "    \n",
    "print(divisible(10,5))\n",
    "print(divisible(10,3))"
   ]
  },
  {
   "cell_type": "markdown",
   "id": "5ac839e7",
   "metadata": {},
   "source": [
    "**Explain how the following function works and where the results come from**"
   ]
  },
  {
   "cell_type": "code",
   "execution_count": 38,
   "id": "c6c86b51",
   "metadata": {},
   "outputs": [
    {
     "name": "stdout",
     "output_type": "stream",
     "text": [
      "[1]\n",
      "[4, 5, 2]\n",
      "[1, 3]\n"
     ]
    }
   ],
   "source": [
    "def add_to_list(n, l=[]):\n",
    "    l.append(n)\n",
    "    print(l)\n",
    "    \n",
    "add_to_list(1) # adding a new element(1) to default list l=[]\n",
    "add_to_list(2,[4,5]) # adding a new number (2) to the list [4,5]\n",
    "add_to_list(3) # adding a new number (3) to default list l"
   ]
  },
  {
   "cell_type": "markdown",
   "id": "ee4d556a",
   "metadata": {},
   "source": [
    "The l parameter means that the function has a default parameter (list) and we can add elements to it or we can use our own list by entering the second parameter. Default function arguments are created only once when defining a function, all changes are added on a regular basis."
   ]
  },
  {
   "cell_type": "markdown",
   "id": "0e9cea1a",
   "metadata": {},
   "source": [
    "**What the following list and dict comprehension will print?**"
   ]
  },
  {
   "cell_type": "code",
   "execution_count": 39,
   "id": "85d52fb9",
   "metadata": {},
   "outputs": [],
   "source": [
    "L = [1,2,3,4,5,6]\n",
    "\n",
    "L1 = [x for x in range(5)] #[0,1,2,3,4]\n",
    "L2 = [x**2 for x in L]      #[1,4,9,16,25,36]\n",
    "L3 = [x for x in L if x % 2 == 0]   #[2,4,6]\n",
    "L4 = ['Even' if x%2 == 0 else 'Odd' for x in range(5)] #[Even','Odd','Even','Odd','Even']\n",
    "L5 = [(x, x+10) for x in L]    #[(1,11),(2,12),(3,13),(4,14),(5,15),(6,16)]\n",
    "D1 = {x:x % 2 == 0 for x in L} #{1:False, 2:True, 3:False, 4:True, 5:False, 6:True}"
   ]
  },
  {
   "cell_type": "code",
   "execution_count": 40,
   "id": "9afe5b28",
   "metadata": {},
   "outputs": [
    {
     "name": "stdout",
     "output_type": "stream",
     "text": [
      "[0, 1, 2, 3, 4]\n",
      "[1, 4, 9, 16, 25, 36]\n",
      "[2, 4, 6]\n",
      "['Even', 'Odd', 'Even', 'Odd', 'Even']\n",
      "[(1, 11), (2, 12), (3, 13), (4, 14), (5, 15), (6, 16)]\n",
      "{1: False, 2: True, 3: False, 4: True, 5: False, 6: True}\n"
     ]
    }
   ],
   "source": [
    "print(L1)\n",
    "print(L2)\n",
    "print(L3)\n",
    "print(L4)\n",
    "print(L5)\n",
    "print(D1)"
   ]
  },
  {
   "cell_type": "markdown",
   "id": "6fa9a2cd",
   "metadata": {},
   "source": [
    "**What the following lines of code will print?**"
   ]
  },
  {
   "cell_type": "code",
   "execution_count": 41,
   "id": "2e85511f",
   "metadata": {},
   "outputs": [
    {
     "name": "stdout",
     "output_type": "stream",
     "text": [
      "True\n",
      "False\n"
     ]
    },
    {
     "name": "stderr",
     "output_type": "stream",
     "text": [
      "<>:2: SyntaxWarning: \"is\" with a literal. Did you mean \"==\"?\n",
      "<>:2: SyntaxWarning: \"is\" with a literal. Did you mean \"==\"?\n",
      "<ipython-input-41-eb51ffdf208e>:2: SyntaxWarning: \"is\" with a literal. Did you mean \"==\"?\n",
      "  print(1 is True) #False -> 'is' - identity comparison operator\n"
     ]
    }
   ],
   "source": [
    "print(1==True) #True -> == - value comparison operator\n",
    "print(1 is True) #False -> 'is' - identity comparison operator"
   ]
  },
  {
   "cell_type": "code",
   "execution_count": 42,
   "id": "b3fe2300",
   "metadata": {},
   "outputs": [
    {
     "name": "stdout",
     "output_type": "stream",
     "text": [
      "140716174419760 140716174137168\n"
     ]
    }
   ],
   "source": [
    "print(id(1), id(True)) # different identity operators"
   ]
  },
  {
   "cell_type": "code",
   "execution_count": 43,
   "id": "7ded9e86",
   "metadata": {},
   "outputs": [
    {
     "name": "stdout",
     "output_type": "stream",
     "text": [
      "True\n"
     ]
    }
   ],
   "source": [
    "print(False is False is False) # -> (False is False) and (False is False)  -> result: True\n",
    "# the string comparison is broken down into two smaller ones"
   ]
  },
  {
   "cell_type": "markdown",
   "id": "5cd1cd0d",
   "metadata": {},
   "source": [
    "**What is lambda?**"
   ]
  },
  {
   "cell_type": "markdown",
   "id": "93772d42",
   "metadata": {},
   "source": [
    "Using lambda is a short and simple way to write a one-line function in Python. It can be useful when we only use a function once and don't need to name it. Example:"
   ]
  },
  {
   "cell_type": "code",
   "execution_count": 44,
   "id": "c3a38528",
   "metadata": {},
   "outputs": [
    {
     "data": {
      "text/plain": [
       "[('Grace', 23), ('Anne', 35), ('John', 43), ('Florence', 67)]"
      ]
     },
     "execution_count": 44,
     "metadata": {},
     "output_type": "execute_result"
    }
   ],
   "source": [
    "name_age = [('Anne',35),('John',43),('Florence',67),('Grace',23)]\n",
    "name_age_sort = sorted(name_age, key = lambda x: x[1])\n",
    "name_age_sort"
   ]
  },
  {
   "cell_type": "markdown",
   "id": "5bc8949f",
   "metadata": {},
   "source": [
    "**What happened and why? (global and local variables)**"
   ]
  },
  {
   "cell_type": "code",
   "execution_count": 45,
   "id": "598a2a61",
   "metadata": {},
   "outputs": [
    {
     "name": "stdout",
     "output_type": "stream",
     "text": [
      "11\n",
      "10\n"
     ]
    }
   ],
   "source": [
    "x = 10  # global variable\n",
    "\n",
    "def f():\n",
    "    x=11  # local variable, only exists when we call the function\n",
    "          # we can use 'global x'\n",
    "    print(x)\n",
    "    \n",
    "f()\n",
    "print(x)"
   ]
  },
  {
   "cell_type": "markdown",
   "id": "36ffb041",
   "metadata": {},
   "source": [
    "**Work with file**\n",
    "- **create file 'my_file.txt'**\n",
    "- **insert into the file (in a new line) numbers from 1 to 100**\n",
    "- **open file and save as list 'from_file'**"
   ]
  },
  {
   "cell_type": "code",
   "execution_count": 46,
   "id": "9072da84",
   "metadata": {
    "scrolled": true
   },
   "outputs": [],
   "source": [
    "with open('my_file.txt', 'w', encoding='utf-8') as f:\n",
    "    for n in range(1,101):\n",
    "        f.write(str(n) + '\\n')"
   ]
  },
  {
   "cell_type": "code",
   "execution_count": 47,
   "id": "5286925e",
   "metadata": {},
   "outputs": [],
   "source": [
    "with open('my_file.txt', 'r', encoding='utf-8') as f:\n",
    "    from_file = f.readlines()"
   ]
  },
  {
   "cell_type": "code",
   "execution_count": 48,
   "id": "904c30d3",
   "metadata": {},
   "outputs": [
    {
     "name": "stdout",
     "output_type": "stream",
     "text": [
      "['1\\n', '2\\n', '3\\n', '4\\n', '5\\n', '6\\n', '7\\n', '8\\n', '9\\n', '10\\n', '11\\n', '12\\n', '13\\n', '14\\n', '15\\n', '16\\n', '17\\n', '18\\n', '19\\n', '20\\n', '21\\n', '22\\n', '23\\n', '24\\n', '25\\n', '26\\n', '27\\n', '28\\n', '29\\n', '30\\n', '31\\n', '32\\n', '33\\n', '34\\n', '35\\n', '36\\n', '37\\n', '38\\n', '39\\n', '40\\n', '41\\n', '42\\n', '43\\n', '44\\n', '45\\n', '46\\n', '47\\n', '48\\n', '49\\n', '50\\n', '51\\n', '52\\n', '53\\n', '54\\n', '55\\n', '56\\n', '57\\n', '58\\n', '59\\n', '60\\n', '61\\n', '62\\n', '63\\n', '64\\n', '65\\n', '66\\n', '67\\n', '68\\n', '69\\n', '70\\n', '71\\n', '72\\n', '73\\n', '74\\n', '75\\n', '76\\n', '77\\n', '78\\n', '79\\n', '80\\n', '81\\n', '82\\n', '83\\n', '84\\n', '85\\n', '86\\n', '87\\n', '88\\n', '89\\n', '90\\n', '91\\n', '92\\n', '93\\n', '94\\n', '95\\n', '96\\n', '97\\n', '98\\n', '99\\n', '100\\n']\n"
     ]
    }
   ],
   "source": [
    "print(from_file)"
   ]
  },
  {
   "cell_type": "markdown",
   "id": "e649a90e",
   "metadata": {},
   "source": [
    "**The volume of a prism is calculated by the formula: V = a * b * h\n",
    "a and b are the lengths of the sides of its base, and h is the height.\n",
    "The following code finds the largest prism we can create**\n",
    "\n",
    "**- How many operations will be performed as a result of running this code?**\n",
    "\n",
    "**- How could this task be solved more efficiently?**"
   ]
  },
  {
   "cell_type": "code",
   "execution_count": 49,
   "id": "028a03d3",
   "metadata": {},
   "outputs": [],
   "source": [
    "import random"
   ]
  },
  {
   "cell_type": "code",
   "execution_count": 50,
   "id": "b311bc85",
   "metadata": {},
   "outputs": [],
   "source": [
    "A = [random.randint(0,100) for i in range(5)]\n",
    "B = [random.randint(0,100) for i in range(5)]\n",
    "H = [random.randint(0,100) for i in range(5)]"
   ]
  },
  {
   "cell_type": "code",
   "execution_count": 51,
   "id": "a71b968f",
   "metadata": {},
   "outputs": [
    {
     "name": "stdout",
     "output_type": "stream",
     "text": [
      "[75, 55, 48, 90, 56]\n",
      "[57, 52, 70, 18, 33]\n",
      "[12, 66, 92, 32, 42]\n"
     ]
    }
   ],
   "source": [
    "print(A)\n",
    "print(B)\n",
    "print(H)"
   ]
  },
  {
   "cell_type": "code",
   "execution_count": 52,
   "id": "7127c60d",
   "metadata": {},
   "outputs": [
    {
     "name": "stdout",
     "output_type": "stream",
     "text": [
      "579600\n"
     ]
    }
   ],
   "source": [
    "max_v = 0\n",
    "for a in A:\n",
    "    for b in B:\n",
    "        for h in H:\n",
    "            if a * b * h > max_v:\n",
    "                max_v = a * b * h\n",
    "                \n",
    "print(max_v)    # 5*5*5 -> 125 operations"
   ]
  },
  {
   "cell_type": "code",
   "execution_count": 53,
   "id": "41969567",
   "metadata": {},
   "outputs": [
    {
     "name": "stdout",
     "output_type": "stream",
     "text": [
      "579600\n"
     ]
    }
   ],
   "source": [
    "v = max(A)*max(B)*max(H)\n",
    "print(v) # 5+5+5 -> 15 operations"
   ]
  },
  {
   "cell_type": "markdown",
   "id": "d07e166e",
   "metadata": {},
   "source": [
    "**What is the value of the following logical sentence?**"
   ]
  },
  {
   "cell_type": "code",
   "execution_count": 54,
   "id": "88e887dc",
   "metadata": {},
   "outputs": [
    {
     "name": "stdout",
     "output_type": "stream",
     "text": [
      "True\n"
     ]
    },
    {
     "name": "stderr",
     "output_type": "stream",
     "text": [
      "<>:1: SyntaxWarning: \"is not\" with a literal. Did you mean \"!=\"?\n",
      "<>:1: SyntaxWarning: \"is not\" with a literal. Did you mean \"!=\"?\n",
      "<ipython-input-54-bf3c408daf6e>:1: SyntaxWarning: \"is not\" with a literal. Did you mean \"!=\"?\n",
      "  print(1 is not True in [1,2,3])  # (1 is not True) and (True in [1,2,3]) -> True and True -> True\n"
     ]
    }
   ],
   "source": [
    "print(1 is not True in [1,2,3])  # (1 is not True) and (True in [1,2,3]) -> True and True -> True"
   ]
  },
  {
   "cell_type": "markdown",
   "id": "a2d054a4",
   "metadata": {},
   "source": [
    "**You get a list of names that customers have entered into a form on the website.**\n",
    "- use the filter() function to remove all non-string entries from it\n",
    "- use the map() function to convert the names so that they are all spelled correctly with capital letters only at the beginning of the first and last name."
   ]
  },
  {
   "cell_type": "code",
   "execution_count": 55,
   "id": "65e53380",
   "metadata": {},
   "outputs": [],
   "source": [
    "names = ['John Smith', 13, 'BOB RUDE', 'aLex BLACK', ['not','your', 'business'], 'ANNE snake']"
   ]
  },
  {
   "cell_type": "code",
   "execution_count": 56,
   "id": "768df193",
   "metadata": {},
   "outputs": [
    {
     "data": {
      "text/plain": [
       "['John Smith', 'BOB RUDE', 'aLex BLACK', 'ANNE snake']"
      ]
     },
     "execution_count": 56,
     "metadata": {},
     "output_type": "execute_result"
    }
   ],
   "source": [
    "names_clear = list(filter(lambda x: type(x) is str, names))\n",
    "names_clear"
   ]
  },
  {
   "cell_type": "code",
   "execution_count": 57,
   "id": "35401e75",
   "metadata": {},
   "outputs": [
    {
     "data": {
      "text/plain": [
       "['John Smith', 'Bob Rude', 'Alex Black', 'Anne Snake']"
      ]
     },
     "execution_count": 57,
     "metadata": {},
     "output_type": "execute_result"
    }
   ],
   "source": [
    "names_correct = list(map(lambda x: x.lower().title(), names_clear))\n",
    "names_correct"
   ]
  },
  {
   "cell_type": "markdown",
   "id": "9157fa98",
   "metadata": {},
   "source": [
    "**Create a decorator that will add three stars before and after the effect of the decorated function**"
   ]
  },
  {
   "cell_type": "code",
   "execution_count": 58,
   "id": "ba7022ad",
   "metadata": {},
   "outputs": [],
   "source": [
    "def add_stars(function):\n",
    "    def decorated_function():\n",
    "        print('***')\n",
    "        function()\n",
    "        print('***')\n",
    "    return decorated_function"
   ]
  },
  {
   "cell_type": "code",
   "execution_count": 59,
   "id": "e89cdf72",
   "metadata": {},
   "outputs": [],
   "source": [
    "@add_stars\n",
    "def f():\n",
    "    print('Hello Word')   "
   ]
  },
  {
   "cell_type": "code",
   "execution_count": 60,
   "id": "21fd600b",
   "metadata": {},
   "outputs": [
    {
     "name": "stdout",
     "output_type": "stream",
     "text": [
      "***\n",
      "Hello Word\n",
      "***\n"
     ]
    }
   ],
   "source": [
    "f()"
   ]
  },
  {
   "cell_type": "code",
   "execution_count": null,
   "id": "9fc898fa",
   "metadata": {},
   "outputs": [],
   "source": []
  }
 ],
 "metadata": {
  "kernelspec": {
   "display_name": "Python 3",
   "language": "python",
   "name": "python3"
  },
  "language_info": {
   "codemirror_mode": {
    "name": "ipython",
    "version": 3
   },
   "file_extension": ".py",
   "mimetype": "text/x-python",
   "name": "python",
   "nbconvert_exporter": "python",
   "pygments_lexer": "ipython3",
   "version": "3.8.8"
  }
 },
 "nbformat": 4,
 "nbformat_minor": 5
}
