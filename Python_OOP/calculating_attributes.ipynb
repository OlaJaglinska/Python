{
 "cells": [
  {
   "cell_type": "markdown",
   "id": "37acb5ed",
   "metadata": {},
   "source": [
    "### Calculating attributes"
   ]
  },
  {
   "cell_type": "code",
   "execution_count": 1,
   "id": "5be07b5c",
   "metadata": {},
   "outputs": [],
   "source": [
    "class Model:\n",
    "    \n",
    "    def __init__(self, y_true, y_pred):\n",
    "        \n",
    "        if not isinstance(y_true, (list, tuple)):\n",
    "            raise TypeError(f'The y_true object must be of type list or tuple. '\n",
    "                           f'Not {type(y_true).__name__}')\n",
    "            \n",
    "        if not isinstance(y_pred, (list, tuple)):\n",
    "            raise TypeError(f'The y_true object must be of type list or tuple. '\n",
    "                           f'Not {type(y_pred).__name__}')\n",
    "            \n",
    "        if not len(y_true) == len(y_pred):\n",
    "            raise ValueError('The y_true and y_pred must be of same '\n",
    "                            'length.')\n",
    "            \n",
    "        \n",
    "        self._y_true = y_true\n",
    "        self._y_pred = y_pred\n",
    "        self._accuracy = None\n",
    "        \n",
    "    @property\n",
    "    def y_true(self):\n",
    "        return self._y_true\n",
    "    \n",
    "    @y_true.setter\n",
    "    def y_true(self, value):\n",
    "        if isinstance(value, (tuple, list)):\n",
    "            if len(value) == len(self._y_pred):\n",
    "                self._y_true = value\n",
    "            else:\n",
    "                raise ValueError(f'The y_true object must be of length '\n",
    "                                f'{len(self._y_pred)}.')\n",
    "        else:\n",
    "            raise TypeError(f'The value object must be a list or tuple. '\n",
    "                           f'Not {type(value).__name__}.')        \n",
    "        self._accuracy = None\n",
    "    \n",
    "    @y_true.deleter\n",
    "    def y_true(self):\n",
    "        print('Deleting...')\n",
    "        del self._y_true\n",
    "    \n",
    "    @property\n",
    "    def y_pred(self):\n",
    "        return self._y_pred\n",
    "    \n",
    "    @y_pred.setter\n",
    "    def y_pred(self, value):\n",
    "        if isinstance(value, (tuple, list)):\n",
    "            if len(value) == len(self._y_true):\n",
    "                self._y_pred = value\n",
    "            else:\n",
    "                raise ValueError(f'The y_pred object must be of length '\n",
    "                                 f'{len(self._y_true)}.')\n",
    "        else:\n",
    "            raise TypeError(f'The value object must be a list or tuple. '\n",
    "                            f'Not {type(value).__name__}.')\n",
    "        self._accuracy = None\n",
    "    \n",
    "    @y_pred.deleter\n",
    "    def y_pred(self):\n",
    "        print('Deleting...')\n",
    "        del self._y_pred\n",
    "    \n",
    "    @property\n",
    "    def accuracy(self):\n",
    "        if not self._accuracy:\n",
    "            print('Calculating...')\n",
    "            self._accuracy = sum([i == j\n",
    "                                for i,j in zip(self.y_true, self.y_pred)]) / len(self.y_true)\n",
    "        print(f'Model accuracy: {self._accuracy:.4f}')"
   ]
  },
  {
   "cell_type": "code",
   "execution_count": 2,
   "id": "ac2abb19",
   "metadata": {},
   "outputs": [],
   "source": [
    "model = Model([0, 0, 1, 0, 0, 1, 0], [0, 0, 1, 0, 0, 0, 0])"
   ]
  },
  {
   "cell_type": "code",
   "execution_count": 3,
   "id": "0699721b",
   "metadata": {},
   "outputs": [
    {
     "data": {
      "text/plain": [
       "{'_y_true': [0, 0, 1, 0, 0, 1, 0],\n",
       " '_y_pred': [0, 0, 1, 0, 0, 0, 0],\n",
       " '_accuracy': None}"
      ]
     },
     "execution_count": 3,
     "metadata": {},
     "output_type": "execute_result"
    }
   ],
   "source": [
    "model.__dict__"
   ]
  },
  {
   "cell_type": "code",
   "execution_count": 4,
   "id": "64bd12a0",
   "metadata": {},
   "outputs": [
    {
     "name": "stdout",
     "output_type": "stream",
     "text": [
      "Calculating...\n",
      "Model accuracy: 0.8571\n"
     ]
    }
   ],
   "source": [
    "model.accuracy"
   ]
  },
  {
   "cell_type": "code",
   "execution_count": 5,
   "id": "67af3ad6",
   "metadata": {},
   "outputs": [
    {
     "data": {
      "text/plain": [
       "{'_y_true': [0, 0, 1, 0, 0, 1, 0],\n",
       " '_y_pred': [0, 0, 1, 0, 0, 0, 0],\n",
       " '_accuracy': 0.8571428571428571}"
      ]
     },
     "execution_count": 5,
     "metadata": {},
     "output_type": "execute_result"
    }
   ],
   "source": [
    "model.__dict__"
   ]
  },
  {
   "cell_type": "code",
   "execution_count": 6,
   "id": "1ba5eb9e",
   "metadata": {},
   "outputs": [],
   "source": [
    "model.y_true = [0, 0, 1, 0, 0, 1, 1]"
   ]
  },
  {
   "cell_type": "code",
   "execution_count": 7,
   "id": "37a4d28e",
   "metadata": {},
   "outputs": [
    {
     "data": {
      "text/plain": [
       "{'_y_true': [0, 0, 1, 0, 0, 1, 1],\n",
       " '_y_pred': [0, 0, 1, 0, 0, 0, 0],\n",
       " '_accuracy': None}"
      ]
     },
     "execution_count": 7,
     "metadata": {},
     "output_type": "execute_result"
    }
   ],
   "source": [
    "model.__dict__"
   ]
  },
  {
   "cell_type": "code",
   "execution_count": 8,
   "id": "881343ef",
   "metadata": {},
   "outputs": [
    {
     "name": "stdout",
     "output_type": "stream",
     "text": [
      "Calculating...\n",
      "Model accuracy: 0.7143\n"
     ]
    }
   ],
   "source": [
    "model.accuracy"
   ]
  },
  {
   "cell_type": "code",
   "execution_count": 9,
   "id": "587106d0",
   "metadata": {},
   "outputs": [
    {
     "data": {
      "text/plain": [
       "[0, 0, 1, 0, 0, 1, 1]"
      ]
     },
     "execution_count": 9,
     "metadata": {},
     "output_type": "execute_result"
    }
   ],
   "source": [
    "model.y_true"
   ]
  },
  {
   "cell_type": "code",
   "execution_count": 10,
   "id": "8eba0960",
   "metadata": {},
   "outputs": [
    {
     "name": "stdout",
     "output_type": "stream",
     "text": [
      "Deleting...\n"
     ]
    }
   ],
   "source": [
    "del model.y_true"
   ]
  },
  {
   "cell_type": "code",
   "execution_count": 11,
   "id": "f5cd40f8",
   "metadata": {},
   "outputs": [
    {
     "data": {
      "text/plain": [
       "{'_y_pred': [0, 0, 1, 0, 0, 0, 0], '_accuracy': 0.7142857142857143}"
      ]
     },
     "execution_count": 11,
     "metadata": {},
     "output_type": "execute_result"
    }
   ],
   "source": [
    "model.__dict__"
   ]
  },
  {
   "cell_type": "code",
   "execution_count": 12,
   "id": "33ff6581",
   "metadata": {},
   "outputs": [],
   "source": [
    "class Model:\n",
    "    \n",
    "    def __init__(self, y_true, y_pred):\n",
    "        \n",
    "        Model._validate_input(y_true, 'y_true')\n",
    "        Model._validate_input(y_pred, 'y_pred')\n",
    "            \n",
    "        if not len(y_true) == len(y_pred):\n",
    "            raise ValueError('The y_true and y_pred must be of same '\n",
    "                            'length.')\n",
    "        \n",
    "        self._y_true = y_true\n",
    "        self._y_pred = y_pred\n",
    "        self._accuracy = None\n",
    "        \n",
    "    def _validate_input(iters, var_name):\n",
    "        if not isinstance(iters, (list, tuple)):\n",
    "            raise TypeError(f'The {var_name} object must be of type list or ' \n",
    "                            f'tuple. Not {type(iters).__name__}.')\n",
    "            \n",
    "    def _validate_value(self, value, var_name):\n",
    "        if not isinstance(value, (tuple, list)):\n",
    "            raise TypeError(f'The value object must be a list or tuple. '\n",
    "                           f'Not {type(value).__name__}.')\n",
    "            \n",
    "        mapping = {'y_true': '_y_pred', 'y_pred': '_y_true'}\n",
    "            \n",
    "        if not len(value) == len(getattr(self, mapping[var_name])):\n",
    "            raise ValueError(f'The {var_name} object must be of length '\n",
    "                            f'{len(getattr(self, mapping[var_name]))}.')\n",
    "            \n",
    "    @property\n",
    "    def y_true(self):\n",
    "        return self._y_true\n",
    "    \n",
    "    @y_true.setter\n",
    "    def y_true(self, value):\n",
    "        \n",
    "        Model._validate_value(self, value, 'y_true')\n",
    "    \n",
    "        self._y_true = value \n",
    "        self._accuracy = None\n",
    "    \n",
    "    @y_true.deleter\n",
    "    def y_true(self):\n",
    "        print('Deleting...')\n",
    "        del self._y_true\n",
    "    \n",
    "    @property\n",
    "    def y_pred(self):\n",
    "        return self._y_pred\n",
    "    \n",
    "    @y_pred.setter\n",
    "    def y_pred(self, value):\n",
    "        \n",
    "        Model._validate_value(self, value, 'y_pred')\n",
    "\n",
    "        self._y_pred = value    \n",
    "        self._accuracy = None\n",
    "    \n",
    "    @y_pred.deleter\n",
    "    def y_pred(self):\n",
    "        print('Deleting...')\n",
    "        del self._y_pred\n",
    "    \n",
    "    @property\n",
    "    def accuracy(self):\n",
    "        if not self._accuracy:\n",
    "            print('Calculating...')\n",
    "            self._accuracy = sum([i == j\n",
    "                                for i,j in zip(self.y_true, self.y_pred)]) / len(self.y_true)\n",
    "        print(f'Model accuracy: {self._accuracy:.4f}')"
   ]
  },
  {
   "cell_type": "code",
   "execution_count": 13,
   "id": "5cbcbc21",
   "metadata": {},
   "outputs": [],
   "source": [
    "model = Model([0, 0, 1, 0, 0, 1, 0], [0, 0, 1, 0, 0, 0, 0])"
   ]
  },
  {
   "cell_type": "code",
   "execution_count": 14,
   "id": "2432cef4",
   "metadata": {},
   "outputs": [
    {
     "name": "stdout",
     "output_type": "stream",
     "text": [
      "Calculating...\n",
      "Model accuracy: 0.8571\n"
     ]
    }
   ],
   "source": [
    "model.accuracy"
   ]
  },
  {
   "cell_type": "code",
   "execution_count": 15,
   "id": "fcc96f0c",
   "metadata": {},
   "outputs": [],
   "source": [
    "import math\n",
    "\n",
    "\n",
    "class Circle:\n",
    "    def __init__(self, radius):\n",
    "        self.radius = radius\n",
    "        self._area = None\n",
    "\n",
    "    @property\n",
    "    def radius(self):\n",
    "        return self._radius\n",
    "\n",
    "    @radius.setter\n",
    "    def radius(self, value):\n",
    "        self._radius = value\n",
    "        self._area = None\n",
    "        \n",
    "    @property\n",
    "    def area(self):\n",
    "        if self._area is None:\n",
    "            self._area = math.pi * self._radius * self._radius\n",
    "        return self._area"
   ]
  },
  {
   "cell_type": "code",
   "execution_count": 16,
   "id": "cf06afda",
   "metadata": {},
   "outputs": [],
   "source": [
    "circle = Circle(3)"
   ]
  },
  {
   "cell_type": "code",
   "execution_count": 17,
   "id": "1a48c5c5",
   "metadata": {},
   "outputs": [
    {
     "name": "stdout",
     "output_type": "stream",
     "text": [
      "28.2743\n"
     ]
    }
   ],
   "source": [
    "print(f'{circle.area:.4f}')"
   ]
  },
  {
   "cell_type": "code",
   "execution_count": 18,
   "id": "bc0c64fd",
   "metadata": {},
   "outputs": [],
   "source": [
    "circle.radius = 5"
   ]
  },
  {
   "cell_type": "code",
   "execution_count": 19,
   "id": "c8edaccd",
   "metadata": {},
   "outputs": [
    {
     "name": "stdout",
     "output_type": "stream",
     "text": [
      "78.5398\n"
     ]
    }
   ],
   "source": [
    "print(f'{circle.area:.4f}')"
   ]
  },
  {
   "cell_type": "code",
   "execution_count": null,
   "id": "76952675",
   "metadata": {},
   "outputs": [],
   "source": []
  }
 ],
 "metadata": {
  "kernelspec": {
   "display_name": "Python 3",
   "language": "python",
   "name": "python3"
  },
  "language_info": {
   "codemirror_mode": {
    "name": "ipython",
    "version": 3
   },
   "file_extension": ".py",
   "mimetype": "text/x-python",
   "name": "python",
   "nbconvert_exporter": "python",
   "pygments_lexer": "ipython3",
   "version": "3.8.8"
  }
 },
 "nbformat": 4,
 "nbformat_minor": 5
}
