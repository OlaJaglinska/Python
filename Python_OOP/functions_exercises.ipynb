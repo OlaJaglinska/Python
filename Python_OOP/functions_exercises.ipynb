{
 "cells": [
  {
   "cell_type": "code",
   "execution_count": 1,
   "id": "2fcedc67",
   "metadata": {},
   "outputs": [
    {
     "name": "stdout",
     "output_type": "stream",
     "text": [
      "3.8.8\n"
     ]
    }
   ],
   "source": [
    "import sys\n",
    "print(sys.version.split()[0])"
   ]
  },
  {
   "cell_type": "code",
   "execution_count": 2,
   "id": "3a9b23ee",
   "metadata": {},
   "outputs": [
    {
     "name": "stdout",
     "output_type": "stream",
     "text": [
      "True\n",
      "False\n",
      "False\n",
      "True\n"
     ]
    }
   ],
   "source": [
    "def is_nested(array):\n",
    "    if len(array) == 0:\n",
    "        return False\n",
    "    return all(isinstance(i, list) for i in array)\n",
    "    \n",
    "print(is_nested([[3, 4]]))\n",
    "print(is_nested([]))\n",
    "print(is_nested([[3, 4], 0, [2, 1]]))\n",
    "print(is_nested([[3, 4], [2, 1]]))"
   ]
  },
  {
   "cell_type": "code",
   "execution_count": 3,
   "id": "f12f601e",
   "metadata": {},
   "outputs": [
    {
     "name": "stdout",
     "output_type": "stream",
     "text": [
      "False\n",
      "True\n"
     ]
    }
   ],
   "source": [
    "def is_all_equal(array):\n",
    "    return all(i == array[0] for i in array) # or return len(set(iterator)) <= 1\n",
    "\n",
    "print(is_all_equal([4, 5, 7]))\n",
    "print(is_all_equal([4, 4, 4]))"
   ]
  },
  {
   "cell_type": "code",
   "execution_count": 4,
   "id": "f56845fb",
   "metadata": {},
   "outputs": [
    {
     "name": "stdout",
     "output_type": "stream",
     "text": [
      "True\n",
      "True\n",
      "False\n"
     ]
    }
   ],
   "source": [
    "def is_nested(array):\n",
    "    if len(array) == 0:\n",
    "        return False\n",
    "    return all(isinstance(row, list) for row in array)\n",
    "\n",
    "def is_all_equal(iterator):\n",
    "    return len(set(iterator)) <= 1\n",
    "    \n",
    "def is_valid_array(array):\n",
    "    if is_nested(array):\n",
    "        return all(len(i) == len(array[0]) for i in array)\n",
    "    \n",
    "# or    if is_all_equal(len(row) for row in array):\n",
    "#              return True\n",
    "#    return False\n",
    "    \n",
    "print(is_valid_array([[3], [4]]))\n",
    "print(is_valid_array([[3, 4], [4, 5]]))\n",
    "print(is_valid_array([[3, 4, 5], [4, 5]]))"
   ]
  },
  {
   "cell_type": "code",
   "execution_count": 5,
   "id": "52093a5c",
   "metadata": {},
   "outputs": [
    {
     "name": "stdout",
     "output_type": "stream",
     "text": [
      "[7, 5, 6, 4]\n",
      "[5, 4]\n"
     ]
    }
   ],
   "source": [
    "def swap_elements(array):\n",
    "    (array[0], array[-1]) = (array[-1], array[0])\n",
    "    return array\n",
    "\n",
    "print(swap_elements([4, 5, 6, 7]))\n",
    "print(swap_elements([4, 5]))"
   ]
  },
  {
   "cell_type": "code",
   "execution_count": 6,
   "id": "22c5e77b",
   "metadata": {},
   "outputs": [
    {
     "name": "stdout",
     "output_type": "stream",
     "text": [
      "[4, 6, 5, 7, 1]\n",
      "['A', 'B', 'E', 'D', 'C']\n"
     ]
    }
   ],
   "source": [
    "def swap_elements2(array, i1, i2):\n",
    "    (array[i1], array[i2]) = (array[i2], array[i1])\n",
    "    return array\n",
    "\n",
    "print(swap_elements2([4, 5, 6, 7, 1], 1, 2))\n",
    "print(swap_elements2(['A', 'B', 'C', 'D', 'E'], 4, 2))"
   ]
  },
  {
   "cell_type": "code",
   "execution_count": 7,
   "id": "50de31c9",
   "metadata": {},
   "outputs": [
    {
     "name": "stdout",
     "output_type": "stream",
     "text": [
      "best the is python\n",
      "language python learn should you\n"
     ]
    }
   ],
   "source": [
    "def reverse_words(string):\n",
    "    return ' '.join(string.split()[::-1])\n",
    "\n",
    "print(reverse_words('python is the best'))\n",
    "print(reverse_words('you should learn python language'))"
   ]
  },
  {
   "cell_type": "code",
   "execution_count": 8,
   "id": "106ffab1",
   "metadata": {},
   "outputs": [
    {
     "name": "stdout",
     "output_type": "stream",
     "text": [
      "([4, 5, 2], [8])\n",
      "([4, 3, 5, 2], [1, 8])\n",
      "([4, 2], [1, 8])\n"
     ]
    }
   ],
   "source": [
    "def remove_common_elements(list1, list2):\n",
    "    for i in list1[:]:\n",
    "        if i in list2:\n",
    "            list1.remove(i)\n",
    "            list2.remove(i)\n",
    "    return (list1, list2)\n",
    "\n",
    "print(remove_common_elements([4, 3, 5, 2], [3, 8]))\n",
    "print(remove_common_elements([4, 3, 5, 2], [1, 8]))\n",
    "print(remove_common_elements([4, 3, 5, 2], [1, 3, 5, 8]))"
   ]
  },
  {
   "cell_type": "code",
   "execution_count": 9,
   "id": "f4b68d2b",
   "metadata": {},
   "outputs": [
    {
     "name": "stdout",
     "output_type": "stream",
     "text": [
      "[3, 6]\n",
      "[0, 4, 5]\n"
     ]
    }
   ],
   "source": [
    "def get_indices(l, element):\n",
    "    return [i for i in range(0, len(l)) if l[i] == element]\n",
    "\n",
    "print(get_indices([4, 3, 5, 2, 3, 0, 2], 2))\n",
    "print(get_indices(['Q', 'DQ', 'DQ', 'DQ', 'Q', 'Q'], 'Q'))"
   ]
  },
  {
   "cell_type": "code",
   "execution_count": 10,
   "id": "ffc547ef",
   "metadata": {},
   "outputs": [
    {
     "name": "stdout",
     "output_type": "stream",
     "text": [
      "[0, 2]\n",
      "[0, 1, 3]\n",
      "[]\n"
     ]
    }
   ],
   "source": [
    "def get_indices_str(l):\n",
    "    return [i for i in range(0, len(l)) if type(l[i]) == str]\n",
    "\n",
    "print(get_indices_str(['Q', 34, 'DQ', True]))\n",
    "print(get_indices_str(['https://www.e-smartdata.org', 'response', 202, 'code']))\n",
    "print(get_indices_str([4, 3, 5, 2]))"
   ]
  },
  {
   "cell_type": "code",
   "execution_count": 11,
   "id": "0ac1a2c4",
   "metadata": {},
   "outputs": [
    {
     "data": {
      "text/plain": [
       "defaultdict(list,\n",
       "            {'user': ['joe', 'tom', 'michael', 'bob', 'lil', 'alice'],\n",
       "             'main_technology': ['python',\n",
       "              'c/cpp',\n",
       "              'cloud',\n",
       "              'php',\n",
       "              'html',\n",
       "              'sql']})"
      ]
     },
     "execution_count": 11,
     "metadata": {},
     "output_type": "execute_result"
    }
   ],
   "source": [
    "from collections import defaultdict\n",
    "\n",
    "def convert(list_of_dicts):\n",
    "    result = defaultdict(list)\n",
    "    for dictionary in list_of_dicts:\n",
    "        for key, value in dictionary.items():\n",
    "            result[key].append(value)\n",
    "    return result\n",
    "\n",
    "'''\n",
    "def convert(data):\n",
    "    result = {}\n",
    "    keys = data[0].keys()\n",
    "    for key in keys:\n",
    "        result[key] = []\n",
    "    for item in data:\n",
    "        for key in keys:\n",
    "            result[key].append(item[key])\n",
    "    return result\n",
    "'''\n",
    "    \n",
    "data = [\n",
    "    {'user': 'joe', 'main_technology': 'python'},\n",
    "    {'user': 'tom', 'main_technology': 'c/cpp'},\n",
    "    {'user': 'michael', 'main_technology': 'cloud'},\n",
    "    {'user': 'bob', 'main_technology': 'php'},\n",
    "    {'user': 'lil', 'main_technology': 'html'},\n",
    "    {'user': 'alice', 'main_technology': 'sql'},\n",
    "]\n",
    "convert(data)"
   ]
  },
  {
   "cell_type": "code",
   "execution_count": 12,
   "id": "cb06b135",
   "metadata": {},
   "outputs": [
    {
     "name": "stdout",
     "output_type": "stream",
     "text": [
      "[[6, 2, 3], [6, 3, 7, 4, 2], [3, 5, 0, 5, 1, 5]]\n"
     ]
    }
   ],
   "source": [
    "def concat(l1, l2):\n",
    "    if not len(l1) == len(l2):\n",
    "        raise ValueError('The given lists are not of the same length.')\n",
    "\n",
    "    new_list = []\n",
    "    for i in range(0, len(l1)):\n",
    "        new_list.append(l1[i] + l2[i])\n",
    "    return new_list\n",
    "\n",
    "print(concat([[6, 2], [6, 3, 7], [3, 5]], [[3], [4, 2], [0, 5, 1, 5]]))"
   ]
  },
  {
   "cell_type": "code",
   "execution_count": 13,
   "id": "c6b6683f",
   "metadata": {},
   "outputs": [
    {
     "name": "stdout",
     "output_type": "stream",
     "text": [
      "[[1, 2, 4, 7, 7, 9], [2, 3, 6, 8, 8], [2, 3, 7, 7, 9]]\n"
     ]
    }
   ],
   "source": [
    "def sort_by_row(lists):\n",
    "    return [sorted(l) for l in lists]\n",
    "    \n",
    "\n",
    "print(sort_by_row([[4, 7, 2, 7, 9, 1], [6, 3, 2, 8, 8], [9, 7, 3, 2, 7]]))"
   ]
  },
  {
   "cell_type": "code",
   "execution_count": 14,
   "id": "b9463f21",
   "metadata": {},
   "outputs": [
    {
     "name": "stdout",
     "output_type": "stream",
     "text": [
      "[[9, 7, 7], [8, 8, 7], [10, 9, 7]]\n"
     ]
    }
   ],
   "source": [
    "def top3(lists):\n",
    "    return [sorted(l, reverse=True)[0:3] for l in lists]\n",
    "        \n",
    "print(top3([[4, 7, 2, 7, 9, 1, 3], [6, 3, 2, 8, 8, 7], [9, 7, 3, 2, 10, 2]]))"
   ]
  },
  {
   "cell_type": "code",
   "execution_count": 15,
   "id": "65c11513",
   "metadata": {},
   "outputs": [
    {
     "name": "stdout",
     "output_type": "stream",
     "text": [
      "{'user_id': '3546', 'level': 64, 'is_active': True}\n",
      "{'user_id': '3467', 'level': 34, 'is_active': False}\n",
      "{'user_id': '8454', 'level': 1, 'is_active': False}\n",
      "{'user_id': '3757', 'level': 63, 'is_active': True}\n"
     ]
    }
   ],
   "source": [
    "def filter_users(dicts):\n",
    "    return [d for d in dicts if 'level' in d]\n",
    "    \n",
    "user_data = [\n",
    "    {'user_id': '3546', 'level': 64, 'is_active': True},\n",
    "    {'user_id': '3467', 'level': 34, 'is_active': False},\n",
    "    {'user_id': '6673', 'is_active': True},\n",
    "    {'user_id': '8454', 'level': 1, 'is_active': False},\n",
    "    {'user_id': '3757', 'level': 63, 'is_active': True},\n",
    "    {'user_id': '1668', 'is_active': False},\n",
    "]\n",
    "for d in filter_users(user_data):\n",
    "    print(d)"
   ]
  },
  {
   "cell_type": "code",
   "execution_count": 16,
   "id": "3c726920",
   "metadata": {},
   "outputs": [
    {
     "data": {
      "text/plain": [
       "[357, 2567, 8632]"
      ]
     },
     "execution_count": 16,
     "metadata": {},
     "output_type": "execute_result"
    }
   ],
   "source": [
    "def remove_repetitive(nr_list):\n",
    "    return [num \n",
    "            for num in nr_list \n",
    "            if len(set(str(num))) == len(str(num))\n",
    "           ]\n",
    "\n",
    "remove_repetitive([4543, 111, 357, 5675, 2567, 8632])"
   ]
  },
  {
   "cell_type": "code",
   "execution_count": 17,
   "id": "6b7039be",
   "metadata": {},
   "outputs": [
    {
     "name": "stdout",
     "output_type": "stream",
     "text": [
      "[8, 10]\n",
      "[2, 8, 11, 3, 10]\n"
     ]
    }
   ],
   "source": [
    "def calculate(numbers, k=5):\n",
    "    return [\n",
    "        numbers[i] \n",
    "        for i in range(1, len(numbers)-1) \n",
    "        if abs((numbers[i-1] - numbers[i])) >= k \n",
    "        and abs((numbers[i+1] - numbers[i])) >= k \n",
    "    ]\n",
    "\n",
    "print(calculate([2, 6, 2, 8, 1, 3, 10, 3]))\n",
    "print(calculate([1, 6, 5, 2, 8, 11, 3, 10, 3], 3))"
   ]
  },
  {
   "cell_type": "code",
   "execution_count": 18,
   "id": "45795fd7",
   "metadata": {},
   "outputs": [
    {
     "data": {
      "text/plain": [
       "['python is the',\n",
       " 'python the is',\n",
       " 'is python the',\n",
       " 'is the python',\n",
       " 'the python is',\n",
       " 'the is python']"
      ]
     },
     "execution_count": 18,
     "metadata": {},
     "output_type": "execute_result"
    }
   ],
   "source": [
    "from itertools import permutations\n",
    "\n",
    "def calculate2(string):\n",
    "    words = string.split()\n",
    "    permutes = permutations(words)\n",
    "    return [' '.join(i) for i in permutes]\n",
    "\n",
    "calculate2('python is the')"
   ]
  },
  {
   "cell_type": "code",
   "execution_count": 19,
   "id": "981d8edd",
   "metadata": {},
   "outputs": [
    {
     "name": "stdout",
     "output_type": "stream",
     "text": [
      "[0, 1, 0, 1, 1, 0]\n",
      "[1, 0, 1]\n"
     ]
    }
   ],
   "source": [
    "def create_mask(list1, list2):\n",
    "    return [1 if list1[i] == list2[i] else 0 for i in range(0, len(list1))]\n",
    "    # or return [1 if i ==j else 0 for i, j in zip(list1, list2)]\n",
    "\n",
    "print(create_mask([4, 5, 7, 2, 8, 10], [3, 5, 4, 2, 8, 12]))\n",
    "print(create_mask([2, 4, 1], [2, 3, 1]))"
   ]
  },
  {
   "cell_type": "code",
   "execution_count": 20,
   "id": "2dd9974c",
   "metadata": {},
   "outputs": [
    {
     "name": "stdout",
     "output_type": "stream",
     "text": [
      "12\n",
      "7\n"
     ]
    }
   ],
   "source": [
    "def distance(list1, list2):\n",
    "    return max([abs(i-j) for i, j in zip(list1, list2)])\n",
    "\n",
    "print(distance([3, 4, 6, 2], [2, 1, 9, 14]))\n",
    "print(distance([3, 4, 6, 0, 1], [2, 1, 9, 7, 4]))"
   ]
  },
  {
   "cell_type": "code",
   "execution_count": 21,
   "id": "ef1e55a1",
   "metadata": {},
   "outputs": [
    {
     "name": "stdout",
     "output_type": "stream",
     "text": [
      "[4, 10, 6, 14]\n",
      "[18, 6, 6, 14, 22, 62, 40]\n"
     ]
    }
   ],
   "source": [
    "def calc(l):\n",
    "    return [i * 2 if i % 2 == 1 else i for i in l]\n",
    "    \n",
    "print(calc([4, 5, 6, 7]))\n",
    "print(calc([9, 6, 3, 7, 11, 31, 40]))"
   ]
  },
  {
   "cell_type": "code",
   "execution_count": 22,
   "id": "b956ae01",
   "metadata": {},
   "outputs": [
    {
     "name": "stdout",
     "output_type": "stream",
     "text": [
      "[('leo', 28), ('mike', 34), ('john', 36), ('bob', 41)]\n"
     ]
    }
   ],
   "source": [
    "def sort_tuple(tuples):\n",
    "    return(sorted(tuples, key = lambda t: t[1]))\n",
    "\n",
    "print(sort_tuple([('mike', 34), ('bob', 41), ('john', 36), ('leo', 28)]))"
   ]
  },
  {
   "cell_type": "code",
   "execution_count": 23,
   "id": "65e21bde",
   "metadata": {},
   "outputs": [
    {
     "name": "stdout",
     "output_type": "stream",
     "text": [
      "[4, 0, 2, 0, 0]\n",
      "[0, 0, 8, 0, 7, 0]\n"
     ]
    }
   ],
   "source": [
    "def replace_neg(nr_list):\n",
    "    return [0 if i < 0 else i for i in nr_list]\n",
    "\n",
    "print(replace_neg([4, -5, 2, 0, -4]))\n",
    "print(replace_neg([-10, -5, 8, -3, 7, -2]))"
   ]
  },
  {
   "cell_type": "code",
   "execution_count": 24,
   "id": "fcfd137f",
   "metadata": {},
   "outputs": [
    {
     "name": "stdout",
     "output_type": "stream",
     "text": [
      "(3, 0)\n",
      "(2, 3)\n"
     ]
    }
   ],
   "source": [
    "def count(l):\n",
    "    positive, negative = 0, 0\n",
    "    for i in l:\n",
    "        if i >= 0:\n",
    "            positive += 1\n",
    "        else:\n",
    "            negative += 1\n",
    "    return positive, negative\n",
    "\n",
    "print(count([4, 5, 6]))\n",
    "print(count([5, 2, -1, -5, -2]))"
   ]
  },
  {
   "cell_type": "code",
   "execution_count": 25,
   "id": "f6ae0f5c",
   "metadata": {},
   "outputs": [
    {
     "name": "stdout",
     "output_type": "stream",
     "text": [
      "975400\n"
     ]
    }
   ],
   "source": [
    "def preprocess(string):\n",
    "    return int(''.join([i for i in string if i.isdigit()]))\n",
    "    \n",
    "print(preprocess('$ 975,400'))"
   ]
  },
  {
   "cell_type": "code",
   "execution_count": 26,
   "id": "cb7dd74b",
   "metadata": {},
   "outputs": [
    {
     "name": "stdout",
     "output_type": "stream",
     "text": [
      "#gym #sport #fit\n"
     ]
    }
   ],
   "source": [
    "def make_hashtags(words):\n",
    "    return '#' + ' #'.join(words)\n",
    "    \n",
    "print(make_hashtags(['gym', 'sport', 'fit']))"
   ]
  },
  {
   "cell_type": "code",
   "execution_count": 27,
   "id": "b44d7e00",
   "metadata": {},
   "outputs": [
    {
     "name": "stdout",
     "output_type": "stream",
     "text": [
      "you need to have two tickets\n"
     ]
    }
   ],
   "source": [
    "def convert(text):\n",
    "    mapping = {\n",
    "        '0': 'zero',\n",
    "        '1': 'one',\n",
    "        '2': 'two',\n",
    "        '3': 'three',\n",
    "        '4': 'four',\n",
    "        '5': 'five',\n",
    "        '6': 'six',\n",
    "        '7': 'seven',\n",
    "        '8': 'eight',\n",
    "        '9': 'nine',\n",
    "        }\n",
    "    words = text.split()\n",
    "    digits = mapping.keys()\n",
    "    for (i, word) in enumerate(words):\n",
    "        if word in digits:\n",
    "            words[i] = mapping[word]\n",
    "    return ' '.join(words)\n",
    "\n",
    "print(convert('you need to have 2 tickets'))"
   ]
  },
  {
   "cell_type": "code",
   "execution_count": 28,
   "id": "5a0c1884",
   "metadata": {},
   "outputs": [
    {
     "data": {
      "text/plain": [
       "'SomeImportantFunction'"
      ]
     },
     "execution_count": 28,
     "metadata": {},
     "output_type": "execute_result"
    }
   ],
   "source": [
    "def snake_to_pascal(string):\n",
    "    words = string.split('_')\n",
    "    return ''.join([i.capitalize() for i in words])\n",
    "# or return string.replace('_', ' ').title().replace(' ', '')\n",
    "\n",
    "snake_to_pascal('some_important_function')"
   ]
  },
  {
   "cell_type": "code",
   "execution_count": 29,
   "id": "7e995b47",
   "metadata": {},
   "outputs": [
    {
     "data": {
      "text/plain": [
       "'someImportantFunction'"
      ]
     },
     "execution_count": 29,
     "metadata": {},
     "output_type": "execute_result"
    }
   ],
   "source": [
    "def snake_to_camel(string):\n",
    "    pascal = string.replace('_',' ').title().replace(' ','')\n",
    "    return string[0].lower() + pascal[1:]\n",
    "\n",
    "snake_to_camel('some_important_function')"
   ]
  },
  {
   "cell_type": "code",
   "execution_count": 30,
   "id": "0c084272",
   "metadata": {},
   "outputs": [
    {
     "data": {
      "text/plain": [
       "['img546.png', 'img243.png']"
      ]
     },
     "execution_count": 30,
     "metadata": {},
     "output_type": "execute_result"
    }
   ],
   "source": [
    "def preprocess(files):\n",
    "    return[i for i in files if i[-3:] == 'png'] # or endswith('png')\n",
    "    \n",
    "preprocess(['img546.png', 'img243.png', 'img247.txt', 'img2456.pdf'])"
   ]
  },
  {
   "cell_type": "code",
   "execution_count": 31,
   "id": "bf8aa853",
   "metadata": {},
   "outputs": [
    {
     "data": {
      "text/plain": [
       "[]"
      ]
     },
     "execution_count": 31,
     "metadata": {},
     "output_type": "execute_result"
    }
   ],
   "source": [
    "def preprocess2(tuples):\n",
    "    return[t for t in tuples if len(t) > 1]\n",
    "    \n",
    "preprocess([(4, 5), (4, ), (5, 2), (5, 3, 2), (5, )])"
   ]
  },
  {
   "cell_type": "code",
   "execution_count": 32,
   "id": "61f4a21c",
   "metadata": {},
   "outputs": [
    {
     "data": {
      "text/plain": [
       "[]"
      ]
     },
     "execution_count": 32,
     "metadata": {},
     "output_type": "execute_result"
    }
   ],
   "source": [
    "def preprocess3(tuples):\n",
    "    return[\n",
    "        t \n",
    "        for t in tuples \n",
    "        if not all(i == None for i in t)\n",
    "    ]\n",
    "    \n",
    "preprocess([(4, 5), (4,), (5, None), (5, 3, 2), (None,)])"
   ]
  },
  {
   "cell_type": "code",
   "execution_count": 33,
   "id": "3584af77",
   "metadata": {},
   "outputs": [
    {
     "name": "stdout",
     "output_type": "stream",
     "text": [
      "[5, 6, 2, 3]\n",
      "[5, 6, 2, 4, 2, 3, 4]\n"
     ]
    }
   ],
   "source": [
    "def flatten(l):\n",
    "    return [i for flat in l for i in flat]\n",
    "\n",
    "print(flatten(([5], [6], [2], [3])))\n",
    "print(flatten(([5], [6], [2, 4, 2], [3, 4])))"
   ]
  },
  {
   "cell_type": "code",
   "execution_count": 34,
   "id": "01be9a0e",
   "metadata": {},
   "outputs": [
    {
     "data": {
      "text/plain": [
       "'#apple #gym #fit #movie #netflix'"
      ]
     },
     "execution_count": 34,
     "metadata": {},
     "output_type": "execute_result"
    }
   ],
   "source": [
    "def flatten2(t):\n",
    "    return ' '.join(['#' + i for hashtags in t for i in hashtags])\n",
    "\n",
    "flatten2((['apple'], ['gym', 'fit'], ['movie', 'netflix']))"
   ]
  },
  {
   "cell_type": "code",
   "execution_count": 35,
   "id": "673a7628",
   "metadata": {},
   "outputs": [
    {
     "data": {
      "text/plain": [
       "(22.0, 25.5, 23.64)"
      ]
     },
     "execution_count": 35,
     "metadata": {},
     "output_type": "execute_result"
    }
   ],
   "source": [
    "from statistics import mean \n",
    "\n",
    "\n",
    "def calculate_temp(data):\n",
    "    return min(data['temp']), max(data['temp']), mean(data['temp'])\n",
    "\n",
    "data = {\n",
    "    'device_id': '3057304985',\n",
    "    'temp': [23.5, 22.0, 23.1, 25.5, 24.1],\n",
    "    'city': 'Warsaw',\n",
    "    'country': 'Poland'\n",
    "}\n",
    "calculate_temp(data)"
   ]
  },
  {
   "cell_type": "code",
   "execution_count": 36,
   "id": "c1bdf70f",
   "metadata": {},
   "outputs": [
    {
     "data": {
      "text/plain": [
       "[['device_id', '3057304985'],\n",
       " ['temp', [23.5, 22.0, 23.1, 25.5, 24.1]],\n",
       " ['city', 'Warsaw'],\n",
       " ['country', 'Poland']]"
      ]
     },
     "execution_count": 36,
     "metadata": {},
     "output_type": "execute_result"
    }
   ],
   "source": [
    "def convert_to_neasted(data):\n",
    "    return [[i, v] for i, v in data.items()]\n",
    "\n",
    "data = {\n",
    "    'device_id': '3057304985',\n",
    "    'temp': [23.5, 22.0, 23.1, 25.5, 24.1],\n",
    "    'city': 'Warsaw',\n",
    "    'country': 'Poland'\n",
    "}\n",
    "\n",
    "convert_to_neasted(data)"
   ]
  },
  {
   "cell_type": "code",
   "execution_count": 37,
   "id": "7788bc15",
   "metadata": {},
   "outputs": [
    {
     "data": {
      "text/plain": [
       "'temp,23.5,22.0,23.1,25.5,24.1'"
      ]
     },
     "execution_count": 37,
     "metadata": {},
     "output_type": "execute_result"
    }
   ],
   "source": [
    "def to_csv(data):\n",
    "    return 'temp,' + ','.join([str(i) for i in data['temp']])\n",
    "\n",
    "data = {\n",
    "    'device_id': '3057304985',\n",
    "    'temp': [23.5, 22.0, 23.1, 25.5, 24.1],\n",
    "    'city': 'Warsaw',\n",
    "    'country': 'Poland'\n",
    "}\n",
    "\n",
    "to_csv(data)"
   ]
  },
  {
   "cell_type": "code",
   "execution_count": 38,
   "id": "4b72b34e",
   "metadata": {},
   "outputs": [
    {
     "data": {
      "text/plain": [
       "'OOP'"
      ]
     },
     "execution_count": 38,
     "metadata": {},
     "output_type": "execute_result"
    }
   ],
   "source": [
    "def acronym(full_name):\n",
    "    return ''.join(i[0] for i in full_name.split()).upper()\n",
    "\n",
    "acronym('object oriented programming')"
   ]
  },
  {
   "cell_type": "code",
   "execution_count": 39,
   "id": "3f2e46ed",
   "metadata": {},
   "outputs": [
    {
     "name": "stdout",
     "output_type": "stream",
     "text": [
      "3\n",
      "17\n"
     ]
    }
   ],
   "source": [
    "def collatz(n):\n",
    "    num_of_steps = 0\n",
    "    while n != 1:\n",
    "        if n % 2 == 0:\n",
    "            n = n/2\n",
    "        else:\n",
    "            n = n * 3 + 1\n",
    "        num_of_steps+=1\n",
    "    return num_of_steps\n",
    "    \n",
    "print(collatz(8))\n",
    "print(collatz(14))"
   ]
  },
  {
   "cell_type": "code",
   "execution_count": 40,
   "id": "1cd98614",
   "metadata": {},
   "outputs": [
    {
     "name": "stdout",
     "output_type": "stream",
     "text": [
      "['pyt', 'hon', ' pr', 'ogr', 'amm', 'ing']\n"
     ]
    }
   ],
   "source": [
    "def get_chunks(text, num):\n",
    "    chunks = []\n",
    "    for i in range(0, len(text), num):\n",
    "        chunk = text[i:i+num]\n",
    "        chunks.append(chunk)\n",
    "    return chunks\n",
    "\n",
    "print(get_chunks('python programming', 3))"
   ]
  },
  {
   "cell_type": "code",
   "execution_count": 41,
   "id": "26f9c2ed",
   "metadata": {},
   "outputs": [
    {
     "name": "stdout",
     "output_type": "stream",
     "text": [
      "False\n",
      "True\n"
     ]
    }
   ],
   "source": [
    "def is_iterable(x):\n",
    "    try:\n",
    "        iter(x)\n",
    "    except TypeError:\n",
    "        return False\n",
    "    else:\n",
    "        return True\n",
    "\n",
    "print(is_iterable(3.14))\n",
    "print(is_iterable('python'))"
   ]
  },
  {
   "cell_type": "code",
   "execution_count": 42,
   "id": "b66b9a5a",
   "metadata": {},
   "outputs": [
    {
     "name": "stdout",
     "output_type": "stream",
     "text": [
      "Python is a programming lan...\n",
      "Python programming.\n"
     ]
    }
   ],
   "source": [
    "def truncate(heading, length=30):\n",
    "    if len(heading) <= length:\n",
    "        return heading\n",
    "    return heading[:length-3] + '...'\n",
    "\n",
    "print(truncate('Python is a programming language that lets you work quickly.'))\n",
    "print(truncate('Python programming.'))"
   ]
  },
  {
   "cell_type": "code",
   "execution_count": 43,
   "id": "0443afde",
   "metadata": {},
   "outputs": [
    {
     "data": {
      "text/plain": [
       "[1, 3, 3, 1]"
      ]
     },
     "execution_count": 43,
     "metadata": {},
     "output_type": "execute_result"
    }
   ],
   "source": [
    "from math import factorial\n",
    "\n",
    "def pascal_triangle(row):\n",
    "    result = []\n",
    "    for i in range(row + 1):\n",
    "        factor = factorial(row) // (factorial(i) * factorial(row-i))\n",
    "        result.append(factor)\n",
    "    return result\n",
    "''' \n",
    "or:\n",
    "    result = [1]\n",
    "    if row == 1:  return result\n",
    "\n",
    "    for i in range(row):\n",
    "        for j in range(i, 0, -1):\n",
    "            result[j] = result[j] + result[j-1]\n",
    "        result.append(1)\n",
    "    return result\n",
    "'''\n",
    "\n",
    "pascal_triangle(3)"
   ]
  },
  {
   "cell_type": "code",
   "execution_count": 44,
   "id": "49c149f2",
   "metadata": {},
   "outputs": [
    {
     "data": {
      "text/plain": [
       "{'open': 45.3, 'high': 46.1, 'low': 45.3, 'close': 45.4}"
      ]
     },
     "execution_count": 44,
     "metadata": {},
     "output_type": "execute_result"
    }
   ],
   "source": [
    "def transform(row):\n",
    "    headers = 'open,high,low,close'.split(',')\n",
    "    values = row.split(',')\n",
    "    return {key: float(value) for key, value in zip(headers, values)}\n",
    "    \n",
    "transform('45.3,46.1,45.3,45.4')"
   ]
  },
  {
   "cell_type": "code",
   "execution_count": 45,
   "id": "182a098e",
   "metadata": {},
   "outputs": [
    {
     "data": {
      "text/plain": [
       "['rank', 'name', 'networth', 'age', 'country', 'source', 'industry']"
      ]
     },
     "execution_count": 45,
     "metadata": {},
     "output_type": "execute_result"
    }
   ],
   "source": [
    "def get_headers():\n",
    "    with open('2022_forbes_billionaires.csv', 'r') as file:\n",
    "        headers = file.readline().strip().split(',')\n",
    "        return [header.lower().replace(' ', '_') for header in headers]\n",
    "\n",
    "get_headers()"
   ]
  },
  {
   "cell_type": "code",
   "execution_count": 46,
   "id": "fad3f907",
   "metadata": {},
   "outputs": [
    {
     "data": {
      "text/plain": [
       "[['rank', 'name', 'networth', 'age', 'country', 'source', 'industry'],\n",
       " ['1',\n",
       "  'Elon Musk',\n",
       "  '$219 B',\n",
       "  '50',\n",
       "  'United States',\n",
       "  '\"Tesla',\n",
       "  'SpaceX\"',\n",
       "  'Automotive'],\n",
       " ['2', 'Jeff Bezos', '$171 B', '58', 'United States', 'Amazon', 'Technology'],\n",
       " ['3',\n",
       "  'Bernard Arnault & family',\n",
       "  '$158 B',\n",
       "  '73',\n",
       "  'France',\n",
       "  'LVMH',\n",
       "  'Fashion & Retail'],\n",
       " ['4',\n",
       "  'Bill Gates',\n",
       "  '$129 B',\n",
       "  '66',\n",
       "  'United States',\n",
       "  'Microsoft',\n",
       "  'Technology'],\n",
       " ['5',\n",
       "  'Warren Buffett',\n",
       "  '$118 B',\n",
       "  '91',\n",
       "  'United States',\n",
       "  'Berkshire Hathaway',\n",
       "  'Finance & Investments'],\n",
       " ['6', 'Larry Page', '$111 B', '49', 'United States', 'Google', 'Technology'],\n",
       " ['7', 'Sergey Brin', '$107 B', '48', 'United States', 'Google', 'Technology'],\n",
       " ['8',\n",
       "  'Larry Ellison',\n",
       "  '$106 B',\n",
       "  '77',\n",
       "  'United States',\n",
       "  'software',\n",
       "  'Technology'],\n",
       " ['9',\n",
       "  'Steve Ballmer',\n",
       "  '$91.4 B',\n",
       "  '66',\n",
       "  'United States',\n",
       "  'Microsoft',\n",
       "  'Technology'],\n",
       " ['10',\n",
       "  'Mukesh Ambani',\n",
       "  '$90.7 B',\n",
       "  '64',\n",
       "  'India',\n",
       "  'diversified',\n",
       "  'Diversified'],\n",
       " ['11',\n",
       "  'Gautam Adani & family',\n",
       "  '$90 B',\n",
       "  '59',\n",
       "  'India',\n",
       "  '\"infrastructure',\n",
       "  'commodities\"',\n",
       "  'Diversified'],\n",
       " ['12',\n",
       "  'Michael Bloomberg',\n",
       "  '$82 B',\n",
       "  '80',\n",
       "  'United States',\n",
       "  'Bloomberg LP',\n",
       "  'Media & Entertainment'],\n",
       " ['13',\n",
       "  'Carlos Slim Helu & family',\n",
       "  '$81.2 B',\n",
       "  '82',\n",
       "  'Mexico',\n",
       "  'telecom',\n",
       "  'Telecom'],\n",
       " ['14',\n",
       "  'Francoise Bettencourt Meyers & family',\n",
       "  '$74.8 B',\n",
       "  '68',\n",
       "  'France',\n",
       "  \"L'OrÃ©al\",\n",
       "  'Fashion & Retail'],\n",
       " ['15',\n",
       "  'Mark Zuckerberg',\n",
       "  '$67.3 B',\n",
       "  '37',\n",
       "  'United States',\n",
       "  'Facebook',\n",
       "  'Technology'],\n",
       " ['16',\n",
       "  'Jim Walton',\n",
       "  '$66.2 B',\n",
       "  '73',\n",
       "  'United States',\n",
       "  'Walmart',\n",
       "  'Fashion & Retail'],\n",
       " ['17',\n",
       "  'Zhong Shanshan',\n",
       "  '$65.7 B',\n",
       "  '67',\n",
       "  'China',\n",
       "  '\"beverages',\n",
       "  'pharmaceuticals\"',\n",
       "  'Food & Beverage'],\n",
       " ['18',\n",
       "  'Alice Walton',\n",
       "  '$65.3 B',\n",
       "  '72',\n",
       "  'United States',\n",
       "  'Walmart',\n",
       "  'Fashion & Retail'],\n",
       " ['19',\n",
       "  'Rob Walton',\n",
       "  '$65 B',\n",
       "  '77',\n",
       "  'United States',\n",
       "  'Walmart',\n",
       "  'Fashion & Retail'],\n",
       " ['19',\n",
       "  'Changpeng Zhao',\n",
       "  '$65 B',\n",
       "  '44',\n",
       "  'Canada',\n",
       "  'cryptocurrency exchange',\n",
       "  'Finance & Investments'],\n",
       " ['21',\n",
       "  'Charles Koch',\n",
       "  '$60 B',\n",
       "  '86',\n",
       "  'United States',\n",
       "  'Koch Industries',\n",
       "  'Diversified']]"
      ]
     },
     "execution_count": 46,
     "metadata": {},
     "output_type": "execute_result"
    }
   ],
   "source": [
    "def preprocess():\n",
    "    with open('2022_forbes_billionaires.csv', 'r') as file:\n",
    "        content = [row.strip().split(',') for row in file.readlines()]\n",
    "        result = [[item.strip() for item in row] for row in content]\n",
    "    return result\n",
    "\n",
    "preprocess()"
   ]
  },
  {
   "cell_type": "code",
   "execution_count": 47,
   "id": "a2bb5c82",
   "metadata": {},
   "outputs": [
    {
     "data": {
      "text/plain": [
       "['Canada', 'China', 'France', 'India', 'Mexico', 'United States']"
      ]
     },
     "execution_count": 47,
     "metadata": {},
     "output_type": "execute_result"
    }
   ],
   "source": [
    "def get_unique_countries():\n",
    "    data = preprocess()\n",
    "    countries = sorted(set([i[4] for i in data[1:]]))\n",
    "    return countries\n",
    "\n",
    "get_unique_countries()"
   ]
  },
  {
   "cell_type": "code",
   "execution_count": 48,
   "id": "e7b374bf",
   "metadata": {},
   "outputs": [
    {
     "data": {
      "text/plain": [
       "66"
      ]
     },
     "execution_count": 48,
     "metadata": {},
     "output_type": "execute_result"
    }
   ],
   "source": [
    "def calculate_mean_age():\n",
    "    data = preprocess()\n",
    "    ages = [int(i[3]) for i in data[1:]]\n",
    "    mean_age = round(mean(ages))\n",
    "    return mean_age\n",
    "\n",
    "calculate_mean_age()"
   ]
  },
  {
   "cell_type": "code",
   "execution_count": 49,
   "id": "f7f03dc9",
   "metadata": {},
   "outputs": [
    {
     "data": {
      "text/plain": [
       "[('Technology', 7), ('Fashion & Retail', 5), ('Diversified', 3)]"
      ]
     },
     "execution_count": 49,
     "metadata": {},
     "output_type": "execute_result"
    }
   ],
   "source": [
    "def industry_top3():\n",
    "    data = preprocess()\n",
    "    industries = [i[-1] for i in data[1:]]\n",
    "    industries_counted = [(i,industries.count(i)) for i in set(industries)]\n",
    "    industries_counted.sort(key = lambda x: x[1], reverse = True)\n",
    "    return industries_counted[:3]\n",
    "\n",
    "industry_top3()"
   ]
  },
  {
   "cell_type": "code",
   "execution_count": 50,
   "id": "21b6555f",
   "metadata": {},
   "outputs": [
    {
     "data": {
      "text/plain": [
       "['Jeff Bezos',\n",
       " 'Bill Gates',\n",
       " 'Larry Page',\n",
       " 'Sergey Brin',\n",
       " 'Larry Ellison',\n",
       " 'Steve Ballmer',\n",
       " 'Mark Zuckerberg']"
      ]
     },
     "execution_count": 50,
     "metadata": {},
     "output_type": "execute_result"
    }
   ],
   "source": [
    "def all_technology():\n",
    "    data = preprocess()\n",
    "    names = [i[1] for i in data[1:] if i[6] == 'Technology']\n",
    "    return names\n",
    "\n",
    "all_technology()"
   ]
  },
  {
   "cell_type": "code",
   "execution_count": 51,
   "id": "f77b0abc",
   "metadata": {},
   "outputs": [
    {
     "data": {
      "text/plain": [
       "2"
      ]
     },
     "execution_count": 51,
     "metadata": {},
     "output_type": "execute_result"
    }
   ],
   "source": [
    "def maximum(x, y):\n",
    "    if x >= y:\n",
    "        return x\n",
    "    else:\n",
    "        return y\n",
    "\n",
    "maximum(2,-4)"
   ]
  },
  {
   "cell_type": "code",
   "execution_count": 52,
   "id": "53de91f5",
   "metadata": {},
   "outputs": [
    {
     "data": {
      "text/plain": [
       "24"
      ]
     },
     "execution_count": 52,
     "metadata": {},
     "output_type": "execute_result"
    }
   ],
   "source": [
    "def maximum3(x, y, z):\n",
    "    if x >= y and x >= z:\n",
    "        return x\n",
    "    if y >= z:\n",
    "        return y\n",
    "    else:\n",
    "        return z\n",
    "        \n",
    "maximum3(24, 14, 6)"
   ]
  },
  {
   "cell_type": "code",
   "execution_count": 53,
   "id": "d92302f7",
   "metadata": {},
   "outputs": [
    {
     "data": {
      "text/plain": [
       "-48"
      ]
     },
     "execution_count": 53,
     "metadata": {},
     "output_type": "execute_result"
    }
   ],
   "source": [
    "def multi(l):\n",
    "    result = 1\n",
    "    for i in l:\n",
    "        result = result * i\n",
    "    return result\n",
    "    \n",
    "multi((-4, 6, 2))"
   ]
  },
  {
   "cell_type": "code",
   "execution_count": 54,
   "id": "1d4df14b",
   "metadata": {},
   "outputs": [
    {
     "data": {
      "text/plain": [
       "8"
      ]
     },
     "execution_count": 54,
     "metadata": {},
     "output_type": "execute_result"
    }
   ],
   "source": [
    "def map_longest(words):\n",
    "    return max([len(word) for word in words])\n",
    "\n",
    "map_longest(['python', 'skopkoql'])"
   ]
  },
  {
   "cell_type": "code",
   "execution_count": 55,
   "id": "d86917cb",
   "metadata": {},
   "outputs": [
    {
     "data": {
      "text/plain": [
       "['programming', 'python']"
      ]
     },
     "execution_count": 55,
     "metadata": {},
     "output_type": "execute_result"
    }
   ],
   "source": [
    "def filter_ge_6(words):\n",
    "    return [word for word in words if len(word) >= 6]\n",
    "\n",
    "filter_ge_6(['programming', 'python', 'java', 'sql'])"
   ]
  },
  {
   "cell_type": "code",
   "execution_count": 56,
   "id": "dd36a3ec",
   "metadata": {},
   "outputs": [
    {
     "data": {
      "text/plain": [
       "720"
      ]
     },
     "execution_count": 56,
     "metadata": {},
     "output_type": "execute_result"
    }
   ],
   "source": [
    "def factorial(x):\n",
    "    result = 1\n",
    "    for i in range(1, x+1):\n",
    "        result = result * i\n",
    "    return result\n",
    "\n",
    "factorial(6)"
   ]
  },
  {
   "cell_type": "code",
   "execution_count": 57,
   "id": "2f3fe603",
   "metadata": {},
   "outputs": [
    {
     "data": {
      "text/plain": [
       "1"
      ]
     },
     "execution_count": 57,
     "metadata": {},
     "output_type": "execute_result"
    }
   ],
   "source": [
    "def count_str(l):\n",
    "    return len([i for i in l if isinstance(i, str)])\n",
    "\n",
    "count_str(['p', 2, 4.3, None])"
   ]
  },
  {
   "cell_type": "code",
   "execution_count": 58,
   "id": "0b79b5d7",
   "metadata": {},
   "outputs": [
    {
     "data": {
      "text/plain": [
       "2"
      ]
     },
     "execution_count": 58,
     "metadata": {},
     "output_type": "execute_result"
    }
   ],
   "source": [
    "def count_str_min(l):\n",
    "    result = 0\n",
    "    for i in l:\n",
    "        if isinstance(i, str) and len(i) > 2:\n",
    "            result += 1\n",
    "    return result\n",
    "\n",
    "count_str_min([1, '#hello', '', 'python', 'go'])"
   ]
  },
  {
   "cell_type": "code",
   "execution_count": 59,
   "id": "8c36d45b",
   "metadata": {},
   "outputs": [
    {
     "data": {
      "text/plain": [
       "[1, 2, 3, 4, 5]"
      ]
     },
     "execution_count": 59,
     "metadata": {},
     "output_type": "execute_result"
    }
   ],
   "source": [
    "def remove_duplicates(items):\n",
    "    return list(set(items))\n",
    "\n",
    "remove_duplicates([1, 5, 3, 2, 2, 4, 2, 4])"
   ]
  },
  {
   "cell_type": "code",
   "execution_count": 60,
   "id": "c7cadd6c",
   "metadata": {},
   "outputs": [
    {
     "name": "stdout",
     "output_type": "stream",
     "text": [
      "True\n",
      "False\n"
     ]
    }
   ],
   "source": [
    "def is_distinct(items):\n",
    "    return len(items) == len(set(items))\n",
    "\n",
    "print(is_distinct([1, 2, 3]))\n",
    "print(is_distinct([1, 2, 3, 3]))"
   ]
  },
  {
   "cell_type": "code",
   "execution_count": 61,
   "id": "014187aa",
   "metadata": {},
   "outputs": [
    {
     "data": {
      "text/plain": [
       "True"
      ]
     },
     "execution_count": 61,
     "metadata": {},
     "output_type": "execute_result"
    }
   ],
   "source": [
    "def is_palindrome(word):\n",
    "    return word == word[::-1]\n",
    "\n",
    "is_palindrome('kayak')"
   ]
  },
  {
   "cell_type": "code",
   "execution_count": 62,
   "id": "6853ed48",
   "metadata": {},
   "outputs": [
    {
     "data": {
      "text/plain": [
       "[(4, 1), (4, 2), (1, 3), (0, 7)]"
      ]
     },
     "execution_count": 62,
     "metadata": {},
     "output_type": "execute_result"
    }
   ],
   "source": [
    "def sort_list(items):\n",
    "    return sorted(items, key = lambda i: i[1])\n",
    "\n",
    "sort_list([(1, 3), (4, 1), (4, 2), (0, 7)])"
   ]
  },
  {
   "cell_type": "code",
   "execution_count": 63,
   "id": "9c5cdd01",
   "metadata": {},
   "outputs": [
    {
     "name": "stdout",
     "output_type": "stream",
     "text": [
      "0.8571\n"
     ]
    }
   ],
   "source": [
    "y_true = [0, 0, 1, 1, 0, 1, 0]\n",
    "y_pred = [0, 0, 1, 0, 0, 1, 0]\n",
    "\n",
    "def accuracy(y_true, y_pred):\n",
    "    result = 0\n",
    "    for i, j in zip(y_true, y_pred):\n",
    "        if i == j:\n",
    "            result+=1\n",
    "    return round(result/len(y_true), 4)\n",
    "\n",
    "print(accuracy(y_true, y_pred))"
   ]
  },
  {
   "cell_type": "code",
   "execution_count": 64,
   "id": "b4364a53",
   "metadata": {},
   "outputs": [
    {
     "data": {
      "text/plain": [
       "0.325"
      ]
     },
     "execution_count": 64,
     "metadata": {},
     "output_type": "execute_result"
    }
   ],
   "source": [
    "y_true = [10, 10.5, 11.2, 10.4]\n",
    "y_pred = [10.2, 10.4, 10.8, 11.0]\n",
    "\n",
    "def mae(y_true, y_pred):\n",
    "    result = 0\n",
    "    for i, j in zip(y_true, y_pred):\n",
    "        result += abs(j - i)\n",
    "    return round(result / len(y_true), 3)\n",
    "        \n",
    "mae(y_true, y_pred)"
   ]
  },
  {
   "cell_type": "code",
   "execution_count": 65,
   "id": "52a1b016",
   "metadata": {},
   "outputs": [
    {
     "data": {
      "text/plain": [
       "0.142"
      ]
     },
     "execution_count": 65,
     "metadata": {},
     "output_type": "execute_result"
    }
   ],
   "source": [
    "y_true = [10, 10.5, 11.2, 10.4]\n",
    "y_pred = [10.2, 10.4, 10.8, 11.0]\n",
    "\n",
    "def mse(y_true, y_pred):\n",
    "    result = 0\n",
    "    for i, j in zip(y_true, y_pred):\n",
    "        result += (j - i)**2\n",
    "    return round(result / len(y_true), 3)\n",
    "\n",
    "mse(y_true, y_pred)"
   ]
  },
  {
   "cell_type": "code",
   "execution_count": 66,
   "id": "4678e2b3",
   "metadata": {},
   "outputs": [],
   "source": [
    "def relu(x):\n",
    "\treturn max(0, x)"
   ]
  },
  {
   "cell_type": "code",
   "execution_count": 67,
   "id": "a3c6e6c8",
   "metadata": {},
   "outputs": [
    {
     "data": {
      "text/plain": [
       "[1, 2, 3, 4, 5, 6, 7, 8, 9]"
      ]
     },
     "execution_count": 67,
     "metadata": {},
     "output_type": "execute_result"
    }
   ],
   "source": [
    "items = [\n",
    "    [1, 2, 3],\n",
    "    [4, 5, 6],\n",
    "    [7, 8, 9]\n",
    "]\n",
    "\n",
    "def flatten(items):\n",
    "    return [i for row in items for i in row]\n",
    "\n",
    "flatten(items)"
   ]
  },
  {
   "cell_type": "code",
   "execution_count": 68,
   "id": "13a57557",
   "metadata": {},
   "outputs": [
    {
     "data": {
      "text/plain": [
       "[3, 4, 2, 5, 1, 6, 2, 0, 0]"
      ]
     },
     "execution_count": 68,
     "metadata": {},
     "output_type": "execute_result"
    }
   ],
   "source": [
    "def transfer_zeros(items):\n",
    "    for i in items:\n",
    "        if i == 0:\n",
    "            items.remove(0)\n",
    "            items.append(0)\n",
    "    return items\n",
    "\n",
    "transfer_zeros([3, 4, 0, 2, 0, 5, 1, 6, 2])"
   ]
  },
  {
   "cell_type": "code",
   "execution_count": 69,
   "id": "b886cb04",
   "metadata": {},
   "outputs": [
    {
     "data": {
      "text/plain": [
       "5.0"
      ]
     },
     "execution_count": 69,
     "metadata": {},
     "output_type": "execute_result"
    }
   ],
   "source": [
    "import math \n",
    "\n",
    "def euclidean_distance(x, y):\n",
    "    result = 0\n",
    "    for i, j in zip(x, y):\n",
    "        result += (j - i)**2\n",
    "    return math.sqrt(result)\n",
    "\n",
    "euclidean_distance([0, 3], [4, 0])"
   ]
  },
  {
   "cell_type": "code",
   "execution_count": 70,
   "id": "0175d0d4",
   "metadata": {},
   "outputs": [
    {
     "name": "stdout",
     "output_type": "stream",
     "text": [
      "[0, 2, 4, 6, 8]\n",
      "[0, 1, 2, 3, 4, 5, 6, 7, 8, 9]\n"
     ]
    }
   ],
   "source": [
    "def arange(start, stop, step=1):\n",
    "    l = []\n",
    "    for i in range(start, stop, step):\n",
    "        l.append(i)\n",
    "    return l\n",
    "\n",
    "print(arange(0, 10, 2))\n",
    "print(arange(0, 10))"
   ]
  },
  {
   "cell_type": "code",
   "execution_count": 71,
   "id": "5d5b6ec1",
   "metadata": {},
   "outputs": [
    {
     "data": {
      "text/plain": [
       "[[1, 3], [2, 4]]"
      ]
     },
     "execution_count": 71,
     "metadata": {},
     "output_type": "execute_result"
    }
   ],
   "source": [
    "l1 = [[1], [2]]\n",
    "l2 = [[3], [4]]\n",
    "\n",
    "def concat(l1, l2):\n",
    "    result = [[i[0], j[0]] for i, j in zip(l1, l2)]\n",
    "    return result\n",
    "\n",
    "concat(l1, l2)"
   ]
  },
  {
   "cell_type": "code",
   "execution_count": 72,
   "id": "a7e28abd",
   "metadata": {},
   "outputs": [
    {
     "data": {
      "text/plain": [
       "[[1, 0, 0], [0, 1, 0], [0, 0, 1]]"
      ]
     },
     "execution_count": 72,
     "metadata": {},
     "output_type": "execute_result"
    }
   ],
   "source": [
    "def identity(n):\n",
    "    result = []\n",
    "    for i in range(0, n):\n",
    "        l = [0 for i in range(n)]\n",
    "        l[i] = 1\n",
    "        result.append(l)\n",
    "    return result\n",
    "        \n",
    "identity(3)"
   ]
  },
  {
   "cell_type": "code",
   "execution_count": 73,
   "id": "86c08041",
   "metadata": {},
   "outputs": [
    {
     "name": "stdout",
     "output_type": "stream",
     "text": [
      "[['a', 'a'], ['a', 'a'], ['a', 'a'], ['a', 'a']]\n",
      "[[255, 255, 255], [255, 255, 255]]\n"
     ]
    }
   ],
   "source": [
    "def fill_value(height, width, value):\n",
    "    result = [[value] * width for i in range(height)]\n",
    "    return result\n",
    "\n",
    "print(fill_value(4, 2, 'a'))\n",
    "print(fill_value(height=2, width=3, value=255))"
   ]
  },
  {
   "cell_type": "code",
   "execution_count": 74,
   "id": "d17eca59",
   "metadata": {},
   "outputs": [
    {
     "name": "stdout",
     "output_type": "stream",
     "text": [
      "3\n",
      "7\n"
     ]
    }
   ],
   "source": [
    "def trace(array):\n",
    "    tr = 0\n",
    "    for i in range(len(array)):\n",
    "        tr += array[i][i]\n",
    "    return tr\n",
    "\n",
    "print(trace([[1, 2], [4, 2]]))\n",
    "print(trace([[3, 4, 5], [5, 2, 1], [5, 7, 2]]))"
   ]
  },
  {
   "cell_type": "code",
   "execution_count": 75,
   "id": "520f492a",
   "metadata": {},
   "outputs": [
    {
     "name": "stdout",
     "output_type": "stream",
     "text": [
      "[[1, 4], [2, 5], [3, 6]]\n",
      "[[1, 5], [2, 6], [3, 7], [4, 8]]\n"
     ]
    }
   ],
   "source": [
    "def transpose(array):\n",
    "    result = [[array[j][i] for j in range(len(array))] for i in range(len(array[0]))]\n",
    "    return result\n",
    "\n",
    "print(transpose([[1, 2, 3], [4, 5, 6]]))\n",
    "print(transpose([[1, 2, 3, 4], [5, 6, 7, 8]]))"
   ]
  },
  {
   "cell_type": "code",
   "execution_count": 76,
   "id": "b3d5fe6d",
   "metadata": {},
   "outputs": [
    {
     "data": {
      "text/plain": [
       "[[0.4], [0.7], [0.4]]"
      ]
     },
     "execution_count": 76,
     "metadata": {},
     "output_type": "execute_result"
    }
   ],
   "source": [
    "def max_prob(array):\n",
    "    result = [[max(i)] for i in array]\n",
    "    return result\n",
    "\n",
    "max_prob([[0.3, 0.4, 0.2, 0.1], [0.0, 0.1, 0.7, 0.2], [0.0, 0.4, 0.3, 0.3]]) "
   ]
  },
  {
   "cell_type": "code",
   "execution_count": 77,
   "id": "6324c5f8",
   "metadata": {},
   "outputs": [
    {
     "data": {
      "text/plain": [
       "[[0, 1, 0, 0], [0, 0, 1, 0]]"
      ]
     },
     "execution_count": 77,
     "metadata": {},
     "output_type": "execute_result"
    }
   ],
   "source": [
    "def detect_class(array):\n",
    "    result = []\n",
    "    for item in array:\n",
    "        max_val = max(item)\n",
    "        empty = [0] * len(item)\n",
    "        for idx, val in enumerate(item):\n",
    "            if val == max_val:\n",
    "                empty[idx] = 1\n",
    "                result.append(empty)\n",
    "    return result\n",
    "\n",
    "detect_class([[0.3, 0.4, 0.2, 0.1], [0.0, 0.1, 0.7, 0.2]]) "
   ]
  },
  {
   "cell_type": "code",
   "execution_count": 78,
   "id": "b09553b6",
   "metadata": {},
   "outputs": [
    {
     "data": {
      "text/plain": [
       "9"
      ]
     },
     "execution_count": 78,
     "metadata": {},
     "output_type": "execute_result"
    }
   ],
   "source": [
    "def dot_product(v, w):\n",
    "    return sum(i * j for i, j in zip(v, w))\n",
    "\n",
    "dot_product([1, 2], [5, 2])"
   ]
  },
  {
   "cell_type": "code",
   "execution_count": 79,
   "id": "0b4fdb5d",
   "metadata": {},
   "outputs": [
    {
     "data": {
      "text/plain": [
       "3"
      ]
     },
     "execution_count": 79,
     "metadata": {},
     "output_type": "execute_result"
    }
   ],
   "source": [
    "def count_none(l):\n",
    "    return sum(1 for i in l if i == None)\n",
    "            \n",
    "count_none([1, None, None, 5, None, 2])"
   ]
  },
  {
   "cell_type": "code",
   "execution_count": 80,
   "id": "4fa42a0e",
   "metadata": {},
   "outputs": [
    {
     "data": {
      "text/plain": [
       "[10, 9, 8]"
      ]
     },
     "execution_count": 80,
     "metadata": {},
     "output_type": "execute_result"
    }
   ],
   "source": [
    "def top_n(items, n):\n",
    "    items.sort(reverse=True)\n",
    "    return items[:n]\n",
    "        \n",
    "top_n([4, 5, 2, 9, 5, 2, 8, 2, 8, 10], 3)"
   ]
  },
  {
   "cell_type": "code",
   "execution_count": 81,
   "id": "6e8f4463",
   "metadata": {},
   "outputs": [],
   "source": [
    "from functools import partial\n",
    "\n",
    "def mul(x, y):\n",
    "    return x * y\n",
    "\n",
    "double = partial(mul, y=2)\n",
    "triple = partial(mul, y=3)"
   ]
  },
  {
   "cell_type": "code",
   "execution_count": 82,
   "id": "a599a5f7",
   "metadata": {},
   "outputs": [],
   "source": [
    "def power(x, y):\n",
    "    return x ** y\n",
    "\n",
    "square = partial(power, y=2)\n",
    "cube = partial(power, y=3)"
   ]
  },
  {
   "cell_type": "code",
   "execution_count": 83,
   "id": "12dcc872",
   "metadata": {},
   "outputs": [
    {
     "name": "stdout",
     "output_type": "stream",
     "text": [
      "1040.0\n",
      "1081.6\n",
      "1159.27\n",
      "23673.64\n"
     ]
    }
   ],
   "source": [
    "def fv(pv, r, n):\n",
    "    for i in range(0, n):\n",
    "        pv = pv * r + pv\n",
    "    return round(pv, 2)\n",
    "\n",
    "print(fv(1000, 0.04, 1))\n",
    "print(fv(1000, 0.04, 2))\n",
    "print(fv(1000, 0.03, 5))\n",
    "print(fv(10000, 0.09, 10))"
   ]
  },
  {
   "cell_type": "code",
   "execution_count": 84,
   "id": "26f2caf5",
   "metadata": {},
   "outputs": [
    {
     "name": "stdout",
     "output_type": "stream",
     "text": [
      "1040.0\n",
      "1040.4\n",
      "1040.6\n",
      "1040.74\n"
     ]
    }
   ],
   "source": [
    "def fv(pv, rate, n, m=1):\n",
    "    return round(pv * (1 + (rate / m)) ** (n * m), 2)\n",
    " \n",
    "print(fv(1000, 0.04, 1))\n",
    "print(fv(1000, 0.04, 1, 2))\n",
    "print(fv(1000, 0.04, 1, 4))\n",
    "print(fv(1000, 0.04, 1, 12))"
   ]
  },
  {
   "cell_type": "code",
   "execution_count": 85,
   "id": "eefbfbfd",
   "metadata": {},
   "outputs": [
    {
     "name": "stdout",
     "output_type": "stream",
     "text": [
      "1.04\n",
      "1.04060401\n",
      "1.0616778118644983\n"
     ]
    }
   ],
   "source": [
    "def fv(rate, m, n, pv):\n",
    "    return pv * (1 + (rate / m)) ** (n * m)\n",
    "    \n",
    "annual_acc_factor = partial(fv, n=1, pv=1)\n",
    "\n",
    "print(annual_acc_factor(rate=0.04, m=1))\n",
    "print(annual_acc_factor(rate=0.04, m=4))\n",
    "print(annual_acc_factor(rate=0.06, m=12))"
   ]
  },
  {
   "cell_type": "code",
   "execution_count": 86,
   "id": "ace6d029",
   "metadata": {},
   "outputs": [
    {
     "name": "stdout",
     "output_type": "stream",
     "text": [
      "1.04060401\n",
      "1.0616778118644983\n"
     ]
    }
   ],
   "source": [
    "def fv(rate, m, n, pv):\n",
    "    return pv * (1 + (rate / m)) ** (n * m)\n",
    "\n",
    "annual_acc_factor = partial(fv, n=1, pv=1)\n",
    "\n",
    "annual_acc_factor_4 = partial(annual_acc_factor, m=4)\n",
    "annual_acc_factor_12 = partial(annual_acc_factor, m=12)\n",
    "\n",
    "print(annual_acc_factor_4(0.04))\n",
    "print(annual_acc_factor_12(0.06))"
   ]
  },
  {
   "cell_type": "code",
   "execution_count": 87,
   "id": "9de49803",
   "metadata": {},
   "outputs": [
    {
     "name": "stdout",
     "output_type": "stream",
     "text": [
      "sport#summer\n",
      "\n",
      "time#workout#gym\n"
     ]
    }
   ],
   "source": [
    "def stick(*args):\n",
    "    return '#'.join([i for i in args if type(i) == str])\n",
    "\n",
    "print(stick('sport', 'summer', 4, True))\n",
    "print(stick(3, 5, 7))\n",
    "print(stick(False, 'time', True, 'workout', [], 'gym'))"
   ]
  },
  {
   "cell_type": "code",
   "execution_count": 88,
   "id": "3a1868a1",
   "metadata": {},
   "outputs": [
    {
     "name": "stdout",
     "output_type": "stream",
     "text": [
      "Company name: CD Projekt\n",
      "Price: $ 100\n"
     ]
    }
   ],
   "source": [
    "def display_info(company, **kwargs):\n",
    "    print(f'Company name: {company}')\n",
    "    if 'price' in kwargs.keys():\n",
    "        print(f'Price: $ {kwargs[\"price\"]}')\n",
    "        \n",
    "display_info(company='CD Projekt', price=100)"
   ]
  },
  {
   "cell_type": "code",
   "execution_count": 89,
   "id": "674b06d3",
   "metadata": {},
   "outputs": [
    {
     "name": "stdout",
     "output_type": "stream",
     "text": [
      "1580\n"
     ]
    }
   ],
   "source": [
    "def calculate():\n",
    "    x = [i for i in range(0,100) if i%5 == 0 or i%7 ==0]\n",
    "    return sum(x)\n",
    "    \n",
    "print(calculate())"
   ]
  },
  {
   "cell_type": "code",
   "execution_count": 90,
   "id": "aae9a91f",
   "metadata": {},
   "outputs": [
    {
     "name": "stdout",
     "output_type": "stream",
     "text": [
      "1089154\n"
     ]
    }
   ],
   "source": [
    "def calculate():\n",
    "    a, b = 1, 1\n",
    "    f = []\n",
    "    while b < 1000000:\n",
    "        c = a+b\n",
    "        a = b\n",
    "        b = c\n",
    "        f.append(c)\n",
    "    return sum(i for i in f if i%2==0)\n",
    "\n",
    "print(calculate())"
   ]
  },
  {
   "cell_type": "code",
   "execution_count": null,
   "id": "f52b5768",
   "metadata": {},
   "outputs": [],
   "source": []
  }
 ],
 "metadata": {
  "kernelspec": {
   "display_name": "Python 3",
   "language": "python",
   "name": "python3"
  },
  "language_info": {
   "codemirror_mode": {
    "name": "ipython",
    "version": 3
   },
   "file_extension": ".py",
   "mimetype": "text/x-python",
   "name": "python",
   "nbconvert_exporter": "python",
   "pygments_lexer": "ipython3",
   "version": "3.8.8"
  }
 },
 "nbformat": 4,
 "nbformat_minor": 5
}
