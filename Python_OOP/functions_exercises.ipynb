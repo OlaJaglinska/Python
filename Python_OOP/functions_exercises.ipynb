{
 "cells": [
  {
   "cell_type": "code",
   "execution_count": 1,
   "id": "2fcedc67",
   "metadata": {},
   "outputs": [
    {
     "name": "stdout",
     "output_type": "stream",
     "text": [
      "3.8.8\n"
     ]
    }
   ],
   "source": [
    "import sys\n",
    "print(sys.version.split()[0])"
   ]
  },
  {
   "cell_type": "code",
   "execution_count": 2,
   "id": "3a9b23ee",
   "metadata": {},
   "outputs": [
    {
     "name": "stdout",
     "output_type": "stream",
     "text": [
      "True\n",
      "False\n",
      "False\n",
      "True\n"
     ]
    }
   ],
   "source": [
    "def is_nested(array):\n",
    "    if len(array) == 0:\n",
    "        return False\n",
    "    return all(isinstance(i, list) for i in array)\n",
    "    \n",
    "print(is_nested([[3, 4]]))\n",
    "print(is_nested([]))\n",
    "print(is_nested([[3, 4], 0, [2, 1]]))\n",
    "print(is_nested([[3, 4], [2, 1]]))"
   ]
  },
  {
   "cell_type": "code",
   "execution_count": 3,
   "id": "f12f601e",
   "metadata": {},
   "outputs": [
    {
     "name": "stdout",
     "output_type": "stream",
     "text": [
      "False\n",
      "True\n"
     ]
    }
   ],
   "source": [
    "def is_all_equal(array):\n",
    "    return all(i == array[0] for i in array) # or return len(set(iterator)) <= 1\n",
    "\n",
    "print(is_all_equal([4, 5, 7]))\n",
    "print(is_all_equal([4, 4, 4]))"
   ]
  },
  {
   "cell_type": "code",
   "execution_count": 4,
   "id": "f56845fb",
   "metadata": {},
   "outputs": [
    {
     "name": "stdout",
     "output_type": "stream",
     "text": [
      "True\n",
      "True\n",
      "False\n"
     ]
    }
   ],
   "source": [
    "def is_nested(array):\n",
    "    if len(array) == 0:\n",
    "        return False\n",
    "    return all(isinstance(row, list) for row in array)\n",
    "\n",
    "def is_all_equal(iterator):\n",
    "    return len(set(iterator)) <= 1\n",
    "    \n",
    "def is_valid_array(array):\n",
    "    if is_nested(array):\n",
    "        return all(len(i) == len(array[0]) for i in array)\n",
    "    \n",
    "# or    if is_all_equal(len(row) for row in array):\n",
    "#              return True\n",
    "#    return False\n",
    "    \n",
    "print(is_valid_array([[3], [4]]))\n",
    "print(is_valid_array([[3, 4], [4, 5]]))\n",
    "print(is_valid_array([[3, 4, 5], [4, 5]]))"
   ]
  },
  {
   "cell_type": "code",
   "execution_count": 5,
   "id": "52093a5c",
   "metadata": {},
   "outputs": [
    {
     "name": "stdout",
     "output_type": "stream",
     "text": [
      "[7, 5, 6, 4]\n",
      "[5, 4]\n"
     ]
    }
   ],
   "source": [
    "def swap_elements(array):\n",
    "    (array[0], array[-1]) = (array[-1], array[0])\n",
    "    return array\n",
    "\n",
    "print(swap_elements([4, 5, 6, 7]))\n",
    "print(swap_elements([4, 5]))"
   ]
  },
  {
   "cell_type": "code",
   "execution_count": 6,
   "id": "22c5e77b",
   "metadata": {},
   "outputs": [
    {
     "name": "stdout",
     "output_type": "stream",
     "text": [
      "[4, 6, 5, 7, 1]\n",
      "['A', 'B', 'E', 'D', 'C']\n"
     ]
    }
   ],
   "source": [
    "def swap_elements2(array, i1, i2):\n",
    "    (array[i1], array[i2]) = (array[i2], array[i1])\n",
    "    return array\n",
    "\n",
    "print(swap_elements2([4, 5, 6, 7, 1], 1, 2))\n",
    "print(swap_elements2(['A', 'B', 'C', 'D', 'E'], 4, 2))"
   ]
  },
  {
   "cell_type": "code",
   "execution_count": 7,
   "id": "50de31c9",
   "metadata": {},
   "outputs": [
    {
     "name": "stdout",
     "output_type": "stream",
     "text": [
      "best the is python\n",
      "language python learn should you\n"
     ]
    }
   ],
   "source": [
    "def reverse_words(string):\n",
    "    return ' '.join(string.split()[::-1])\n",
    "\n",
    "print(reverse_words('python is the best'))\n",
    "print(reverse_words('you should learn python language'))"
   ]
  },
  {
   "cell_type": "code",
   "execution_count": 8,
   "id": "106ffab1",
   "metadata": {},
   "outputs": [
    {
     "name": "stdout",
     "output_type": "stream",
     "text": [
      "([4, 5, 2], [8])\n",
      "([4, 3, 5, 2], [1, 8])\n",
      "([4, 2], [1, 8])\n"
     ]
    }
   ],
   "source": [
    "def remove_common_elements(list1, list2):\n",
    "    for i in list1[:]:\n",
    "        if i in list2:\n",
    "            list1.remove(i)\n",
    "            list2.remove(i)\n",
    "    return (list1, list2)\n",
    "\n",
    "print(remove_common_elements([4, 3, 5, 2], [3, 8]))\n",
    "print(remove_common_elements([4, 3, 5, 2], [1, 8]))\n",
    "print(remove_common_elements([4, 3, 5, 2], [1, 3, 5, 8]))"
   ]
  },
  {
   "cell_type": "code",
   "execution_count": 9,
   "id": "f4b68d2b",
   "metadata": {},
   "outputs": [
    {
     "name": "stdout",
     "output_type": "stream",
     "text": [
      "[3, 6]\n",
      "[0, 4, 5]\n"
     ]
    }
   ],
   "source": [
    "def get_indices(l, element):\n",
    "    return [i for i in range(0, len(l)) if l[i] == element]\n",
    "\n",
    "print(get_indices([4, 3, 5, 2, 3, 0, 2], 2))\n",
    "print(get_indices(['Q', 'DQ', 'DQ', 'DQ', 'Q', 'Q'], 'Q'))"
   ]
  },
  {
   "cell_type": "code",
   "execution_count": 10,
   "id": "ffc547ef",
   "metadata": {},
   "outputs": [
    {
     "name": "stdout",
     "output_type": "stream",
     "text": [
      "[0, 2]\n",
      "[0, 1, 3]\n",
      "[]\n"
     ]
    }
   ],
   "source": [
    "def get_indices_str(l):\n",
    "    return [i for i in range(0, len(l)) if type(l[i]) == str]\n",
    "\n",
    "print(get_indices_str(['Q', 34, 'DQ', True]))\n",
    "print(get_indices_str(['https://www.e-smartdata.org', 'response', 202, 'code']))\n",
    "print(get_indices_str([4, 3, 5, 2]))"
   ]
  },
  {
   "cell_type": "code",
   "execution_count": 11,
   "id": "0ac1a2c4",
   "metadata": {},
   "outputs": [
    {
     "data": {
      "text/plain": [
       "defaultdict(list,\n",
       "            {'user': ['joe', 'tom', 'michael', 'bob', 'lil', 'alice'],\n",
       "             'main_technology': ['python',\n",
       "              'c/cpp',\n",
       "              'cloud',\n",
       "              'php',\n",
       "              'html',\n",
       "              'sql']})"
      ]
     },
     "execution_count": 11,
     "metadata": {},
     "output_type": "execute_result"
    }
   ],
   "source": [
    "from collections import defaultdict\n",
    "\n",
    "def convert(list_of_dicts):\n",
    "    result = defaultdict(list)\n",
    "    for dictionary in list_of_dicts:\n",
    "        for key, value in dictionary.items():\n",
    "            result[key].append(value)\n",
    "    return result\n",
    "\n",
    "'''\n",
    "def convert(data):\n",
    "    result = {}\n",
    "    keys = data[0].keys()\n",
    "    for key in keys:\n",
    "        result[key] = []\n",
    "    for item in data:\n",
    "        for key in keys:\n",
    "            result[key].append(item[key])\n",
    "    return result\n",
    "'''\n",
    "    \n",
    "data = [\n",
    "    {'user': 'joe', 'main_technology': 'python'},\n",
    "    {'user': 'tom', 'main_technology': 'c/cpp'},\n",
    "    {'user': 'michael', 'main_technology': 'cloud'},\n",
    "    {'user': 'bob', 'main_technology': 'php'},\n",
    "    {'user': 'lil', 'main_technology': 'html'},\n",
    "    {'user': 'alice', 'main_technology': 'sql'},\n",
    "]\n",
    "convert(data)"
   ]
  },
  {
   "cell_type": "code",
   "execution_count": 12,
   "id": "cb06b135",
   "metadata": {},
   "outputs": [
    {
     "name": "stdout",
     "output_type": "stream",
     "text": [
      "[[6, 2, 3], [6, 3, 7, 4, 2], [3, 5, 0, 5, 1, 5]]\n"
     ]
    }
   ],
   "source": [
    "def concat(l1, l2):\n",
    "    if not len(l1) == len(l2):\n",
    "        raise ValueError('The given lists are not of the same length.')\n",
    "\n",
    "    new_list = []\n",
    "    for i in range(0, len(l1)):\n",
    "        new_list.append(l1[i] + l2[i])\n",
    "    return new_list\n",
    "\n",
    "print(concat([[6, 2], [6, 3, 7], [3, 5]], [[3], [4, 2], [0, 5, 1, 5]]))"
   ]
  },
  {
   "cell_type": "code",
   "execution_count": 13,
   "id": "c6b6683f",
   "metadata": {},
   "outputs": [
    {
     "name": "stdout",
     "output_type": "stream",
     "text": [
      "[[1, 2, 4, 7, 7, 9], [2, 3, 6, 8, 8], [2, 3, 7, 7, 9]]\n"
     ]
    }
   ],
   "source": [
    "def sort_by_row(lists):\n",
    "    return [sorted(l) for l in lists]\n",
    "    \n",
    "\n",
    "print(sort_by_row([[4, 7, 2, 7, 9, 1], [6, 3, 2, 8, 8], [9, 7, 3, 2, 7]]))"
   ]
  },
  {
   "cell_type": "code",
   "execution_count": 14,
   "id": "b9463f21",
   "metadata": {},
   "outputs": [
    {
     "name": "stdout",
     "output_type": "stream",
     "text": [
      "[[9, 7, 7], [8, 8, 7], [10, 9, 7]]\n"
     ]
    }
   ],
   "source": [
    "def top3(lists):\n",
    "    return [sorted(l, reverse=True)[0:3] for l in lists]\n",
    "        \n",
    "print(top3([[4, 7, 2, 7, 9, 1, 3], [6, 3, 2, 8, 8, 7], [9, 7, 3, 2, 10, 2]]))"
   ]
  },
  {
   "cell_type": "code",
   "execution_count": 15,
   "id": "65c11513",
   "metadata": {},
   "outputs": [
    {
     "name": "stdout",
     "output_type": "stream",
     "text": [
      "{'user_id': '3546', 'level': 64, 'is_active': True}\n",
      "{'user_id': '3467', 'level': 34, 'is_active': False}\n",
      "{'user_id': '8454', 'level': 1, 'is_active': False}\n",
      "{'user_id': '3757', 'level': 63, 'is_active': True}\n"
     ]
    }
   ],
   "source": [
    "def filter_users(dicts):\n",
    "    return [d for d in dicts if 'level' in d]\n",
    "    \n",
    "user_data = [\n",
    "    {'user_id': '3546', 'level': 64, 'is_active': True},\n",
    "    {'user_id': '3467', 'level': 34, 'is_active': False},\n",
    "    {'user_id': '6673', 'is_active': True},\n",
    "    {'user_id': '8454', 'level': 1, 'is_active': False},\n",
    "    {'user_id': '3757', 'level': 63, 'is_active': True},\n",
    "    {'user_id': '1668', 'is_active': False},\n",
    "]\n",
    "for d in filter_users(user_data):\n",
    "    print(d)"
   ]
  },
  {
   "cell_type": "code",
   "execution_count": 16,
   "id": "3c726920",
   "metadata": {},
   "outputs": [
    {
     "data": {
      "text/plain": [
       "[357, 2567, 8632]"
      ]
     },
     "execution_count": 16,
     "metadata": {},
     "output_type": "execute_result"
    }
   ],
   "source": [
    "def remove_repetitive(nr_list):\n",
    "    return [num \n",
    "            for num in nr_list \n",
    "            if len(set(str(num))) == len(str(num))\n",
    "           ]\n",
    "\n",
    "remove_repetitive([4543, 111, 357, 5675, 2567, 8632])"
   ]
  },
  {
   "cell_type": "code",
   "execution_count": 17,
   "id": "6b7039be",
   "metadata": {},
   "outputs": [
    {
     "name": "stdout",
     "output_type": "stream",
     "text": [
      "[8, 10]\n",
      "[2, 8, 11, 3, 10]\n"
     ]
    }
   ],
   "source": [
    "def calculate(numbers, k=5):\n",
    "    return [\n",
    "        numbers[i] \n",
    "        for i in range(1, len(numbers)-1) \n",
    "        if abs((numbers[i-1] - numbers[i])) >= k \n",
    "        and abs((numbers[i+1] - numbers[i])) >= k \n",
    "    ]\n",
    "\n",
    "print(calculate([2, 6, 2, 8, 1, 3, 10, 3]))\n",
    "print(calculate([1, 6, 5, 2, 8, 11, 3, 10, 3], 3))"
   ]
  },
  {
   "cell_type": "code",
   "execution_count": 18,
   "id": "45795fd7",
   "metadata": {},
   "outputs": [
    {
     "data": {
      "text/plain": [
       "['python is the',\n",
       " 'python the is',\n",
       " 'is python the',\n",
       " 'is the python',\n",
       " 'the python is',\n",
       " 'the is python']"
      ]
     },
     "execution_count": 18,
     "metadata": {},
     "output_type": "execute_result"
    }
   ],
   "source": [
    "from itertools import permutations\n",
    "\n",
    "def calculate2(string):\n",
    "    words = string.split()\n",
    "    permutes = permutations(words)\n",
    "    return [' '.join(i) for i in permutes]\n",
    "\n",
    "calculate2('python is the')"
   ]
  },
  {
   "cell_type": "code",
   "execution_count": 19,
   "id": "981d8edd",
   "metadata": {},
   "outputs": [
    {
     "name": "stdout",
     "output_type": "stream",
     "text": [
      "[0, 1, 0, 1, 1, 0]\n",
      "[1, 0, 1]\n"
     ]
    }
   ],
   "source": [
    "def create_mask(list1, list2):\n",
    "    return [1 if list1[i] == list2[i] else 0 for i in range(0, len(list1))]\n",
    "    # or return [1 if i ==j else 0 for i, j in zip(list1, list2)]\n",
    "\n",
    "print(create_mask([4, 5, 7, 2, 8, 10], [3, 5, 4, 2, 8, 12]))\n",
    "print(create_mask([2, 4, 1], [2, 3, 1]))"
   ]
  },
  {
   "cell_type": "code",
   "execution_count": 20,
   "id": "2dd9974c",
   "metadata": {},
   "outputs": [
    {
     "name": "stdout",
     "output_type": "stream",
     "text": [
      "12\n",
      "7\n"
     ]
    }
   ],
   "source": [
    "def distance(list1, list2):\n",
    "    return max([abs(i-j) for i, j in zip(list1, list2)])\n",
    "\n",
    "print(distance([3, 4, 6, 2], [2, 1, 9, 14]))\n",
    "print(distance([3, 4, 6, 0, 1], [2, 1, 9, 7, 4]))"
   ]
  },
  {
   "cell_type": "code",
   "execution_count": 21,
   "id": "ef1e55a1",
   "metadata": {},
   "outputs": [
    {
     "name": "stdout",
     "output_type": "stream",
     "text": [
      "[4, 10, 6, 14]\n",
      "[18, 6, 6, 14, 22, 62, 40]\n"
     ]
    }
   ],
   "source": [
    "def calc(l):\n",
    "    return [i * 2 if i % 2 == 1 else i for i in l]\n",
    "    \n",
    "print(calc([4, 5, 6, 7]))\n",
    "print(calc([9, 6, 3, 7, 11, 31, 40]))"
   ]
  },
  {
   "cell_type": "code",
   "execution_count": 22,
   "id": "b956ae01",
   "metadata": {},
   "outputs": [
    {
     "name": "stdout",
     "output_type": "stream",
     "text": [
      "[('leo', 28), ('mike', 34), ('john', 36), ('bob', 41)]\n"
     ]
    }
   ],
   "source": [
    "def sort_tuple(tuples):\n",
    "    return(sorted(tuples, key = lambda t: t[1]))\n",
    "\n",
    "print(sort_tuple([('mike', 34), ('bob', 41), ('john', 36), ('leo', 28)]))"
   ]
  },
  {
   "cell_type": "code",
   "execution_count": 23,
   "id": "65e21bde",
   "metadata": {},
   "outputs": [
    {
     "name": "stdout",
     "output_type": "stream",
     "text": [
      "[4, 0, 2, 0, 0]\n",
      "[0, 0, 8, 0, 7, 0]\n"
     ]
    }
   ],
   "source": [
    "def replace_neg(nr_list):\n",
    "    return [0 if i < 0 else i for i in nr_list]\n",
    "\n",
    "print(replace_neg([4, -5, 2, 0, -4]))\n",
    "print(replace_neg([-10, -5, 8, -3, 7, -2]))"
   ]
  },
  {
   "cell_type": "code",
   "execution_count": 24,
   "id": "fcfd137f",
   "metadata": {},
   "outputs": [
    {
     "name": "stdout",
     "output_type": "stream",
     "text": [
      "(3, 0)\n",
      "(2, 3)\n"
     ]
    }
   ],
   "source": [
    "def count(l):\n",
    "    positive, negative = 0, 0\n",
    "    for i in l:\n",
    "        if i >= 0:\n",
    "            positive += 1\n",
    "        else:\n",
    "            negative += 1\n",
    "    return positive, negative\n",
    "\n",
    "print(count([4, 5, 6]))\n",
    "print(count([5, 2, -1, -5, -2]))"
   ]
  },
  {
   "cell_type": "code",
   "execution_count": 25,
   "id": "f6ae0f5c",
   "metadata": {},
   "outputs": [
    {
     "name": "stdout",
     "output_type": "stream",
     "text": [
      "975400\n"
     ]
    }
   ],
   "source": [
    "def preprocess(string):\n",
    "    return int(''.join([i for i in string if i.isdigit()]))\n",
    "    \n",
    "print(preprocess('$ 975,400'))"
   ]
  },
  {
   "cell_type": "code",
   "execution_count": 26,
   "id": "cb7dd74b",
   "metadata": {},
   "outputs": [
    {
     "name": "stdout",
     "output_type": "stream",
     "text": [
      "#gym #sport #fit\n"
     ]
    }
   ],
   "source": [
    "def make_hashtags(words):\n",
    "    return '#' + ' #'.join(words)\n",
    "    \n",
    "print(make_hashtags(['gym', 'sport', 'fit']))"
   ]
  },
  {
   "cell_type": "code",
   "execution_count": 27,
   "id": "b44d7e00",
   "metadata": {},
   "outputs": [
    {
     "name": "stdout",
     "output_type": "stream",
     "text": [
      "you need to have two tickets\n"
     ]
    }
   ],
   "source": [
    "def convert(text):\n",
    "    mapping = {\n",
    "        '0': 'zero',\n",
    "        '1': 'one',\n",
    "        '2': 'two',\n",
    "        '3': 'three',\n",
    "        '4': 'four',\n",
    "        '5': 'five',\n",
    "        '6': 'six',\n",
    "        '7': 'seven',\n",
    "        '8': 'eight',\n",
    "        '9': 'nine',\n",
    "        }\n",
    "    words = text.split()\n",
    "    digits = mapping.keys()\n",
    "    for (i, word) in enumerate(words):\n",
    "        if word in digits:\n",
    "            words[i] = mapping[word]\n",
    "    return ' '.join(words)\n",
    "\n",
    "print(convert('you need to have 2 tickets'))"
   ]
  },
  {
   "cell_type": "code",
   "execution_count": 28,
   "id": "6b51c52c",
   "metadata": {},
   "outputs": [
    {
     "data": {
      "text/plain": [
       "'SomeImportantFunction'"
      ]
     },
     "execution_count": 28,
     "metadata": {},
     "output_type": "execute_result"
    }
   ],
   "source": [
    "def snake_to_pascal(string):\n",
    "    words = string.split('_')\n",
    "    return ''.join([i.capitalize() for i in words])\n",
    "# or return string.replace('_', ' ').title().replace(' ', '')\n",
    "\n",
    "snake_to_pascal('some_important_function')"
   ]
  },
  {
   "cell_type": "code",
   "execution_count": 29,
   "id": "7e995b47",
   "metadata": {},
   "outputs": [
    {
     "data": {
      "text/plain": [
       "'someImportantFunction'"
      ]
     },
     "execution_count": 29,
     "metadata": {},
     "output_type": "execute_result"
    }
   ],
   "source": [
    "def snake_to_camel(string):\n",
    "    pascal = string.replace('_',' ').title().replace(' ','')\n",
    "    return string[0].lower() + pascal[1:]\n",
    "\n",
    "snake_to_camel('some_important_function')"
   ]
  },
  {
   "cell_type": "code",
   "execution_count": 30,
   "id": "ca66c0f8",
   "metadata": {},
   "outputs": [
    {
     "data": {
      "text/plain": [
       "['img546.png', 'img243.png']"
      ]
     },
     "execution_count": 30,
     "metadata": {},
     "output_type": "execute_result"
    }
   ],
   "source": [
    "def preprocess(files):\n",
    "    return[i for i in files if i[-3:] == 'png'] # or endswith('png')\n",
    "    \n",
    "preprocess(['img546.png', 'img243.png', 'img247.txt', 'img2456.pdf'])"
   ]
  },
  {
   "cell_type": "code",
   "execution_count": null,
   "id": "f215c8ae",
   "metadata": {},
   "outputs": [],
   "source": []
  }
 ],
 "metadata": {
  "kernelspec": {
   "display_name": "Python 3",
   "language": "python",
   "name": "python3"
  },
  "language_info": {
   "codemirror_mode": {
    "name": "ipython",
    "version": 3
   },
   "file_extension": ".py",
   "mimetype": "text/x-python",
   "name": "python",
   "nbconvert_exporter": "python",
   "pygments_lexer": "ipython3",
   "version": "3.8.8"
  }
 },
 "nbformat": 4,
 "nbformat_minor": 5
}
