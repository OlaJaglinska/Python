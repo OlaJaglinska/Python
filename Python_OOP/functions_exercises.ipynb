{
 "cells": [
  {
   "cell_type": "code",
   "execution_count": 1,
   "id": "2fcedc67",
   "metadata": {},
   "outputs": [
    {
     "name": "stdout",
     "output_type": "stream",
     "text": [
      "3.8.8\n"
     ]
    }
   ],
   "source": [
    "import sys\n",
    "print(sys.version.split()[0])"
   ]
  },
  {
   "cell_type": "code",
   "execution_count": 2,
   "id": "3a9b23ee",
   "metadata": {},
   "outputs": [
    {
     "name": "stdout",
     "output_type": "stream",
     "text": [
      "True\n",
      "False\n",
      "False\n",
      "True\n"
     ]
    }
   ],
   "source": [
    "def is_nested(array):\n",
    "    if len(array) == 0:\n",
    "        return False\n",
    "    return all(isinstance(i, list) for i in array)\n",
    "    \n",
    "print(is_nested([[3, 4]]))\n",
    "print(is_nested([]))\n",
    "print(is_nested([[3, 4], 0, [2, 1]]))\n",
    "print(is_nested([[3, 4], [2, 1]]))"
   ]
  },
  {
   "cell_type": "code",
   "execution_count": 3,
   "id": "f12f601e",
   "metadata": {},
   "outputs": [
    {
     "name": "stdout",
     "output_type": "stream",
     "text": [
      "False\n",
      "True\n"
     ]
    }
   ],
   "source": [
    "def is_all_equal(array):\n",
    "    return all(i == array[0] for i in array) # or return len(set(iterator)) <= 1\n",
    "\n",
    "print(is_all_equal([4, 5, 7]))\n",
    "print(is_all_equal([4, 4, 4]))"
   ]
  },
  {
   "cell_type": "code",
   "execution_count": 4,
   "id": "f56845fb",
   "metadata": {},
   "outputs": [
    {
     "name": "stdout",
     "output_type": "stream",
     "text": [
      "True\n",
      "True\n",
      "False\n"
     ]
    }
   ],
   "source": [
    "def is_nested(array):\n",
    "    if len(array) == 0:\n",
    "        return False\n",
    "    return all(isinstance(row, list) for row in array)\n",
    "\n",
    "def is_all_equal(iterator):\n",
    "    return len(set(iterator)) <= 1\n",
    "    \n",
    "def is_valid_array(array):\n",
    "    if is_nested(array):\n",
    "        return all(len(i) == len(array[0]) for i in array)\n",
    "    \n",
    "# or    if is_all_equal(len(row) for row in array):\n",
    "#              return True\n",
    "#    return False\n",
    "    \n",
    "print(is_valid_array([[3], [4]]))\n",
    "print(is_valid_array([[3, 4], [4, 5]]))\n",
    "print(is_valid_array([[3, 4, 5], [4, 5]]))"
   ]
  },
  {
   "cell_type": "code",
   "execution_count": 5,
   "id": "52093a5c",
   "metadata": {},
   "outputs": [
    {
     "name": "stdout",
     "output_type": "stream",
     "text": [
      "[7, 5, 6, 4]\n",
      "[5, 4]\n"
     ]
    }
   ],
   "source": [
    "def swap_elements(array):\n",
    "    (array[0], array[-1]) = (array[-1], array[0])\n",
    "    return array\n",
    "\n",
    "print(swap_elements([4, 5, 6, 7]))\n",
    "print(swap_elements([4, 5]))"
   ]
  },
  {
   "cell_type": "code",
   "execution_count": 6,
   "id": "22c5e77b",
   "metadata": {},
   "outputs": [
    {
     "name": "stdout",
     "output_type": "stream",
     "text": [
      "[4, 6, 5, 7, 1]\n",
      "['A', 'B', 'E', 'D', 'C']\n"
     ]
    }
   ],
   "source": [
    "def swap_elements2(array, i1, i2):\n",
    "    (array[i1], array[i2]) = (array[i2], array[i1])\n",
    "    return array\n",
    "\n",
    "print(swap_elements2([4, 5, 6, 7, 1], 1, 2))\n",
    "print(swap_elements2(['A', 'B', 'C', 'D', 'E'], 4, 2))"
   ]
  },
  {
   "cell_type": "code",
   "execution_count": 7,
   "id": "50de31c9",
   "metadata": {},
   "outputs": [
    {
     "name": "stdout",
     "output_type": "stream",
     "text": [
      "best the is python\n",
      "language python learn should you\n"
     ]
    }
   ],
   "source": [
    "def reverse_words(string):\n",
    "    return ' '.join(string.split()[::-1])\n",
    "\n",
    "print(reverse_words('python is the best'))\n",
    "print(reverse_words('you should learn python language'))"
   ]
  },
  {
   "cell_type": "code",
   "execution_count": 8,
   "id": "106ffab1",
   "metadata": {},
   "outputs": [
    {
     "name": "stdout",
     "output_type": "stream",
     "text": [
      "([4, 5, 2], [8])\n",
      "([4, 3, 5, 2], [1, 8])\n",
      "([4, 2], [1, 8])\n"
     ]
    }
   ],
   "source": [
    "def remove_common_elements(list1, list2):\n",
    "    for i in list1[:]:\n",
    "        if i in list2:\n",
    "            list1.remove(i)\n",
    "            list2.remove(i)\n",
    "    return (list1, list2)\n",
    "\n",
    "print(remove_common_elements([4, 3, 5, 2], [3, 8]))\n",
    "print(remove_common_elements([4, 3, 5, 2], [1, 8]))\n",
    "print(remove_common_elements([4, 3, 5, 2], [1, 3, 5, 8]))"
   ]
  },
  {
   "cell_type": "code",
   "execution_count": 9,
   "id": "f4b68d2b",
   "metadata": {},
   "outputs": [
    {
     "name": "stdout",
     "output_type": "stream",
     "text": [
      "[3, 6]\n",
      "[0, 4, 5]\n"
     ]
    }
   ],
   "source": [
    "def get_indices(l, element):\n",
    "    return [i for i in range(0, len(l)) if l[i] == element]\n",
    "\n",
    "print(get_indices([4, 3, 5, 2, 3, 0, 2], 2))\n",
    "print(get_indices(['Q', 'DQ', 'DQ', 'DQ', 'Q', 'Q'], 'Q'))"
   ]
  },
  {
   "cell_type": "code",
   "execution_count": 10,
   "id": "ffc547ef",
   "metadata": {},
   "outputs": [
    {
     "name": "stdout",
     "output_type": "stream",
     "text": [
      "[0, 2]\n",
      "[0, 1, 3]\n",
      "[]\n"
     ]
    }
   ],
   "source": [
    "def get_indices_str(l):\n",
    "    return [i for i in range(0, len(l)) if type(l[i]) == str]\n",
    "\n",
    "print(get_indices_str(['Q', 34, 'DQ', True]))\n",
    "print(get_indices_str(['https://www.e-smartdata.org', 'response', 202, 'code']))\n",
    "print(get_indices_str([4, 3, 5, 2]))"
   ]
  },
  {
   "cell_type": "code",
   "execution_count": 11,
   "id": "0ac1a2c4",
   "metadata": {},
   "outputs": [
    {
     "data": {
      "text/plain": [
       "defaultdict(list,\n",
       "            {'user': ['joe', 'tom', 'michael', 'bob', 'lil', 'alice'],\n",
       "             'main_technology': ['python',\n",
       "              'c/cpp',\n",
       "              'cloud',\n",
       "              'php',\n",
       "              'html',\n",
       "              'sql']})"
      ]
     },
     "execution_count": 11,
     "metadata": {},
     "output_type": "execute_result"
    }
   ],
   "source": [
    "from collections import defaultdict\n",
    "\n",
    "def convert(list_of_dicts):\n",
    "    result = defaultdict(list)\n",
    "    for dictionary in list_of_dicts:\n",
    "        for key, value in dictionary.items():\n",
    "            result[key].append(value)\n",
    "    return result\n",
    "\n",
    "'''\n",
    "def convert(data):\n",
    "    result = {}\n",
    "    keys = data[0].keys()\n",
    "    for key in keys:\n",
    "        result[key] = []\n",
    "    for item in data:\n",
    "        for key in keys:\n",
    "            result[key].append(item[key])\n",
    "    return result\n",
    "'''\n",
    "    \n",
    "data = [\n",
    "    {'user': 'joe', 'main_technology': 'python'},\n",
    "    {'user': 'tom', 'main_technology': 'c/cpp'},\n",
    "    {'user': 'michael', 'main_technology': 'cloud'},\n",
    "    {'user': 'bob', 'main_technology': 'php'},\n",
    "    {'user': 'lil', 'main_technology': 'html'},\n",
    "    {'user': 'alice', 'main_technology': 'sql'},\n",
    "]\n",
    "convert(data)"
   ]
  },
  {
   "cell_type": "code",
   "execution_count": null,
   "id": "cb06b135",
   "metadata": {},
   "outputs": [],
   "source": []
  }
 ],
 "metadata": {
  "kernelspec": {
   "display_name": "Python 3",
   "language": "python",
   "name": "python3"
  },
  "language_info": {
   "codemirror_mode": {
    "name": "ipython",
    "version": 3
   },
   "file_extension": ".py",
   "mimetype": "text/x-python",
   "name": "python",
   "nbconvert_exporter": "python",
   "pygments_lexer": "ipython3",
   "version": "3.8.8"
  }
 },
 "nbformat": 4,
 "nbformat_minor": 5
}
