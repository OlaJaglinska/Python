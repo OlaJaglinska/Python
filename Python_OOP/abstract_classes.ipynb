{
 "cells": [
  {
   "cell_type": "markdown",
   "id": "437cb63f",
   "metadata": {},
   "source": [
    "### Abstract classes"
   ]
  },
  {
   "cell_type": "code",
   "execution_count": 1,
   "id": "bb7be560",
   "metadata": {},
   "outputs": [
    {
     "name": "stdout",
     "output_type": "stream",
     "text": [
      "Help on class ABC in module abc:\n",
      "\n",
      "class ABC(builtins.object)\n",
      " |  Helper class that provides a standard way to create an ABC using\n",
      " |  inheritance.\n",
      " |  \n",
      " |  Data and other attributes defined here:\n",
      " |  \n",
      " |  __abstractmethods__ = frozenset()\n",
      "\n"
     ]
    }
   ],
   "source": [
    "import abc\n",
    "\n",
    "\n",
    "help(abc.ABC)"
   ]
  },
  {
   "cell_type": "code",
   "execution_count": 2,
   "id": "da95f40b",
   "metadata": {},
   "outputs": [
    {
     "name": "stdout",
     "output_type": "stream",
     "text": [
      "Help on function abstractmethod in module abc:\n",
      "\n",
      "abstractmethod(funcobj)\n",
      "    A decorator indicating abstract methods.\n",
      "    \n",
      "    Requires that the metaclass is ABCMeta or derived from it.  A\n",
      "    class that has a metaclass derived from ABCMeta cannot be\n",
      "    instantiated unless all of its abstract methods are overridden.\n",
      "    The abstract methods can be called using any of the normal\n",
      "    'super' call mechanisms.  abstractmethod() may be used to declare\n",
      "    abstract methods for properties and descriptors.\n",
      "    \n",
      "    Usage:\n",
      "    \n",
      "        class C(metaclass=ABCMeta):\n",
      "            @abstractmethod\n",
      "            def my_abstract_method(self, ...):\n",
      "                ...\n",
      "\n"
     ]
    }
   ],
   "source": [
    "help(abc.abstractmethod)"
   ]
  },
  {
   "cell_type": "code",
   "execution_count": 3,
   "id": "9463a2b3",
   "metadata": {},
   "outputs": [],
   "source": [
    "from abc import ABC, abstractmethod\n",
    "\n",
    "\n",
    "class Figure(ABC):\n",
    "    \n",
    "    @abstractmethod\n",
    "    def area(self):\n",
    "        pass\n",
    "    \n",
    "    \n",
    "class Square(Figure):\n",
    "    \n",
    "    def __init__(self, a=1):\n",
    "        self.a = a\n",
    "        \n",
    "    def area(self):\n",
    "        return self.a * self.a"
   ]
  },
  {
   "cell_type": "code",
   "execution_count": 4,
   "id": "76c2baba",
   "metadata": {},
   "outputs": [],
   "source": [
    "figures = [Square(), Square(5), Square(10)]"
   ]
  },
  {
   "cell_type": "code",
   "execution_count": 5,
   "id": "525bf949",
   "metadata": {},
   "outputs": [
    {
     "name": "stdout",
     "output_type": "stream",
     "text": [
      "Side length: 1\n",
      "Area: 1\n",
      "\n",
      "Side length: 5\n",
      "Area: 25\n",
      "\n",
      "Side length: 10\n",
      "Area: 100\n",
      "\n"
     ]
    }
   ],
   "source": [
    "for figure in figures:\n",
    "    print(f'Side length: {figure.a}')\n",
    "    print(f'Area: {figure.area()}\\n')"
   ]
  },
  {
   "cell_type": "code",
   "execution_count": 6,
   "id": "c550b874",
   "metadata": {},
   "outputs": [],
   "source": [
    "from abc import ABC, abstractmethod\n",
    "\n",
    "\n",
    "class Figure(ABC):\n",
    "    \n",
    "    @abstractmethod\n",
    "    def area(self):\n",
    "        pass\n",
    "    \n",
    "    @abstractmethod\n",
    "    def perimeter(self):\n",
    "        pass\n",
    "    \n",
    "    \n",
    "class Square(Figure):\n",
    "    \n",
    "    def __init__(self, a=1):\n",
    "        self.a = a\n",
    "        \n",
    "    def area(self):\n",
    "        return self.a * self.a\n",
    "    \n",
    "    def perimeter(self):\n",
    "        return 4 * self.a"
   ]
  },
  {
   "cell_type": "code",
   "execution_count": 7,
   "id": "4a910468",
   "metadata": {},
   "outputs": [],
   "source": [
    "figures = [Square(), Square(5), Square(10)]"
   ]
  },
  {
   "cell_type": "code",
   "execution_count": 8,
   "id": "821bd15a",
   "metadata": {},
   "outputs": [
    {
     "name": "stdout",
     "output_type": "stream",
     "text": [
      "Side length: 1\n",
      "Area: 1\n",
      "Perimeter: 4\n",
      "\n",
      "Side length: 5\n",
      "Area: 25\n",
      "Perimeter: 20\n",
      "\n",
      "Side length: 10\n",
      "Area: 100\n",
      "Perimeter: 40\n",
      "\n"
     ]
    }
   ],
   "source": [
    "for figure in figures:\n",
    "    print(f'Side length: {figure.a}')\n",
    "    print(f'Area: {figure.area()}')\n",
    "    print(f'Perimeter: {figure.perimeter()}\\n')"
   ]
  },
  {
   "cell_type": "code",
   "execution_count": 9,
   "id": "1bb4c0d6",
   "metadata": {},
   "outputs": [],
   "source": [
    "from abc import ABC, abstractmethod\n",
    "import math\n",
    "\n",
    "\n",
    "class Figure(ABC):\n",
    "    \n",
    "    @abstractmethod\n",
    "    def area(self):\n",
    "        pass\n",
    "    \n",
    "    @abstractmethod\n",
    "    def perimeter(self):\n",
    "        pass\n",
    "    \n",
    "    \n",
    "class Square(Figure):\n",
    "    \n",
    "    def __init__(self, a=1):\n",
    "        self.a = a\n",
    "        \n",
    "    def area(self):\n",
    "        return self.a * self.a\n",
    "    \n",
    "    def perimeter(self):\n",
    "        return 4 * self.a\n",
    "    \n",
    "    \n",
    "class Circle(Figure):\n",
    "    \n",
    "    def __init__(self, radius=1):\n",
    "        self.radius = radius\n",
    "        \n",
    "    def area(self):\n",
    "        return math.pi * self.radius ** 2\n",
    "    \n",
    "    def perimeter(self):\n",
    "        return 2 * math.pi * self.radius\n",
    "    \n",
    "    \n",
    "class Triangle(Figure):\n",
    "    \n",
    "    def __init__(self, a, b, c):\n",
    "        self.a = a\n",
    "        self.b = b\n",
    "        self.c = c\n",
    "        \n",
    "    def area(self):\n",
    "        p = self.perimeter() / 2\n",
    "        return math.sqrt(p * (p-self.a) * (p-self.b) * (p-self.c))\n",
    "    \n",
    "    def perimeter(self):\n",
    "        return self.a + self.b + self.c"
   ]
  },
  {
   "cell_type": "code",
   "execution_count": 10,
   "id": "15fa0297",
   "metadata": {},
   "outputs": [
    {
     "name": "stdout",
     "output_type": "stream",
     "text": [
      "Area: 1.00\n",
      "Perimeter: 4.00\n",
      "\n",
      "Area: 25.00\n",
      "Perimeter: 20.00\n",
      "\n",
      "Area: 100.00\n",
      "Perimeter: 40.00\n",
      "\n",
      "Area: 3.14\n",
      "Perimeter: 6.28\n",
      "\n",
      "Area: 78.54\n",
      "Perimeter: 31.42\n",
      "\n",
      "Area: 314.16\n",
      "Perimeter: 62.83\n",
      "\n",
      "Area: 6.00\n",
      "Perimeter: 12.00\n",
      "\n"
     ]
    }
   ],
   "source": [
    "figures = [Square(), Square(5), Square(10), Circle(), Circle(5), Circle(10),Triangle(3, 4, 5)]\n",
    "\n",
    "for figure in figures:\n",
    "    print(f'Area: {figure.area():.2f}')\n",
    "    print(f'Perimeter: {figure.perimeter():.2f}\\n')"
   ]
  },
  {
   "cell_type": "code",
   "execution_count": 11,
   "id": "905ba54e",
   "metadata": {},
   "outputs": [],
   "source": [
    "from abc import ABC, abstractmethod\n",
    "\n",
    "\n",
    "class Vehicle(ABC):\n",
    "    \n",
    "    @abstractmethod\n",
    "    def show_activity(self):\n",
    "        pass\n",
    "    \n",
    "    \n",
    "class Plane(Vehicle):\n",
    "    \n",
    "    def show_activity(self):\n",
    "        print(f'{self.__class__.__name__} --> I can fly.')\n",
    "        \n",
    "        \n",
    "class Car(Vehicle):\n",
    "    \n",
    "    def show_activity(self):\n",
    "        print(f'{self.__class__.__name__} --> I can drive.')"
   ]
  },
  {
   "cell_type": "code",
   "execution_count": 12,
   "id": "a1997b54",
   "metadata": {},
   "outputs": [
    {
     "name": "stdout",
     "output_type": "stream",
     "text": [
      "Plane --> I can fly.\n",
      "Car --> I can drive.\n"
     ]
    }
   ],
   "source": [
    "vehicles = [Plane(), Car()]\n",
    "for vehicle in vehicles:\n",
    "    vehicle.show_activity()"
   ]
  },
  {
   "cell_type": "markdown",
   "id": "d6b364a9",
   "metadata": {},
   "source": [
    "#### Exercise"
   ]
  },
  {
   "cell_type": "code",
   "execution_count": 13,
   "id": "81baa1f4",
   "metadata": {},
   "outputs": [],
   "source": [
    "from abc import ABC, abstractmethod\n",
    "\n",
    "\n",
    "class TaxPayer(ABC):\n",
    "    \n",
    "    def __init__(self, salary):\n",
    "        self.salary = salary\n",
    "        \n",
    "    @abstractmethod\n",
    "    def calculate_tax():\n",
    "        pass\n",
    "    \n",
    "    \n",
    "class StudentTaxPayer(TaxPayer):\n",
    "    \n",
    "    def calculate_tax(self):\n",
    "        return self.salary * 0.15"
   ]
  },
  {
   "cell_type": "code",
   "execution_count": 14,
   "id": "65ba6c3e",
   "metadata": {},
   "outputs": [
    {
     "name": "stdout",
     "output_type": "stream",
     "text": [
      "6000.0\n"
     ]
    }
   ],
   "source": [
    "student = StudentTaxPayer(40000)\n",
    "print(student.calculate_tax())"
   ]
  },
  {
   "cell_type": "code",
   "execution_count": null,
   "id": "93ee86b5",
   "metadata": {},
   "outputs": [],
   "source": []
  }
 ],
 "metadata": {
  "kernelspec": {
   "display_name": "Python 3",
   "language": "python",
   "name": "python3"
  },
  "language_info": {
   "codemirror_mode": {
    "name": "ipython",
    "version": 3
   },
   "file_extension": ".py",
   "mimetype": "text/x-python",
   "name": "python",
   "nbconvert_exporter": "python",
   "pygments_lexer": "ipython3",
   "version": "3.8.8"
  }
 },
 "nbformat": 4,
 "nbformat_minor": 5
}
