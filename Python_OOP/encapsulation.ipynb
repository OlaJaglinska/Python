{
 "cells": [
  {
   "cell_type": "markdown",
   "id": "a395a4d6",
   "metadata": {},
   "source": [
    "## Encapsulation"
   ]
  },
  {
   "cell_type": "code",
   "execution_count": 11,
   "id": "0c0d314f",
   "metadata": {},
   "outputs": [],
   "source": [
    "class Phone:\n",
    "    \n",
    "    def __init__(self, price):\n",
    "        self.set_price(price)\n",
    "        \n",
    "    def get_price(self):\n",
    "        return self._price\n",
    "    \n",
    "    def set_price(self, value):\n",
    "        if isinstance(value, (float, int)):\n",
    "            if value > 0:\n",
    "                self._price = value\n",
    "            else:\n",
    "                raise ValueError('The price attribute must be positive.')\n",
    "        else:\n",
    "            raise TypeError('The price attribute must by an int or float value.')"
   ]
  },
  {
   "cell_type": "code",
   "execution_count": 12,
   "id": "e0b2c978",
   "metadata": {},
   "outputs": [
    {
     "data": {
      "text/plain": [
       "{'_price': 2459}"
      ]
     },
     "execution_count": 12,
     "metadata": {},
     "output_type": "execute_result"
    }
   ],
   "source": [
    "phone = Phone(2459)\n",
    "phone.__dict__"
   ]
  },
  {
   "cell_type": "code",
   "execution_count": 13,
   "id": "782c773a",
   "metadata": {},
   "outputs": [
    {
     "data": {
      "text/plain": [
       "2459"
      ]
     },
     "execution_count": 13,
     "metadata": {},
     "output_type": "execute_result"
    }
   ],
   "source": [
    "phone.get_price()"
   ]
  },
  {
   "cell_type": "code",
   "execution_count": 4,
   "id": "5c238af9",
   "metadata": {},
   "outputs": [],
   "source": [
    "phone.set_price(3000)"
   ]
  },
  {
   "cell_type": "code",
   "execution_count": 5,
   "id": "39eaf90e",
   "metadata": {},
   "outputs": [
    {
     "data": {
      "text/plain": [
       "3000"
      ]
     },
     "execution_count": 5,
     "metadata": {},
     "output_type": "execute_result"
    }
   ],
   "source": [
    "phone.get_price()"
   ]
  },
  {
   "cell_type": "markdown",
   "id": "9596002e",
   "metadata": {},
   "source": [
    "### Property()"
   ]
  },
  {
   "cell_type": "code",
   "execution_count": 59,
   "id": "9b54c055",
   "metadata": {},
   "outputs": [
    {
     "data": {
      "text/plain": [
       "mappingproxy({'__module__': '__main__',\n",
       "              '__doc__': 'Phone class docs.',\n",
       "              '__init__': <function __main__.Phone.__init__(self, price)>,\n",
       "              'get_price': <function __main__.Phone.get_price(self)>,\n",
       "              'set_price': <function __main__.Phone.set_price(self, value)>,\n",
       "              'del_price': <function __main__.Phone.del_price(self)>,\n",
       "              'price': <property at 0x1eba5ba4c70>,\n",
       "              '__dict__': <attribute '__dict__' of 'Phone' objects>,\n",
       "              '__weakref__': <attribute '__weakref__' of 'Phone' objects>})"
      ]
     },
     "execution_count": 59,
     "metadata": {},
     "output_type": "execute_result"
    }
   ],
   "source": [
    "class Phone:\n",
    "    \"\"\"Phone class docs.\"\"\"\n",
    "    \n",
    "    def __init__(self, price):\n",
    "        self._price = price\n",
    "        \n",
    "    def get_price(self):\n",
    "        print('getting...')\n",
    "        return self._price\n",
    "    \n",
    "    def set_price(self, value):\n",
    "        print('setting...')\n",
    "        if isinstance(value, (float, int)):\n",
    "            if value > 0:\n",
    "                self._price = value\n",
    "            else:\n",
    "                raise ValueError('The price attribute must be positive.')\n",
    "        else:\n",
    "            raise TypeError('The price attribute must by an int or float value.')\n",
    "            \n",
    "    def del_price(self):\n",
    "        print('deleting...')\n",
    "        del self._price\n",
    "    \n",
    "    price = property(fget=get_price, fset=set_price, fdel=del_price, doc='Phone price.')\n",
    "    \n",
    "Phone.__dict__"
   ]
  },
  {
   "cell_type": "code",
   "execution_count": 60,
   "id": "144b3b30",
   "metadata": {},
   "outputs": [
    {
     "name": "stdout",
     "output_type": "stream",
     "text": [
      "Help on class Phone in module __main__:\n",
      "\n",
      "class Phone(builtins.object)\n",
      " |  Phone(price)\n",
      " |  \n",
      " |  Phone class docs.\n",
      " |  \n",
      " |  Methods defined here:\n",
      " |  \n",
      " |  __init__(self, price)\n",
      " |      Initialize self.  See help(type(self)) for accurate signature.\n",
      " |  \n",
      " |  del_price(self)\n",
      " |  \n",
      " |  get_price(self)\n",
      " |  \n",
      " |  set_price(self, value)\n",
      " |  \n",
      " |  ----------------------------------------------------------------------\n",
      " |  Data descriptors defined here:\n",
      " |  \n",
      " |  __dict__\n",
      " |      dictionary for instance variables (if defined)\n",
      " |  \n",
      " |  __weakref__\n",
      " |      list of weak references to the object (if defined)\n",
      " |  \n",
      " |  price\n",
      " |      Phone price.\n",
      "\n"
     ]
    }
   ],
   "source": [
    "help(Phone)"
   ]
  },
  {
   "cell_type": "code",
   "execution_count": 45,
   "id": "63f4fa53",
   "metadata": {},
   "outputs": [
    {
     "name": "stdout",
     "output_type": "stream",
     "text": [
      "getting...\n"
     ]
    },
    {
     "data": {
      "text/plain": [
       "1200"
      ]
     },
     "execution_count": 45,
     "metadata": {},
     "output_type": "execute_result"
    }
   ],
   "source": [
    "phone = Phone(1200)\n",
    "phone.get_price()"
   ]
  },
  {
   "cell_type": "code",
   "execution_count": 55,
   "id": "7db60faa",
   "metadata": {},
   "outputs": [
    {
     "name": "stdout",
     "output_type": "stream",
     "text": [
      "getting...\n"
     ]
    },
    {
     "data": {
      "text/plain": [
       "1000"
      ]
     },
     "execution_count": 55,
     "metadata": {},
     "output_type": "execute_result"
    }
   ],
   "source": [
    "phone.price"
   ]
  },
  {
   "cell_type": "code",
   "execution_count": 56,
   "id": "b1745165",
   "metadata": {},
   "outputs": [
    {
     "name": "stdout",
     "output_type": "stream",
     "text": [
      "setting...\n",
      "getting...\n"
     ]
    },
    {
     "data": {
      "text/plain": [
       "2000"
      ]
     },
     "execution_count": 56,
     "metadata": {},
     "output_type": "execute_result"
    }
   ],
   "source": [
    "phone.price = 2000\n",
    "phone.price"
   ]
  },
  {
   "cell_type": "code",
   "execution_count": 57,
   "id": "5ea904dd",
   "metadata": {},
   "outputs": [
    {
     "name": "stdout",
     "output_type": "stream",
     "text": [
      "deleting...\n"
     ]
    },
    {
     "data": {
      "text/plain": [
       "{}"
      ]
     },
     "execution_count": 57,
     "metadata": {},
     "output_type": "execute_result"
    }
   ],
   "source": [
    "del phone.price\n",
    "phone.__dict__"
   ]
  },
  {
   "cell_type": "code",
   "execution_count": 58,
   "id": "0f3ffbb5",
   "metadata": {},
   "outputs": [
    {
     "name": "stdout",
     "output_type": "stream",
     "text": [
      "setting...\n"
     ]
    },
    {
     "data": {
      "text/plain": [
       "{'_price': 1000}"
      ]
     },
     "execution_count": 58,
     "metadata": {},
     "output_type": "execute_result"
    }
   ],
   "source": [
    "phone.price = 1000\n",
    "phone.__dict__"
   ]
  },
  {
   "cell_type": "markdown",
   "id": "45823ffe",
   "metadata": {},
   "source": [
    "### Decorators"
   ]
  },
  {
   "cell_type": "code",
   "execution_count": 61,
   "id": "813cc6d5",
   "metadata": {},
   "outputs": [
    {
     "name": "stdout",
     "output_type": "stream",
     "text": [
      "Python 3.8\n"
     ]
    }
   ],
   "source": [
    "def hello():\n",
    "    print('Python 3.8')\n",
    "    \n",
    "hello()"
   ]
  },
  {
   "cell_type": "code",
   "execution_count": 63,
   "id": "652a65dc",
   "metadata": {},
   "outputs": [
    {
     "name": "stdout",
     "output_type": "stream",
     "text": [
      "==============================\n",
      "Python 3.8\n",
      "==============================\n"
     ]
    }
   ],
   "source": [
    "def pretty_print(func):\n",
    "    def wrapper():\n",
    "        print('=' * 30)\n",
    "        func()\n",
    "        print('=' * 30)\n",
    "    return wrapper\n",
    "\n",
    "pretty_print(hello)()"
   ]
  },
  {
   "cell_type": "code",
   "execution_count": 65,
   "id": "4e6531f8",
   "metadata": {},
   "outputs": [
    {
     "name": "stdout",
     "output_type": "stream",
     "text": [
      "==============================\n",
      "Python 3.8\n",
      "==============================\n"
     ]
    }
   ],
   "source": [
    "@pretty_print\n",
    "def hello():\n",
    "    print('Python 3.8')\n",
    "    \n",
    "hello()"
   ]
  },
  {
   "cell_type": "code",
   "execution_count": 83,
   "id": "8de819cb",
   "metadata": {
    "scrolled": true
   },
   "outputs": [
    {
     "data": {
      "text/plain": [
       "1695212736.016694"
      ]
     },
     "execution_count": 83,
     "metadata": {},
     "output_type": "execute_result"
    }
   ],
   "source": [
    "import time\n",
    "\n",
    "time.time()"
   ]
  },
  {
   "cell_type": "code",
   "execution_count": 84,
   "id": "9161880f",
   "metadata": {},
   "outputs": [],
   "source": [
    "time.sleep(2)"
   ]
  },
  {
   "cell_type": "code",
   "execution_count": 90,
   "id": "16e4d977",
   "metadata": {},
   "outputs": [],
   "source": [
    "def timer(func):\n",
    "    def wrapper(sec):\n",
    "        start = time.time()\n",
    "        func(sec)\n",
    "        stop = time.time()\n",
    "        print(f'Execution time: {stop - start:.4f}')\n",
    "    return wrapper\n",
    "\n",
    "@timer\n",
    "def fake_sleep(sec):\n",
    "    print(f'Executing: {fake_sleep.__name__}...')\n",
    "    time.sleep(sec)"
   ]
  },
  {
   "cell_type": "code",
   "execution_count": 92,
   "id": "d8d2934c",
   "metadata": {},
   "outputs": [
    {
     "name": "stdout",
     "output_type": "stream",
     "text": [
      "Executing: wrapper...\n",
      "Execution time: 3.0069\n"
     ]
    }
   ],
   "source": [
    "fake_sleep(3)"
   ]
  },
  {
   "cell_type": "markdown",
   "id": "dd470331",
   "metadata": {},
   "source": [
    "#### Decorator @property"
   ]
  },
  {
   "cell_type": "code",
   "execution_count": 125,
   "id": "f7e7e4da",
   "metadata": {},
   "outputs": [],
   "source": [
    "class Phone:\n",
    "    \n",
    "    def __init__(self, price):\n",
    "        self.price = price\n",
    "    \n",
    "    @property\n",
    "    def price(self):\n",
    "        print('getting...')\n",
    "        return self._price\n",
    "    \n",
    "    @price.setter\n",
    "    def price(self, value):\n",
    "        print('setting...')\n",
    "        if isinstance(value, (float, int)):\n",
    "            if value > 0:\n",
    "                self._price = value\n",
    "            else:\n",
    "                raise ValueError('The price attribute must be positive.')\n",
    "        else:\n",
    "            raise TypeError('The price attribute must by an int or float value.')\n",
    "    \n",
    "    @price.deleter\n",
    "    def price(self):\n",
    "        print('deleting...')\n",
    "        del self._price\n",
    "    "
   ]
  },
  {
   "cell_type": "code",
   "execution_count": 126,
   "id": "0a311bda",
   "metadata": {},
   "outputs": [
    {
     "data": {
      "text/plain": [
       "mappingproxy({'__module__': '__main__',\n",
       "              '__init__': <function __main__.Phone.__init__(self, price)>,\n",
       "              'price': <property at 0x1eba5c9d9a0>,\n",
       "              '__dict__': <attribute '__dict__' of 'Phone' objects>,\n",
       "              '__weakref__': <attribute '__weakref__' of 'Phone' objects>,\n",
       "              '__doc__': None})"
      ]
     },
     "execution_count": 126,
     "metadata": {},
     "output_type": "execute_result"
    }
   ],
   "source": [
    "Phone.__dict__"
   ]
  },
  {
   "cell_type": "code",
   "execution_count": 127,
   "id": "c1c212ba",
   "metadata": {},
   "outputs": [
    {
     "name": "stdout",
     "output_type": "stream",
     "text": [
      "setting...\n"
     ]
    },
    {
     "data": {
      "text/plain": [
       "{'_price': 2000}"
      ]
     },
     "execution_count": 127,
     "metadata": {},
     "output_type": "execute_result"
    }
   ],
   "source": [
    "phone = Phone(2000)\n",
    "phone.__dict__"
   ]
  },
  {
   "cell_type": "code",
   "execution_count": 118,
   "id": "e26dd871",
   "metadata": {},
   "outputs": [
    {
     "name": "stdout",
     "output_type": "stream",
     "text": [
      "getting...\n"
     ]
    },
    {
     "data": {
      "text/plain": [
       "2000"
      ]
     },
     "execution_count": 118,
     "metadata": {},
     "output_type": "execute_result"
    }
   ],
   "source": [
    "phone.price"
   ]
  },
  {
   "cell_type": "code",
   "execution_count": 123,
   "id": "357d76fe",
   "metadata": {},
   "outputs": [
    {
     "name": "stdout",
     "output_type": "stream",
     "text": [
      "setting...\n",
      "getting...\n"
     ]
    },
    {
     "data": {
      "text/plain": [
       "3000"
      ]
     },
     "execution_count": 123,
     "metadata": {},
     "output_type": "execute_result"
    }
   ],
   "source": [
    "phone.price = 3000\n",
    "phone.price"
   ]
  },
  {
   "cell_type": "code",
   "execution_count": 124,
   "id": "656bced3",
   "metadata": {},
   "outputs": [
    {
     "name": "stdout",
     "output_type": "stream",
     "text": [
      "deleting...\n"
     ]
    }
   ],
   "source": [
    "del phone.price"
   ]
  },
  {
   "cell_type": "code",
   "execution_count": 129,
   "id": "ca8f34f5",
   "metadata": {},
   "outputs": [],
   "source": [
    "class Game:\n",
    "    \n",
    "    def __init__(self, level=0):\n",
    "        self.level = level\n",
    "        \n",
    "    @property    \n",
    "    def level(self):\n",
    "        return self._level\n",
    "    \n",
    "    @level.setter\n",
    "    def level(self,value):\n",
    "        if value < 0:\n",
    "            self._level = 0\n",
    "        elif value > 100:\n",
    "            self._level = 100\n",
    "        else:\n",
    "            self._level = value"
   ]
  },
  {
   "cell_type": "code",
   "execution_count": 131,
   "id": "cade71fc",
   "metadata": {},
   "outputs": [
    {
     "data": {
      "text/plain": [
       "[<__main__.Game at 0x1eba5c57dc0>,\n",
       " <__main__.Game at 0x1eba5c572b0>,\n",
       " <__main__.Game at 0x1eba5c57460>,\n",
       " <__main__.Game at 0x1eba5c57c10>]"
      ]
     },
     "execution_count": 131,
     "metadata": {},
     "output_type": "execute_result"
    }
   ],
   "source": [
    "games = [Game(), Game(10), Game(-3), Game(103)]\n",
    "games"
   ]
  },
  {
   "cell_type": "code",
   "execution_count": 133,
   "id": "16ad767a",
   "metadata": {},
   "outputs": [
    {
     "data": {
      "text/plain": [
       "[0, 10, 0, 100]"
      ]
     },
     "execution_count": 133,
     "metadata": {},
     "output_type": "execute_result"
    }
   ],
   "source": [
    "[game.level for game in games]"
   ]
  },
  {
   "cell_type": "code",
   "execution_count": null,
   "id": "d37e4787",
   "metadata": {},
   "outputs": [],
   "source": []
  },
  {
   "cell_type": "code",
   "execution_count": 166,
   "id": "7e8ad412",
   "metadata": {},
   "outputs": [],
   "source": [
    "class Pet:\n",
    "    \n",
    "    def __init__(self, name):\n",
    "        self._name = name\n",
    "        \n",
    "    @property\n",
    "    def name(self):\n",
    "        return self._name\n",
    "    \n",
    "    @name.setter\n",
    "    def name(self, value):\n",
    "        self._name = value"
   ]
  },
  {
   "cell_type": "code",
   "execution_count": 167,
   "id": "00557d17",
   "metadata": {},
   "outputs": [],
   "source": [
    "pet = Pet('Max')"
   ]
  },
  {
   "cell_type": "code",
   "execution_count": 168,
   "id": "c19faa54",
   "metadata": {},
   "outputs": [],
   "source": [
    "pet.name = 'Oscar'"
   ]
  },
  {
   "cell_type": "code",
   "execution_count": 169,
   "id": "1ee7538e",
   "metadata": {},
   "outputs": [
    {
     "data": {
      "text/plain": [
       "{'_name': 'Oscar'}"
      ]
     },
     "execution_count": 169,
     "metadata": {},
     "output_type": "execute_result"
    }
   ],
   "source": [
    "pet.__dict__"
   ]
  },
  {
   "cell_type": "code",
   "execution_count": null,
   "id": "09ae93d5",
   "metadata": {},
   "outputs": [],
   "source": []
  }
 ],
 "metadata": {
  "kernelspec": {
   "display_name": "Python 3",
   "language": "python",
   "name": "python3"
  },
  "language_info": {
   "codemirror_mode": {
    "name": "ipython",
    "version": 3
   },
   "file_extension": ".py",
   "mimetype": "text/x-python",
   "name": "python",
   "nbconvert_exporter": "python",
   "pygments_lexer": "ipython3",
   "version": "3.8.8"
  }
 },
 "nbformat": 4,
 "nbformat_minor": 5
}
