{
 "cells": [
  {
   "cell_type": "markdown",
   "id": "297057ca",
   "metadata": {},
   "source": [
    "### OOP - exercises"
   ]
  },
  {
   "cell_type": "code",
   "execution_count": 1,
   "id": "3b8cefa4",
   "metadata": {},
   "outputs": [],
   "source": [
    "import sys"
   ]
  },
  {
   "cell_type": "code",
   "execution_count": 2,
   "id": "4500472d",
   "metadata": {},
   "outputs": [
    {
     "name": "stdout",
     "output_type": "stream",
     "text": [
      "Help on built-in module sys:\n",
      "\n",
      "NAME\n",
      "    sys\n",
      "\n",
      "MODULE REFERENCE\n",
      "    https://docs.python.org/3.8/library/sys\n",
      "    \n",
      "    The following documentation is automatically generated from the Python\n",
      "    source files.  It may be incomplete, incorrect or include features that\n",
      "    are considered implementation detail and may vary between Python\n",
      "    implementations.  When in doubt, consult the module reference at the\n",
      "    location listed above.\n",
      "\n",
      "DESCRIPTION\n",
      "    This module provides access to some objects used or maintained by the\n",
      "    interpreter and to functions that interact strongly with the interpreter.\n",
      "    \n",
      "    Dynamic objects:\n",
      "    \n",
      "    argv -- command line arguments; argv[0] is the script pathname if known\n",
      "    path -- module search path; path[0] is the script directory, else ''\n",
      "    modules -- dictionary of loaded modules\n",
      "    \n",
      "    displayhook -- called to show results in an interactive session\n",
      "    excepthook -- called to handle any uncaught exception other than SystemExit\n",
      "      To customize printing in an interactive session or to install a custom\n",
      "      top-level exception handler, assign other functions to replace these.\n",
      "    \n",
      "    stdin -- standard input file object; used by input()\n",
      "    stdout -- standard output file object; used by print()\n",
      "    stderr -- standard error object; used for error messages\n",
      "      By assigning other file objects (or objects that behave like files)\n",
      "      to these, it is possible to redirect all of the interpreter's I/O.\n",
      "    \n",
      "    last_type -- type of last uncaught exception\n",
      "    last_value -- value of last uncaught exception\n",
      "    last_traceback -- traceback of last uncaught exception\n",
      "      These three are only available in an interactive session after a\n",
      "      traceback has been printed.\n",
      "    \n",
      "    Static objects:\n",
      "    \n",
      "    builtin_module_names -- tuple of module names built into this interpreter\n",
      "    copyright -- copyright notice pertaining to this interpreter\n",
      "    exec_prefix -- prefix used to find the machine-specific Python library\n",
      "    executable -- absolute path of the executable binary of the Python interpreter\n",
      "    float_info -- a named tuple with information about the float implementation.\n",
      "    float_repr_style -- string indicating the style of repr() output for floats\n",
      "    hash_info -- a named tuple with information about the hash algorithm.\n",
      "    hexversion -- version information encoded as a single integer\n",
      "    implementation -- Python implementation information.\n",
      "    int_info -- a named tuple with information about the int implementation.\n",
      "    maxsize -- the largest supported length of containers.\n",
      "    maxunicode -- the value of the largest Unicode code point\n",
      "    platform -- platform identifier\n",
      "    prefix -- prefix used to find the Python library\n",
      "    thread_info -- a named tuple with information about the thread implementation.\n",
      "    version -- the version of this interpreter as a string\n",
      "    version_info -- version information as a named tuple\n",
      "    dllhandle -- [Windows only] integer handle of the Python DLL\n",
      "    winver -- [Windows only] version number of the Python DLL\n",
      "    _enablelegacywindowsfsencoding -- [Windows only]\n",
      "    __stdin__ -- the original stdin; don't touch!\n",
      "    __stdout__ -- the original stdout; don't touch!\n",
      "    __stderr__ -- the original stderr; don't touch!\n",
      "    __displayhook__ -- the original displayhook; don't touch!\n",
      "    __excepthook__ -- the original excepthook; don't touch!\n",
      "    \n",
      "    Functions:\n",
      "    \n",
      "    displayhook() -- print an object to the screen, and save it in builtins._\n",
      "    excepthook() -- print an exception and its traceback to sys.stderr\n",
      "    exc_info() -- return thread-safe information about the current exception\n",
      "    exit() -- exit the interpreter by raising SystemExit\n",
      "    getdlopenflags() -- returns flags to be used for dlopen() calls\n",
      "    getprofile() -- get the global profiling function\n",
      "    getrefcount() -- return the reference count for an object (plus one :-)\n",
      "    getrecursionlimit() -- return the max recursion depth for the interpreter\n",
      "    getsizeof() -- return the size of an object in bytes\n",
      "    gettrace() -- get the global debug tracing function\n",
      "    setcheckinterval() -- control how often the interpreter checks for events\n",
      "    setdlopenflags() -- set the flags to be used for dlopen() calls\n",
      "    setprofile() -- set the global profiling function\n",
      "    setrecursionlimit() -- set the max recursion depth for the interpreter\n",
      "    settrace() -- set the global debug tracing function\n",
      "\n",
      "FUNCTIONS\n",
      "    __breakpointhook__ = breakpointhook(...)\n",
      "        breakpointhook(*args, **kws)\n",
      "        \n",
      "        This hook function is called by built-in breakpoint().\n",
      "    \n",
      "    __displayhook__ = displayhook(object, /)\n",
      "        Print an object to sys.stdout and also save it in builtins._\n",
      "    \n",
      "    __excepthook__ = excepthook(exctype, value, traceback, /)\n",
      "        Handle an exception by displaying it with a traceback on sys.stderr.\n",
      "    \n",
      "    __unraisablehook__ = unraisablehook(unraisable, /)\n",
      "        Handle an unraisable exception.\n",
      "        \n",
      "        The unraisable argument has the following attributes:\n",
      "        \n",
      "        * exc_type: Exception type.\n",
      "        * exc_value: Exception value, can be None.\n",
      "        * exc_traceback: Exception traceback, can be None.\n",
      "        * err_msg: Error message, can be None.\n",
      "        * object: Object causing the exception, can be None.\n",
      "    \n",
      "    addaudithook(hook)\n",
      "        Adds a new audit hook callback.\n",
      "    \n",
      "    audit(...)\n",
      "        audit(event, *args)\n",
      "        \n",
      "        Passes the event to any audit hooks that are attached.\n",
      "    \n",
      "    breakpointhook(...)\n",
      "        breakpointhook(*args, **kws)\n",
      "        \n",
      "        This hook function is called by built-in breakpoint().\n",
      "    \n",
      "    call_tracing(func, args, /)\n",
      "        Call func(*args), while tracing is enabled.\n",
      "        \n",
      "        The tracing state is saved, and restored afterwards.  This is intended\n",
      "        to be called from a debugger from a checkpoint, to recursively debug\n",
      "        some other code.\n",
      "    \n",
      "    callstats()\n",
      "        Return a tuple of function call statistics.\n",
      "        \n",
      "        A tuple is returned only if CALL_PROFILE was defined when Python was\n",
      "        built.  Otherwise, this returns None.\n",
      "        \n",
      "        When enabled, this function returns detailed, implementation-specific\n",
      "        details about the number of function calls executed. The return value\n",
      "        is a 11-tuple where the entries in the tuple are counts of:\n",
      "        0. all function calls\n",
      "        1. calls to PyFunction_Type objects\n",
      "        2. PyFunction calls that do not create an argument tuple\n",
      "        3. PyFunction calls that do not create an argument tuple\n",
      "           and bypass PyEval_EvalCodeEx()\n",
      "        4. PyMethod calls\n",
      "        5. PyMethod calls on bound methods\n",
      "        6. PyType calls\n",
      "        7. PyCFunction calls\n",
      "        8. generator calls\n",
      "        9. All other calls\n",
      "        10. Number of stack pops performed by call_function()\n",
      "    \n",
      "    exc_info()\n",
      "        Return current exception information: (type, value, traceback).\n",
      "        \n",
      "        Return information about the most recent exception caught by an except\n",
      "        clause in the current stack frame or in an older stack frame.\n",
      "    \n",
      "    exit(status=None, /)\n",
      "        Exit the interpreter by raising SystemExit(status).\n",
      "        \n",
      "        If the status is omitted or None, it defaults to zero (i.e., success).\n",
      "        If the status is an integer, it will be used as the system exit status.\n",
      "        If it is another kind of object, it will be printed and the system\n",
      "        exit status will be one (i.e., failure).\n",
      "    \n",
      "    get_asyncgen_hooks()\n",
      "        Return the installed asynchronous generators hooks.\n",
      "        \n",
      "        This returns a namedtuple of the form (firstiter, finalizer).\n",
      "    \n",
      "    get_coroutine_origin_tracking_depth()\n",
      "        Check status of origin tracking for coroutine objects in this thread.\n",
      "    \n",
      "    getallocatedblocks()\n",
      "        Return the number of memory blocks currently allocated.\n",
      "    \n",
      "    getcheckinterval()\n",
      "        Return the current check interval; see sys.setcheckinterval().\n",
      "    \n",
      "    getdefaultencoding()\n",
      "        Return the current default encoding used by the Unicode implementation.\n",
      "    \n",
      "    getfilesystemencodeerrors()\n",
      "        Return the error mode used Unicode to OS filename conversion.\n",
      "    \n",
      "    getfilesystemencoding()\n",
      "        Return the encoding used to convert Unicode filenames to OS filenames.\n",
      "    \n",
      "    getprofile()\n",
      "        Return the profiling function set with sys.setprofile.\n",
      "        \n",
      "        See the profiler chapter in the library manual.\n",
      "    \n",
      "    getrecursionlimit()\n",
      "        Return the current value of the recursion limit.\n",
      "        \n",
      "        The recursion limit is the maximum depth of the Python interpreter\n",
      "        stack.  This limit prevents infinite recursion from causing an overflow\n",
      "        of the C stack and crashing Python.\n",
      "    \n",
      "    getrefcount(object, /)\n",
      "        Return the reference count of object.\n",
      "        \n",
      "        The count returned is generally one higher than you might expect,\n",
      "        because it includes the (temporary) reference as an argument to\n",
      "        getrefcount().\n",
      "    \n",
      "    getsizeof(...)\n",
      "        getsizeof(object [, default]) -> int\n",
      "        \n",
      "        Return the size of object in bytes.\n",
      "    \n",
      "    getswitchinterval()\n",
      "        Return the current thread switch interval; see sys.setswitchinterval().\n",
      "    \n",
      "    gettrace()\n",
      "        Return the global debug tracing function set with sys.settrace.\n",
      "        \n",
      "        See the debugger chapter in the library manual.\n",
      "    \n",
      "    getwindowsversion()\n",
      "        Return info about the running version of Windows as a named tuple.\n",
      "        \n",
      "        The members are named: major, minor, build, platform, service_pack,\n",
      "        service_pack_major, service_pack_minor, suite_mask, product_type and\n",
      "        platform_version. For backward compatibility, only the first 5 items\n",
      "        are available by indexing. All elements are numbers, except\n",
      "        service_pack and platform_type which are strings, and platform_version\n",
      "        which is a 3-tuple. Platform is always 2. Product_type may be 1 for a\n",
      "        workstation, 2 for a domain controller, 3 for a server.\n",
      "        Platform_version is a 3-tuple containing a version number that is\n",
      "        intended for identifying the OS rather than feature detection.\n",
      "    \n",
      "    intern(string, /)\n",
      "        ``Intern'' the given string.\n",
      "        \n",
      "        This enters the string in the (global) table of interned strings whose\n",
      "        purpose is to speed up dictionary lookups. Return the string itself or\n",
      "        the previously interned string object with the same value.\n",
      "    \n",
      "    is_finalizing()\n",
      "        Return True if Python is exiting.\n",
      "    \n",
      "    set_asyncgen_hooks(...)\n",
      "        set_asyncgen_hooks(* [, firstiter] [, finalizer])\n",
      "        \n",
      "        Set a finalizer for async generators objects.\n",
      "    \n",
      "    set_coroutine_origin_tracking_depth(depth)\n",
      "        Enable or disable origin tracking for coroutine objects in this thread.\n",
      "        \n",
      "        Coroutine objects will track 'depth' frames of traceback information\n",
      "        about where they came from, available in their cr_origin attribute.\n",
      "        \n",
      "        Set a depth of 0 to disable.\n",
      "    \n",
      "    setcheckinterval(n, /)\n",
      "        Set the async event check interval to n instructions.\n",
      "        \n",
      "        This tells the Python interpreter to check for asynchronous events\n",
      "        every n instructions.\n",
      "        \n",
      "        This also affects how often thread switches occur.\n",
      "    \n",
      "    setprofile(...)\n",
      "        setprofile(function)\n",
      "        \n",
      "        Set the profiling function.  It will be called on each function call\n",
      "        and return.  See the profiler chapter in the library manual.\n",
      "    \n",
      "    setrecursionlimit(limit, /)\n",
      "        Set the maximum depth of the Python interpreter stack to n.\n",
      "        \n",
      "        This limit prevents infinite recursion from causing an overflow of the C\n",
      "        stack and crashing Python.  The highest possible limit is platform-\n",
      "        dependent.\n",
      "    \n",
      "    setswitchinterval(interval, /)\n",
      "        Set the ideal thread switching delay inside the Python interpreter.\n",
      "        \n",
      "        The actual frequency of switching threads can be lower if the\n",
      "        interpreter executes long sequences of uninterruptible code\n",
      "        (this is implementation-specific and workload-dependent).\n",
      "        \n",
      "        The parameter must represent the desired switching delay in seconds\n",
      "        A typical value is 0.005 (5 milliseconds).\n",
      "    \n",
      "    settrace(...)\n",
      "        settrace(function)\n",
      "        \n",
      "        Set the global debug tracing function.  It will be called on each\n",
      "        function call.  See the debugger chapter in the library manual.\n",
      "    \n",
      "    unraisablehook(unraisable, /)\n",
      "        Handle an unraisable exception.\n",
      "        \n",
      "        The unraisable argument has the following attributes:\n",
      "        \n",
      "        * exc_type: Exception type.\n",
      "        * exc_value: Exception value, can be None.\n",
      "        * exc_traceback: Exception traceback, can be None.\n",
      "        * err_msg: Error message, can be None.\n",
      "        * object: Object causing the exception, can be None.\n",
      "\n",
      "DATA\n",
      "    __stderr__ = <_io.TextIOWrapper name='<stderr>' mode='w' encoding='cp1...\n",
      "    __stdin__ = <_io.TextIOWrapper name='<stdin>' mode='r' encoding='cp125...\n",
      "    __stdout__ = <_io.TextIOWrapper name='<stdout>' mode='w' encoding='cp1...\n",
      "    api_version = 1013\n",
      "    argv = [r'C:\\Users\\olaja\\anaconda\\lib\\site-packages\\ipykernel_launcher...\n",
      "    base_exec_prefix = r'C:\\Users\\olaja\\anaconda'\n",
      "    base_prefix = r'C:\\Users\\olaja\\anaconda'\n",
      "    builtin_module_names = ('_abc', '_ast', '_bisect', '_blake2', '_codecs...\n",
      "    byteorder = 'little'\n",
      "    copyright = 'Copyright (c) 2001-2021 Python Software Foundati...ematis...\n",
      "    displayhook = <ipykernel.displayhook.ZMQShellDisplayHook object>\n",
      "    dllhandle = 140734482350080\n",
      "    dont_write_bytecode = False\n",
      "    exec_prefix = r'C:\\Users\\olaja\\anaconda'\n",
      "    executable = r'C:\\Users\\olaja\\anaconda\\python.exe'\n",
      "    flags = sys.flags(debug=0, inspect=0, interactive=0, opt...ation=1, is...\n",
      "    float_info = sys.float_info(max=1.7976931348623157e+308, max_...epsilo...\n",
      "    float_repr_style = 'short'\n",
      "    hash_info = sys.hash_info(width=64, modulus=2305843009213693...iphash2...\n",
      "    hexversion = 50858224\n",
      "    implementation = namespace(cache_tag='cpython-38', hexversion=508...in...\n",
      "    int_info = sys.int_info(bits_per_digit=30, sizeof_digit=4)\n",
      "    maxsize = 9223372036854775807\n",
      "    maxunicode = 1114111\n",
      "    meta_path = [<class '_frozen_importlib.BuiltinImporter'>, <class '_fro...\n",
      "    modules = {'IPython': <module 'IPython' from 'C:\\\\Users\\\\olaja\\\\anacon...\n",
      "    path = [r'C:\\Users\\olaja\\Desktop\\Github\\Python\\Python_OOP', r'C:\\Users...\n",
      "    path_hooks = [<class 'zipimport.zipimporter'>, <function FileFinder.pa...\n",
      "    path_importer_cache = {r'C:\\Users\\olaja\\.ipython': FileFinder('C:\\\\Use...\n",
      "    platform = 'win32'\n",
      "    prefix = r'C:\\Users\\olaja\\anaconda'\n",
      "    ps1 = 'In : '\n",
      "    ps2 = '...: '\n",
      "    ps3 = 'Out: '\n",
      "    pycache_prefix = None\n",
      "    stderr = <ipykernel.iostream.OutStream object>\n",
      "    stdin = <_io.TextIOWrapper name='<stdin>' mode='r' encoding='cp1252'>\n",
      "    stdout = <ipykernel.iostream.OutStream object>\n",
      "    thread_info = sys.thread_info(name='nt', lock=None, version=None)\n",
      "    version = '3.8.8 (default, Apr 13 2021, 15:08:03) [MSC v.1916 64 bit (...\n",
      "    version_info = sys.version_info(major=3, minor=8, micro=8, releaseleve...\n",
      "    warnoptions = []\n",
      "    winver = '3.8'\n",
      "\n",
      "FILE\n",
      "    (built-in)\n",
      "\n",
      "\n"
     ]
    }
   ],
   "source": [
    "help(sys)"
   ]
  },
  {
   "cell_type": "code",
   "execution_count": 3,
   "id": "9aecc152",
   "metadata": {},
   "outputs": [
    {
     "name": "stdout",
     "output_type": "stream",
     "text": [
      "3.8.8\n"
     ]
    }
   ],
   "source": [
    "print(sys.version.split()[0])"
   ]
  },
  {
   "cell_type": "markdown",
   "id": "388421e5",
   "metadata": {},
   "source": [
    "#### Namespaces and scopes"
   ]
  },
  {
   "cell_type": "code",
   "execution_count": 4,
   "id": "859608a6",
   "metadata": {},
   "outputs": [
    {
     "name": "stdout",
     "output_type": "stream",
     "text": [
      "MAXYEAR\n",
      "MINYEAR\n",
      "__builtins__\n",
      "__cached__\n",
      "__doc__\n",
      "__file__\n",
      "__loader__\n",
      "__name__\n",
      "__package__\n",
      "__spec__\n",
      "date\n",
      "datetime\n",
      "datetime_CAPI\n",
      "sys\n",
      "time\n",
      "timedelta\n",
      "timezone\n",
      "tzinfo\n"
     ]
    }
   ],
   "source": [
    "import datetime\n",
    "\n",
    "for name in sorted(datetime.__dict__):\n",
    "    print(name)"
   ]
  },
  {
   "cell_type": "code",
   "execution_count": 5,
   "id": "c6bb3304",
   "metadata": {},
   "outputs": [
    {
     "name": "stdout",
     "output_type": "stream",
     "text": [
      "__module__\n",
      "__init__\n",
      "__repr__\n",
      "get_id\n",
      "__dict__\n",
      "__weakref__\n",
      "__doc__\n"
     ]
    }
   ],
   "source": [
    "import uuid\n",
    "\n",
    "\n",
    "class Product:\n",
    "    def __init__(self, product_name, price):\n",
    "        self.product_id = self.get_id()\n",
    "        self.product_name = product_name\n",
    "        self.price = price\n",
    "\n",
    "    def __repr__(self):\n",
    "        return f\"Product(product_name='{self.product_name}', price={self.price})\"\n",
    "\n",
    "    @staticmethod\n",
    "    def get_id():\n",
    "        return str(uuid.uuid4().fields[-1])[:6]\n",
    "    \n",
    "    \n",
    "for name in Product.__dict__:\n",
    "    print(name)"
   ]
  },
  {
   "cell_type": "code",
   "execution_count": 6,
   "id": "913b37b1",
   "metadata": {},
   "outputs": [
    {
     "name": "stdout",
     "output_type": "stream",
     "text": [
      "{'product_name': 'Mobile Phone', 'product_id': '54274', 'price': 2900}\n"
     ]
    }
   ],
   "source": [
    "class Product:\n",
    "    def __init__(self, product_name, product_id, price):\n",
    "        self.product_name = product_name\n",
    "        self.product_id = product_id\n",
    "        self.price = price\n",
    "\n",
    "    def __repr__(self):\n",
    "        return (\n",
    "            f\"Product(product_name='{self.product_name}', \"\n",
    "            f\"price={self.price})\"\n",
    "        )\n",
    "\n",
    "\n",
    "product = Product('Mobile Phone', '54274', 2900)\n",
    "print(product.__dict__)"
   ]
  },
  {
   "cell_type": "markdown",
   "id": "700a2949",
   "metadata": {},
   "source": [
    "#### LEGB rule"
   ]
  },
  {
   "cell_type": "code",
   "execution_count": 7,
   "id": "afe6637d",
   "metadata": {},
   "outputs": [
    {
     "name": "stdout",
     "output_type": "stream",
     "text": [
      "('company', 'country', 'price', 'currency')\n"
     ]
    }
   ],
   "source": [
    "def stock_info(company, country, price, currency):\n",
    "    return (f'Company: {company}\\nCountry: {country}'\n",
    "            f'\\nPrice: {currency} {price}')\n",
    "\n",
    "print(stock_info.__code__.co_varnames)"
   ]
  },
  {
   "cell_type": "code",
   "execution_count": 8,
   "id": "280debf2",
   "metadata": {},
   "outputs": [
    {
     "name": "stdout",
     "output_type": "stream",
     "text": [
      "Help on built-in function sum in module builtins:\n",
      "\n",
      "sum(iterable, /, start=0)\n",
      "    Return the sum of a 'start' value (default: 0) plus an iterable of numbers\n",
      "    \n",
      "    When the iterable is empty, return the start value.\n",
      "    This function is intended specifically for use with numeric values and may\n",
      "    reject non-numeric types.\n",
      "\n"
     ]
    }
   ],
   "source": [
    "from builtins import sum\n",
    "help(sum)"
   ]
  },
  {
   "cell_type": "code",
   "execution_count": 9,
   "id": "558c8d54",
   "metadata": {},
   "outputs": [
    {
     "data": {
      "text/plain": [
       "1"
      ]
     },
     "execution_count": 9,
     "metadata": {},
     "output_type": "execute_result"
    }
   ],
   "source": [
    "sum([-4, 3, 2])"
   ]
  },
  {
   "cell_type": "code",
   "execution_count": 10,
   "id": "2e781439",
   "metadata": {},
   "outputs": [
    {
     "name": "stdout",
     "output_type": "stream",
     "text": [
      "2\n"
     ]
    }
   ],
   "source": [
    "counter = 1\n",
    "\n",
    "\n",
    "def update_counter():\n",
    "    global counter\n",
    "    counter += 1\n",
    "    print(counter)\n",
    "    \n",
    "update_counter()"
   ]
  },
  {
   "cell_type": "code",
   "execution_count": 11,
   "id": "684e5ad3",
   "metadata": {},
   "outputs": [
    {
     "name": "stdout",
     "output_type": "stream",
     "text": [
      "40\n",
      "........................................\n"
     ]
    }
   ],
   "source": [
    "counter = 0\n",
    "dot_counter = ''\n",
    "\n",
    "\n",
    "def update_counter():\n",
    "    global counter, dot_counter\n",
    "    counter += 1\n",
    "    dot_counter += '.'\n",
    "    \n",
    "[update_counter() for i in range(40)]\n",
    "print(counter)\n",
    "print(dot_counter)"
   ]
  },
  {
   "cell_type": "code",
   "execution_count": 12,
   "id": "d777c56e",
   "metadata": {},
   "outputs": [
    {
     "name": "stdout",
     "output_type": "stream",
     "text": [
      "50\n",
      "--------------------------------------------------\n"
     ]
    }
   ],
   "source": [
    "def display_info(number_of_updates=1):\n",
    "    counter = 0\n",
    "    dash_counter = ''\n",
    "\n",
    "    def update_counter():\n",
    "        nonlocal counter, dash_counter\n",
    "        counter += 1\n",
    "        dash_counter += '-'\n",
    "    \n",
    "    [update_counter() for _ in range(number_of_updates)]\n",
    "\n",
    "    print(counter)\n",
    "    print(dash_counter)\n",
    "    \n",
    "display_info(50)"
   ]
  },
  {
   "cell_type": "code",
   "execution_count": 13,
   "id": "6c79128c",
   "metadata": {},
   "outputs": [
    {
     "name": "stdout",
     "output_type": "stream",
     "text": [
      "10\n"
     ]
    }
   ],
   "source": [
    "x = 10\n",
    "\n",
    "def func1():\n",
    "    print(x)\n",
    "    \n",
    "def func2():\n",
    "    x = 5\n",
    "    func1()\n",
    "    \n",
    "func2()"
   ]
  },
  {
   "cell_type": "code",
   "execution_count": 14,
   "id": "47842717",
   "metadata": {},
   "outputs": [
    {
     "name": "stdout",
     "output_type": "stream",
     "text": [
      "5\n",
      "10\n"
     ]
    }
   ],
   "source": [
    "x = 10\n",
    "\n",
    "def func1():\n",
    "    x = 5\n",
    "    print(x)\n",
    "    \n",
    "def func2():\n",
    "    func1()\n",
    "    print(x)\n",
    "\n",
    "func2()"
   ]
  },
  {
   "cell_type": "code",
   "execution_count": 15,
   "id": "02d29e9a",
   "metadata": {},
   "outputs": [
    {
     "name": "stdout",
     "output_type": "stream",
     "text": [
      "10\n"
     ]
    }
   ],
   "source": [
    "x = 10\n",
    "\n",
    "def func1():\n",
    "    y = 5\n",
    "    return y\n",
    "\n",
    "def func2():\n",
    "    y = 2\n",
    "    return y * func1()\n",
    "\n",
    "print(func2())"
   ]
  },
  {
   "cell_type": "code",
   "execution_count": 16,
   "id": "bd3ce125",
   "metadata": {},
   "outputs": [
    {
     "data": {
      "text/plain": [
       "50"
      ]
     },
     "execution_count": 16,
     "metadata": {},
     "output_type": "execute_result"
    }
   ],
   "source": [
    "x = 10\n",
    "\n",
    "def func1():\n",
    "    x = 5\n",
    "    return x\n",
    "\n",
    "def func2():\n",
    "    x = 2\n",
    "    return func1() * globals()['x']\n",
    "\n",
    "func2()"
   ]
  },
  {
   "cell_type": "code",
   "execution_count": 17,
   "id": "4bd582e3",
   "metadata": {},
   "outputs": [
    {
     "name": "stdout",
     "output_type": "stream",
     "text": [
      "5\n"
     ]
    }
   ],
   "source": [
    "x = 10\n",
    "\n",
    "def func1():\n",
    "    globals()['x'] = 5\n",
    "    \n",
    "def func2():\n",
    "    print(x)\n",
    "    \n",
    "func1()\n",
    "func2()"
   ]
  },
  {
   "cell_type": "code",
   "execution_count": 18,
   "id": "d58f6a11",
   "metadata": {},
   "outputs": [
    {
     "name": "stdout",
     "output_type": "stream",
     "text": [
      "7\n",
      "10\n"
     ]
    }
   ],
   "source": [
    "x = 10\n",
    "\n",
    "def func1():\n",
    "    x = 5\n",
    "    \n",
    "    def inner_func():\n",
    "        nonlocal x\n",
    "        x = 7\n",
    "        \n",
    "    inner_func()\n",
    "    print(x)\n",
    "    \n",
    "def func2():\n",
    "    print(x)\n",
    "    \n",
    "func1()\n",
    "func2()"
   ]
  },
  {
   "cell_type": "markdown",
   "id": "d8d6a0bf",
   "metadata": {},
   "source": [
    "#### * args * kwargs"
   ]
  },
  {
   "cell_type": "code",
   "execution_count": 19,
   "id": "81304826",
   "metadata": {},
   "outputs": [
    {
     "name": "stdout",
     "output_type": "stream",
     "text": [
      "sport#summer\n",
      "\n",
      "time#workout#gym\n"
     ]
    }
   ],
   "source": [
    "def stick(*args):\n",
    "    args = [arg for arg in args if isinstance(arg, str)]\n",
    "    result = '#'.join(args)\n",
    "    return result\n",
    "    \n",
    "print(stick('sport', 'summer'))\n",
    "print(stick(3, 5, 7))\n",
    "print(stick(False, 'time', True, 'workout', [], 'gym'))"
   ]
  },
  {
   "cell_type": "code",
   "execution_count": 20,
   "id": "cbfad5c0",
   "metadata": {},
   "outputs": [
    {
     "name": "stdout",
     "output_type": "stream",
     "text": [
      "Company name: Apple\n",
      "Company name: CD Projekt\n",
      "Price: $ 100\n"
     ]
    }
   ],
   "source": [
    "def display_info(company, **kwargs):\n",
    "    print(f'Company name: {company}')\n",
    "    if 'price' in kwargs:\n",
    "        print(f\"Price: $ {kwargs['price']}\")\n",
    "\n",
    "display_info(company='Apple')\n",
    "display_info(company='CD Projekt', price=100)"
   ]
  },
  {
   "cell_type": "code",
   "execution_count": 21,
   "id": "d1173a53",
   "metadata": {},
   "outputs": [],
   "source": [
    "def concatenate_strings(delimiter = ',', **kwargs):\n",
    "    values = [str(value) for value in kwargs.values()]\n",
    "    print(f'{delimiter}'.join(values))"
   ]
  },
  {
   "cell_type": "code",
   "execution_count": 22,
   "id": "6db85da7",
   "metadata": {},
   "outputs": [
    {
     "name": "stdout",
     "output_type": "stream",
     "text": [
      "John,Doe,30\n",
      "\n",
      "Mary,Female\n",
      "Bob-Male-5\n"
     ]
    }
   ],
   "source": [
    "concatenate_strings(first_name='John', last_name='Doe', age=30)\n",
    "concatenate_strings()\n",
    "concatenate_strings(first_name='Mary', gender='Female')\n",
    "concatenate_strings('-', first_name='Bob', gender='Male', age=5)"
   ]
  },
  {
   "cell_type": "markdown",
   "id": "fda61adb",
   "metadata": {},
   "source": [
    "#### Classes - basics"
   ]
  },
  {
   "cell_type": "code",
   "execution_count": 23,
   "id": "1bddc9fe",
   "metadata": {},
   "outputs": [
    {
     "data": {
      "text/plain": [
       "'Vehicle'"
      ]
     },
     "execution_count": 23,
     "metadata": {},
     "output_type": "execute_result"
    }
   ],
   "source": [
    "class Vehicle:\n",
    "    \"\"\"This is a Vehicle class.\"\"\"\n",
    "        \n",
    "\n",
    "Vehicle.__name__"
   ]
  },
  {
   "cell_type": "code",
   "execution_count": 24,
   "id": "3e2b1cac",
   "metadata": {},
   "outputs": [
    {
     "name": "stdout",
     "output_type": "stream",
     "text": [
      "<class '__main__.Container'>\n"
     ]
    }
   ],
   "source": [
    "class Container:\n",
    "    \"\"\"This is a Container class.\"\"\"\n",
    "    \n",
    "    \n",
    "container = Container()\n",
    "print(container.__class__)"
   ]
  },
  {
   "cell_type": "code",
   "execution_count": 25,
   "id": "e9c2c432",
   "metadata": {},
   "outputs": [
    {
     "data": {
      "text/plain": [
       "True"
      ]
     },
     "execution_count": 25,
     "metadata": {},
     "output_type": "execute_result"
    }
   ],
   "source": [
    "isinstance(container, Container)"
   ]
  },
  {
   "cell_type": "code",
   "execution_count": 26,
   "id": "cb51d6e4",
   "metadata": {},
   "outputs": [
    {
     "name": "stdout",
     "output_type": "stream",
     "text": [
      "<class 'type'>\n"
     ]
    }
   ],
   "source": [
    "class Phone:\n",
    "    pass\n",
    "\n",
    "print(type(Phone))"
   ]
  },
  {
   "cell_type": "code",
   "execution_count": 27,
   "id": "5c7be2ab",
   "metadata": {},
   "outputs": [
    {
     "name": "stdout",
     "output_type": "stream",
     "text": [
      "True\n",
      "False\n",
      "False\n"
     ]
    }
   ],
   "source": [
    "class Model:\n",
    "    pass\n",
    "\n",
    "\n",
    "class View:\n",
    "    pass\n",
    "\n",
    "\n",
    "object1 = Model()\n",
    "object2 = [Model(), Model()]\n",
    "object3 = {}\n",
    "\n",
    "print(isinstance(object1, (Model, View)))\n",
    "print(isinstance(object2, (Model, View)))\n",
    "print(isinstance(object3, (Model, View)))"
   ]
  },
  {
   "cell_type": "code",
   "execution_count": 28,
   "id": "c30d67b0",
   "metadata": {},
   "outputs": [
    {
     "name": "stdout",
     "output_type": "stream",
     "text": [
      "True\n",
      "True\n"
     ]
    }
   ],
   "source": [
    "print(issubclass(Model, object))\n",
    "print(issubclass(View, object))"
   ]
  },
  {
   "cell_type": "markdown",
   "id": "d7fc153a",
   "metadata": {},
   "source": [
    "#### Class attributes"
   ]
  },
  {
   "cell_type": "code",
   "execution_count": 29,
   "id": "8bc5efd8",
   "metadata": {},
   "outputs": [
    {
     "name": "stdout",
     "output_type": "stream",
     "text": [
      "Apple\n",
      "iPhone X\n"
     ]
    }
   ],
   "source": [
    "class Phone:\n",
    "    brand = 'Apple'\n",
    "    model = 'iPhone X'\n",
    "        \n",
    "\n",
    "print(getattr(Phone, 'brand'))\n",
    "print(getattr(Phone, 'model'))"
   ]
  },
  {
   "cell_type": "code",
   "execution_count": 30,
   "id": "47b6d6ce",
   "metadata": {},
   "outputs": [
    {
     "name": "stdout",
     "output_type": "stream",
     "text": [
      "brand: Samsung\n",
      "model: Galaxy\n"
     ]
    }
   ],
   "source": [
    "Phone.brand = 'Samsung'\n",
    "Phone.model = 'Galaxy'\n",
    "\n",
    "print(f'brand: {Phone.brand}')\n",
    "print(f'model: {Phone.model}')"
   ]
  },
  {
   "cell_type": "code",
   "execution_count": 31,
   "id": "e8c53ce3",
   "metadata": {},
   "outputs": [
    {
     "name": "stdout",
     "output_type": "stream",
     "text": [
      "brand: Acer\n",
      "model: Predator\n"
     ]
    }
   ],
   "source": [
    "class Laptop:\n",
    "    brand = 'Lenovo'\n",
    "    model = 'ThinkPad'\n",
    "    \n",
    "    \n",
    "setattr(Laptop, 'brand', 'Acer')\n",
    "setattr(Laptop, 'model', 'Predator')\n",
    "\n",
    "print(f\"brand: {getattr(Laptop, 'brand')}\")\n",
    "print(f\"model: {getattr(Laptop, 'model')}\")"
   ]
  },
  {
   "cell_type": "code",
   "execution_count": 32,
   "id": "4a8dfa20",
   "metadata": {},
   "outputs": [
    {
     "name": "stdout",
     "output_type": "stream",
     "text": [
      "['sector', 'sector_code', 'is_public_company', 'country']\n"
     ]
    }
   ],
   "source": [
    "class OnlineShop:\n",
    "    sector = 'electronics'\n",
    "    sector_code = 'ELE'\n",
    "    is_public_company = False\n",
    "    \n",
    "    \n",
    "OnlineShop.country = 'Poland'\n",
    "print([key for key in OnlineShop.__dict__.keys() if not key[0] == '_'])"
   ]
  },
  {
   "cell_type": "code",
   "execution_count": 33,
   "id": "d9651687",
   "metadata": {},
   "outputs": [
    {
     "name": "stdout",
     "output_type": "stream",
     "text": [
      "['sector', 'is_public_company', 'country']\n"
     ]
    }
   ],
   "source": [
    "del OnlineShop.sector_code\n",
    "print([key for key in OnlineShop.__dict__.keys() if not key.startswith('_')]) "
   ]
  },
  {
   "cell_type": "code",
   "execution_count": 34,
   "id": "d1caea7d",
   "metadata": {},
   "outputs": [
    {
     "name": "stdout",
     "output_type": "stream",
     "text": [
      "['sector', 'is_public_company']\n"
     ]
    }
   ],
   "source": [
    "delattr(OnlineShop, 'country')\n",
    "print([key for key in OnlineShop.__dict__.keys() if not key.startswith('_')])"
   ]
  },
  {
   "cell_type": "code",
   "execution_count": 35,
   "id": "17de3e73",
   "metadata": {},
   "outputs": [
    {
     "name": "stdout",
     "output_type": "stream",
     "text": [
      "sector -> electronics\n",
      "is_public_company -> False\n"
     ]
    }
   ],
   "source": [
    "def describe_attrs():\n",
    "    for attr, value in OnlineShop.__dict__.items():\n",
    "        if not attr.startswith('_'):\n",
    "            print(f'{attr} -> {value}')\n",
    "            \n",
    "describe_attrs()"
   ]
  },
  {
   "cell_type": "code",
   "execution_count": 36,
   "id": "0c2bc081",
   "metadata": {},
   "outputs": [
    {
     "name": "stdout",
     "output_type": "stream",
     "text": [
      "Floor number: 3\n",
      "Area: 100\n"
     ]
    }
   ],
   "source": [
    "class HouseProject:\n",
    "    number_of_floors = 3\n",
    "    area = 100\n",
    "    \n",
    "    def describe_project():\n",
    "        print(f'Floor number: {HouseProject.number_of_floors}')\n",
    "        print(f'Area: {HouseProject.area}')\n",
    "                \n",
    "                \n",
    "HouseProject.describe_project()"
   ]
  },
  {
   "cell_type": "markdown",
   "id": "17d28c65",
   "metadata": {},
   "source": [
    "#### Instance attributes"
   ]
  },
  {
   "cell_type": "code",
   "execution_count": 37,
   "id": "f7511331",
   "metadata": {},
   "outputs": [
    {
     "name": "stdout",
     "output_type": "stream",
     "text": [
      "{'author': 'Dan Brown', 'title': 'Inferno'}\n",
      "{'author': 'Dan Brown', 'title': 'The Da Vinci Code', 'year_of_publishment': 2003}\n"
     ]
    }
   ],
   "source": [
    "class Book:\n",
    "    language = 'ENG'\n",
    "    is_ebook = True\n",
    "\n",
    "\n",
    "book_1 = Book()\n",
    "book_2 = Book()\n",
    "\n",
    "book_1.author = 'Dan Brown'\n",
    "book_1.title = 'Inferno'\n",
    "\n",
    "book_2.author = 'Dan Brown'\n",
    "book_2.title = 'The Da Vinci Code'\n",
    "book_2.year_of_publishment = 2003\n",
    "\n",
    "print(book_1.__dict__)\n",
    "print(book_2.__dict__)"
   ]
  },
  {
   "cell_type": "code",
   "execution_count": 38,
   "id": "f61dbb59",
   "metadata": {},
   "outputs": [
    {
     "name": "stdout",
     "output_type": "stream",
     "text": [
      "author -> Dan Brown\n",
      "title -> Inferno\n",
      "------------------------------\n",
      "author -> Dan Brown\n",
      "title -> The Da Vinci Code\n",
      "year_of_publishment -> 2003\n",
      "------------------------------\n"
     ]
    }
   ],
   "source": [
    "books = [book_1, book_2]\n",
    "for book in books:\n",
    "    for attr, value in book.__dict__.items():\n",
    "        print(f'{attr} -> {value}')\n",
    "    print(30 * '-')"
   ]
  },
  {
   "cell_type": "code",
   "execution_count": 39,
   "id": "c6f15e6f",
   "metadata": {},
   "outputs": [
    {
     "name": "stdout",
     "output_type": "stream",
     "text": [
      "{'author': 'Dan Brown', 'title': 'Inferno'}\n",
      "{'author': 'Dan Brown', 'title': 'The Da Vinci Code', 'year_of_publishment': 2003}\n"
     ]
    }
   ],
   "source": [
    "class Book:\n",
    "    language = 'ENG'\n",
    "    is_ebook = True\n",
    "\n",
    "\n",
    "books_data = [\n",
    "    {\n",
    "        'author': 'Dan Brown', \n",
    "        'title': 'Inferno'\n",
    "    },\n",
    "    {\n",
    "        'author': 'Dan Brown',\n",
    "        'title': 'The Da Vinci Code',\n",
    "        'year_of_publishment': 2003,\n",
    "    },\n",
    "]\n",
    "\n",
    "books = []\n",
    "for book_data in books_data:\n",
    "    book = Book()\n",
    "    for key, value in book_data.items():\n",
    "        setattr(book, key, value)\n",
    "    books.append(book)\n",
    "        \n",
    "for book in books:\n",
    "    print(book.__dict__)"
   ]
  },
  {
   "cell_type": "code",
   "execution_count": 40,
   "id": "c370a63a",
   "metadata": {},
   "outputs": [
    {
     "name": "stdout",
     "output_type": "stream",
     "text": [
      "Inferno\n"
     ]
    }
   ],
   "source": [
    "class Book:\n",
    "    language = 'ENG'\n",
    "    is_ebook = True\n",
    "    \n",
    "    def set_title(self, title):\n",
    "        if not isinstance(title, str):\n",
    "            raise TypeError('The value of the title attribute must be of str type.')\n",
    "        else:\n",
    "            self.title = title\n",
    "    \n",
    "    \n",
    "book = Book()\n",
    "book.set_title('Inferno')\n",
    "print(book.title)"
   ]
  },
  {
   "cell_type": "code",
   "execution_count": 41,
   "id": "44f6411a",
   "metadata": {},
   "outputs": [
    {
     "name": "stdout",
     "output_type": "stream",
     "text": [
      "The value of the title attribute must be of str type.\n"
     ]
    }
   ],
   "source": [
    "try:\n",
    "    book.set_title(False)\n",
    "except TypeError as error:\n",
    "    print(error)"
   ]
  },
  {
   "cell_type": "markdown",
   "id": "66d5345d",
   "metadata": {},
   "source": [
    "#### __ init__ method"
   ]
  },
  {
   "cell_type": "code",
   "execution_count": 42,
   "id": "f43b48a7",
   "metadata": {},
   "outputs": [
    {
     "name": "stdout",
     "output_type": "stream",
     "text": [
      "{'brand': 'Acer', 'model': 'Predator', 'price': 5490}\n",
      "brand\n",
      "model\n",
      "price\n"
     ]
    }
   ],
   "source": [
    "class Laptop:\n",
    "    \n",
    "    def __init__(self, brand, model, price):\n",
    "        self.brand = brand\n",
    "        self.model = model\n",
    "        self.price = price\n",
    "        \n",
    "    def display_instance_attrs(self):\n",
    "        for attr in self.__dict__:\n",
    "            print(attr)\n",
    "            \n",
    "    def display_attrs_with_values(self):\n",
    "        for attr, item in self.__dict__.items():\n",
    "            print(f\"{attr} = {item}\")\n",
    "        \n",
    "    \n",
    "laptop = Laptop('Acer', 'Predator', 5490)\n",
    "print(laptop.__dict__)\n",
    "laptop.display_instance_attrs()"
   ]
  },
  {
   "cell_type": "code",
   "execution_count": 43,
   "id": "d31679e3",
   "metadata": {},
   "outputs": [
    {
     "name": "stdout",
     "output_type": "stream",
     "text": [
      "brand = Acer\n",
      "model = Predator\n",
      "price = 5490\n"
     ]
    }
   ],
   "source": [
    "laptop.display_attrs_with_values()"
   ]
  },
  {
   "cell_type": "code",
   "execution_count": 44,
   "id": "f774d317",
   "metadata": {},
   "outputs": [
    {
     "name": "stdout",
     "output_type": "stream",
     "text": [
      "v1 -> (1, 2)\n",
      "v2 -> (4, 5, 2)\n"
     ]
    }
   ],
   "source": [
    "class Vector:\n",
    "    \n",
    "    def __init__(self, *args):\n",
    "        self.components = args\n",
    "        \n",
    "        \n",
    "v1 = Vector(1, 2)\n",
    "v2 = Vector(4, 5, 2)\n",
    "print(f'v1 -> {v1.components}')\n",
    "print(f'v2 -> {v2.components}')"
   ]
  },
  {
   "cell_type": "code",
   "execution_count": 45,
   "id": "12de6989",
   "metadata": {},
   "outputs": [
    {
     "name": "stdout",
     "output_type": "stream",
     "text": [
      "{'apple': 3.5, 'milk': 2.5, 'juice': 4.9, 'water': 2.5}\n"
     ]
    }
   ],
   "source": [
    "class Bucket:\n",
    "    \n",
    "    def __init__(self, **kwargs):\n",
    "        for key, value in kwargs.items():\n",
    "            setattr(self, key, value)\n",
    "        \n",
    "    \n",
    "bucket = Bucket(apple = 3.5, milk = 2.5, juice = 4.9, water = 2.5)\n",
    "print(bucket.__dict__)"
   ]
  },
  {
   "cell_type": "code",
   "execution_count": 46,
   "id": "8b167ecf",
   "metadata": {},
   "outputs": [
    {
     "name": "stdout",
     "output_type": "stream",
     "text": [
      "Help on Bucket in module __main__ object:\n",
      "\n",
      "class Bucket(builtins.object)\n",
      " |  Bucket(**kwargs)\n",
      " |  \n",
      " |  Methods defined here:\n",
      " |  \n",
      " |  __init__(self, **kwargs)\n",
      " |      Initialize self.  See help(type(self)) for accurate signature.\n",
      " |  \n",
      " |  ----------------------------------------------------------------------\n",
      " |  Data descriptors defined here:\n",
      " |  \n",
      " |  __dict__\n",
      " |      dictionary for instance variables (if defined)\n",
      " |  \n",
      " |  __weakref__\n",
      " |      list of weak references to the object (if defined)\n",
      "\n"
     ]
    }
   ],
   "source": [
    "help(bucket)"
   ]
  },
  {
   "cell_type": "code",
   "execution_count": 47,
   "id": "9afff177",
   "metadata": {},
   "outputs": [
    {
     "name": "stdout",
     "output_type": "stream",
     "text": [
      "{'brand': 'Opel', 'model': 'Insignia', 'price': 115000, 'type_of_car': 'sedan'}\n"
     ]
    }
   ],
   "source": [
    "class Car:\n",
    "    \n",
    "    def __init__(self, brand, model, price, type_of_car='sedan'):\n",
    "        self.brand = brand\n",
    "        self.model = model\n",
    "        self.price = price\n",
    "        self.type_of_car = type_of_car\n",
    "        \n",
    "        \n",
    "car = Car('Opel', 'Insignia', 115000)\n",
    "print(car.__dict__)"
   ]
  },
  {
   "cell_type": "code",
   "execution_count": 48,
   "id": "3a52c228",
   "metadata": {},
   "outputs": [
    {
     "data": {
      "text/plain": [
       "{'brand': 'Acer', 'model': 'Predator', 'price': 5490}"
      ]
     },
     "execution_count": 48,
     "metadata": {},
     "output_type": "execute_result"
    }
   ],
   "source": [
    "class Laptop:\n",
    "    \n",
    "    def __init__(self, brand, model, price):\n",
    "        self.brand = brand\n",
    "        self.model = model\n",
    "        if isinstance(price, (int, float)) and price > 0:\n",
    "            self.price = price\n",
    "        else:\n",
    "            raise TypeError('The price attribute must be a positive int or float.')\n",
    "            \n",
    "            \n",
    "            \n",
    "laptop = Laptop('Acer', 'Predator', 5490)\n",
    "laptop.__dict__"
   ]
  },
  {
   "cell_type": "code",
   "execution_count": 49,
   "id": "235f8a06",
   "metadata": {},
   "outputs": [
    {
     "name": "stdout",
     "output_type": "stream",
     "text": [
      "The price attribute must be a positive int or float.\n"
     ]
    }
   ],
   "source": [
    "try:\n",
    "    laptop2 = Laptop('Acer', 'Predator', '5900')\n",
    "except TypeError as error:\n",
    "    print(error)"
   ]
  },
  {
   "cell_type": "markdown",
   "id": "666f4a8b",
   "metadata": {},
   "source": [
    "#### Visibility of variables"
   ]
  },
  {
   "cell_type": "code",
   "execution_count": 50,
   "id": "fe17c2fd",
   "metadata": {},
   "outputs": [
    {
     "name": "stdout",
     "output_type": "stream",
     "text": [
      "{'brand': 'Acer', '_model': 'Predator', '_Laptop__price': 5490}\n"
     ]
    }
   ],
   "source": [
    "class Laptop:\n",
    "    \n",
    "    def __init__(self, brand, model, price):\n",
    "        self.brand = brand\n",
    "        self._model = model\n",
    "        self.__price = price\n",
    "        \n",
    "        \n",
    "laptop = Laptop('Acer', 'Predator', 5490)\n",
    "print(laptop.__dict__)"
   ]
  },
  {
   "cell_type": "code",
   "execution_count": 51,
   "id": "a86616e3",
   "metadata": {},
   "outputs": [
    {
     "name": "stdout",
     "output_type": "stream",
     "text": [
      "dict_items([('brand', 'Acer'), ('_model', 'Predator'), ('_Laptop__price', 5490)])\n"
     ]
    }
   ],
   "source": [
    "print(laptop.__dict__.items())"
   ]
  },
  {
   "cell_type": "code",
   "execution_count": 52,
   "id": "55d5203b",
   "metadata": {},
   "outputs": [
    {
     "name": "stdout",
     "output_type": "stream",
     "text": [
      "brand -> Acer\n",
      "model -> Predator\n",
      "price -> 5490\n"
     ]
    }
   ],
   "source": [
    "for key, item in laptop.__dict__.items():\n",
    "    if '_' in key:\n",
    "        key = key.split('_')\n",
    "        print(f'{key[-1]} -> {item}')\n",
    "    else:\n",
    "        print(f'{key} -> {item}')"
   ]
  },
  {
   "cell_type": "code",
   "execution_count": 53,
   "id": "33a7e90b",
   "metadata": {},
   "outputs": [
    {
     "name": "stdout",
     "output_type": "stream",
     "text": [
      "_Laptop__price\n",
      "_Laptop__margin\n"
     ]
    }
   ],
   "source": [
    "class Laptop:\n",
    "    def __init__(self, brand, model, code, price, margin):\n",
    "        self.brand = brand\n",
    "        self._model = model\n",
    "        self._code = code\n",
    "        self.__price = price\n",
    "        self.__margin = margin\n",
    "        \n",
    "    def display_private_attrs(self):\n",
    "        for key in self.__dict__:\n",
    "            if key.startswith(f'_{self.__class__.__name__}__'):\n",
    "                print(key)\n",
    "                \n",
    "    def display_protected_attrs(self):\n",
    "        for key in self.__dict__:\n",
    "            if not key.startswith(f'_{self.__class__.__name__}__'):\n",
    "                if key.startswith('_'):\n",
    "                    print(key)\n",
    "                \n",
    "laptop = Laptop('Acer', 'Predator', 'AC-100', 5490, 0.2)\n",
    "laptop.display_private_attrs()"
   ]
  },
  {
   "cell_type": "code",
   "execution_count": 54,
   "id": "be23541b",
   "metadata": {},
   "outputs": [
    {
     "name": "stdout",
     "output_type": "stream",
     "text": [
      "_model\n",
      "_code\n"
     ]
    }
   ],
   "source": [
    "laptop.display_protected_attrs()"
   ]
  },
  {
   "cell_type": "markdown",
   "id": "a80b07d7",
   "metadata": {},
   "source": [
    "#### Encapsulation"
   ]
  },
  {
   "cell_type": "code",
   "execution_count": 55,
   "id": "0b61305d",
   "metadata": {},
   "outputs": [],
   "source": [
    "class Laptop:\n",
    "    \n",
    "    def __init__(self, price):\n",
    "        self.set_price(price)\n",
    "        \n",
    "    def get_price(self):\n",
    "        return self._price\n",
    "        \n",
    "    def set_price(self, new_price):\n",
    "        if not isinstance(new_price, (int, float)):\n",
    "            raise TypeError('The price attribute must be an int or float type.')\n",
    "        if not new_price > 0:\n",
    "            raise ValueError('The price attribute must be a positive int or float value.')\n",
    "        self._price = new_price"
   ]
  },
  {
   "cell_type": "code",
   "execution_count": 56,
   "id": "3b08f599",
   "metadata": {},
   "outputs": [
    {
     "name": "stdout",
     "output_type": "stream",
     "text": [
      "3499\n",
      "3999\n"
     ]
    }
   ],
   "source": [
    "laptop = Laptop(3499)\n",
    "print(laptop.get_price())\n",
    "laptop.set_price(3999)\n",
    "print(laptop.get_price())"
   ]
  },
  {
   "cell_type": "code",
   "execution_count": 57,
   "id": "3bf1bdbd",
   "metadata": {},
   "outputs": [
    {
     "name": "stdout",
     "output_type": "stream",
     "text": [
      "The price attribute must be an int or float type.\n"
     ]
    }
   ],
   "source": [
    "try:\n",
    "    laptop.set_price('-3000')\n",
    "except TypeError as error:\n",
    "    print(error)"
   ]
  },
  {
   "cell_type": "code",
   "execution_count": 58,
   "id": "96aae242",
   "metadata": {},
   "outputs": [
    {
     "name": "stdout",
     "output_type": "stream",
     "text": [
      "The price attribute must be a positive int or float value.\n"
     ]
    }
   ],
   "source": [
    "try:\n",
    "    laptop.set_price(-3000)\n",
    "except ValueError as error:\n",
    "    print(error)"
   ]
  },
  {
   "cell_type": "code",
   "execution_count": 59,
   "id": "a54c0011",
   "metadata": {},
   "outputs": [
    {
     "name": "stdout",
     "output_type": "stream",
     "text": [
      "The price attribute must be a positive int or float value.\n"
     ]
    }
   ],
   "source": [
    "try:\n",
    "    laptop = Laptop(-3499)\n",
    "except ValueError as error:\n",
    "    print(error)"
   ]
  },
  {
   "cell_type": "code",
   "execution_count": 60,
   "id": "03da5145",
   "metadata": {},
   "outputs": [
    {
     "name": "stdout",
     "output_type": "stream",
     "text": [
      "John\n",
      "Dow\n",
      "{'_first_name': 'Tom', '_last_name': 'Smith'}\n"
     ]
    }
   ],
   "source": [
    "class Person:\n",
    "    \n",
    "    def __init__(self, first_name, last_name):\n",
    "        self._first_name = first_name\n",
    "        self._last_name = last_name\n",
    "        \n",
    "    def get_first_name(self):\n",
    "        return self._first_name\n",
    "        \n",
    "    def set_first_name(self, value):\n",
    "        self._first_name = value\n",
    "        \n",
    "    def get_last_name(self):\n",
    "        return self._last_name\n",
    "        \n",
    "    def set_last_name(self, value):\n",
    "        self._last_name = value\n",
    "        \n",
    "    first_name = property(fget = get_first_name, fset = set_first_name)\n",
    "    last_name = property(fget = get_last_name, fset = set_last_name)\n",
    "    \n",
    "    \n",
    "person = Person('John', 'Dow')\n",
    "print(person.first_name)\n",
    "print(person.last_name)\n",
    "\n",
    "person.first_name = 'Tom'\n",
    "person.last_name = 'Smith'\n",
    "print(person.__dict__)"
   ]
  },
  {
   "cell_type": "code",
   "execution_count": 61,
   "id": "841d7c4c",
   "metadata": {},
   "outputs": [
    {
     "name": "stdout",
     "output_type": "stream",
     "text": [
      "{}\n"
     ]
    }
   ],
   "source": [
    "class Person:\n",
    "    def __init__(self, first_name):\n",
    "        self._first_name = first_name\n",
    "\n",
    "    def get_first_name(self):\n",
    "        return self._first_name\n",
    "\n",
    "    def set_first_name(self, value):\n",
    "        self._first_name = value\n",
    "        \n",
    "    def del_first_name(self):\n",
    "        del self._first_name\n",
    "        \n",
    "    first_name = property(\n",
    "        fget = get_first_name,\n",
    "        fset = set_first_name,\n",
    "        fdel = del_first_name\n",
    "    )\n",
    "    \n",
    "    \n",
    "person = Person('Tom')\n",
    "person.del_first_name()\n",
    "print(person.__dict__)"
   ]
  },
  {
   "cell_type": "code",
   "execution_count": 62,
   "id": "5dfc1b48",
   "metadata": {},
   "outputs": [
    {
     "name": "stdout",
     "output_type": "stream",
     "text": [
      "{'_name': 'Max', '_age': 5}\n",
      "{'_name': 'Tom', '_age': 8}\n"
     ]
    }
   ],
   "source": [
    "class Pet:\n",
    "    \n",
    "    def __init__(self, name, age):\n",
    "        self._name = name\n",
    "        self._age = age\n",
    "    \n",
    "    @property\n",
    "    def name(self):\n",
    "        return self._name\n",
    "    \n",
    "    @name.setter\n",
    "    def name(self, value):\n",
    "        self._name = value\n",
    "    \n",
    "    @property\n",
    "    def age(self):\n",
    "        return self._age\n",
    "    \n",
    "    @name.setter\n",
    "    def age(self, value):\n",
    "        self._age = value\n",
    "\n",
    "\n",
    "pet = Pet('Max', 5)\n",
    "print(pet.__dict__)\n",
    "\n",
    "pet.name = 'Tom'\n",
    "pet.age = 8\n",
    "print(pet.__dict__)"
   ]
  },
  {
   "cell_type": "code",
   "execution_count": 63,
   "id": "ff270cb8",
   "metadata": {},
   "outputs": [
    {
     "name": "stdout",
     "output_type": "stream",
     "text": [
      "python,java,sql\n",
      "python,sql\n",
      "{}\n"
     ]
    }
   ],
   "source": [
    "class TechStack:\n",
    "    def __init__(self, tech_names):\n",
    "        self._tech_names = tech_names\n",
    "        \n",
    "    @property\n",
    "    def tech_names(self):\n",
    "        return self._tech_names\n",
    "            \n",
    "    @tech_names.setter\n",
    "    def tech_names(self, value):\n",
    "        self._tech_names = value\n",
    "            \n",
    "    @tech_names.deleter\n",
    "    def tech_names(self):\n",
    "        del self._tech_names\n",
    "            \n",
    "            \n",
    "tech_stack = TechStack('python,java,sql')\n",
    "print(tech_stack.tech_names)\n",
    "\n",
    "tech_stack._tech_names = 'python,sql'\n",
    "print(tech_stack.tech_names)\n",
    "\n",
    "del tech_stack.tech_names\n",
    "print(tech_stack.__dict__)"
   ]
  },
  {
   "cell_type": "code",
   "execution_count": 64,
   "id": "053834e2",
   "metadata": {},
   "outputs": [
    {
     "name": "stdout",
     "output_type": "stream",
     "text": [
      "0\n",
      "10\n",
      "0\n",
      "100\n"
     ]
    }
   ],
   "source": [
    "class Game:\n",
    "    \n",
    "    def __init__(self, level=0):\n",
    "        self.level = level\n",
    "\n",
    "    @property\n",
    "    def level(self):\n",
    "         return self._level\n",
    "        \n",
    "    @level.setter\n",
    "    def level(self, value):\n",
    "        if isinstance(value, int):\n",
    "            if value < 0:\n",
    "                value = 0\n",
    "            elif value > 100:\n",
    "                value = 100\n",
    "            self._level = value     \n",
    "        else:\n",
    "            raise TypeError('The value of level must be of type int.')\n",
    "\n",
    "\n",
    "games = [Game(), Game(10), Game(-10), Game(120)]\n",
    "for game in games:\n",
    "    print(game.level)"
   ]
  },
  {
   "cell_type": "markdown",
   "id": "37fa47bc",
   "metadata": {},
   "source": [
    "#### Calculating attributes"
   ]
  },
  {
   "cell_type": "code",
   "execution_count": 65,
   "id": "62101fdc",
   "metadata": {},
   "outputs": [
    {
     "name": "stdout",
     "output_type": "stream",
     "text": [
      "18.8496\n"
     ]
    }
   ],
   "source": [
    "import math\n",
    "\n",
    "\n",
    "class Circle:\n",
    "    def __init__(self, radius):\n",
    "        self.radius = radius\n",
    "        self._area = None\n",
    "        self._perimeter = None\n",
    "\n",
    "    @property\n",
    "    def radius(self):\n",
    "        return self._radius\n",
    "\n",
    "    @radius.setter\n",
    "    def radius(self, value):\n",
    "        self._radius = value\n",
    "        self._area = None\n",
    "        self._perimeter = None\n",
    "\n",
    "    @property\n",
    "    def area(self):\n",
    "        if self._area is None:\n",
    "            self._area = math.pi * self._radius * self._radius\n",
    "        return self._area\n",
    "        \n",
    "    @property\n",
    "    def perimeter(self):\n",
    "        if self._perimeter is None:\n",
    "            self._perimeter = 2 * math.pi * self._radius\n",
    "        return self._perimeter\n",
    "        \n",
    "        \n",
    "circle = Circle(3)\n",
    "print(f'{circle.perimeter:.4f}')"
   ]
  },
  {
   "cell_type": "code",
   "execution_count": 66,
   "id": "02652b1d",
   "metadata": {},
   "outputs": [],
   "source": [
    "class Rectangle:\n",
    "    def __init__(self, width, height):\n",
    "        self.width = width\n",
    "        self.height = height\n",
    "        self._area = None\n",
    "        self._perimeter = None\n",
    "\n",
    "    @property\n",
    "    def width(self):\n",
    "        return self._width\n",
    "\n",
    "    @width.setter\n",
    "    def width(self, value):\n",
    "        self._width = value\n",
    "        self._area = None\n",
    "        self._perimeter = None\n",
    "\n",
    "    @property\n",
    "    def height(self):\n",
    "        return self._height\n",
    "\n",
    "    @height.setter\n",
    "    def height(self, value):\n",
    "        self._height = value\n",
    "        self._area = None\n",
    "        self._perimeter = None\n",
    "\n",
    "    @property\n",
    "    def area(self):\n",
    "        if self._area is None:\n",
    "            self._area = self._width * self._height\n",
    "        return self._area\n",
    "        \n",
    "    @property\n",
    "    def perimeter(self):\n",
    "        if self._perimeter is None:\n",
    "            self._perimeter = 2 * (self._height + self._width)\n",
    "        return self._perimeter"
   ]
  },
  {
   "cell_type": "code",
   "execution_count": 67,
   "id": "7c662fa5",
   "metadata": {},
   "outputs": [
    {
     "name": "stdout",
     "output_type": "stream",
     "text": [
      "width: 3, height: 4 -> perimeter: 14\n"
     ]
    }
   ],
   "source": [
    "rectangle = Rectangle(3, 4)\n",
    "print(f'width: {rectangle.width}, height: {rectangle.height}'\n",
    "      f' -> perimeter: {rectangle.perimeter}')"
   ]
  },
  {
   "cell_type": "markdown",
   "id": "9cff56a0",
   "metadata": {},
   "source": [
    "#### Class method - @classmethod decorator"
   ]
  },
  {
   "cell_type": "code",
   "execution_count": 68,
   "id": "de4c1b86",
   "metadata": {},
   "outputs": [
    {
     "name": "stdout",
     "output_type": "stream",
     "text": [
      "Running from Person class.\n"
     ]
    }
   ],
   "source": [
    "class Person:\n",
    "    def show_details(cls):\n",
    "        print(f'Running from {cls.__name__} class.')\n",
    "        \n",
    "    show_details = classmethod(show_details)\n",
    "    \n",
    "    \n",
    "Person.show_details()"
   ]
  },
  {
   "cell_type": "code",
   "execution_count": 69,
   "id": "ed2cbc2a",
   "metadata": {},
   "outputs": [
    {
     "name": "stdout",
     "output_type": "stream",
     "text": [
      "Running from Container class.\n"
     ]
    }
   ],
   "source": [
    "class Container:\n",
    "    \n",
    "    @classmethod\n",
    "    def show_details(cls):\n",
    "        print(f'Running from {cls.__name__} class.')\n",
    "        \n",
    "        \n",
    "Container.show_details()"
   ]
  },
  {
   "cell_type": "code",
   "execution_count": 70,
   "id": "0a58ae73",
   "metadata": {},
   "outputs": [
    {
     "name": "stdout",
     "output_type": "stream",
     "text": [
      "Running from Container class.\n"
     ]
    }
   ],
   "source": [
    "container = Container()\n",
    "container.show_details()"
   ]
  },
  {
   "cell_type": "code",
   "execution_count": 71,
   "id": "27ded8f5",
   "metadata": {
    "scrolled": true
   },
   "outputs": [
    {
     "name": "stdout",
     "output_type": "stream",
     "text": [
      "2\n"
     ]
    }
   ],
   "source": [
    "class Person:\n",
    "    instances = []\n",
    "\n",
    "    def __init__(self, first_name, last_name):\n",
    "        self.first_name = first_name\n",
    "        self.last_name = last_name\n",
    "        Person.instances.append(self)\n",
    "\n",
    "    @classmethod\n",
    "    def count_instances(cls):\n",
    "        return len(Person.instances)\n",
    "        \n",
    "        \n",
    "p1 = Person('Mike', 'Tyson')\n",
    "p2 = Person('Jane', 'Fonda')\n",
    "print(Person.count_instances())"
   ]
  },
  {
   "cell_type": "markdown",
   "id": "62622875",
   "metadata": {},
   "source": [
    "#### Static method - @staticmethod decorator"
   ]
  },
  {
   "cell_type": "code",
   "execution_count": 72,
   "id": "0d5b10fa",
   "metadata": {},
   "outputs": [],
   "source": [
    "import time\n",
    "\n",
    "\n",
    "class Container:\n",
    "    \n",
    "    def get_current_time():\n",
    "        return time.strftime('%H:%M:%S')\n",
    "    \n",
    "    get_current_time = staticmethod(get_current_time)\n"
   ]
  },
  {
   "cell_type": "code",
   "execution_count": 73,
   "id": "af1f1cf7",
   "metadata": {},
   "outputs": [],
   "source": [
    "class Container:\n",
    "    \n",
    "    @staticmethod\n",
    "    def get_current_time():\n",
    "        return time.strftime('%H:%M:%S')"
   ]
  },
  {
   "cell_type": "code",
   "execution_count": 74,
   "id": "e2cfb8c9",
   "metadata": {},
   "outputs": [
    {
     "name": "stdout",
     "output_type": "stream",
     "text": [
      "dict_keys(['book_id', 'title', 'author'])\n",
      "Book(title='Inferno', author='Dan Brown')\n"
     ]
    }
   ],
   "source": [
    "import uuid\n",
    "\n",
    "\n",
    "class Book:\n",
    "    \n",
    "    def __init__(self, title, author):\n",
    "        self.book_id = self.get_id()\n",
    "        self.title = title\n",
    "        self.author = author\n",
    "\n",
    "    def __repr__(self):\n",
    "        return f\"Book(title='{self.title}', author='{self.author}')\"\n",
    "        \n",
    "    @staticmethod\n",
    "    def get_id():\n",
    "        return str(uuid.uuid4().fields[-1])[:6]\n",
    " \n",
    "\n",
    "book1 = Book('Inferno', 'Dan Brown')\n",
    "print(book1.__dict__.keys())\n",
    "print(book1)"
   ]
  }
 ],
 "metadata": {
  "kernelspec": {
   "display_name": "Python 3",
   "language": "python",
   "name": "python3"
  },
  "language_info": {
   "codemirror_mode": {
    "name": "ipython",
    "version": 3
   },
   "file_extension": ".py",
   "mimetype": "text/x-python",
   "name": "python",
   "nbconvert_exporter": "python",
   "pygments_lexer": "ipython3",
   "version": "3.8.8"
  }
 },
 "nbformat": 4,
 "nbformat_minor": 5
}
