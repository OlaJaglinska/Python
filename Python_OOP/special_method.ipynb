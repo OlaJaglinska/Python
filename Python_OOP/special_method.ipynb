{
 "cells": [
  {
   "cell_type": "markdown",
   "id": "94443851",
   "metadata": {},
   "source": [
    "### Special method\n",
    " - __new __\n",
    " - __init __\n",
    " - __del __\n",
    " - __str __\n",
    " - __repr __\n",
    " - __len __\n",
    " - __bool __"
   ]
  },
  {
   "cell_type": "code",
   "execution_count": 1,
   "id": "b7359424",
   "metadata": {},
   "outputs": [
    {
     "data": {
      "text/plain": [
       "['__class__',\n",
       " '__delattr__',\n",
       " '__dir__',\n",
       " '__doc__',\n",
       " '__eq__',\n",
       " '__format__',\n",
       " '__ge__',\n",
       " '__getattribute__',\n",
       " '__gt__',\n",
       " '__hash__',\n",
       " '__init__',\n",
       " '__init_subclass__',\n",
       " '__le__',\n",
       " '__lt__',\n",
       " '__ne__',\n",
       " '__new__',\n",
       " '__reduce__',\n",
       " '__reduce_ex__',\n",
       " '__repr__',\n",
       " '__setattr__',\n",
       " '__sizeof__',\n",
       " '__str__',\n",
       " '__subclasshook__']"
      ]
     },
     "execution_count": 1,
     "metadata": {},
     "output_type": "execute_result"
    }
   ],
   "source": [
    "dir(object)"
   ]
  },
  {
   "cell_type": "markdown",
   "id": "1d7284a1",
   "metadata": {},
   "source": [
    "#### 1. __new __() + __init __()"
   ]
  },
  {
   "cell_type": "code",
   "execution_count": 2,
   "id": "3ac68085",
   "metadata": {},
   "outputs": [
    {
     "name": "stdout",
     "output_type": "stream",
     "text": [
      "Help on built-in function __new__:\n",
      "\n",
      "__new__(*args, **kwargs) method of builtins.type instance\n",
      "    Create and return a new object.  See help(type) for accurate signature.\n",
      "\n"
     ]
    }
   ],
   "source": [
    "help(object.__new__)"
   ]
  },
  {
   "cell_type": "code",
   "execution_count": 3,
   "id": "32ca5db7",
   "metadata": {},
   "outputs": [
    {
     "name": "stdout",
     "output_type": "stream",
     "text": [
      "Help on wrapper_descriptor:\n",
      "\n",
      "__init__(self, /, *args, **kwargs)\n",
      "    Initialize self.  See help(type(self)) for accurate signature.\n",
      "\n"
     ]
    }
   ],
   "source": [
    "help(object.__init__)"
   ]
  },
  {
   "cell_type": "code",
   "execution_count": 4,
   "id": "88638c90",
   "metadata": {},
   "outputs": [],
   "source": [
    "class Company:\n",
    "    \n",
    "    def __init__(self, name):\n",
    "        self.name = name"
   ]
  },
  {
   "cell_type": "code",
   "execution_count": 5,
   "id": "a26202ea",
   "metadata": {},
   "outputs": [
    {
     "data": {
      "text/plain": [
       "{'name': 'Microsoft'}"
      ]
     },
     "execution_count": 5,
     "metadata": {},
     "output_type": "execute_result"
    }
   ],
   "source": [
    "company = Company('Microsoft')\n",
    "company.__dict__"
   ]
  },
  {
   "cell_type": "code",
   "execution_count": 6,
   "id": "72337f06",
   "metadata": {},
   "outputs": [],
   "source": [
    "company2 = Company.__new__(Company)"
   ]
  },
  {
   "cell_type": "code",
   "execution_count": 7,
   "id": "2b18d559",
   "metadata": {},
   "outputs": [],
   "source": [
    "company2.__init__('Apple')"
   ]
  },
  {
   "cell_type": "code",
   "execution_count": 8,
   "id": "b1530373",
   "metadata": {},
   "outputs": [
    {
     "data": {
      "text/plain": [
       "{'name': 'Apple'}"
      ]
     },
     "execution_count": 8,
     "metadata": {},
     "output_type": "execute_result"
    }
   ],
   "source": [
    "company2.__dict__"
   ]
  },
  {
   "cell_type": "code",
   "execution_count": 9,
   "id": "52c6ba56",
   "metadata": {},
   "outputs": [],
   "source": [
    "class Student:\n",
    "    \n",
    "    students = []\n",
    "    limit = 3\n",
    "    \n",
    "    def __new__(cls):\n",
    "        if len(cls.students) >= cls.limit:\n",
    "            raise RuntimeError(f'Instrance limit reached: {cls.limit}')\n",
    "        instance = object.__new__(cls)\n",
    "        cls.students.append(instance)\n",
    "        return instance"
   ]
  },
  {
   "cell_type": "code",
   "execution_count": 10,
   "id": "513c83b7",
   "metadata": {},
   "outputs": [],
   "source": [
    "s1 = Student()\n",
    "s2 = Student()\n",
    "s3 = Student()"
   ]
  },
  {
   "cell_type": "code",
   "execution_count": 11,
   "id": "70a5aa9a",
   "metadata": {},
   "outputs": [
    {
     "data": {
      "text/plain": [
       "mappingproxy({'__module__': '__main__',\n",
       "              'students': [<__main__.Student at 0x2753157eb80>,\n",
       "               <__main__.Student at 0x2753157e760>,\n",
       "               <__main__.Student at 0x2753157ec10>],\n",
       "              'limit': 3,\n",
       "              '__new__': <staticmethod at 0x2753157eb50>,\n",
       "              '__dict__': <attribute '__dict__' of 'Student' objects>,\n",
       "              '__weakref__': <attribute '__weakref__' of 'Student' objects>,\n",
       "              '__doc__': None})"
      ]
     },
     "execution_count": 11,
     "metadata": {},
     "output_type": "execute_result"
    }
   ],
   "source": [
    "Student.__dict__"
   ]
  },
  {
   "cell_type": "markdown",
   "id": "3524212c",
   "metadata": {},
   "source": [
    "#### 2. __repr __"
   ]
  },
  {
   "cell_type": "code",
   "execution_count": 12,
   "id": "6f4a8a3c",
   "metadata": {},
   "outputs": [
    {
     "name": "stdout",
     "output_type": "stream",
     "text": [
      "Help on wrapper_descriptor:\n",
      "\n",
      "__repr__(self, /)\n",
      "    Return repr(self).\n",
      "\n"
     ]
    }
   ],
   "source": [
    "help(object.__repr__)"
   ]
  },
  {
   "cell_type": "code",
   "execution_count": 13,
   "id": "9e61cd21",
   "metadata": {},
   "outputs": [
    {
     "data": {
      "text/plain": [
       "\"<class 'object'>\""
      ]
     },
     "execution_count": 13,
     "metadata": {},
     "output_type": "execute_result"
    }
   ],
   "source": [
    "repr(object)"
   ]
  },
  {
   "cell_type": "code",
   "execution_count": 14,
   "id": "a6969ad6",
   "metadata": {},
   "outputs": [
    {
     "data": {
      "text/plain": [
       "mappingproxy({'__module__': '__main__',\n",
       "              '__init__': <function __main__.Phone.__init__(self, brand)>,\n",
       "              '__dict__': <attribute '__dict__' of 'Phone' objects>,\n",
       "              '__weakref__': <attribute '__weakref__' of 'Phone' objects>,\n",
       "              '__doc__': None})"
      ]
     },
     "execution_count": 14,
     "metadata": {},
     "output_type": "execute_result"
    }
   ],
   "source": [
    "class Phone:\n",
    "    \n",
    "    def __init__(self, brand):\n",
    "        self.brand = brand\n",
    "        \n",
    "Phone.__dict__"
   ]
  },
  {
   "cell_type": "code",
   "execution_count": 15,
   "id": "236d75dc",
   "metadata": {},
   "outputs": [
    {
     "data": {
      "text/plain": [
       "__main__.Phone"
      ]
     },
     "execution_count": 15,
     "metadata": {},
     "output_type": "execute_result"
    }
   ],
   "source": [
    "Phone"
   ]
  },
  {
   "cell_type": "code",
   "execution_count": 16,
   "id": "92a87eda",
   "metadata": {},
   "outputs": [
    {
     "data": {
      "text/plain": [
       "\"<class '__main__.Phone'>\""
      ]
     },
     "execution_count": 16,
     "metadata": {},
     "output_type": "execute_result"
    }
   ],
   "source": [
    "repr(Phone)"
   ]
  },
  {
   "cell_type": "code",
   "execution_count": 17,
   "id": "41ee3c79",
   "metadata": {},
   "outputs": [
    {
     "data": {
      "text/plain": [
       "<__main__.Phone at 0x27531593130>"
      ]
     },
     "execution_count": 17,
     "metadata": {},
     "output_type": "execute_result"
    }
   ],
   "source": [
    "phone = Phone('Apple')\n",
    "phone"
   ]
  },
  {
   "cell_type": "code",
   "execution_count": 18,
   "id": "3bf67816",
   "metadata": {},
   "outputs": [
    {
     "data": {
      "text/plain": [
       "'<__main__.Phone object at 0x0000027531593130>'"
      ]
     },
     "execution_count": 18,
     "metadata": {},
     "output_type": "execute_result"
    }
   ],
   "source": [
    "repr(phone)"
   ]
  },
  {
   "cell_type": "code",
   "execution_count": 19,
   "id": "d5d0ceb6",
   "metadata": {},
   "outputs": [
    {
     "data": {
      "text/plain": [
       "mappingproxy({'__module__': '__main__',\n",
       "              '__init__': <function __main__.Phone.__init__(self, brand)>,\n",
       "              '__repr__': <function __main__.Phone.__repr__(self)>,\n",
       "              '__dict__': <attribute '__dict__' of 'Phone' objects>,\n",
       "              '__weakref__': <attribute '__weakref__' of 'Phone' objects>,\n",
       "              '__doc__': None})"
      ]
     },
     "execution_count": 19,
     "metadata": {},
     "output_type": "execute_result"
    }
   ],
   "source": [
    "class Phone:\n",
    "    \n",
    "    def __init__(self, brand):\n",
    "        self.brand = brand\n",
    "        \n",
    "    def __repr__(self):\n",
    "        return f\"Phone(brand = '{self.brand}')\"\n",
    "        \n",
    "Phone.__dict__"
   ]
  },
  {
   "cell_type": "code",
   "execution_count": 20,
   "id": "cc2eda30",
   "metadata": {},
   "outputs": [
    {
     "data": {
      "text/plain": [
       "Phone(brand = 'Apple')"
      ]
     },
     "execution_count": 20,
     "metadata": {},
     "output_type": "execute_result"
    }
   ],
   "source": [
    "phone = Phone('Apple')\n",
    "phone"
   ]
  },
  {
   "cell_type": "code",
   "execution_count": 21,
   "id": "8a2bfb7f",
   "metadata": {},
   "outputs": [
    {
     "data": {
      "text/plain": [
       "\"Phone(brand = 'Apple')\""
      ]
     },
     "execution_count": 21,
     "metadata": {},
     "output_type": "execute_result"
    }
   ],
   "source": [
    "repr(phone)"
   ]
  },
  {
   "cell_type": "markdown",
   "id": "df2ce207",
   "metadata": {},
   "source": [
    "#### 3.  __str __"
   ]
  },
  {
   "cell_type": "code",
   "execution_count": 22,
   "id": "ae5611b4",
   "metadata": {},
   "outputs": [],
   "source": [
    "class Phone:\n",
    "    \n",
    "    def __init__(self, brand):\n",
    "        self.brand = brand\n",
    "        \n",
    "    def __repr__(self):\n",
    "        return f\"Phone(brand = '{self.brand}')\"\n",
    "        \n",
    "    def __str__(self):\n",
    "        return f'{self.brand} brand mobile phone.'"
   ]
  },
  {
   "cell_type": "code",
   "execution_count": 23,
   "id": "2176a78a",
   "metadata": {},
   "outputs": [
    {
     "data": {
      "text/plain": [
       "Phone(brand = 'Apple')"
      ]
     },
     "execution_count": 23,
     "metadata": {},
     "output_type": "execute_result"
    }
   ],
   "source": [
    "phone = Phone('Apple')\n",
    "phone"
   ]
  },
  {
   "cell_type": "code",
   "execution_count": 24,
   "id": "66b72585",
   "metadata": {},
   "outputs": [
    {
     "name": "stdout",
     "output_type": "stream",
     "text": [
      "Apple brand mobile phone.\n"
     ]
    }
   ],
   "source": [
    "print(phone)"
   ]
  },
  {
   "cell_type": "code",
   "execution_count": 25,
   "id": "75fc6ac8",
   "metadata": {},
   "outputs": [
    {
     "data": {
      "text/plain": [
       "'Apple brand mobile phone.'"
      ]
     },
     "execution_count": 25,
     "metadata": {},
     "output_type": "execute_result"
    }
   ],
   "source": [
    "str(phone) # the same: phone.__str__()"
   ]
  },
  {
   "cell_type": "markdown",
   "id": "b6a0f89b",
   "metadata": {},
   "source": [
    "#### 4. __len __"
   ]
  },
  {
   "cell_type": "code",
   "execution_count": 26,
   "id": "743970cc",
   "metadata": {},
   "outputs": [],
   "source": [
    "class Point:\n",
    "    def __init__(self, *coords):\n",
    "        for value in coords:\n",
    "            if not isinstance(value, (float, int)):\n",
    "                raise ValueError('Coordinates must be of type int or float.')\n",
    "        self._coords = coords\n",
    "        \n",
    "    def __repr__(self):\n",
    "        return f'Point(coords={self._coords})'\n",
    "    \n",
    "    def __len__(self):\n",
    "        return len(self._coords)\n",
    "        \n",
    "    @property\n",
    "    def coords(self):\n",
    "        return self._coords"
   ]
  },
  {
   "cell_type": "code",
   "execution_count": 27,
   "id": "c2ca91de",
   "metadata": {},
   "outputs": [
    {
     "data": {
      "text/plain": [
       "{'_coords': (3, 4)}"
      ]
     },
     "execution_count": 27,
     "metadata": {},
     "output_type": "execute_result"
    }
   ],
   "source": [
    "p = Point(3, 4)\n",
    "p.__dict__"
   ]
  },
  {
   "cell_type": "code",
   "execution_count": 28,
   "id": "2e8c7108",
   "metadata": {},
   "outputs": [
    {
     "data": {
      "text/plain": [
       "Point(coords=(3, 4))"
      ]
     },
     "execution_count": 28,
     "metadata": {},
     "output_type": "execute_result"
    }
   ],
   "source": [
    "p"
   ]
  },
  {
   "cell_type": "code",
   "execution_count": 29,
   "id": "495c67d2",
   "metadata": {},
   "outputs": [
    {
     "data": {
      "text/plain": [
       "3"
      ]
     },
     "execution_count": 29,
     "metadata": {},
     "output_type": "execute_result"
    }
   ],
   "source": [
    "q = Point(3, 4, -4)\n",
    "len(q) #q__len__()"
   ]
  },
  {
   "cell_type": "markdown",
   "id": "61934d6c",
   "metadata": {},
   "source": [
    "#### 5. __bool __"
   ]
  },
  {
   "cell_type": "code",
   "execution_count": 30,
   "id": "9fc99c37",
   "metadata": {},
   "outputs": [],
   "source": [
    "class Point:\n",
    "    def __init__(self, *coords):\n",
    "        for value in coords:\n",
    "            if not isinstance(value, (float, int)):\n",
    "                raise ValueError('Coordinates must be of type int or float.')\n",
    "        self._coords = coords\n",
    "        \n",
    "    def __repr__(self):\n",
    "        return f'Point(coords={self._coords})'\n",
    "    \n",
    "    def __len__(self):\n",
    "        return len(self._coords)\n",
    "    \n",
    "    def __bool__(self):\n",
    "        return sum(self._coords) != 0\n",
    "        \n",
    "    @property\n",
    "    def coords(self):\n",
    "        return self._coords"
   ]
  },
  {
   "cell_type": "code",
   "execution_count": 31,
   "id": "28599320",
   "metadata": {},
   "outputs": [
    {
     "data": {
      "text/plain": [
       "True"
      ]
     },
     "execution_count": 31,
     "metadata": {},
     "output_type": "execute_result"
    }
   ],
   "source": [
    "p = Point(1,2)\n",
    "bool(p)"
   ]
  },
  {
   "cell_type": "code",
   "execution_count": 32,
   "id": "ae17e7f7",
   "metadata": {},
   "outputs": [
    {
     "data": {
      "text/plain": [
       "False"
      ]
     },
     "execution_count": 32,
     "metadata": {},
     "output_type": "execute_result"
    }
   ],
   "source": [
    "z = Point(1, 2, -3)\n",
    "bool(z)"
   ]
  },
  {
   "cell_type": "code",
   "execution_count": 33,
   "id": "65f62ab1",
   "metadata": {},
   "outputs": [
    {
     "data": {
      "text/plain": [
       "False"
      ]
     },
     "execution_count": 33,
     "metadata": {},
     "output_type": "execute_result"
    }
   ],
   "source": [
    "y = Point()\n",
    "bool(y)"
   ]
  },
  {
   "cell_type": "markdown",
   "id": "a87eadd8",
   "metadata": {},
   "source": [
    "#### 6. Two-argument operators"
   ]
  },
  {
   "cell_type": "code",
   "execution_count": 34,
   "id": "786dcd2b",
   "metadata": {},
   "outputs": [],
   "source": [
    "# + -> object.__add__(self, other); a+b -> a.__add__(b)\n",
    "# - -> object.__sub__(self, other)\n",
    "# * -> object.__mul__(self, other)\n",
    "# // -> object.__floordiv__(self, other)\n",
    "# / -> object.__truediv__(self, other)\n",
    "# % -> object.__mod__(self, other)\n",
    "# ** -> object.__pow__(self, other)"
   ]
  },
  {
   "cell_type": "code",
   "execution_count": 35,
   "id": "1e2ff423",
   "metadata": {},
   "outputs": [],
   "source": [
    "class Point:\n",
    "    def __init__(self, *coords):\n",
    "        for value in coords:\n",
    "            if not isinstance(value, (float, int)):\n",
    "                raise ValueError('Coordinates must be of type int or float.')\n",
    "        self._coords = coords\n",
    "        \n",
    "    def __repr__(self):\n",
    "        return f'Point(coords={self._coords})'\n",
    "    \n",
    "    def __add__(self, other):\n",
    "        if not isinstance(other, Point):\n",
    "            return NotImplemented\n",
    "        coords = tuple(x + y for x, y in zip(self.coords, other.coords))\n",
    "        return Point(*coords)\n",
    "    \n",
    "    def __sub__(self, other):\n",
    "        if not isinstance(other, Point):\n",
    "            return NotImplemented\n",
    "        coords = tuple(x - y for x, y in zip(self.coords, other.coords))\n",
    "        return Point(*coords)\n",
    "    \n",
    "    def __mul__(self, other):\n",
    "        if not isinstance(other, Point):\n",
    "            return NotImplemented\n",
    "        coords = tuple(x * y for x, y in zip(self.coords, other.coords))\n",
    "        return Point(*coords)\n",
    "    \n",
    "    def __truediv__(self, other):\n",
    "        if not isinstance(other, Point):\n",
    "            return NotImplemented\n",
    "        for coord in other.coords:\n",
    "            if coord == 0:\n",
    "                raise ZeroDivisionError('Division by zero.')\n",
    "        coords = tuple(x / y for x, y in zip(self.coords, other.coords))\n",
    "        return Point(*coords)\n",
    "    \n",
    "    def __floordiv__(self, other):\n",
    "        if not isinstance(other, Point):\n",
    "            return NotImplemented\n",
    "        for coord in other.coords:\n",
    "            if coord == 0:\n",
    "                raise ZeroDivisionError('Division by zero.')\n",
    "        coords = tuple(x // y for x, y in zip(self.coords, other.coords))\n",
    "        return Point(*coords)\n",
    "        \n",
    "    @property\n",
    "    def coords(self):\n",
    "        return self._coords"
   ]
  },
  {
   "cell_type": "code",
   "execution_count": 36,
   "id": "be65413a",
   "metadata": {},
   "outputs": [
    {
     "data": {
      "text/plain": [
       "Point(coords=(9, 4))"
      ]
     },
     "execution_count": 36,
     "metadata": {},
     "output_type": "execute_result"
    }
   ],
   "source": [
    "p1 = Point(4, 2)\n",
    "p2 = Point(5, 2)\n",
    "p1 + p2"
   ]
  },
  {
   "cell_type": "code",
   "execution_count": 37,
   "id": "746ac3b6",
   "metadata": {},
   "outputs": [
    {
     "data": {
      "text/plain": [
       "Point(coords=(-1, 0))"
      ]
     },
     "execution_count": 37,
     "metadata": {},
     "output_type": "execute_result"
    }
   ],
   "source": [
    "p1 - p2"
   ]
  },
  {
   "cell_type": "code",
   "execution_count": 38,
   "id": "438a9c22",
   "metadata": {},
   "outputs": [
    {
     "data": {
      "text/plain": [
       "Point(coords=(20, 4))"
      ]
     },
     "execution_count": 38,
     "metadata": {},
     "output_type": "execute_result"
    }
   ],
   "source": [
    "p1 * p2"
   ]
  },
  {
   "cell_type": "code",
   "execution_count": 39,
   "id": "9d4a14b1",
   "metadata": {},
   "outputs": [
    {
     "data": {
      "text/plain": [
       "Point(coords=(0.8, 1.0))"
      ]
     },
     "execution_count": 39,
     "metadata": {},
     "output_type": "execute_result"
    }
   ],
   "source": [
    "p1/p2"
   ]
  },
  {
   "cell_type": "code",
   "execution_count": 40,
   "id": "e4023cb1",
   "metadata": {},
   "outputs": [
    {
     "data": {
      "text/plain": [
       "Point(coords=(0, 1))"
      ]
     },
     "execution_count": 40,
     "metadata": {},
     "output_type": "execute_result"
    }
   ],
   "source": [
    "p1//p2"
   ]
  },
  {
   "cell_type": "markdown",
   "id": "ad9e4d8e",
   "metadata": {},
   "source": [
    "#### Extended assignment"
   ]
  },
  {
   "cell_type": "code",
   "execution_count": 41,
   "id": "279b24a1",
   "metadata": {},
   "outputs": [],
   "source": [
    "# += -> object.__iadd__(self, other)\n",
    "# -= -> object.__isub__(self, other)\n",
    "# *= -> object.__imul__(self, other)\n",
    "# /= -> object.__itruediv__(self, other)"
   ]
  },
  {
   "cell_type": "code",
   "execution_count": 42,
   "id": "3ee79996",
   "metadata": {},
   "outputs": [],
   "source": [
    "class Doc:\n",
    "    \n",
    "    def __init__(self, string):\n",
    "        self.string = string\n",
    "        \n",
    "    def __repr__(self):\n",
    "        return f\"Doc(string='{self.string}')\"\n",
    "    \n",
    "    def __str__(self):\n",
    "        return f'{self.string}'\n",
    "    \n",
    "    def __add__(self, other):\n",
    "        if not isinstance(other, Doc):\n",
    "            raise NotImplemented\n",
    "        return Doc(self.string + ' ' + other.string)\n",
    "    \n",
    "    def __iadd__(self, other):\n",
    "        if not isinstance(other, Doc):\n",
    "            raise NotImplemented\n",
    "        return Doc(self.string + '-' + other.string)"
   ]
  },
  {
   "cell_type": "code",
   "execution_count": 43,
   "id": "3abba9f2",
   "metadata": {},
   "outputs": [],
   "source": [
    "doc1 = Doc('Object')\n",
    "doc2 = Doc('Oriented')\n",
    "doc3 = Doc('Programming')"
   ]
  },
  {
   "cell_type": "code",
   "execution_count": 44,
   "id": "995a0d33",
   "metadata": {},
   "outputs": [
    {
     "data": {
      "text/plain": [
       "Doc(string='Object')"
      ]
     },
     "execution_count": 44,
     "metadata": {},
     "output_type": "execute_result"
    }
   ],
   "source": [
    "doc1"
   ]
  },
  {
   "cell_type": "code",
   "execution_count": 45,
   "id": "311a3b1d",
   "metadata": {},
   "outputs": [],
   "source": [
    "doc1 += doc2"
   ]
  },
  {
   "cell_type": "code",
   "execution_count": 46,
   "id": "98ad62c4",
   "metadata": {},
   "outputs": [
    {
     "data": {
      "text/plain": [
       "Doc(string='Object-Oriented')"
      ]
     },
     "execution_count": 46,
     "metadata": {},
     "output_type": "execute_result"
    }
   ],
   "source": [
    "doc1"
   ]
  },
  {
   "cell_type": "markdown",
   "id": "9136a05a",
   "metadata": {},
   "source": [
    "#### Comparison operators"
   ]
  },
  {
   "cell_type": "code",
   "execution_count": 47,
   "id": "104d5e51",
   "metadata": {},
   "outputs": [],
   "source": [
    "# < object.__lt__(self,other)\n",
    "# <= object.__le__(self,other)\n",
    "# > object.__gt__(self,other)\n",
    "# >= object.__ge__(self,other)\n",
    "# == object.__eq__(self,other)\n",
    "# != object.__ne__(self,other)"
   ]
  },
  {
   "cell_type": "code",
   "execution_count": 48,
   "id": "74bca473",
   "metadata": {},
   "outputs": [],
   "source": [
    "class Doc:\n",
    "    \n",
    "    def __init__(self, string):\n",
    "        self.string = string\n",
    "        \n",
    "    def __repr__(self):\n",
    "        return f\"Doc(string='{self.string}')\"\n",
    "    \n",
    "    def __str__(self):\n",
    "        return f'{self.string}'\n",
    "    \n",
    "    def __add__(self, other):\n",
    "        if not isinstance(other, Doc):\n",
    "            raise NotImplemented\n",
    "        return Doc(self.string + ' ' + other.string)\n",
    "    \n",
    "    def __eq__(self, other):\n",
    "        if not isinstance(other, Doc):\n",
    "            return False\n",
    "        return len(self.string) == len(other.string)\n",
    "    \n",
    "    def __lt__(self, other):\n",
    "        if not isinstance(other, Doc):\n",
    "            return NotImplemented\n",
    "        return len(self.string) < len(other.string)\n",
    "    \n",
    "    def __le__(self, other):\n",
    "        if not isinstance(other, Doc):\n",
    "            return NotImplemented\n",
    "        return len(self.string) <= len(other.string)"
   ]
  },
  {
   "cell_type": "code",
   "execution_count": 49,
   "id": "603b020d",
   "metadata": {},
   "outputs": [
    {
     "data": {
      "text/plain": [
       "(Doc(string='abc'), Doc(string='xyz'))"
      ]
     },
     "execution_count": 49,
     "metadata": {},
     "output_type": "execute_result"
    }
   ],
   "source": [
    "doc1 = Doc('abc') \n",
    "doc2 = Doc('xyz')\n",
    "doc1, doc2"
   ]
  },
  {
   "cell_type": "code",
   "execution_count": 50,
   "id": "13a244ed",
   "metadata": {},
   "outputs": [
    {
     "data": {
      "text/plain": [
       "True"
      ]
     },
     "execution_count": 50,
     "metadata": {},
     "output_type": "execute_result"
    }
   ],
   "source": [
    "doc1 == doc2"
   ]
  },
  {
   "cell_type": "code",
   "execution_count": 51,
   "id": "62da8a4e",
   "metadata": {},
   "outputs": [
    {
     "data": {
      "text/plain": [
       "(Doc(string='ab'), Doc(string='xyz'))"
      ]
     },
     "execution_count": 51,
     "metadata": {},
     "output_type": "execute_result"
    }
   ],
   "source": [
    "doc1 = Doc('ab') \n",
    "doc2 = Doc('xyz')\n",
    "doc1, doc2"
   ]
  },
  {
   "cell_type": "code",
   "execution_count": 52,
   "id": "aa7bdaf7",
   "metadata": {},
   "outputs": [
    {
     "data": {
      "text/plain": [
       "False"
      ]
     },
     "execution_count": 52,
     "metadata": {},
     "output_type": "execute_result"
    }
   ],
   "source": [
    "doc1 == doc2"
   ]
  },
  {
   "cell_type": "code",
   "execution_count": 53,
   "id": "90573dd3",
   "metadata": {},
   "outputs": [
    {
     "data": {
      "text/plain": [
       "True"
      ]
     },
     "execution_count": 53,
     "metadata": {},
     "output_type": "execute_result"
    }
   ],
   "source": [
    "doc1 < doc2"
   ]
  },
  {
   "cell_type": "code",
   "execution_count": 54,
   "id": "0d587625",
   "metadata": {},
   "outputs": [
    {
     "data": {
      "text/plain": [
       "True"
      ]
     },
     "execution_count": 54,
     "metadata": {},
     "output_type": "execute_result"
    }
   ],
   "source": [
    "doc1 <= doc2"
   ]
  },
  {
   "cell_type": "markdown",
   "id": "b6504186",
   "metadata": {},
   "source": [
    "#### 7. __hash __()"
   ]
  },
  {
   "cell_type": "code",
   "execution_count": 55,
   "id": "5e178af9",
   "metadata": {},
   "outputs": [
    {
     "data": {
      "text/plain": [
       "(<__main__.Doc at 0x275315c2880>, <__main__.Doc at 0x275315c28e0>)"
      ]
     },
     "execution_count": 55,
     "metadata": {},
     "output_type": "execute_result"
    }
   ],
   "source": [
    "class Doc:\n",
    "    pass\n",
    "\n",
    "doc1 = Doc()\n",
    "doc2 = Doc()\n",
    "\n",
    "doc1, doc2"
   ]
  },
  {
   "cell_type": "code",
   "execution_count": 56,
   "id": "d586cc0b",
   "metadata": {},
   "outputs": [
    {
     "data": {
      "text/plain": [
       "(168897659528, 168897659534)"
      ]
     },
     "execution_count": 56,
     "metadata": {},
     "output_type": "execute_result"
    }
   ],
   "source": [
    "hash(doc1), hash(doc2)"
   ]
  },
  {
   "cell_type": "code",
   "execution_count": 57,
   "id": "606ca2f1",
   "metadata": {},
   "outputs": [
    {
     "data": {
      "text/plain": [
       "{<__main__.Doc at 0x275315c2880>, <__main__.Doc at 0x275315c28e0>}"
      ]
     },
     "execution_count": 57,
     "metadata": {},
     "output_type": "execute_result"
    }
   ],
   "source": [
    "docs = {doc1, doc2}\n",
    "docs"
   ]
  },
  {
   "cell_type": "code",
   "execution_count": 58,
   "id": "db94c163",
   "metadata": {},
   "outputs": [
    {
     "data": {
      "text/plain": [
       "(Doc(string='OOP'), Doc(string='OOP'), Doc(string='Python'))"
      ]
     },
     "execution_count": 58,
     "metadata": {},
     "output_type": "execute_result"
    }
   ],
   "source": [
    "class Document:\n",
    "    \n",
    "    def __init__(self, string):\n",
    "        self.string = string\n",
    "        \n",
    "    def __repr__(self):\n",
    "        return f\"Doc(string='{self.string}')\"\n",
    "        \n",
    "    def __eq__(self, other):\n",
    "        return isinstance(other, Document) and self.string == other.string\n",
    "    \n",
    "    def __hash__(self):\n",
    "        return hash(self.string)\n",
    "    \n",
    "d1 = Document('OOP')\n",
    "d2 = Document('OOP')\n",
    "d3 = Document('Python')\n",
    "\n",
    "d1, d2, d3"
   ]
  },
  {
   "cell_type": "code",
   "execution_count": 59,
   "id": "45e28d44",
   "metadata": {},
   "outputs": [
    {
     "data": {
      "text/plain": [
       "-832724470131385080"
      ]
     },
     "execution_count": 59,
     "metadata": {},
     "output_type": "execute_result"
    }
   ],
   "source": [
    "hash(d1)"
   ]
  },
  {
   "cell_type": "code",
   "execution_count": 60,
   "id": "2ba24c35",
   "metadata": {},
   "outputs": [],
   "source": [
    "docs = {d1, d2, d3}"
   ]
  },
  {
   "cell_type": "markdown",
   "id": "3f3ecf79",
   "metadata": {},
   "source": [
    "#### 8. __call __"
   ]
  },
  {
   "cell_type": "code",
   "execution_count": 61,
   "id": "d2303a3f",
   "metadata": {},
   "outputs": [],
   "source": [
    "class Doc:\n",
    "    \n",
    "    def __init__(self, string):\n",
    "        self.string = string\n",
    "        \n",
    "    def __repr__(self):\n",
    "        return f\"Doc(string='{self.string}')\"\n",
    "    \n",
    "    def __call__(self):\n",
    "        print(f'Calling... {self}')"
   ]
  },
  {
   "cell_type": "code",
   "execution_count": 62,
   "id": "84c8aae7",
   "metadata": {},
   "outputs": [
    {
     "data": {
      "text/plain": [
       "Doc(string='OOP')"
      ]
     },
     "execution_count": 62,
     "metadata": {},
     "output_type": "execute_result"
    }
   ],
   "source": [
    "doc1 = Doc('OOP')\n",
    "doc1"
   ]
  },
  {
   "cell_type": "code",
   "execution_count": 63,
   "id": "41675b20",
   "metadata": {},
   "outputs": [
    {
     "name": "stdout",
     "output_type": "stream",
     "text": [
      "Calling... Doc(string='OOP')\n"
     ]
    }
   ],
   "source": [
    "doc1()"
   ]
  },
  {
   "cell_type": "markdown",
   "id": "7939c9e8",
   "metadata": {},
   "source": [
    "#### Exercises"
   ]
  },
  {
   "cell_type": "code",
   "execution_count": 64,
   "id": "7f29d929",
   "metadata": {},
   "outputs": [],
   "source": [
    "class Integer:\n",
    "    \n",
    "    def __init__(self, num=0):\n",
    "        self.num = int(num)\n",
    "            \n",
    "    def __str__(self):\n",
    "        return str(self.num)\n",
    "    \n",
    "    def __repr__(self):\n",
    "        return f\"Integer({self.num})\"\n",
    "    \n",
    "    def __add__(self, other):\n",
    "        if not isinstance(other, Integer):\n",
    "            raise NotImplemented\n",
    "        return Integer(self.num + other.num)\n",
    "    \n",
    "    def __sub__(self, other):\n",
    "        if not isinstance(other, Integer):\n",
    "            raise NotImplemented\n",
    "        return Integer(self.num - other.num)"
   ]
  },
  {
   "cell_type": "code",
   "execution_count": 65,
   "id": "9b0a9412",
   "metadata": {},
   "outputs": [],
   "source": [
    "num1 = Integer(5)\n",
    "num2 = Integer(3)"
   ]
  },
  {
   "cell_type": "code",
   "execution_count": 66,
   "id": "9e3c3e83",
   "metadata": {},
   "outputs": [
    {
     "data": {
      "text/plain": [
       "Integer(5)"
      ]
     },
     "execution_count": 66,
     "metadata": {},
     "output_type": "execute_result"
    }
   ],
   "source": [
    "num1"
   ]
  },
  {
   "cell_type": "code",
   "execution_count": 67,
   "id": "0bce5eb8",
   "metadata": {},
   "outputs": [
    {
     "data": {
      "text/plain": [
       "'5'"
      ]
     },
     "execution_count": 67,
     "metadata": {},
     "output_type": "execute_result"
    }
   ],
   "source": [
    "str(num1)"
   ]
  },
  {
   "cell_type": "code",
   "execution_count": 68,
   "id": "c74943a2",
   "metadata": {},
   "outputs": [
    {
     "data": {
      "text/plain": [
       "'Integer(5)'"
      ]
     },
     "execution_count": 68,
     "metadata": {},
     "output_type": "execute_result"
    }
   ],
   "source": [
    "repr(num1)"
   ]
  },
  {
   "cell_type": "code",
   "execution_count": 69,
   "id": "eabe4aa5",
   "metadata": {},
   "outputs": [
    {
     "data": {
      "text/plain": [
       "Integer(8)"
      ]
     },
     "execution_count": 69,
     "metadata": {},
     "output_type": "execute_result"
    }
   ],
   "source": [
    "num1 + num2"
   ]
  },
  {
   "cell_type": "code",
   "execution_count": 70,
   "id": "e1c19e8c",
   "metadata": {},
   "outputs": [
    {
     "data": {
      "text/plain": [
       "Integer(2)"
      ]
     },
     "execution_count": 70,
     "metadata": {},
     "output_type": "execute_result"
    }
   ],
   "source": [
    "num1 - num2"
   ]
  },
  {
   "cell_type": "code",
   "execution_count": 71,
   "id": "65f0517c",
   "metadata": {},
   "outputs": [
    {
     "name": "stdout",
     "output_type": "stream",
     "text": [
      "Worker(fname='Mike', lname='Smith')\n"
     ]
    }
   ],
   "source": [
    "class Worker:\n",
    "    \n",
    "    def __init__(self, fname, lname):\n",
    "        self.fname = fname\n",
    "        self.lname = lname\n",
    "        \n",
    "    def __repr__(self):\n",
    "        return f\"Worker(fname='{self.fname}', lname='{self.lname}')\"\n",
    "    \n",
    "    \n",
    "worker = Worker('Mike', 'Smith')\n",
    "print(worker)"
   ]
  },
  {
   "cell_type": "code",
   "execution_count": 72,
   "id": "a4985db4",
   "metadata": {},
   "outputs": [
    {
     "name": "stdout",
     "output_type": "stream",
     "text": [
      "(3, 5)\n"
     ]
    }
   ],
   "source": [
    "class Vector:\n",
    "    def __init__(self, *components):\n",
    "        self.components = components\n",
    "\n",
    "    def __repr__(self):\n",
    "        return f'Vector{self.components}'\n",
    "\n",
    "    def __str__(self):\n",
    "        return f'{self.components}'\n",
    "\n",
    "    def __len__(self):\n",
    "        return len(self.components)\n",
    "        \n",
    "    def __add__(self, other):\n",
    "        components = tuple(x + y for x, y in zip(self.components, other.components))\n",
    "        return Vector(*components)\n",
    "        \n",
    "v1 = Vector(4, 2)\n",
    "v2 = Vector(-1, 3)\n",
    "\n",
    "print(v1 + v2)"
   ]
  },
  {
   "cell_type": "code",
   "execution_count": 73,
   "id": "63c0c82f",
   "metadata": {},
   "outputs": [],
   "source": [
    "class Person:\n",
    "    def __init__(self, name, age, nationality):\n",
    "        self.name = name\n",
    "        self.age = age\n",
    "        self.nationality = nationality\n",
    "\n",
    "    def __bool__(self):\n",
    "        return self.age >= 18"
   ]
  },
  {
   "cell_type": "code",
   "execution_count": 74,
   "id": "aac16e04",
   "metadata": {},
   "outputs": [],
   "source": [
    "person = Person('Mike', 21, 'Swedish')"
   ]
  },
  {
   "cell_type": "code",
   "execution_count": 75,
   "id": "2d46d6f7",
   "metadata": {},
   "outputs": [
    {
     "data": {
      "text/plain": [
       "True"
      ]
     },
     "execution_count": 75,
     "metadata": {},
     "output_type": "execute_result"
    }
   ],
   "source": [
    "bool(person)"
   ]
  },
  {
   "cell_type": "code",
   "execution_count": 76,
   "id": "ed969a59",
   "metadata": {},
   "outputs": [
    {
     "name": "stdout",
     "output_type": "stream",
     "text": [
      "True\n",
      "False\n"
     ]
    }
   ],
   "source": [
    "class Point:\n",
    "    def __init__(self, x, y):\n",
    "        self.x = x\n",
    "        self.y = y\n",
    "        \n",
    "    def __eq__(self, other):\n",
    "        if not isinstance(other, Point):\n",
    "            return False\n",
    "        return self.x == other.x and self.y == other.y\n",
    "\n",
    "\n",
    "p1 = Point(2, 3)\n",
    "p2 = Point(2, 3)\n",
    "p3 = Point(4, 5)\n",
    " \n",
    "print(p1 == p2)\n",
    "print(p1 == p3)"
   ]
  }
 ],
 "metadata": {
  "kernelspec": {
   "display_name": "Python 3",
   "language": "python",
   "name": "python3"
  },
  "language_info": {
   "codemirror_mode": {
    "name": "ipython",
    "version": 3
   },
   "file_extension": ".py",
   "mimetype": "text/x-python",
   "name": "python",
   "nbconvert_exporter": "python",
   "pygments_lexer": "ipython3",
   "version": "3.8.8"
  }
 },
 "nbformat": 4,
 "nbformat_minor": 5
}
