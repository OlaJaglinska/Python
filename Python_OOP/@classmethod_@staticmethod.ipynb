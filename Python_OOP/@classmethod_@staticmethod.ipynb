{
 "cells": [
  {
   "cell_type": "markdown",
   "id": "b703d615",
   "metadata": {},
   "source": [
    "### @classmethod"
   ]
  },
  {
   "cell_type": "code",
   "execution_count": 9,
   "id": "9f27e3ae",
   "metadata": {},
   "outputs": [
    {
     "data": {
      "text/plain": [
       "mappingproxy({'__module__': '__main__',\n",
       "              'show': <classmethod at 0x20481967250>,\n",
       "              '__dict__': <attribute '__dict__' of 'Phone' objects>,\n",
       "              '__weakref__': <attribute '__weakref__' of 'Phone' objects>,\n",
       "              '__doc__': None})"
      ]
     },
     "execution_count": 9,
     "metadata": {},
     "output_type": "execute_result"
    }
   ],
   "source": [
    "class Phone:\n",
    "    \n",
    "    def show(cls):\n",
    "        print(f'Running...{cls}')\n",
    "        \n",
    "    show = classmethod(show)\n",
    "        \n",
    "Phone.__dict__"
   ]
  },
  {
   "cell_type": "code",
   "execution_count": 10,
   "id": "36c2e8f3",
   "metadata": {},
   "outputs": [],
   "source": [
    "phone = Phone()"
   ]
  },
  {
   "cell_type": "code",
   "execution_count": 11,
   "id": "140f4ed0",
   "metadata": {},
   "outputs": [
    {
     "name": "stdout",
     "output_type": "stream",
     "text": [
      "Running...<class '__main__.Phone'>\n"
     ]
    }
   ],
   "source": [
    "phone.show()"
   ]
  },
  {
   "cell_type": "code",
   "execution_count": 17,
   "id": "873ca9d0",
   "metadata": {
    "scrolled": true
   },
   "outputs": [
    {
     "data": {
      "text/plain": [
       "mappingproxy({'__module__': '__main__',\n",
       "              'show': <classmethod at 0x204827feeb0>,\n",
       "              'describe': <function __main__.Phone.describe(self)>,\n",
       "              '__dict__': <attribute '__dict__' of 'Phone' objects>,\n",
       "              '__weakref__': <attribute '__weakref__' of 'Phone' objects>,\n",
       "              '__doc__': None})"
      ]
     },
     "execution_count": 17,
     "metadata": {},
     "output_type": "execute_result"
    }
   ],
   "source": [
    "class Phone:\n",
    "    \n",
    "    @classmethod\n",
    "    def show(cls):\n",
    "        print(f'Running...{cls}')\n",
    "        \n",
    "    def describe(self):\n",
    "        print(f'Describing..{self}')\n",
    "                \n",
    "Phone.__dict__"
   ]
  },
  {
   "cell_type": "code",
   "execution_count": 18,
   "id": "1f0a2c02",
   "metadata": {},
   "outputs": [
    {
     "name": "stdout",
     "output_type": "stream",
     "text": [
      "Running...<class '__main__.Phone'>\n"
     ]
    }
   ],
   "source": [
    "Phone.show()"
   ]
  },
  {
   "cell_type": "code",
   "execution_count": 19,
   "id": "fe79d500",
   "metadata": {},
   "outputs": [],
   "source": [
    "phone = Phone()"
   ]
  },
  {
   "cell_type": "code",
   "execution_count": 20,
   "id": "829999e2",
   "metadata": {},
   "outputs": [
    {
     "name": "stdout",
     "output_type": "stream",
     "text": [
      "Running...<class '__main__.Phone'>\n"
     ]
    }
   ],
   "source": [
    "phone.show()"
   ]
  },
  {
   "cell_type": "code",
   "execution_count": 22,
   "id": "7ae547f2",
   "metadata": {},
   "outputs": [
    {
     "name": "stdout",
     "output_type": "stream",
     "text": [
      "Describing..<__main__.Phone object at 0x00000204827FE7F0>\n"
     ]
    }
   ],
   "source": [
    "Phone.describe(phone)"
   ]
  },
  {
   "cell_type": "code",
   "execution_count": 37,
   "id": "383b708b",
   "metadata": {},
   "outputs": [
    {
     "data": {
      "text/plain": [
       "mappingproxy({'__module__': '__main__',\n",
       "              'instances': [],\n",
       "              '__init__': <function __main__.Phone.__init__(self, brand)>,\n",
       "              'show': <classmethod at 0x20482ebe340>,\n",
       "              'show_brand': <function __main__.Phone.show_brand(self)>,\n",
       "              '__dict__': <attribute '__dict__' of 'Phone' objects>,\n",
       "              '__weakref__': <attribute '__weakref__' of 'Phone' objects>,\n",
       "              '__doc__': None})"
      ]
     },
     "execution_count": 37,
     "metadata": {},
     "output_type": "execute_result"
    }
   ],
   "source": [
    "class Phone:\n",
    "    \n",
    "    instances = []\n",
    "    \n",
    "    def __init__(self, brand):\n",
    "        self.brand = brand\n",
    "        Phone.instances.append(self)\n",
    "        \n",
    "    @classmethod\n",
    "    def show(cls):\n",
    "        if len(cls.instances) > 0:\n",
    "            print(f'Lista of instances of the {cls.__name__} class:')\n",
    "            for instance in cls.instances:\n",
    "                print(f'\\t{instance}')\n",
    "        else:\n",
    "            print(f'There is no instance of the {cls.__name__} class.')\n",
    "            \n",
    "    def show_brand(self):\n",
    "        print(f'Brand: {self.brand}')\n",
    "        \n",
    "Phone.__dict__"
   ]
  },
  {
   "cell_type": "code",
   "execution_count": 38,
   "id": "66b1fccc",
   "metadata": {},
   "outputs": [
    {
     "name": "stdout",
     "output_type": "stream",
     "text": [
      "There is no instance of the Phone class.\n"
     ]
    }
   ],
   "source": [
    "Phone.show()"
   ]
  },
  {
   "cell_type": "code",
   "execution_count": 39,
   "id": "3b7e3e04",
   "metadata": {},
   "outputs": [
    {
     "name": "stdout",
     "output_type": "stream",
     "text": [
      "Lista of instances of the Phone class:\n",
      "\t<__main__.Phone object at 0x00000204827FEAC0>\n",
      "\t<__main__.Phone object at 0x00000204827FE9A0>\n"
     ]
    }
   ],
   "source": [
    "phone1 = Phone('Apple')\n",
    "phone2 = Phone('Samsung')\n",
    "\n",
    "Phone.show()"
   ]
  },
  {
   "cell_type": "code",
   "execution_count": 40,
   "id": "549d81f3",
   "metadata": {},
   "outputs": [
    {
     "name": "stdout",
     "output_type": "stream",
     "text": [
      "Brand: Apple\n",
      "Brand: Samsung\n"
     ]
    }
   ],
   "source": [
    "for instance in Phone.instances:\n",
    "    instance.show_brand()"
   ]
  },
  {
   "cell_type": "code",
   "execution_count": 27,
   "id": "786e6cd9",
   "metadata": {},
   "outputs": [],
   "source": [
    "class Student:\n",
    "    def __init__(self, name, age, gpa):\n",
    "        self.name = name\n",
    "        self.age = age\n",
    "        self.gpa = gpa\n",
    "\n",
    "    @classmethod\n",
    "    def from_csv(cls, csv_string):\n",
    "        csv_list = csv_string.split(',')\n",
    "        name = csv_list[0]\n",
    "        age = int(csv_list[1])\n",
    "        gpa = float(csv_list[2])\n",
    "        return cls(name, age, gpa)\n",
    "        \n",
    "\n",
    "csv_str = 'Alice,22,3.5'\n",
    "student = Student.from_csv(csv_str)\n",
    "print(student.__dict__)\n"
   ]
  },
  {
   "cell_type": "markdown",
   "id": "29098530",
   "metadata": {},
   "source": [
    "### @staticmethod"
   ]
  },
  {
   "cell_type": "code",
   "execution_count": 33,
   "id": "67ad73a4",
   "metadata": {},
   "outputs": [],
   "source": [
    "import time"
   ]
  },
  {
   "cell_type": "code",
   "execution_count": 65,
   "id": "d6a25e13",
   "metadata": {},
   "outputs": [
    {
     "data": {
      "text/plain": [
       "mappingproxy({'__module__': '__main__',\n",
       "              'instances': [],\n",
       "              '__init__': <function __main__.Phone.__init__(self)>,\n",
       "              'get_current_time': <staticmethod at 0x252e79567c0>,\n",
       "              '__dict__': <attribute '__dict__' of 'Phone' objects>,\n",
       "              '__weakref__': <attribute '__weakref__' of 'Phone' objects>,\n",
       "              '__doc__': None})"
      ]
     },
     "execution_count": 65,
     "metadata": {},
     "output_type": "execute_result"
    }
   ],
   "source": [
    "class Phone:\n",
    "    \n",
    "    instances = []\n",
    "    \n",
    "    def __init__(self):\n",
    "        self.creation_time = Phone.get_current_time()\n",
    "        Phone.instances.append(self)\n",
    "    \n",
    "    @staticmethod\n",
    "    def get_current_time():\n",
    "        return time.strftime('%H:%M:%S', time.localtime())\n",
    "    \n",
    "    #get_current_time = staticmethod(get_current_time)\n",
    "    \n",
    "Phone.__dict__"
   ]
  },
  {
   "cell_type": "code",
   "execution_count": 66,
   "id": "840f741c",
   "metadata": {},
   "outputs": [
    {
     "data": {
      "text/plain": [
       "'17:33:01'"
      ]
     },
     "execution_count": 66,
     "metadata": {},
     "output_type": "execute_result"
    }
   ],
   "source": [
    "Phone.get_current_time()"
   ]
  },
  {
   "cell_type": "code",
   "execution_count": 67,
   "id": "feb0f91f",
   "metadata": {},
   "outputs": [],
   "source": [
    "phone1 = Phone()\n",
    "time.sleep(1)\n",
    "phone2 = Phone()\n",
    "time.sleep(2)\n",
    "phone3 = Phone()"
   ]
  },
  {
   "cell_type": "code",
   "execution_count": 68,
   "id": "10303413",
   "metadata": {},
   "outputs": [
    {
     "data": {
      "text/plain": [
       "[<__main__.Phone at 0x252e7956400>,\n",
       " <__main__.Phone at 0x252e7489f70>,\n",
       " <__main__.Phone at 0x252e7489a30>]"
      ]
     },
     "execution_count": 68,
     "metadata": {},
     "output_type": "execute_result"
    }
   ],
   "source": [
    "Phone.instances"
   ]
  },
  {
   "cell_type": "code",
   "execution_count": 69,
   "id": "791e308d",
   "metadata": {},
   "outputs": [
    {
     "name": "stdout",
     "output_type": "stream",
     "text": [
      "17:33:03 <__main__.Phone object at 0x00000252E7956400>\n",
      "17:33:04 <__main__.Phone object at 0x00000252E7489F70>\n",
      "17:33:06 <__main__.Phone object at 0x00000252E7489A30>\n"
     ]
    }
   ],
   "source": [
    "for instance in Phone.instances:\n",
    "    print(instance.creation_time, instance)"
   ]
  },
  {
   "cell_type": "code",
   "execution_count": 81,
   "id": "4f82a759",
   "metadata": {},
   "outputs": [],
   "source": [
    "class Person:\n",
    "    \n",
    "    def __init__(self, input_str):\n",
    "        if Person._is_string_with_space(input_str):\n",
    "            items = input_str.split(' ')\n",
    "            if len(items) == 2:\n",
    "                self.name = items[0]\n",
    "                self.surname = items[1]\n",
    "            else:\n",
    "                raise ValueError('The object cannot be created')\n",
    "        else:\n",
    "            raise ValueError('Please insert a space between your name and '\n",
    "                             'surname.')\n",
    "            \n",
    "    @property\n",
    "    def _name(self):\n",
    "        return self._name\n",
    "        \n",
    "    @property\n",
    "    def _surname(self):\n",
    "        return self._surname\n",
    "    \n",
    "    @staticmethod\n",
    "    def _is_string_with_space(input_str):\n",
    "        return isinstance(input_str, str) and ' ' in input_str\n",
    "        "
   ]
  },
  {
   "cell_type": "code",
   "execution_count": 85,
   "id": "caff264b",
   "metadata": {},
   "outputs": [
    {
     "ename": "ValueError",
     "evalue": "Please insert a space between your name and surname.",
     "output_type": "error",
     "traceback": [
      "\u001b[1;31m---------------------------------------------------------------------------\u001b[0m",
      "\u001b[1;31mValueError\u001b[0m                                Traceback (most recent call last)",
      "\u001b[1;32m<ipython-input-85-bbac4fc0602c>\u001b[0m in \u001b[0;36m<module>\u001b[1;34m\u001b[0m\n\u001b[1;32m----> 1\u001b[1;33m \u001b[0mperson\u001b[0m \u001b[1;33m=\u001b[0m \u001b[0mPerson\u001b[0m\u001b[1;33m(\u001b[0m\u001b[1;34m'Anne_Black'\u001b[0m\u001b[1;33m)\u001b[0m\u001b[1;33m\u001b[0m\u001b[1;33m\u001b[0m\u001b[0m\n\u001b[0m",
      "\u001b[1;32m<ipython-input-81-c7823b4c1b5f>\u001b[0m in \u001b[0;36m__init__\u001b[1;34m(self, input_str)\u001b[0m\n\u001b[0;32m     10\u001b[0m                 \u001b[1;32mraise\u001b[0m \u001b[0mValueError\u001b[0m\u001b[1;33m(\u001b[0m\u001b[1;34m'The object cannot be created'\u001b[0m\u001b[1;33m)\u001b[0m\u001b[1;33m\u001b[0m\u001b[1;33m\u001b[0m\u001b[0m\n\u001b[0;32m     11\u001b[0m         \u001b[1;32melse\u001b[0m\u001b[1;33m:\u001b[0m\u001b[1;33m\u001b[0m\u001b[1;33m\u001b[0m\u001b[0m\n\u001b[1;32m---> 12\u001b[1;33m             raise ValueError('Please insert a space between your name and '\n\u001b[0m\u001b[0;32m     13\u001b[0m                              'surname.')\n\u001b[0;32m     14\u001b[0m \u001b[1;33m\u001b[0m\u001b[0m\n",
      "\u001b[1;31mValueError\u001b[0m: Please insert a space between your name and surname."
     ]
    }
   ],
   "source": [
    "person = Person('Anne Black')"
   ]
  },
  {
   "cell_type": "code",
   "execution_count": 83,
   "id": "ac256adf",
   "metadata": {},
   "outputs": [
    {
     "data": {
      "text/plain": [
       "'Anne'"
      ]
     },
     "execution_count": 83,
     "metadata": {},
     "output_type": "execute_result"
    }
   ],
   "source": [
    "person.name"
   ]
  },
  {
   "cell_type": "code",
   "execution_count": 84,
   "id": "5cb577fe",
   "metadata": {},
   "outputs": [
    {
     "data": {
      "text/plain": [
       "{'name': 'Anne', 'surname': 'Black'}"
      ]
     },
     "execution_count": 84,
     "metadata": {},
     "output_type": "execute_result"
    }
   ],
   "source": [
    "person.__dict__"
   ]
  },
  {
   "cell_type": "code",
   "execution_count": 4,
   "id": "bb98733a",
   "metadata": {},
   "outputs": [],
   "source": [
    "class FileUtils:\n",
    "    \n",
    "    @staticmethod\n",
    "    def file_extension(filename):\n",
    "        if isinstance(filename, str) and '.' in filename:\n",
    "            print(filename.split('.')[1])\n",
    "        else:\n",
    "            print('')"
   ]
  },
  {
   "cell_type": "code",
   "execution_count": 10,
   "id": "88020245",
   "metadata": {},
   "outputs": [
    {
     "name": "stdout",
     "output_type": "stream",
     "text": [
      "txt\n",
      "pdf\n",
      "\n",
      "png\n"
     ]
    }
   ],
   "source": [
    "FileUtils.file_extension('file.txt')\n",
    "FileUtils.file_extension('document.pdf')\n",
    "FileUtils.file_extension('no_extension')\n",
    "FileUtils.file_extension('image.png')\n"
   ]
  },
  {
   "cell_type": "code",
   "execution_count": null,
   "id": "e4218d01",
   "metadata": {},
   "outputs": [],
   "source": []
  }
 ],
 "metadata": {
  "kernelspec": {
   "display_name": "Python 3",
   "language": "python",
   "name": "python3"
  },
  "language_info": {
   "codemirror_mode": {
    "name": "ipython",
    "version": 3
   },
   "file_extension": ".py",
   "mimetype": "text/x-python",
   "name": "python",
   "nbconvert_exporter": "python",
   "pygments_lexer": "ipython3",
   "version": "3.8.8"
  }
 },
 "nbformat": 4,
 "nbformat_minor": 5
}
