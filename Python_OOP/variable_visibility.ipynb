{
 "cells": [
  {
   "cell_type": "markdown",
   "id": "ea48966b",
   "metadata": {},
   "source": [
    "## Variable visibility:\n",
    "- public - everyone has access, e.g. var1, var2\n",
    "- protected - inheriting classes have access, e.g. _var1, _var2\n",
    "- private - only this class has access, e.g. __var1, __var2"
   ]
  },
  {
   "cell_type": "code",
   "execution_count": 1,
   "id": "3f62ab99",
   "metadata": {},
   "outputs": [
    {
     "data": {
      "text/plain": [
       "mappingproxy({'__module__': '__main__',\n",
       "              'brand': 'Apple',\n",
       "              '_code': '0034',\n",
       "              '_Laptop__wholesale_price': 2490,\n",
       "              '__dict__': <attribute '__dict__' of 'Laptop' objects>,\n",
       "              '__weakref__': <attribute '__weakref__' of 'Laptop' objects>,\n",
       "              '__doc__': None})"
      ]
     },
     "execution_count": 1,
     "metadata": {},
     "output_type": "execute_result"
    }
   ],
   "source": [
    "class Laptop:\n",
    "    \n",
    "    brand = 'Apple'\n",
    "    _code = '0034'\n",
    "    __wholesale_price = 2490\n",
    "    \n",
    "Laptop.__dict__"
   ]
  },
  {
   "cell_type": "code",
   "execution_count": 3,
   "id": "54c59b96",
   "metadata": {},
   "outputs": [
    {
     "data": {
      "text/plain": [
       "2490"
      ]
     },
     "execution_count": 3,
     "metadata": {},
     "output_type": "execute_result"
    }
   ],
   "source": [
    "Laptop._Laptop__wholesale_price"
   ]
  },
  {
   "cell_type": "code",
   "execution_count": 6,
   "id": "04fd887d",
   "metadata": {},
   "outputs": [
    {
     "data": {
      "text/plain": [
       "mappingproxy({'__module__': '__main__',\n",
       "              'brand': 'Apple',\n",
       "              '_usdpln': 4.0,\n",
       "              '_Laptop__trade_margin': 0.3,\n",
       "              '__init__': <function __main__.Laptop.__init__(self, net_price)>,\n",
       "              '_convert_price': <function __main__.Laptop._convert_price(price)>,\n",
       "              'display_price_pln': <function __main__.Laptop.display_price_pln(self)>,\n",
       "              '__dict__': <attribute '__dict__' of 'Laptop' objects>,\n",
       "              '__weakref__': <attribute '__weakref__' of 'Laptop' objects>,\n",
       "              '__doc__': None})"
      ]
     },
     "execution_count": 6,
     "metadata": {},
     "output_type": "execute_result"
    }
   ],
   "source": [
    "class Laptop:\n",
    "    \n",
    "    brand = 'Apple'\n",
    "    _usdpln = 4.0\n",
    "    __trade_margin = 0.3\n",
    "    \n",
    "    def __init__(self, net_price):\n",
    "        self.net_price = net_price\n",
    "        \n",
    "    def _convert_price(price):\n",
    "        return price * Laptop._usdpln * (1 + Laptop.__trade_margin)\n",
    "    \n",
    "    def display_price_pln(self):\n",
    "        print(Laptop._convert_price(self.net_price))\n",
    "        \n",
    "Laptop.__dict__"
   ]
  },
  {
   "cell_type": "code",
   "execution_count": 7,
   "id": "87f0ad68",
   "metadata": {},
   "outputs": [
    {
     "name": "stdout",
     "output_type": "stream",
     "text": [
      "15600.0\n"
     ]
    }
   ],
   "source": [
    "laptop = Laptop(3000)\n",
    "laptop.display_price_pln()"
   ]
  },
  {
   "cell_type": "code",
   "execution_count": 14,
   "id": "d518a237",
   "metadata": {},
   "outputs": [],
   "source": [
    "class Laptop:\n",
    "\n",
    "    def __init__(self, brand, code, wholesale_price):\n",
    "        self.brand = brand\n",
    "        self._code = code\n",
    "        self.__wholesale_price = wholesale_price\n",
    "        \n",
    "    def info(self):\n",
    "        print(self.brand)\n",
    "        print(self._code)\n",
    "        print(self.__wholesale_price)\n",
    "        \n",
    "laptop = Laptop('Apple', '0043', 3000)"
   ]
  },
  {
   "cell_type": "code",
   "execution_count": 15,
   "id": "3b00adbb",
   "metadata": {},
   "outputs": [
    {
     "data": {
      "text/plain": [
       "3000"
      ]
     },
     "execution_count": 15,
     "metadata": {},
     "output_type": "execute_result"
    }
   ],
   "source": [
    "laptop._Laptop__wholesale_price"
   ]
  },
  {
   "cell_type": "code",
   "execution_count": 16,
   "id": "3cb176c5",
   "metadata": {},
   "outputs": [
    {
     "name": "stdout",
     "output_type": "stream",
     "text": [
      "Apple\n",
      "0043\n",
      "3000\n"
     ]
    }
   ],
   "source": [
    "laptop.info()"
   ]
  },
  {
   "cell_type": "code",
   "execution_count": null,
   "id": "194dc9da",
   "metadata": {},
   "outputs": [],
   "source": []
  }
 ],
 "metadata": {
  "kernelspec": {
   "display_name": "Python 3",
   "language": "python",
   "name": "python3"
  },
  "language_info": {
   "codemirror_mode": {
    "name": "ipython",
    "version": 3
   },
   "file_extension": ".py",
   "mimetype": "text/x-python",
   "name": "python",
   "nbconvert_exporter": "python",
   "pygments_lexer": "ipython3",
   "version": "3.8.8"
  }
 },
 "nbformat": 4,
 "nbformat_minor": 5
}
