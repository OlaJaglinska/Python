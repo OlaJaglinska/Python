{
 "cells": [
  {
   "cell_type": "markdown",
   "id": "1c9d9377",
   "metadata": {},
   "source": [
    "### __init __  method"
   ]
  },
  {
   "cell_type": "code",
   "execution_count": 1,
   "id": "980bded8",
   "metadata": {},
   "outputs": [],
   "source": [
    "class Laptop:\n",
    "    \n",
    "    def __init__(self, brand, model, price):\n",
    "        self.brand = brand\n",
    "        self.model = model\n",
    "        self.price = price\n",
    "        \n",
    "    def display_attrs(self):    \n",
    "        for attr in self.__dict__.keys():\n",
    "            print(attr)\n",
    "            \n",
    "    def display_values(self):    \n",
    "        for attr, value in self.__dict__.items():\n",
    "            print(f'{attr}: {value}')"
   ]
  },
  {
   "cell_type": "code",
   "execution_count": 2,
   "id": "e5883dbd",
   "metadata": {},
   "outputs": [],
   "source": [
    "laptop1 = Laptop('Lenovo', 'Yoga', 3000)"
   ]
  },
  {
   "cell_type": "code",
   "execution_count": 3,
   "id": "b2b1d4f1",
   "metadata": {},
   "outputs": [
    {
     "data": {
      "text/plain": [
       "{'brand': 'Lenovo', 'model': 'Yoga', 'price': 3000}"
      ]
     },
     "execution_count": 3,
     "metadata": {},
     "output_type": "execute_result"
    }
   ],
   "source": [
    "laptop1.__dict__"
   ]
  },
  {
   "cell_type": "code",
   "execution_count": 4,
   "id": "d063a737",
   "metadata": {},
   "outputs": [
    {
     "name": "stdout",
     "output_type": "stream",
     "text": [
      "brand\n",
      "model\n",
      "price\n"
     ]
    }
   ],
   "source": [
    "laptop1.display_attrs()"
   ]
  },
  {
   "cell_type": "code",
   "execution_count": 5,
   "id": "fb1204fa",
   "metadata": {},
   "outputs": [
    {
     "name": "stdout",
     "output_type": "stream",
     "text": [
      "brand: Lenovo\n",
      "model: Yoga\n",
      "price: 3000\n"
     ]
    }
   ],
   "source": [
    "laptop1.display_values()"
   ]
  },
  {
   "cell_type": "markdown",
   "id": "eb784c6f",
   "metadata": {},
   "source": [
    "***args**"
   ]
  },
  {
   "cell_type": "code",
   "execution_count": 6,
   "id": "e336f4e4",
   "metadata": {},
   "outputs": [],
   "source": [
    "class Vector:\n",
    "\n",
    "    def __init__(self, *components):\n",
    "        self.components = components"
   ]
  },
  {
   "cell_type": "code",
   "execution_count": 7,
   "id": "7788ec09",
   "metadata": {},
   "outputs": [],
   "source": [
    "v1 = Vector(3, 4, -2)"
   ]
  },
  {
   "cell_type": "code",
   "execution_count": 8,
   "id": "e2491a6d",
   "metadata": {},
   "outputs": [
    {
     "data": {
      "text/plain": [
       "(3, 4, -2)"
      ]
     },
     "execution_count": 8,
     "metadata": {},
     "output_type": "execute_result"
    }
   ],
   "source": [
    "v1.components"
   ]
  },
  {
   "cell_type": "markdown",
   "id": "efaec2da",
   "metadata": {},
   "source": [
    "****kwargs**"
   ]
  },
  {
   "cell_type": "code",
   "execution_count": 9,
   "id": "06ce42e6",
   "metadata": {},
   "outputs": [],
   "source": [
    "class TechStack:\n",
    "    \n",
    "    def __init__(self, **techs):\n",
    "        for attr_name, attr_value in techs.items():\n",
    "            setattr(self, attr_name, attr_value)\n",
    "        \n",
    "    def display_info(self):\n",
    "        print(f'Total number of techs: {len(self.__dict__)}')"
   ]
  },
  {
   "cell_type": "code",
   "execution_count": 10,
   "id": "16b145ec",
   "metadata": {},
   "outputs": [],
   "source": [
    "stack = TechStack(python = 'mid', java = 'senior')"
   ]
  },
  {
   "cell_type": "code",
   "execution_count": 11,
   "id": "fcbd388f",
   "metadata": {},
   "outputs": [
    {
     "data": {
      "text/plain": [
       "'mid'"
      ]
     },
     "execution_count": 11,
     "metadata": {},
     "output_type": "execute_result"
    }
   ],
   "source": [
    "stack.python"
   ]
  },
  {
   "cell_type": "code",
   "execution_count": 12,
   "id": "6321e29f",
   "metadata": {},
   "outputs": [
    {
     "data": {
      "text/plain": [
       "{'python': 'mid', 'java': 'senior'}"
      ]
     },
     "execution_count": 12,
     "metadata": {},
     "output_type": "execute_result"
    }
   ],
   "source": [
    "stack.__dict__"
   ]
  },
  {
   "cell_type": "code",
   "execution_count": 13,
   "id": "815e8e21",
   "metadata": {},
   "outputs": [
    {
     "name": "stdout",
     "output_type": "stream",
     "text": [
      "Total number of techs: 2\n"
     ]
    }
   ],
   "source": [
    "stack.display_info()"
   ]
  },
  {
   "cell_type": "markdown",
   "id": "ff913933",
   "metadata": {},
   "source": [
    "**validation**"
   ]
  },
  {
   "cell_type": "code",
   "execution_count": 14,
   "id": "d7a50328",
   "metadata": {},
   "outputs": [],
   "source": [
    "class Phone:\n",
    "    \n",
    "    def __init__(self, brand, model, price):\n",
    "        self.brand = brand\n",
    "        self.model = model\n",
    "        \n",
    "        if isinstance(price, (int, float)):\n",
    "            self.price = price\n",
    "        else:\n",
    "            raise TypeError('The price argument must be of type int or float.')\n",
    "        \n",
    "    def show_details(self):\n",
    "        for attr_name, attr_value in self.__dict__.items():\n",
    "            print(f'{attr_name}: {attr_value}')\n",
    "            \n",
    "    def pln_to_usd(self):\n",
    "        self.price = self.price / 4.0"
   ]
  },
  {
   "cell_type": "code",
   "execution_count": 15,
   "id": "0e2b10e9",
   "metadata": {},
   "outputs": [],
   "source": [
    "phone1 = Phone('Apple', 'iPhone', 4000)"
   ]
  },
  {
   "cell_type": "code",
   "execution_count": 16,
   "id": "e6b6974f",
   "metadata": {},
   "outputs": [
    {
     "name": "stdout",
     "output_type": "stream",
     "text": [
      "brand: Apple\n",
      "model: iPhone\n",
      "price: 4000\n"
     ]
    }
   ],
   "source": [
    "phone1.show_details()"
   ]
  },
  {
   "cell_type": "code",
   "execution_count": 17,
   "id": "134d1435",
   "metadata": {},
   "outputs": [
    {
     "data": {
      "text/plain": [
       "4000"
      ]
     },
     "execution_count": 17,
     "metadata": {},
     "output_type": "execute_result"
    }
   ],
   "source": [
    "phone1.price"
   ]
  },
  {
   "cell_type": "code",
   "execution_count": 18,
   "id": "41ba91d2",
   "metadata": {},
   "outputs": [],
   "source": [
    "phone1.pln_to_usd()"
   ]
  },
  {
   "cell_type": "code",
   "execution_count": 19,
   "id": "d5fd1001",
   "metadata": {},
   "outputs": [
    {
     "data": {
      "text/plain": [
       "1000.0"
      ]
     },
     "execution_count": 19,
     "metadata": {},
     "output_type": "execute_result"
    }
   ],
   "source": [
    "phone1.price"
   ]
  },
  {
   "cell_type": "code",
   "execution_count": 20,
   "id": "bc0ce21f",
   "metadata": {},
   "outputs": [],
   "source": [
    "class TechStack:\n",
    "    \n",
    "    def __init__(self, tech=None):\n",
    "        self.tech = tech\n",
    "        \n",
    "    def display_info(self):\n",
    "        if self.tech:\n",
    "            print(f'Techs: {self.tech}')\n",
    "        else:\n",
    "            print('No techs.')"
   ]
  },
  {
   "cell_type": "code",
   "execution_count": 21,
   "id": "335cddf9",
   "metadata": {},
   "outputs": [
    {
     "name": "stdout",
     "output_type": "stream",
     "text": [
      "No techs.\n"
     ]
    }
   ],
   "source": [
    "stack = TechStack()\n",
    "stack.display_info()"
   ]
  },
  {
   "cell_type": "code",
   "execution_count": 22,
   "id": "f7891159",
   "metadata": {},
   "outputs": [
    {
     "name": "stdout",
     "output_type": "stream",
     "text": [
      "Techs: Python\n"
     ]
    }
   ],
   "source": [
    "stack = TechStack('Python')\n",
    "stack.display_info()"
   ]
  },
  {
   "cell_type": "code",
   "execution_count": null,
   "id": "8f722596",
   "metadata": {},
   "outputs": [],
   "source": []
  }
 ],
 "metadata": {
  "kernelspec": {
   "display_name": "Python 3",
   "language": "python",
   "name": "python3"
  },
  "language_info": {
   "codemirror_mode": {
    "name": "ipython",
    "version": 3
   },
   "file_extension": ".py",
   "mimetype": "text/x-python",
   "name": "python",
   "nbconvert_exporter": "python",
   "pygments_lexer": "ipython3",
   "version": "3.8.8"
  }
 },
 "nbformat": 4,
 "nbformat_minor": 5
}
