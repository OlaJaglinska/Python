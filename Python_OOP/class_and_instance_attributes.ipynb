{
 "cells": [
  {
   "cell_type": "markdown",
   "id": "d9945b73",
   "metadata": {},
   "source": [
    "# Object Oriented Programming \n",
    "- abstraction - limiting the features of an object from the real world to features that are important for programmer; goal: to simplify the solution and increase generality\n",
    "- encapsulation - hides the implementation from the user; hiding from the user how the class internally accomplishes its tasks\n",
    "- inheritance - a mechanism for sharing functionality between classes\n",
    " + single inheritance - a derived class inherits exactly one base class\n",
    " + multiple inheritance - a derived class inherits from multiple base classes\n",
    "- polymorphism (multiformity) - allowing you to adjust the operation of objects to your own expectations by combining inherited and self-implemented functionality"
   ]
  },
  {
   "cell_type": "markdown",
   "id": "75431947",
   "metadata": {},
   "source": [
    "### Stages of object oriented programming:\n",
    "1. OOA - obiect oriented analysis\n",
    "2. OOD - obiect oriented design\n",
    "3. OOP - obiect oriented programming"
   ]
  },
  {
   "cell_type": "code",
   "execution_count": 4,
   "id": "366d882f",
   "metadata": {},
   "outputs": [
    {
     "data": {
      "text/plain": [
       "type"
      ]
     },
     "execution_count": 4,
     "metadata": {},
     "output_type": "execute_result"
    }
   ],
   "source": [
    "class Phone:\n",
    "    \"\"\"The Phone class.\"\"\"\n",
    "\n",
    "type(Phone)"
   ]
  },
  {
   "cell_type": "code",
   "execution_count": 5,
   "id": "a9564e32",
   "metadata": {},
   "outputs": [
    {
     "data": {
      "text/plain": [
       "__main__.Phone"
      ]
     },
     "execution_count": 5,
     "metadata": {},
     "output_type": "execute_result"
    }
   ],
   "source": [
    "phone = Phone()\n",
    "type(phone)"
   ]
  },
  {
   "cell_type": "code",
   "execution_count": 6,
   "id": "b1c9948e",
   "metadata": {},
   "outputs": [
    {
     "data": {
      "text/plain": [
       "True"
      ]
     },
     "execution_count": 6,
     "metadata": {},
     "output_type": "execute_result"
    }
   ],
   "source": [
    "isinstance(phone, Phone)"
   ]
  },
  {
   "cell_type": "code",
   "execution_count": 7,
   "id": "74232c00",
   "metadata": {},
   "outputs": [
    {
     "data": {
      "text/plain": [
       "'Phone'"
      ]
     },
     "execution_count": 7,
     "metadata": {},
     "output_type": "execute_result"
    }
   ],
   "source": [
    "Phone.__name__"
   ]
  },
  {
   "cell_type": "code",
   "execution_count": 10,
   "id": "04b093d4",
   "metadata": {},
   "outputs": [
    {
     "data": {
      "text/plain": [
       "'Phone'"
      ]
     },
     "execution_count": 10,
     "metadata": {},
     "output_type": "execute_result"
    }
   ],
   "source": [
    "phone.__class__.__name__"
   ]
  },
  {
   "cell_type": "code",
   "execution_count": 8,
   "id": "87d3606c",
   "metadata": {},
   "outputs": [
    {
     "name": "stdout",
     "output_type": "stream",
     "text": [
      "Help on class Phone in module __main__:\n",
      "\n",
      "class Phone(builtins.object)\n",
      " |  The Phone class.\n",
      " |  \n",
      " |  Data descriptors defined here:\n",
      " |  \n",
      " |  __dict__\n",
      " |      dictionary for instance variables (if defined)\n",
      " |  \n",
      " |  __weakref__\n",
      " |      list of weak references to the object (if defined)\n",
      "\n"
     ]
    }
   ],
   "source": [
    "help(Phone)"
   ]
  },
  {
   "cell_type": "code",
   "execution_count": 9,
   "id": "4fa6e4d3",
   "metadata": {
    "scrolled": true
   },
   "outputs": [
    {
     "name": "stdout",
     "output_type": "stream",
     "text": [
      "Help on class object in module builtins:\n",
      "\n",
      "class object\n",
      " |  The base class of the class hierarchy.\n",
      " |  \n",
      " |  When called, it accepts no arguments and returns a new featureless\n",
      " |  instance that has no instance attributes and cannot be given any.\n",
      " |  \n",
      " |  Built-in subclasses:\n",
      " |      async_generator\n",
      " |      BaseException\n",
      " |      builtin_function_or_method\n",
      " |      bytearray\n",
      " |      ... and 109 other subclasses\n",
      " |  \n",
      " |  Methods defined here:\n",
      " |  \n",
      " |  __delattr__(self, name, /)\n",
      " |      Implement delattr(self, name).\n",
      " |  \n",
      " |  __dir__(self, /)\n",
      " |      Default dir() implementation.\n",
      " |  \n",
      " |  __eq__(self, value, /)\n",
      " |      Return self==value.\n",
      " |  \n",
      " |  __format__(self, format_spec, /)\n",
      " |      Default object formatter.\n",
      " |  \n",
      " |  __ge__(self, value, /)\n",
      " |      Return self>=value.\n",
      " |  \n",
      " |  __getattribute__(self, name, /)\n",
      " |      Return getattr(self, name).\n",
      " |  \n",
      " |  __gt__(self, value, /)\n",
      " |      Return self>value.\n",
      " |  \n",
      " |  __hash__(self, /)\n",
      " |      Return hash(self).\n",
      " |  \n",
      " |  __init__(self, /, *args, **kwargs)\n",
      " |      Initialize self.  See help(type(self)) for accurate signature.\n",
      " |  \n",
      " |  __le__(self, value, /)\n",
      " |      Return self<=value.\n",
      " |  \n",
      " |  __lt__(self, value, /)\n",
      " |      Return self<value.\n",
      " |  \n",
      " |  __ne__(self, value, /)\n",
      " |      Return self!=value.\n",
      " |  \n",
      " |  __reduce__(self, /)\n",
      " |      Helper for pickle.\n",
      " |  \n",
      " |  __reduce_ex__(self, protocol, /)\n",
      " |      Helper for pickle.\n",
      " |  \n",
      " |  __repr__(self, /)\n",
      " |      Return repr(self).\n",
      " |  \n",
      " |  __setattr__(self, name, value, /)\n",
      " |      Implement setattr(self, name, value).\n",
      " |  \n",
      " |  __sizeof__(self, /)\n",
      " |      Size of object in memory, in bytes.\n",
      " |  \n",
      " |  __str__(self, /)\n",
      " |      Return str(self).\n",
      " |  \n",
      " |  ----------------------------------------------------------------------\n",
      " |  Class methods defined here:\n",
      " |  \n",
      " |  __init_subclass__(...) from builtins.type\n",
      " |      This method is called when a class is subclassed.\n",
      " |      \n",
      " |      The default implementation does nothing. It may be\n",
      " |      overridden to extend subclasses.\n",
      " |  \n",
      " |  __subclasshook__(...) from builtins.type\n",
      " |      Abstract classes can override this to customize issubclass().\n",
      " |      \n",
      " |      This is invoked early on by abc.ABCMeta.__subclasscheck__().\n",
      " |      It should return True, False or NotImplemented.  If it returns\n",
      " |      NotImplemented, the normal algorithm is used.  Otherwise, it\n",
      " |      overrides the normal algorithm (and the outcome is cached).\n",
      " |  \n",
      " |  ----------------------------------------------------------------------\n",
      " |  Static methods defined here:\n",
      " |  \n",
      " |  __new__(*args, **kwargs) from builtins.type\n",
      " |      Create and return a new object.  See help(type) for accurate signature.\n",
      " |  \n",
      " |  ----------------------------------------------------------------------\n",
      " |  Data and other attributes defined here:\n",
      " |  \n",
      " |  __class__ = <class 'type'>\n",
      " |      type(object_or_name, bases, dict)\n",
      " |      type(object) -> the object's type\n",
      " |      type(name, bases, dict) -> a new type\n",
      "\n"
     ]
    }
   ],
   "source": [
    "help(object)"
   ]
  },
  {
   "cell_type": "code",
   "execution_count": 13,
   "id": "b5faf928",
   "metadata": {},
   "outputs": [],
   "source": [
    "class HouseProject:\n",
    "    \n",
    "    def __init__(self, type_of_project):\n",
    "        self.type_of_project = type_of_project"
   ]
  },
  {
   "cell_type": "code",
   "execution_count": 14,
   "id": "e239da2f",
   "metadata": {},
   "outputs": [
    {
     "data": {
      "text/plain": [
       "<__main__.HouseProject at 0x25744ba6b50>"
      ]
     },
     "execution_count": 14,
     "metadata": {},
     "output_type": "execute_result"
    }
   ],
   "source": [
    "project1 = HouseProject('flat')\n",
    "project1"
   ]
  },
  {
   "cell_type": "code",
   "execution_count": 15,
   "id": "d1adb6c5",
   "metadata": {},
   "outputs": [
    {
     "data": {
      "text/plain": [
       "__main__.HouseProject"
      ]
     },
     "execution_count": 15,
     "metadata": {},
     "output_type": "execute_result"
    }
   ],
   "source": [
    "type(project1)"
   ]
  },
  {
   "cell_type": "code",
   "execution_count": 16,
   "id": "e325f2dc",
   "metadata": {},
   "outputs": [
    {
     "data": {
      "text/plain": [
       "'flat'"
      ]
     },
     "execution_count": 16,
     "metadata": {},
     "output_type": "execute_result"
    }
   ],
   "source": [
    "project1.type_of_project"
   ]
  },
  {
   "cell_type": "code",
   "execution_count": 2,
   "id": "56ba8699",
   "metadata": {},
   "outputs": [],
   "source": [
    "import pandas as pd"
   ]
  },
  {
   "cell_type": "code",
   "execution_count": 3,
   "id": "d2eeacf3",
   "metadata": {},
   "outputs": [
    {
     "data": {
      "text/plain": [
       "['BooleanDtype',\n",
       " 'Categorical',\n",
       " 'CategoricalDtype',\n",
       " 'CategoricalIndex',\n",
       " 'DataFrame',\n",
       " 'DateOffset',\n",
       " 'DatetimeIndex',\n",
       " 'DatetimeTZDtype',\n",
       " 'ExcelFile',\n",
       " 'ExcelWriter',\n",
       " 'Flags',\n",
       " 'Float32Dtype',\n",
       " 'Float64Dtype',\n",
       " 'Float64Index',\n",
       " 'Grouper',\n",
       " 'HDFStore',\n",
       " 'Index',\n",
       " 'IndexSlice',\n",
       " 'Int16Dtype',\n",
       " 'Int32Dtype',\n",
       " 'Int64Dtype',\n",
       " 'Int64Index',\n",
       " 'Int8Dtype',\n",
       " 'Interval',\n",
       " 'IntervalDtype',\n",
       " 'IntervalIndex',\n",
       " 'MultiIndex',\n",
       " 'NA',\n",
       " 'NaT',\n",
       " 'NamedAgg',\n",
       " 'Period',\n",
       " 'PeriodDtype',\n",
       " 'PeriodIndex',\n",
       " 'RangeIndex',\n",
       " 'Series',\n",
       " 'SparseDtype',\n",
       " 'StringDtype',\n",
       " 'Timedelta',\n",
       " 'TimedeltaIndex',\n",
       " 'Timestamp',\n",
       " 'UInt16Dtype',\n",
       " 'UInt32Dtype',\n",
       " 'UInt64Dtype',\n",
       " 'UInt64Index',\n",
       " 'UInt8Dtype',\n",
       " '__builtins__',\n",
       " '__cached__',\n",
       " '__doc__',\n",
       " '__docformat__',\n",
       " '__file__',\n",
       " '__getattr__',\n",
       " '__git_version__',\n",
       " '__loader__',\n",
       " '__name__',\n",
       " '__package__',\n",
       " '__path__',\n",
       " '__spec__',\n",
       " '__version__',\n",
       " '_config',\n",
       " '_hashtable',\n",
       " '_is_numpy_dev',\n",
       " '_lib',\n",
       " '_libs',\n",
       " '_np_version_under1p17',\n",
       " '_np_version_under1p18',\n",
       " '_testing',\n",
       " '_tslib',\n",
       " '_typing',\n",
       " '_version',\n",
       " 'api',\n",
       " 'array',\n",
       " 'arrays',\n",
       " 'bdate_range',\n",
       " 'compat',\n",
       " 'concat',\n",
       " 'core',\n",
       " 'crosstab',\n",
       " 'cut',\n",
       " 'date_range',\n",
       " 'describe_option',\n",
       " 'errors',\n",
       " 'eval',\n",
       " 'factorize',\n",
       " 'get_dummies',\n",
       " 'get_option',\n",
       " 'infer_freq',\n",
       " 'interval_range',\n",
       " 'io',\n",
       " 'isna',\n",
       " 'isnull',\n",
       " 'json_normalize',\n",
       " 'lreshape',\n",
       " 'melt',\n",
       " 'merge',\n",
       " 'merge_asof',\n",
       " 'merge_ordered',\n",
       " 'notna',\n",
       " 'notnull',\n",
       " 'offsets',\n",
       " 'option_context',\n",
       " 'options',\n",
       " 'pandas',\n",
       " 'period_range',\n",
       " 'pivot',\n",
       " 'pivot_table',\n",
       " 'plotting',\n",
       " 'qcut',\n",
       " 'read_clipboard',\n",
       " 'read_csv',\n",
       " 'read_excel',\n",
       " 'read_feather',\n",
       " 'read_fwf',\n",
       " 'read_gbq',\n",
       " 'read_hdf',\n",
       " 'read_html',\n",
       " 'read_json',\n",
       " 'read_orc',\n",
       " 'read_parquet',\n",
       " 'read_pickle',\n",
       " 'read_sas',\n",
       " 'read_spss',\n",
       " 'read_sql',\n",
       " 'read_sql_query',\n",
       " 'read_sql_table',\n",
       " 'read_stata',\n",
       " 'read_table',\n",
       " 'reset_option',\n",
       " 'set_eng_float_format',\n",
       " 'set_option',\n",
       " 'show_versions',\n",
       " 'test',\n",
       " 'testing',\n",
       " 'timedelta_range',\n",
       " 'to_datetime',\n",
       " 'to_numeric',\n",
       " 'to_pickle',\n",
       " 'to_timedelta',\n",
       " 'tseries',\n",
       " 'unique',\n",
       " 'util',\n",
       " 'value_counts',\n",
       " 'wide_to_long']"
      ]
     },
     "execution_count": 3,
     "metadata": {},
     "output_type": "execute_result"
    }
   ],
   "source": [
    "dir(pd)"
   ]
  },
  {
   "cell_type": "code",
   "execution_count": 6,
   "id": "333a124c",
   "metadata": {},
   "outputs": [
    {
     "name": "stdout",
     "output_type": "stream",
     "text": [
      "\n",
      "pandas - a powerful data analysis and manipulation library for Python\n",
      "=====================================================================\n",
      "\n",
      "**pandas** is a Python package providing fast, flexible, and expressive data\n",
      "structures designed to make working with \"relational\" or \"labeled\" data both\n",
      "easy and intuitive. It aims to be the fundamental high-level building block for\n",
      "doing practical, **real world** data analysis in Python. Additionally, it has\n",
      "the broader goal of becoming **the most powerful and flexible open source data\n",
      "analysis / manipulation tool available in any language**. It is already well on\n",
      "its way toward this goal.\n",
      "\n",
      "Main Features\n",
      "-------------\n",
      "Here are just a few of the things that pandas does well:\n",
      "\n",
      "  - Easy handling of missing data in floating point as well as non-floating\n",
      "    point data.\n",
      "  - Size mutability: columns can be inserted and deleted from DataFrame and\n",
      "    higher dimensional objects\n",
      "  - Automatic and explicit data alignment: objects can be explicitly aligned\n",
      "    to a set of labels, or the user can simply ignore the labels and let\n",
      "    `Series`, `DataFrame`, etc. automatically align the data for you in\n",
      "    computations.\n",
      "  - Powerful, flexible group by functionality to perform split-apply-combine\n",
      "    operations on data sets, for both aggregating and transforming data.\n",
      "  - Make it easy to convert ragged, differently-indexed data in other Python\n",
      "    and NumPy data structures into DataFrame objects.\n",
      "  - Intelligent label-based slicing, fancy indexing, and subsetting of large\n",
      "    data sets.\n",
      "  - Intuitive merging and joining data sets.\n",
      "  - Flexible reshaping and pivoting of data sets.\n",
      "  - Hierarchical labeling of axes (possible to have multiple labels per tick).\n",
      "  - Robust IO tools for loading data from flat files (CSV and delimited),\n",
      "    Excel files, databases, and saving/loading data from the ultrafast HDF5\n",
      "    format.\n",
      "  - Time series-specific functionality: date range generation and frequency\n",
      "    conversion, moving window statistics, date shifting and lagging.\n",
      "\n"
     ]
    }
   ],
   "source": [
    "print(pd.__doc__)"
   ]
  },
  {
   "cell_type": "code",
   "execution_count": 8,
   "id": "7a530316",
   "metadata": {},
   "outputs": [
    {
     "data": {
      "text/plain": [
       "pandas.core.frame.DataFrame"
      ]
     },
     "execution_count": 8,
     "metadata": {},
     "output_type": "execute_result"
    }
   ],
   "source": [
    "pd.DataFrame"
   ]
  },
  {
   "cell_type": "code",
   "execution_count": 9,
   "id": "b8303890",
   "metadata": {},
   "outputs": [
    {
     "data": {
      "text/html": [
       "<div>\n",
       "<style scoped>\n",
       "    .dataframe tbody tr th:only-of-type {\n",
       "        vertical-align: middle;\n",
       "    }\n",
       "\n",
       "    .dataframe tbody tr th {\n",
       "        vertical-align: top;\n",
       "    }\n",
       "\n",
       "    .dataframe thead th {\n",
       "        text-align: right;\n",
       "    }\n",
       "</style>\n",
       "<table border=\"1\" class=\"dataframe\">\n",
       "  <thead>\n",
       "    <tr style=\"text-align: right;\">\n",
       "      <th></th>\n",
       "      <th>0</th>\n",
       "    </tr>\n",
       "  </thead>\n",
       "  <tbody>\n",
       "    <tr>\n",
       "      <th>0</th>\n",
       "      <td>4</td>\n",
       "    </tr>\n",
       "    <tr>\n",
       "      <th>1</th>\n",
       "      <td>5</td>\n",
       "    </tr>\n",
       "    <tr>\n",
       "      <th>2</th>\n",
       "      <td>6</td>\n",
       "    </tr>\n",
       "  </tbody>\n",
       "</table>\n",
       "</div>"
      ],
      "text/plain": [
       "   0\n",
       "0  4\n",
       "1  5\n",
       "2  6"
      ]
     },
     "execution_count": 9,
     "metadata": {},
     "output_type": "execute_result"
    }
   ],
   "source": [
    "df = pd.DataFrame(data=[4,5,6])\n",
    "df"
   ]
  },
  {
   "cell_type": "code",
   "execution_count": 11,
   "id": "0c45ec9d",
   "metadata": {},
   "outputs": [
    {
     "data": {
      "text/plain": [
       "pandas.core.frame.DataFrame"
      ]
     },
     "execution_count": 11,
     "metadata": {},
     "output_type": "execute_result"
    }
   ],
   "source": [
    "type(df)"
   ]
  },
  {
   "cell_type": "code",
   "execution_count": 26,
   "id": "c9feff4d",
   "metadata": {},
   "outputs": [],
   "source": [
    "class Phone:\n",
    "    \n",
    "    sector = 'electronics'\n",
    "    os = 'Android'\n",
    "    width = 500\n",
    "    heigh = 1200"
   ]
  },
  {
   "cell_type": "code",
   "execution_count": 27,
   "id": "14f1e4a2",
   "metadata": {},
   "outputs": [
    {
     "data": {
      "text/plain": [
       "mappingproxy({'__module__': '__main__',\n",
       "              'sector': 'electronics',\n",
       "              'os': 'Android',\n",
       "              'width': 500,\n",
       "              'heigh': 1200,\n",
       "              '__dict__': <attribute '__dict__' of 'Phone' objects>,\n",
       "              '__weakref__': <attribute '__weakref__' of 'Phone' objects>,\n",
       "              '__doc__': None})"
      ]
     },
     "execution_count": 27,
     "metadata": {},
     "output_type": "execute_result"
    }
   ],
   "source": [
    "Phone.__dict__"
   ]
  },
  {
   "cell_type": "code",
   "execution_count": 28,
   "id": "3b53fc22",
   "metadata": {},
   "outputs": [
    {
     "data": {
      "text/plain": [
       "['__dict__',\n",
       " '__doc__',\n",
       " '__module__',\n",
       " '__weakref__',\n",
       " 'heigh',\n",
       " 'os',\n",
       " 'sector',\n",
       " 'width']"
      ]
     },
     "execution_count": 28,
     "metadata": {},
     "output_type": "execute_result"
    }
   ],
   "source": [
    "sorted(Phone.__dict__.keys())"
   ]
  },
  {
   "cell_type": "code",
   "execution_count": 30,
   "id": "9ba144da",
   "metadata": {},
   "outputs": [
    {
     "data": {
      "text/plain": [
       "(1200, 500)"
      ]
     },
     "execution_count": 30,
     "metadata": {},
     "output_type": "execute_result"
    }
   ],
   "source": [
    "Phone.heigh, Phone.width"
   ]
  },
  {
   "cell_type": "code",
   "execution_count": 32,
   "id": "7eba129a",
   "metadata": {},
   "outputs": [
    {
     "data": {
      "text/plain": [
       "'Android'"
      ]
     },
     "execution_count": 32,
     "metadata": {},
     "output_type": "execute_result"
    }
   ],
   "source": [
    "getattr(Phone, 'os')"
   ]
  },
  {
   "cell_type": "code",
   "execution_count": 39,
   "id": "8bda6b4a",
   "metadata": {},
   "outputs": [
    {
     "name": "stdout",
     "output_type": "stream",
     "text": [
      "heigh -> 1200\n",
      "os -> Android\n",
      "sector -> electronics\n",
      "width -> 500\n"
     ]
    }
   ],
   "source": [
    "for attr in sorted(Phone.__dict__.keys()):\n",
    "    if not attr.startswith('_'):\n",
    "        print(f\"{attr} -> {getattr(Phone, attr)}\")"
   ]
  },
  {
   "cell_type": "code",
   "execution_count": 42,
   "id": "cf35dc54",
   "metadata": {},
   "outputs": [
    {
     "name": "stdout",
     "output_type": "stream",
     "text": [
      "type object 'Phone' has no attribute 'price'\n"
     ]
    }
   ],
   "source": [
    "try:\n",
    "    Phone.price\n",
    "except AttributeError as error:\n",
    "    print(error)"
   ]
  },
  {
   "cell_type": "code",
   "execution_count": 43,
   "id": "256a98ba",
   "metadata": {},
   "outputs": [],
   "source": [
    "Phone.os = 'iOS'"
   ]
  },
  {
   "cell_type": "code",
   "execution_count": 53,
   "id": "d7320f82",
   "metadata": {},
   "outputs": [
    {
     "data": {
      "text/plain": [
       "mappingproxy({'__module__': '__main__',\n",
       "              'sector': 'electronics',\n",
       "              'os': 'Android',\n",
       "              'width': 500,\n",
       "              'heigh': 1200,\n",
       "              '__dict__': <attribute '__dict__' of 'Phone' objects>,\n",
       "              '__weakref__': <attribute '__weakref__' of 'Phone' objects>,\n",
       "              '__doc__': None,\n",
       "              'iOS': 'Android'})"
      ]
     },
     "execution_count": 53,
     "metadata": {},
     "output_type": "execute_result"
    }
   ],
   "source": [
    "Phone.__dict__"
   ]
  },
  {
   "cell_type": "code",
   "execution_count": 51,
   "id": "1a2cab6a",
   "metadata": {},
   "outputs": [],
   "source": [
    "setattr(Phone, 'os', 'Android')"
   ]
  },
  {
   "cell_type": "code",
   "execution_count": 52,
   "id": "678fd8c1",
   "metadata": {},
   "outputs": [
    {
     "data": {
      "text/plain": [
       "'Android'"
      ]
     },
     "execution_count": 52,
     "metadata": {},
     "output_type": "execute_result"
    }
   ],
   "source": [
    "getattr(Phone, 'os')"
   ]
  },
  {
   "cell_type": "code",
   "execution_count": 55,
   "id": "ace6a774",
   "metadata": {},
   "outputs": [],
   "source": [
    "Phone.origin_country = 'USA'"
   ]
  },
  {
   "cell_type": "code",
   "execution_count": 58,
   "id": "80bb47f5",
   "metadata": {},
   "outputs": [
    {
     "data": {
      "text/plain": [
       "mappingproxy({'__module__': '__main__',\n",
       "              'sector': 'electronics',\n",
       "              'width': 500,\n",
       "              'heigh': 1200,\n",
       "              '__dict__': <attribute '__dict__' of 'Phone' objects>,\n",
       "              '__weakref__': <attribute '__weakref__' of 'Phone' objects>,\n",
       "              '__doc__': None,\n",
       "              'iOS': 'Android',\n",
       "              'origin_country': 'USA'})"
      ]
     },
     "execution_count": 58,
     "metadata": {},
     "output_type": "execute_result"
    }
   ],
   "source": [
    "Phone.__dict__"
   ]
  },
  {
   "cell_type": "code",
   "execution_count": 57,
   "id": "70732ad9",
   "metadata": {},
   "outputs": [],
   "source": [
    "del Phone.os"
   ]
  },
  {
   "cell_type": "code",
   "execution_count": 63,
   "id": "f4ecd02d",
   "metadata": {},
   "outputs": [
    {
     "data": {
      "text/plain": [
       "mappingproxy({'__module__': '__main__',\n",
       "              'sector': 'electronics',\n",
       "              'width': 500,\n",
       "              'heigh': 1200,\n",
       "              '__dict__': <attribute '__dict__' of 'Phone' objects>,\n",
       "              '__weakref__': <attribute '__weakref__' of 'Phone' objects>,\n",
       "              '__doc__': None,\n",
       "              'iOS': 'Android'})"
      ]
     },
     "execution_count": 63,
     "metadata": {},
     "output_type": "execute_result"
    }
   ],
   "source": [
    "Phone.__dict__"
   ]
  },
  {
   "cell_type": "code",
   "execution_count": 62,
   "id": "adbb8706",
   "metadata": {},
   "outputs": [],
   "source": [
    "delattr(Phone, 'origin_country')"
   ]
  },
  {
   "cell_type": "code",
   "execution_count": 72,
   "id": "ec3db2dd",
   "metadata": {},
   "outputs": [
    {
     "data": {
      "text/plain": [
       "mappingproxy({'__module__': '__main__',\n",
       "              'sector': 'electronics',\n",
       "              'os': 'Linux',\n",
       "              'width': 1000,\n",
       "              'heigh': 3000,\n",
       "              'describe_class': <function __main__.Laptop.describe_class()>,\n",
       "              '__dict__': <attribute '__dict__' of 'Laptop' objects>,\n",
       "              '__weakref__': <attribute '__weakref__' of 'Laptop' objects>,\n",
       "              '__doc__': None})"
      ]
     },
     "execution_count": 72,
     "metadata": {},
     "output_type": "execute_result"
    }
   ],
   "source": [
    "class Laptop:\n",
    "    \n",
    "    sector = 'electronics'\n",
    "    os = 'Linux'\n",
    "    width = 1000\n",
    "    heigh = 3000\n",
    "    \n",
    "    def describe_class():\n",
    "        print(f'Operating system: {Laptop.os}')\n",
    "        print(f'{Laptop.__name__} class.')\n",
    "        \n",
    "Laptop.__dict__"
   ]
  },
  {
   "cell_type": "code",
   "execution_count": 73,
   "id": "ed27a25d",
   "metadata": {},
   "outputs": [
    {
     "name": "stdout",
     "output_type": "stream",
     "text": [
      "Operating system: Linux\n",
      "Laptop class.\n"
     ]
    }
   ],
   "source": [
    "Laptop.describe_class()"
   ]
  },
  {
   "cell_type": "code",
   "execution_count": 74,
   "id": "ec556a39",
   "metadata": {},
   "outputs": [
    {
     "name": "stdout",
     "output_type": "stream",
     "text": [
      "Operating system: Linux\n",
      "Laptop class.\n"
     ]
    }
   ],
   "source": [
    "getattr(Laptop, 'describe_class')()"
   ]
  },
  {
   "cell_type": "markdown",
   "id": "21c3266a",
   "metadata": {},
   "source": [
    "**Exercise**"
   ]
  },
  {
   "cell_type": "code",
   "execution_count": 92,
   "id": "86ee61cb",
   "metadata": {},
   "outputs": [],
   "source": [
    "class HouseProject:\n",
    "    \n",
    "    number_of_floors = 2\n",
    "    area = 100\n",
    "    \n",
    "    def describe_project():\n",
    "        print(f'Area: {HouseProject.area} m2.')\n",
    "        print(f'Number of floors: {HouseProject.number_of_floors}.')"
   ]
  },
  {
   "cell_type": "code",
   "execution_count": 93,
   "id": "687db55a",
   "metadata": {},
   "outputs": [
    {
     "data": {
      "text/plain": [
       "100"
      ]
     },
     "execution_count": 93,
     "metadata": {},
     "output_type": "execute_result"
    }
   ],
   "source": [
    "HouseProject.area"
   ]
  },
  {
   "cell_type": "code",
   "execution_count": 94,
   "id": "166bbc33",
   "metadata": {},
   "outputs": [
    {
     "name": "stdout",
     "output_type": "stream",
     "text": [
      "Area: 100 m2.\n",
      "Number of floors: 2.\n"
     ]
    }
   ],
   "source": [
    "HouseProject.describe_project()"
   ]
  },
  {
   "cell_type": "code",
   "execution_count": 95,
   "id": "cf5d0012",
   "metadata": {},
   "outputs": [],
   "source": [
    "from datetime import datetime"
   ]
  },
  {
   "cell_type": "code",
   "execution_count": 107,
   "id": "ecafef9a",
   "metadata": {},
   "outputs": [
    {
     "data": {
      "text/plain": [
       "mappingproxy({'__module__': '__main__',\n",
       "              'execution_time': '14:12:42',\n",
       "              'fname': 'image_14:12:42.png',\n",
       "              '__dict__': <attribute '__dict__' of 'Foto' objects>,\n",
       "              '__weakref__': <attribute '__weakref__' of 'Foto' objects>,\n",
       "              '__doc__': None})"
      ]
     },
     "execution_count": 107,
     "metadata": {},
     "output_type": "execute_result"
    }
   ],
   "source": [
    "class Photo:\n",
    "    \n",
    "    execution_time = datetime.now().strftime('%H:%M:%S')\n",
    "    fname = 'image_' + execution_time + '.png'\n",
    "    \n",
    "    def current_time():\n",
    "        return datetime.now().strftime('%H:%M:%S')\n",
    "    \n",
    "Foto.__dict__"
   ]
  },
  {
   "cell_type": "code",
   "execution_count": 108,
   "id": "3c818870",
   "metadata": {},
   "outputs": [
    {
     "data": {
      "text/plain": [
       "'15:31:59'"
      ]
     },
     "execution_count": 108,
     "metadata": {},
     "output_type": "execute_result"
    }
   ],
   "source": [
    "Photo.execution_time"
   ]
  },
  {
   "cell_type": "code",
   "execution_count": 110,
   "id": "d3e7d826",
   "metadata": {},
   "outputs": [
    {
     "data": {
      "text/plain": [
       "'15:32:03'"
      ]
     },
     "execution_count": 110,
     "metadata": {},
     "output_type": "execute_result"
    }
   ],
   "source": [
    "Photo.current_time()"
   ]
  },
  {
   "cell_type": "code",
   "execution_count": 111,
   "id": "8e93ae7a",
   "metadata": {},
   "outputs": [
    {
     "data": {
      "text/plain": [
       "(__main__.Photo, object)"
      ]
     },
     "execution_count": 111,
     "metadata": {},
     "output_type": "execute_result"
    }
   ],
   "source": [
    "Photo.__mro__"
   ]
  },
  {
   "cell_type": "markdown",
   "id": "13654b96",
   "metadata": {},
   "source": [
    "**Instance attributes**"
   ]
  },
  {
   "cell_type": "code",
   "execution_count": 1,
   "id": "13a6d37d",
   "metadata": {},
   "outputs": [
    {
     "data": {
      "text/plain": [
       "mappingproxy({'__module__': '__main__',\n",
       "              'language': 'PL',\n",
       "              'author': 'Mickiewicz',\n",
       "              '__dict__': <attribute '__dict__' of 'Book' objects>,\n",
       "              '__weakref__': <attribute '__weakref__' of 'Book' objects>,\n",
       "              '__doc__': None})"
      ]
     },
     "execution_count": 1,
     "metadata": {},
     "output_type": "execute_result"
    }
   ],
   "source": [
    "class Book:\n",
    "    \n",
    "    language = 'PL'\n",
    "    author = 'Mickiewicz'\n",
    "\n",
    "Book.__dict__"
   ]
  },
  {
   "cell_type": "code",
   "execution_count": 2,
   "id": "202a55c1",
   "metadata": {},
   "outputs": [],
   "source": [
    "books = [Book(), Book(), Book()]"
   ]
  },
  {
   "cell_type": "code",
   "execution_count": 5,
   "id": "be6ec734",
   "metadata": {},
   "outputs": [
    {
     "name": "stdout",
     "output_type": "stream",
     "text": [
      "language:PL, author:Henryk Sienkiewicz\n",
      "language:PL, author:Henryk Sienkiewicz\n",
      "language:PL, author:Henryk Sienkiewicz\n"
     ]
    }
   ],
   "source": [
    "for book in books:\n",
    "    print(f'language:{book.language}, author:{book.author}')"
   ]
  },
  {
   "cell_type": "code",
   "execution_count": 10,
   "id": "5ab4fb8c",
   "metadata": {},
   "outputs": [],
   "source": [
    "titles = ['Pan Tadeusz', 'Sonety Krymskie', 'Kondrad Wallenrod']\n",
    "\n",
    "for book, value in zip(books, titles):\n",
    "    # book.title = value\n",
    "    setattr(book, 'title', value)"
   ]
  },
  {
   "cell_type": "code",
   "execution_count": 11,
   "id": "b543cb21",
   "metadata": {},
   "outputs": [
    {
     "name": "stdout",
     "output_type": "stream",
     "text": [
      "language:PL, author:Henryk Sienkiewicz, title:Pan Tadeusz\n",
      "language:PL, author:Henryk Sienkiewicz, title:Sonety Krymskie\n",
      "language:PL, author:Henryk Sienkiewicz, title:Kondrad Wallenrod\n"
     ]
    }
   ],
   "source": [
    "for book in books:\n",
    "    print(f'language:{book.language}, author:{book.author}, title:{book.title}')"
   ]
  },
  {
   "cell_type": "code",
   "execution_count": 12,
   "id": "881866c5",
   "metadata": {},
   "outputs": [
    {
     "name": "stdout",
     "output_type": "stream",
     "text": [
      "{'title': 'Pan Tadeusz'}\n",
      "{'title': 'Sonety Krymskie'}\n",
      "{'title': 'Kondrad Wallenrod'}\n"
     ]
    }
   ],
   "source": [
    "for book in books:\n",
    "    print(book.__dict__)"
   ]
  },
  {
   "cell_type": "markdown",
   "id": "6d3747c3",
   "metadata": {},
   "source": [
    "**Callable instance attributes**"
   ]
  },
  {
   "cell_type": "code",
   "execution_count": 27,
   "id": "0f39a5d6",
   "metadata": {},
   "outputs": [],
   "source": [
    "class Book:\n",
    "    \n",
    "    language = 'PL'\n",
    "    author = 'Mickiewicz'\n",
    "    \n",
    "    def show_details():\n",
    "        print(f'Language:{Book.language}\\nAuthor:{Book.author}')"
   ]
  },
  {
   "cell_type": "code",
   "execution_count": 28,
   "id": "4bc3c64c",
   "metadata": {},
   "outputs": [
    {
     "name": "stdout",
     "output_type": "stream",
     "text": [
      "Language:PL\n",
      "Author:Mickiewicz\n"
     ]
    }
   ],
   "source": [
    "Book.show_details()"
   ]
  },
  {
   "cell_type": "code",
   "execution_count": 29,
   "id": "3185f55e",
   "metadata": {},
   "outputs": [],
   "source": [
    "Book.show_language = lambda: print(f'Language:{Book.language}')"
   ]
  },
  {
   "cell_type": "code",
   "execution_count": 30,
   "id": "76394d7e",
   "metadata": {},
   "outputs": [
    {
     "data": {
      "text/plain": [
       "mappingproxy({'__module__': '__main__',\n",
       "              'language': 'PL',\n",
       "              'author': 'Mickiewicz',\n",
       "              'show_details': <function __main__.Book.show_details()>,\n",
       "              '__dict__': <attribute '__dict__' of 'Book' objects>,\n",
       "              '__weakref__': <attribute '__weakref__' of 'Book' objects>,\n",
       "              '__doc__': None,\n",
       "              'show_language': <function __main__.<lambda>()>})"
      ]
     },
     "execution_count": 30,
     "metadata": {},
     "output_type": "execute_result"
    }
   ],
   "source": [
    "Book.__dict__"
   ]
  },
  {
   "cell_type": "code",
   "execution_count": 31,
   "id": "40faf81f",
   "metadata": {},
   "outputs": [
    {
     "name": "stdout",
     "output_type": "stream",
     "text": [
      "Language:PL\n"
     ]
    }
   ],
   "source": [
    "Book.show_language()"
   ]
  },
  {
   "cell_type": "code",
   "execution_count": 32,
   "id": "b85e1838",
   "metadata": {},
   "outputs": [],
   "source": [
    "book1 = Book()"
   ]
  },
  {
   "cell_type": "code",
   "execution_count": 34,
   "id": "bc431eb9",
   "metadata": {},
   "outputs": [
    {
     "data": {
      "text/plain": [
       "<bound method Book.show_details of <__main__.Book object at 0x000001E4E14BEA60>>"
      ]
     },
     "execution_count": 34,
     "metadata": {},
     "output_type": "execute_result"
    }
   ],
   "source": [
    "book1.show_details"
   ]
  },
  {
   "cell_type": "code",
   "execution_count": 35,
   "id": "bd798ee7",
   "metadata": {},
   "outputs": [
    {
     "data": {
      "text/plain": [
       "(function, method)"
      ]
     },
     "execution_count": 35,
     "metadata": {},
     "output_type": "execute_result"
    }
   ],
   "source": [
    "type(Book.show_details), type(book1.show_details)"
   ]
  },
  {
   "cell_type": "code",
   "execution_count": 2,
   "id": "e320818d",
   "metadata": {},
   "outputs": [
    {
     "data": {
      "text/plain": [
       "mappingproxy({'__module__': '__main__',\n",
       "              'language': 'PL',\n",
       "              'author': 'Adam Mickiewicz',\n",
       "              'show_details': <function __main__.Book.show_details(*args)>,\n",
       "              '__dict__': <attribute '__dict__' of 'Book' objects>,\n",
       "              '__weakref__': <attribute '__weakref__' of 'Book' objects>,\n",
       "              '__doc__': None})"
      ]
     },
     "execution_count": 2,
     "metadata": {},
     "output_type": "execute_result"
    }
   ],
   "source": [
    "class Book:\n",
    "    \n",
    "    language = 'PL'\n",
    "    author = 'Adam Mickiewicz'\n",
    "    \n",
    "    def show_details(*args):\n",
    "        print(args)\n",
    "        for arg in args:\n",
    "            print(f'{arg} -> {type(arg)}')\n",
    "            \n",
    "Book.__dict__"
   ]
  },
  {
   "cell_type": "code",
   "execution_count": 5,
   "id": "62b29ac7",
   "metadata": {},
   "outputs": [
    {
     "name": "stdout",
     "output_type": "stream",
     "text": [
      "(<__main__.Book object at 0x000001C379AE3AF0>,)\n",
      "<__main__.Book object at 0x000001C379AE3AF0> -> <class '__main__.Book'>\n"
     ]
    }
   ],
   "source": [
    "book1 = Book()\n",
    "book1.show_details()"
   ]
  },
  {
   "cell_type": "code",
   "execution_count": 6,
   "id": "624743ac",
   "metadata": {},
   "outputs": [
    {
     "name": "stdout",
     "output_type": "stream",
     "text": [
      "(<__main__.Book object at 0x000001C379AE3AF0>, 'Tom II', 100)\n",
      "<__main__.Book object at 0x000001C379AE3AF0> -> <class '__main__.Book'>\n",
      "Tom II -> <class 'str'>\n",
      "100 -> <class 'int'>\n"
     ]
    }
   ],
   "source": [
    "book1.show_details('Tom II', 100)"
   ]
  },
  {
   "cell_type": "code",
   "execution_count": 17,
   "id": "e73b6bc2",
   "metadata": {},
   "outputs": [],
   "source": [
    "class Book:\n",
    "    \n",
    "    language = 'PL'\n",
    "    author = 'Adam Mickiewicz'\n",
    "    \n",
    "    def set_title(self, value):\n",
    "        self.title = value"
   ]
  },
  {
   "cell_type": "code",
   "execution_count": 18,
   "id": "df329a78",
   "metadata": {},
   "outputs": [],
   "source": [
    "book1 = Book()"
   ]
  },
  {
   "cell_type": "code",
   "execution_count": 19,
   "id": "986df58c",
   "metadata": {},
   "outputs": [],
   "source": [
    "book1.set_title('Pan Tadeusz')"
   ]
  },
  {
   "cell_type": "code",
   "execution_count": 20,
   "id": "0b64cecf",
   "metadata": {},
   "outputs": [
    {
     "data": {
      "text/plain": [
       "{'title': 'Pan Tadeusz'}"
      ]
     },
     "execution_count": 20,
     "metadata": {},
     "output_type": "execute_result"
    }
   ],
   "source": [
    "book1.__dict__"
   ]
  },
  {
   "cell_type": "code",
   "execution_count": 21,
   "id": "db9797ab",
   "metadata": {},
   "outputs": [],
   "source": [
    "Book.set_title(book1, 'Kondrad Wallenrod')"
   ]
  },
  {
   "cell_type": "code",
   "execution_count": 22,
   "id": "7d0b6156",
   "metadata": {},
   "outputs": [
    {
     "data": {
      "text/plain": [
       "'Kondrad Wallenrod'"
      ]
     },
     "execution_count": 22,
     "metadata": {},
     "output_type": "execute_result"
    }
   ],
   "source": [
    "book1.title"
   ]
  },
  {
   "cell_type": "code",
   "execution_count": 23,
   "id": "83f47712",
   "metadata": {},
   "outputs": [],
   "source": [
    "Book.get_title = lambda self: self.title"
   ]
  },
  {
   "cell_type": "code",
   "execution_count": 24,
   "id": "507240c1",
   "metadata": {},
   "outputs": [
    {
     "data": {
      "text/plain": [
       "'Kondrad Wallenrod'"
      ]
     },
     "execution_count": 24,
     "metadata": {},
     "output_type": "execute_result"
    }
   ],
   "source": [
    "book1.get_title()"
   ]
  },
  {
   "cell_type": "code",
   "execution_count": 27,
   "id": "2dab5529",
   "metadata": {},
   "outputs": [
    {
     "data": {
      "text/plain": [
       "mappingproxy({'__module__': '__main__',\n",
       "              'number_of_floors': 2,\n",
       "              'area': 100,\n",
       "              'describe_project': <function __main__.HouseProject.describe_project()>,\n",
       "              'set_color': <function __main__.HouseProject.set_color(self, value)>,\n",
       "              '__dict__': <attribute '__dict__' of 'HouseProject' objects>,\n",
       "              '__weakref__': <attribute '__weakref__' of 'HouseProject' objects>,\n",
       "              '__doc__': None})"
      ]
     },
     "execution_count": 27,
     "metadata": {},
     "output_type": "execute_result"
    }
   ],
   "source": [
    "class HouseProject:\n",
    "    \n",
    "    number_of_floors = 2\n",
    "    area = 100\n",
    "    \n",
    "    def describe_project():\n",
    "        print(f'Area: {HouseProject.area} m2.')\n",
    "        print(f'Numaer of floors: {HouseProject.number_of_floors}.')\n",
    "\n",
    "    def set_color(self, value):\n",
    "        self.color = value\n",
    "        \n",
    "HouseProject.__dict__"
   ]
  },
  {
   "cell_type": "code",
   "execution_count": 28,
   "id": "1b645ab6",
   "metadata": {},
   "outputs": [],
   "source": [
    "house1 = HouseProject()"
   ]
  },
  {
   "cell_type": "code",
   "execution_count": 29,
   "id": "6481c77e",
   "metadata": {},
   "outputs": [],
   "source": [
    "house1.set_color = 'Brown'"
   ]
  },
  {
   "cell_type": "code",
   "execution_count": 31,
   "id": "6896dcf1",
   "metadata": {},
   "outputs": [
    {
     "data": {
      "text/plain": [
       "{'set_color': 'Brown'}"
      ]
     },
     "execution_count": 31,
     "metadata": {},
     "output_type": "execute_result"
    }
   ],
   "source": [
    "house1.__dict__"
   ]
  },
  {
   "cell_type": "code",
   "execution_count": 44,
   "id": "5977dfa8",
   "metadata": {},
   "outputs": [],
   "source": [
    "class Phone:\n",
    "    \n",
    "    brand = 'Apple'\n",
    "    \n",
    "    def __init__(self, brand):\n",
    "        self.brand = brand\n",
    "        \n",
    "    def print_brand(self):\n",
    "        print(f'{__class__.__name__} class attribute value: {Phone.brand}')\n",
    "        print(f'Instance attribute value: {self.brand}')"
   ]
  },
  {
   "cell_type": "code",
   "execution_count": 45,
   "id": "c4e4cc97",
   "metadata": {},
   "outputs": [
    {
     "name": "stdout",
     "output_type": "stream",
     "text": [
      "Phone class attribute value: Apple\n",
      "Instance attribute value: Samsung\n"
     ]
    }
   ],
   "source": [
    "phone1 = Phone('Samsung')\n",
    "phone1.print_brand()"
   ]
  },
  {
   "cell_type": "code",
   "execution_count": 46,
   "id": "43f6e2f3",
   "metadata": {},
   "outputs": [
    {
     "data": {
      "text/plain": [
       "mappingproxy({'__module__': '__main__',\n",
       "              'brand': 'Apple',\n",
       "              '__init__': <function __main__.Phone.__init__(self, brand)>,\n",
       "              'print_brand': <function __main__.Phone.print_brand(self)>,\n",
       "              '__dict__': <attribute '__dict__' of 'Phone' objects>,\n",
       "              '__weakref__': <attribute '__weakref__' of 'Phone' objects>,\n",
       "              '__doc__': None})"
      ]
     },
     "execution_count": 46,
     "metadata": {},
     "output_type": "execute_result"
    }
   ],
   "source": [
    "Phone.__dict__"
   ]
  },
  {
   "cell_type": "code",
   "execution_count": 47,
   "id": "17133662",
   "metadata": {},
   "outputs": [
    {
     "data": {
      "text/plain": [
       "{'brand': 'Samsung'}"
      ]
     },
     "execution_count": 47,
     "metadata": {},
     "output_type": "execute_result"
    }
   ],
   "source": [
    "phone1.__dict__"
   ]
  },
  {
   "cell_type": "code",
   "execution_count": null,
   "id": "5a31c149",
   "metadata": {},
   "outputs": [],
   "source": []
  }
 ],
 "metadata": {
  "kernelspec": {
   "display_name": "Python 3",
   "language": "python",
   "name": "python3"
  },
  "language_info": {
   "codemirror_mode": {
    "name": "ipython",
    "version": 3
   },
   "file_extension": ".py",
   "mimetype": "text/x-python",
   "name": "python",
   "nbconvert_exporter": "python",
   "pygments_lexer": "ipython3",
   "version": "3.8.8"
  }
 },
 "nbformat": 4,
 "nbformat_minor": 5
}
