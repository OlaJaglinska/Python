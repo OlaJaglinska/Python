{
 "cells": [
  {
   "cell_type": "markdown",
   "id": "45a3e0b0",
   "metadata": {},
   "source": [
    "### Inheritance\n",
    "\n",
    "- single inheritance\n",
    "- multiple inheritance\n",
    "- multilevel inheritance\n",
    "- hierarchical inheritance"
   ]
  },
  {
   "cell_type": "markdown",
   "id": "fc5f20b1",
   "metadata": {},
   "source": [
    "#### Example\n",
    "\n",
    " Vehicle:\n",
    "+ LandVehicle\n",
    "  + Bike\n",
    "  + Car\n",
    "  + Truck\n",
    "+ AirVehicle\n",
    "  + Plane\n",
    "  + Helicopter\n",
    "+ WaterVehicle"
   ]
  },
  {
   "cell_type": "code",
   "execution_count": 1,
   "id": "c1b88bd1",
   "metadata": {},
   "outputs": [],
   "source": [
    "class Vehicle:\n",
    "    pass\n",
    "\n",
    "\n",
    "class LandVehicle(Vehicle):\n",
    "    pass\n",
    "\n",
    "\n",
    "class Bike(LandVehicle):\n",
    "    pass\n",
    "\n",
    "\n",
    "class Car(LandVehicle):\n",
    "    pass\n",
    "\n",
    "\n",
    "class Truck(LandVehicle):\n",
    "    pass\n",
    "\n",
    "\n",
    "class AirVehicle(Vehicle):\n",
    "    pass\n",
    "\n",
    "\n",
    "class Plane(AirVehicle):\n",
    "    pass\n",
    "\n",
    "\n",
    "class Helicopter(AirVehicle):\n",
    "    pass\n",
    "\n",
    "\n",
    "class WaterVehicle(Vehicle):\n",
    "    pass"
   ]
  },
  {
   "cell_type": "code",
   "execution_count": 2,
   "id": "a98398ba",
   "metadata": {},
   "outputs": [],
   "source": [
    "vahicels = [Vehicle(), LandVehicle(), AirVehicle(), WaterVehicle()]"
   ]
  },
  {
   "cell_type": "code",
   "execution_count": 3,
   "id": "d8b14ed9",
   "metadata": {},
   "outputs": [
    {
     "data": {
      "text/plain": [
       "[<__main__.Vehicle at 0x14abf5c6cd0>,\n",
       " <__main__.LandVehicle at 0x14abf5c6d30>,\n",
       " <__main__.AirVehicle at 0x14abf5c6dc0>,\n",
       " <__main__.WaterVehicle at 0x14abf5c6190>]"
      ]
     },
     "execution_count": 3,
     "metadata": {},
     "output_type": "execute_result"
    }
   ],
   "source": [
    "vahicels"
   ]
  },
  {
   "cell_type": "code",
   "execution_count": 4,
   "id": "b39344f6",
   "metadata": {},
   "outputs": [
    {
     "data": {
      "text/plain": [
       "(True, True, True)"
      ]
     },
     "execution_count": 4,
     "metadata": {},
     "output_type": "execute_result"
    }
   ],
   "source": [
    "issubclass(LandVehicle, Vehicle), issubclass(AirVehicle, Vehicle), issubclass(WaterVehicle, Vehicle)"
   ]
  },
  {
   "cell_type": "code",
   "execution_count": 5,
   "id": "dda888cb",
   "metadata": {},
   "outputs": [
    {
     "data": {
      "text/plain": [
       "(True, True, True)"
      ]
     },
     "execution_count": 5,
     "metadata": {},
     "output_type": "execute_result"
    }
   ],
   "source": [
    "issubclass(Bike, Vehicle), issubclass(Car, Vehicle), issubclass(Truck, Vehicle)"
   ]
  },
  {
   "cell_type": "code",
   "execution_count": 6,
   "id": "6a2c96b0",
   "metadata": {},
   "outputs": [
    {
     "data": {
      "text/plain": [
       "(True, False, False)"
      ]
     },
     "execution_count": 6,
     "metadata": {},
     "output_type": "execute_result"
    }
   ],
   "source": [
    "issubclass(Bike, LandVehicle), issubclass(Car, AirVehicle), issubclass(Truck, WaterVehicle)"
   ]
  },
  {
   "cell_type": "code",
   "execution_count": 7,
   "id": "40c64b7e",
   "metadata": {},
   "outputs": [
    {
     "data": {
      "text/plain": [
       "True"
      ]
     },
     "execution_count": 7,
     "metadata": {},
     "output_type": "execute_result"
    }
   ],
   "source": [
    "issubclass(Bike, (LandVehicle, AirVehicle))"
   ]
  },
  {
   "cell_type": "markdown",
   "id": "9ffa76c9",
   "metadata": {},
   "source": [
    "#### MRO - Method Resolution Order"
   ]
  },
  {
   "cell_type": "code",
   "execution_count": 8,
   "id": "79ddcd81",
   "metadata": {},
   "outputs": [
    {
     "name": "stdout",
     "output_type": "stream",
     "text": [
      "Help on class Plane in module __main__:\n",
      "\n",
      "class Plane(AirVehicle)\n",
      " |  Method resolution order:\n",
      " |      Plane\n",
      " |      AirVehicle\n",
      " |      Vehicle\n",
      " |      builtins.object\n",
      " |  \n",
      " |  Data descriptors inherited from Vehicle:\n",
      " |  \n",
      " |  __dict__\n",
      " |      dictionary for instance variables (if defined)\n",
      " |  \n",
      " |  __weakref__\n",
      " |      list of weak references to the object (if defined)\n",
      "\n"
     ]
    }
   ],
   "source": [
    "help(Plane)"
   ]
  },
  {
   "cell_type": "code",
   "execution_count": 9,
   "id": "7cb45dbf",
   "metadata": {},
   "outputs": [
    {
     "data": {
      "text/plain": [
       "[__main__.Plane, __main__.AirVehicle, __main__.Vehicle, object]"
      ]
     },
     "execution_count": 9,
     "metadata": {},
     "output_type": "execute_result"
    }
   ],
   "source": [
    "Plane.mro()"
   ]
  },
  {
   "cell_type": "code",
   "execution_count": 10,
   "id": "5a5f2ff0",
   "metadata": {},
   "outputs": [
    {
     "data": {
      "text/plain": [
       "(__main__.Plane, __main__.AirVehicle, __main__.Vehicle, object)"
      ]
     },
     "execution_count": 10,
     "metadata": {},
     "output_type": "execute_result"
    }
   ],
   "source": [
    "Plane.__mro__"
   ]
  },
  {
   "cell_type": "markdown",
   "id": "f672c52d",
   "metadata": {},
   "source": [
    "#### Method overriding"
   ]
  },
  {
   "cell_type": "code",
   "execution_count": 11,
   "id": "37c26fbf",
   "metadata": {},
   "outputs": [],
   "source": [
    "class Vehicle:\n",
    "    \n",
    "    def __init__(self, category=None):\n",
    "        self.category = category if category else 'land'\n",
    "        \n",
    "    def __repr__(self):\n",
    "        return f\"{self.__class__.__name__}(category = '{self.category}')\"\n",
    "        \n",
    "    def display_info(self):\n",
    "        print(f\"Vehicle category: {self.category}\")\n",
    "        \n",
    "class LandVehicle(Vehicle):\n",
    "    \n",
    "    def display_info(self):\n",
    "        print(f\"LandVehicle category: {self.category}\")\n",
    "\n",
    "\n",
    "class AirVehicle(Vehicle):\n",
    "    pass"
   ]
  },
  {
   "cell_type": "code",
   "execution_count": 12,
   "id": "802b5902",
   "metadata": {},
   "outputs": [
    {
     "data": {
      "text/plain": [
       "Vehicle(category = 'land')"
      ]
     },
     "execution_count": 12,
     "metadata": {},
     "output_type": "execute_result"
    }
   ],
   "source": [
    "vehicle = Vehicle()\n",
    "vehicle"
   ]
  },
  {
   "cell_type": "code",
   "execution_count": 13,
   "id": "c5d3c06e",
   "metadata": {},
   "outputs": [
    {
     "data": {
      "text/plain": [
       "[Vehicle(category = 'land'),\n",
       " LandVehicle(category = 'land'),\n",
       " AirVehicle(category = 'air')]"
      ]
     },
     "execution_count": 13,
     "metadata": {},
     "output_type": "execute_result"
    }
   ],
   "source": [
    "vehicles = [Vehicle(), LandVehicle(), AirVehicle('air')]\n",
    "vehicles"
   ]
  },
  {
   "cell_type": "code",
   "execution_count": 14,
   "id": "34efb87d",
   "metadata": {},
   "outputs": [
    {
     "name": "stdout",
     "output_type": "stream",
     "text": [
      "Vehicle category: land\n",
      "LandVehicle category: land\n",
      "Vehicle category: air\n"
     ]
    }
   ],
   "source": [
    "for vehicle in vehicles:\n",
    "    vehicle.display_info()"
   ]
  },
  {
   "cell_type": "code",
   "execution_count": 15,
   "id": "6f716686",
   "metadata": {},
   "outputs": [],
   "source": [
    "class Vehicle:\n",
    "    \n",
    "    def __init__(self, category=None):\n",
    "        self.category = category if category else 'land'\n",
    "        \n",
    "    def __repr__(self):\n",
    "        return f\"{self.__class__.__name__}(category = '{self.category}')\"\n",
    "        \n",
    "    def display_info(self):\n",
    "        print(f\"Vehicle category: {self.category}\")\n",
    "        \n",
    "    def show_activity(self):\n",
    "        print(f'{self} -> Moving...')\n",
    "        \n",
    "class LandVehicle(Vehicle):\n",
    "    \n",
    "    def display_info(self):\n",
    "        print(f\"LandVehicle category: {self.category}\")\n",
    "        \n",
    "    def show_activity(self):\n",
    "        print(f'{self} -> Driving...')\n",
    "\n",
    "class AirVehicle(Vehicle):\n",
    "    \n",
    "    def show_activity(self):\n",
    "        print(f'{self} -> Flying...')"
   ]
  },
  {
   "cell_type": "code",
   "execution_count": 16,
   "id": "14cb6266",
   "metadata": {},
   "outputs": [
    {
     "name": "stdout",
     "output_type": "stream",
     "text": [
      "Vehicle(category = 'land') -> Moving...\n",
      "LandVehicle(category = 'land') -> Driving...\n",
      "AirVehicle(category = 'air') -> Flying...\n"
     ]
    }
   ],
   "source": [
    "vehicles = [Vehicle(), LandVehicle(), AirVehicle('air')]\n",
    "for vehicle in vehicles:\n",
    "    vehicle.show_activity()"
   ]
  },
  {
   "cell_type": "code",
   "execution_count": 17,
   "id": "8d2fabee",
   "metadata": {},
   "outputs": [],
   "source": [
    "class User:\n",
    "    \n",
    "    def start(self):\n",
    "        print('Starting...')\n",
    "        \n",
    "    def drink(self):\n",
    "        print('Drinking...')\n",
    "        \n",
    "    def work(self):\n",
    "        print('Working...')\n",
    "        \n",
    "    def end(self):\n",
    "        print('Ending...')\n",
    "        \n",
    "    def make_session(self):\n",
    "        print(f'--- {self.__class__.__name__.upper()} SESSION ---')\n",
    "        self.start()\n",
    "        self.drink()\n",
    "        self.work()\n",
    "        self.end()\n",
    "        print(f'--- END SESSION ---')"
   ]
  },
  {
   "cell_type": "code",
   "execution_count": 18,
   "id": "56a16216",
   "metadata": {},
   "outputs": [
    {
     "name": "stdout",
     "output_type": "stream",
     "text": [
      "--- USER SESSION ---\n",
      "Starting...\n",
      "Drinking...\n",
      "Working...\n",
      "Ending...\n",
      "--- END SESSION ---\n"
     ]
    }
   ],
   "source": [
    "user = User()\n",
    "user.make_session()"
   ]
  },
  {
   "cell_type": "code",
   "execution_count": 19,
   "id": "c9f1816a",
   "metadata": {},
   "outputs": [],
   "source": [
    "class User:\n",
    "    \n",
    "    def start(self):\n",
    "        print('Starting...')\n",
    "        \n",
    "    def drink(self):\n",
    "        print('Drinking...')\n",
    "        \n",
    "    def work(self):\n",
    "        print('Working...')\n",
    "        \n",
    "    def end(self):\n",
    "        print('Ending...')\n",
    "        \n",
    "    def make_session(self):\n",
    "        print(f'--- {self.__class__.__name__.upper()} SESSION ---')\n",
    "        self.start()\n",
    "        self.drink()\n",
    "        self.work()\n",
    "        self.end()\n",
    "        print(f'--- END SESSION ---\\n')\n",
    "        \n",
    "        \n",
    "class Player(User):\n",
    "    \n",
    "    def work(self):\n",
    "        print('Playing')"
   ]
  },
  {
   "cell_type": "code",
   "execution_count": 20,
   "id": "74432a3e",
   "metadata": {},
   "outputs": [
    {
     "name": "stdout",
     "output_type": "stream",
     "text": [
      "--- USER SESSION ---\n",
      "Starting...\n",
      "Drinking...\n",
      "Working...\n",
      "Ending...\n",
      "--- END SESSION ---\n",
      "\n",
      "--- PLAYER SESSION ---\n",
      "Starting...\n",
      "Drinking...\n",
      "Playing\n",
      "Ending...\n",
      "--- END SESSION ---\n",
      "\n"
     ]
    }
   ],
   "source": [
    "user = User()\n",
    "user.make_session()\n",
    "\n",
    "player = Player()\n",
    "player.make_session()"
   ]
  },
  {
   "cell_type": "code",
   "execution_count": 21,
   "id": "11a7ea78",
   "metadata": {},
   "outputs": [],
   "source": [
    "class User:\n",
    "    \n",
    "    def start(self):\n",
    "        print('Starting...')\n",
    "        \n",
    "    def drink(self):\n",
    "        print('Drinking...')\n",
    "        \n",
    "    def work(self):\n",
    "        print('Working...')\n",
    "        \n",
    "    def end(self):\n",
    "        print('Ending...')\n",
    "        \n",
    "    def make_session(self):\n",
    "        print(f'--- {self.__class__.__name__.upper()} SESSION ---')\n",
    "        User.start(self)\n",
    "        User.drink(self)\n",
    "        User.work(self)\n",
    "        User.end(self)\n",
    "        print(f'--- END SESSION ---\\n')\n",
    "        \n",
    "        \n",
    "class Player(User):\n",
    "    \n",
    "    def work(self):\n",
    "        print('Playing')"
   ]
  },
  {
   "cell_type": "code",
   "execution_count": 22,
   "id": "388b088b",
   "metadata": {},
   "outputs": [
    {
     "name": "stdout",
     "output_type": "stream",
     "text": [
      "--- USER SESSION ---\n",
      "Starting...\n",
      "Drinking...\n",
      "Working...\n",
      "Ending...\n",
      "--- END SESSION ---\n",
      "\n",
      "--- PLAYER SESSION ---\n",
      "Starting...\n",
      "Drinking...\n",
      "Working...\n",
      "Ending...\n",
      "--- END SESSION ---\n",
      "\n"
     ]
    }
   ],
   "source": [
    "user = User()\n",
    "user.make_session()\n",
    "\n",
    "player = Player()\n",
    "player.make_session()"
   ]
  },
  {
   "cell_type": "code",
   "execution_count": 23,
   "id": "a11b4ec1",
   "metadata": {},
   "outputs": [
    {
     "name": "stdout",
     "output_type": "stream",
     "text": [
      "Vehicle from 2010.\n",
      "Car from 2020.\n"
     ]
    }
   ],
   "source": [
    "class Vehicle:\n",
    "    \n",
    "    year = 2010\n",
    "    \n",
    "    def info(self):\n",
    "        print(f'{self.__class__.__name__} from {self.__class__.year}.') #or {type(self).year}\n",
    "        \n",
    "        \n",
    "class Car(Vehicle):\n",
    "    \n",
    "    year = 2020\n",
    "    \n",
    "    \n",
    "vehicles = [Vehicle(), Car()]\n",
    "for vehicle in vehicles:\n",
    "    vehicle.info()"
   ]
  },
  {
   "cell_type": "markdown",
   "id": "710cc88c",
   "metadata": {},
   "source": [
    "#### super()"
   ]
  },
  {
   "cell_type": "code",
   "execution_count": 24,
   "id": "3888175f",
   "metadata": {},
   "outputs": [],
   "source": [
    "class Vehicle:\n",
    "    \n",
    "    def __init__(self, brand, year):\n",
    "        self.brand = brand\n",
    "        self.year = year\n",
    "        \n",
    "        \n",
    "class Car(Vehicle):\n",
    "    \n",
    "    def __init__(self, brand, year, horsepower):\n",
    "        super().__init__(brand, year)\n",
    "        self.horsepower = horsepower"
   ]
  },
  {
   "cell_type": "code",
   "execution_count": 25,
   "id": "4ed70d69",
   "metadata": {},
   "outputs": [
    {
     "data": {
      "text/plain": [
       "{'brand': 'Tesla', 'year': 2020}"
      ]
     },
     "execution_count": 25,
     "metadata": {},
     "output_type": "execute_result"
    }
   ],
   "source": [
    "v1 = Vehicle('Tesla', 2020)\n",
    "v1.__dict__"
   ]
  },
  {
   "cell_type": "code",
   "execution_count": 26,
   "id": "e888e09d",
   "metadata": {},
   "outputs": [
    {
     "data": {
      "text/plain": [
       "{'brand': 'Tesla', 'year': 2020, 'horsepower': 306}"
      ]
     },
     "execution_count": 26,
     "metadata": {},
     "output_type": "execute_result"
    }
   ],
   "source": [
    "c1 = Car('Tesla', 2020, 306)\n",
    "c1.__dict__"
   ]
  },
  {
   "cell_type": "code",
   "execution_count": 27,
   "id": "3e6aa8a5",
   "metadata": {},
   "outputs": [],
   "source": [
    "class Vehicle:\n",
    "    \n",
    "    def __init__(self, brand, year):\n",
    "        self.brand = brand\n",
    "        self.year = year\n",
    "        \n",
    "    def show_details(self):\n",
    "        return f'Calling from... {self.__class__.__name__}.'\n",
    "        \n",
    "class Car(Vehicle):\n",
    "    \n",
    "    def __init__(self, brand, year, horsepower):\n",
    "        super().__init__(brand, year)\n",
    "        self.horsepower = horsepower\n",
    "        \n",
    "    def show_details(self):\n",
    "        result = super().show_details()\n",
    "        return result + f'\\nCalling from derived class...{self}.'"
   ]
  },
  {
   "cell_type": "code",
   "execution_count": 28,
   "id": "eda0d93e",
   "metadata": {},
   "outputs": [
    {
     "data": {
      "text/plain": [
       "{'brand': 'Tesla', 'year': 2020}"
      ]
     },
     "execution_count": 28,
     "metadata": {},
     "output_type": "execute_result"
    }
   ],
   "source": [
    "v1 = Vehicle('Tesla', 2020)\n",
    "v1.__dict__"
   ]
  },
  {
   "cell_type": "code",
   "execution_count": 29,
   "id": "bd8464d6",
   "metadata": {},
   "outputs": [
    {
     "data": {
      "text/plain": [
       "'Calling from... Vehicle.'"
      ]
     },
     "execution_count": 29,
     "metadata": {},
     "output_type": "execute_result"
    }
   ],
   "source": [
    "v1.show_details()"
   ]
  },
  {
   "cell_type": "code",
   "execution_count": 30,
   "id": "fd9f31f1",
   "metadata": {},
   "outputs": [
    {
     "data": {
      "text/plain": [
       "{'brand': 'Tesla', 'year': 2020, 'horsepower': 306}"
      ]
     },
     "execution_count": 30,
     "metadata": {},
     "output_type": "execute_result"
    }
   ],
   "source": [
    "c1 = Car('Tesla', 2020, 306)\n",
    "c1.__dict__"
   ]
  },
  {
   "cell_type": "code",
   "execution_count": 31,
   "id": "118e305e",
   "metadata": {},
   "outputs": [
    {
     "name": "stdout",
     "output_type": "stream",
     "text": [
      "Calling from... Car.\n",
      "Calling from derived class...<__main__.Car object at 0x0000014ABF5BA070>.\n"
     ]
    }
   ],
   "source": [
    "print(c1.show_details())"
   ]
  },
  {
   "cell_type": "markdown",
   "id": "fa41a8bd",
   "metadata": {},
   "source": [
    "### Multilevel inheritance"
   ]
  },
  {
   "cell_type": "code",
   "execution_count": 32,
   "id": "dddded29",
   "metadata": {},
   "outputs": [],
   "source": [
    "class Vehicle:\n",
    "    \n",
    "    def __init__(self, brand, year):\n",
    "        self.brand = brand\n",
    "        self.year = year\n",
    "        \n",
    "    def show_details(self):\n",
    "        return f'Calling from... {self.__class__.__name__}.'\n",
    "        \n",
    "class Car(Vehicle):\n",
    "    \n",
    "    def __init__(self, brand, year, horsepower):\n",
    "        super().__init__(brand, year)\n",
    "        self.horsepower = horsepower\n",
    "        \n",
    "    def show_details(self):\n",
    "        result = super().show_details()\n",
    "        return result + f'\\nCalling from derived class... {self.__class__.__name__}.'\n",
    "    \n",
    "    \n",
    "class RacingCar(Car):\n",
    "    \n",
    "    def show_details(self):\n",
    "        result = super().show_details()\n",
    "        return result + f'\\nCalling from... {self.__class__.__name__}.'"
   ]
  },
  {
   "cell_type": "code",
   "execution_count": 33,
   "id": "81e8c4f7",
   "metadata": {},
   "outputs": [
    {
     "data": {
      "text/plain": [
       "'Calling from... Vehicle.'"
      ]
     },
     "execution_count": 33,
     "metadata": {},
     "output_type": "execute_result"
    }
   ],
   "source": [
    "v1 = Vehicle('Tesla', 2020)\n",
    "v1.show_details()"
   ]
  },
  {
   "cell_type": "code",
   "execution_count": 34,
   "id": "98e686a9",
   "metadata": {},
   "outputs": [
    {
     "name": "stdout",
     "output_type": "stream",
     "text": [
      "Calling from... Car.\n",
      "Calling from derived class... Car.\n"
     ]
    }
   ],
   "source": [
    "c1 = Car('Tesla', 2020, 300)\n",
    "print(c1.show_details())"
   ]
  },
  {
   "cell_type": "code",
   "execution_count": 35,
   "id": "eded781a",
   "metadata": {
    "scrolled": true
   },
   "outputs": [
    {
     "name": "stdout",
     "output_type": "stream",
     "text": [
      "Calling from... RacingCar.\n",
      "Calling from derived class... RacingCar.\n",
      "Calling from... RacingCar.\n"
     ]
    }
   ],
   "source": [
    "rc1 = RacingCar('Tesla', 2020, 300)\n",
    "print(rc1.show_details())"
   ]
  },
  {
   "cell_type": "markdown",
   "id": "867073be",
   "metadata": {},
   "source": [
    "### Multiple inheritance"
   ]
  },
  {
   "cell_type": "code",
   "execution_count": 36,
   "id": "d4f61758",
   "metadata": {},
   "outputs": [],
   "source": [
    "class Person:\n",
    "    \n",
    "    def __init__(self, first_name, last_name, age):\n",
    "        self.first_name = first_name\n",
    "        self.last_name = last_name\n",
    "        self.age = age\n",
    "        \n",
    "        \n",
    "class Department:\n",
    "    \n",
    "    def __init__(self, dept_name):\n",
    "        self.dept_name = dept_name\n",
    "        \n",
    "    \n",
    "class Worker(Person, Department):\n",
    "    pass"
   ]
  },
  {
   "cell_type": "code",
   "execution_count": 37,
   "id": "8187d6de",
   "metadata": {},
   "outputs": [
    {
     "name": "stdout",
     "output_type": "stream",
     "text": [
      "Help on class Worker in module __main__:\n",
      "\n",
      "class Worker(Person, Department)\n",
      " |  Worker(first_name, last_name, age)\n",
      " |  \n",
      " |  Method resolution order:\n",
      " |      Worker\n",
      " |      Person\n",
      " |      Department\n",
      " |      builtins.object\n",
      " |  \n",
      " |  Methods inherited from Person:\n",
      " |  \n",
      " |  __init__(self, first_name, last_name, age)\n",
      " |      Initialize self.  See help(type(self)) for accurate signature.\n",
      " |  \n",
      " |  ----------------------------------------------------------------------\n",
      " |  Data descriptors inherited from Person:\n",
      " |  \n",
      " |  __dict__\n",
      " |      dictionary for instance variables (if defined)\n",
      " |  \n",
      " |  __weakref__\n",
      " |      list of weak references to the object (if defined)\n",
      "\n"
     ]
    }
   ],
   "source": [
    "help(Worker)"
   ]
  },
  {
   "cell_type": "code",
   "execution_count": 38,
   "id": "0755ad63",
   "metadata": {},
   "outputs": [
    {
     "data": {
      "text/plain": [
       "{'first_name': 'John', 'last_name': 'Smith', 'age': 40}"
      ]
     },
     "execution_count": 38,
     "metadata": {},
     "output_type": "execute_result"
    }
   ],
   "source": [
    "worker = Worker('John', 'Smith', 40)\n",
    "worker.__dict__"
   ]
  },
  {
   "cell_type": "code",
   "execution_count": 39,
   "id": "3b40d790",
   "metadata": {},
   "outputs": [],
   "source": [
    "class Person:\n",
    "    \n",
    "    def __init__(self, first_name, last_name, age):\n",
    "        self.first_name = first_name\n",
    "        self.last_name = last_name\n",
    "        self.age = age\n",
    "        \n",
    "        \n",
    "class Department:\n",
    "    \n",
    "    def __init__(self, dept_name):\n",
    "        self.dept_name = dept_name\n",
    "        \n",
    "    \n",
    "class Worker(Person, Department):\n",
    "    \n",
    "    def __init__(self, first_name, last_name, age, dept_name, hours_per_day=8):\n",
    "        Person.__init__(self, first_name, last_name, age)\n",
    "        Department.__init__(self, dept_name)\n",
    "        self.hours_per_day = hours_per_day\n",
    "        \n",
    "        \n",
    "class Menager(Person, Department):\n",
    "    \n",
    "    def __init__(self, first_name, last_name, age, dept_name, is_founder=False):\n",
    "        Person.__init__(self, first_name, last_name, age)\n",
    "        Department.__init__(self, dept_name)\n",
    "        self.is_founder = is_founder"
   ]
  },
  {
   "cell_type": "code",
   "execution_count": 40,
   "id": "125095fc",
   "metadata": {},
   "outputs": [
    {
     "data": {
      "text/plain": [
       "{'first_name': 'John',\n",
       " 'last_name': 'Smith',\n",
       " 'age': 40,\n",
       " 'dept_name': 'IT',\n",
       " 'hours_per_day': 8}"
      ]
     },
     "execution_count": 40,
     "metadata": {},
     "output_type": "execute_result"
    }
   ],
   "source": [
    "worker = Worker('John', 'Smith', 40, 'IT')\n",
    "worker.__dict__"
   ]
  },
  {
   "cell_type": "code",
   "execution_count": 41,
   "id": "fc918dd7",
   "metadata": {},
   "outputs": [
    {
     "data": {
      "text/plain": [
       "{'first_name': 'Anne',\n",
       " 'last_name': 'Snow',\n",
       " 'age': 35,\n",
       " 'dept_name': 'IT',\n",
       " 'is_founder': False}"
      ]
     },
     "execution_count": 41,
     "metadata": {},
     "output_type": "execute_result"
    }
   ],
   "source": [
    "menager = Menager('Anne', 'Snow', 35, 'IT')\n",
    "menager.__dict__"
   ]
  },
  {
   "cell_type": "markdown",
   "id": "78388ac6",
   "metadata": {},
   "source": [
    "#### Exercises"
   ]
  },
  {
   "cell_type": "code",
   "execution_count": 42,
   "id": "eac4e61e",
   "metadata": {},
   "outputs": [],
   "source": [
    "class Container:\n",
    "    pass\n",
    "\n",
    "\n",
    "class PlasticContainer(Container):\n",
    "    pass\n",
    "\n",
    "\n",
    "class MetalContainer(Container):\n",
    "    pass\n",
    "\n",
    "\n",
    "class CustomContainer:\n",
    "    pass"
   ]
  },
  {
   "cell_type": "code",
   "execution_count": 43,
   "id": "b7f3dac6",
   "metadata": {},
   "outputs": [
    {
     "name": "stdout",
     "output_type": "stream",
     "text": [
      "True\n",
      "True\n",
      "False\n"
     ]
    }
   ],
   "source": [
    "print(issubclass(PlasticContainer, Container))\n",
    "print(issubclass(MetalContainer, Container))\n",
    "print(issubclass(Container, CustomContainer))"
   ]
  },
  {
   "cell_type": "code",
   "execution_count": 44,
   "id": "37e044da",
   "metadata": {},
   "outputs": [
    {
     "name": "stdout",
     "output_type": "stream",
     "text": [
      "Vehicle(category='land vehicle')\n",
      "LandVehicle(category='land vehicle')\n",
      "AirVehicle(category='air vehicle')\n"
     ]
    }
   ],
   "source": [
    "class Vehicle:\n",
    "    def __init__(self, category=None):\n",
    "        self.category = category if category else 'land vehicle'\n",
    "        \n",
    "    def __repr__(self):\n",
    "        return f\"{self.__class__.__name__}(category='{self.category}')\"\n",
    "\n",
    "    \n",
    "class LandVehicle(Vehicle):\n",
    "    pass\n",
    "\n",
    "\n",
    "class AirVehicle(Vehicle):\n",
    "    def __init__(self, category=None):\n",
    "        self.category = category if category else 'air vehicle'   \n",
    "\n",
    "\n",
    "instances = [Vehicle(), LandVehicle(), AirVehicle()]\n",
    "\n",
    "for instance in instances:\n",
    "    print(instance)"
   ]
  },
  {
   "cell_type": "code",
   "execution_count": 45,
   "id": "cded1b77",
   "metadata": {},
   "outputs": [],
   "source": [
    "class Vehicle:\n",
    "    \n",
    "    def __init__(self, brand, color, year):\n",
    "        self.brand = brand\n",
    "        self.color = color\n",
    "        self.year = year\n",
    "        \n",
    "        \n",
    "class Car(Vehicle):\n",
    "    \n",
    "    def __init__(self, brand, color, year, horsepower):\n",
    "        super().__init__(brand, color, year)\n",
    "        self.horsepower = horsepower"
   ]
  },
  {
   "cell_type": "code",
   "execution_count": 46,
   "id": "824a1ff4",
   "metadata": {},
   "outputs": [
    {
     "data": {
      "text/plain": [
       "{'brand': 'Ferrari', 'color': 'red', 'year': 1985}"
      ]
     },
     "execution_count": 46,
     "metadata": {},
     "output_type": "execute_result"
    }
   ],
   "source": [
    "v1 = Vehicle('Ferrari', 'red', 1985)\n",
    "v1.__dict__"
   ]
  },
  {
   "cell_type": "code",
   "execution_count": 47,
   "id": "6e922009",
   "metadata": {},
   "outputs": [
    {
     "data": {
      "text/plain": [
       "{'brand': 'Ferrari', 'color': 'red', 'year': 1985, 'horsepower': 308}"
      ]
     },
     "execution_count": 47,
     "metadata": {},
     "output_type": "execute_result"
    }
   ],
   "source": [
    "c1 = Car('Ferrari', 'red', 1985, 308)\n",
    "c1.__dict__"
   ]
  },
  {
   "cell_type": "code",
   "execution_count": 48,
   "id": "6edccb95",
   "metadata": {},
   "outputs": [],
   "source": [
    "class Person:\n",
    "    def __init__(self, first_name, last_name, age):\n",
    "        self.first_name = first_name\n",
    "        self.last_name = last_name\n",
    "        self.age = age\n",
    "\n",
    "\n",
    "class Department:\n",
    "    def __init__(self, dept_name, short_dept_name):\n",
    "        self.dept_name = dept_name\n",
    "        self.short_dept_name = short_dept_name\n",
    "\n",
    "\n",
    "class Worker(Person, Department):\n",
    "    def __init__(self, first_name, last_name, age, dept_name, short_dept_name):\n",
    "        Person.__init__(self, first_name, last_name, age)\n",
    "        Department.__init__(self, dept_name, short_dept_name)"
   ]
  },
  {
   "cell_type": "code",
   "execution_count": 49,
   "id": "061ec471",
   "metadata": {},
   "outputs": [
    {
     "data": {
      "text/plain": [
       "{'first_name': 'John',\n",
       " 'last_name': 'Doe',\n",
       " 'age': 30,\n",
       " 'dept_name': 'Information Technology',\n",
       " 'short_dept_name': 'IT'}"
      ]
     },
     "execution_count": 49,
     "metadata": {},
     "output_type": "execute_result"
    }
   ],
   "source": [
    "w = Worker('John', 'Doe', 30, 'Information Technology', 'IT')\n",
    "w.__dict__"
   ]
  },
  {
   "cell_type": "code",
   "execution_count": 50,
   "id": "ea5d328f",
   "metadata": {},
   "outputs": [],
   "source": [
    "class Person:\n",
    "    def __init__(self, name, age, gender):\n",
    "        self.name = name\n",
    "        self.age = age\n",
    "        self.gender = gender\n",
    "\n",
    "\n",
    "class Student(Person):\n",
    "    def __init__(self, name, age, gender, grade, gpa):\n",
    "        super().__init__(name, age, gender)\n",
    "        if not type(grade) == int or grade < 1 or grade > 12:\n",
    "            raise TypeError('Grade should be be an integer between 1 and 12.')\n",
    "        else:\n",
    "            self.grade = grade\n",
    "        if not type(gpa) == float or gpa < 0.0 or gpa > 4.0:\n",
    "            raise TypeError('GPA should be be an float between 0.0 and 4.0.')\n",
    "        else:\n",
    "            self.gpa = gpa\n",
    "            \n",
    "            \n",
    "class Teacher(Person):\n",
    "    def __init__(self, name, age, gender, subject, years_of_experience):\n",
    "        super().__init__(name, age, gender)\n",
    "        if not type(subject) == str:\n",
    "            raise TypeError('Subject should be a str.')\n",
    "        else:\n",
    "            self.subject = subject\n",
    "\n",
    "        if not type(years_of_experience) == int:\n",
    "            raise TypeError('Years of experience should be an integer.')\n",
    "        else:\n",
    "            self.years_of_experience = years_of_experience"
   ]
  },
  {
   "cell_type": "code",
   "execution_count": 51,
   "id": "9632b951",
   "metadata": {},
   "outputs": [],
   "source": [
    "person = Person('Alice', 25, 'female')\n",
    "student = Student('Bob', 17, 'male', 11, 3.5)\n",
    "teacher = Teacher('Carol', 35, 'female', 'Math', 10)\n"
   ]
  },
  {
   "cell_type": "code",
   "execution_count": 52,
   "id": "c29de6f5",
   "metadata": {},
   "outputs": [
    {
     "name": "stdout",
     "output_type": "stream",
     "text": [
      "{'name': 'Alice', 'age': 25, 'gender': 'female'}\n",
      "{'name': 'Bob', 'age': 17, 'gender': 'male', 'grade': 11, 'gpa': 3.5}\n",
      "{'name': 'Carol', 'age': 35, 'gender': 'female', 'subject': 'Math', 'years_of_experience': 10}\n"
     ]
    }
   ],
   "source": [
    "print(person.__dict__)\n",
    "print(student.__dict__)\n",
    "print(teacher.__dict__)"
   ]
  }
 ],
 "metadata": {
  "kernelspec": {
   "display_name": "Python 3",
   "language": "python",
   "name": "python3"
  },
  "language_info": {
   "codemirror_mode": {
    "name": "ipython",
    "version": 3
   },
   "file_extension": ".py",
   "mimetype": "text/x-python",
   "name": "python",
   "nbconvert_exporter": "python",
   "pygments_lexer": "ipython3",
   "version": "3.8.8"
  }
 },
 "nbformat": 4,
 "nbformat_minor": 5
}
