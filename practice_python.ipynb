{
 "cells": [
  {
   "cell_type": "markdown",
   "id": "01453dae",
   "metadata": {},
   "source": [
    "## Practice python\n",
    "source: https://www.practicepython.org/"
   ]
  },
  {
   "cell_type": "markdown",
   "id": "0b750171",
   "metadata": {},
   "source": [
    "### Excercise 1 (Character Input)\n",
    "**Create a program that asks the user to enter their name and their age. Print out a message addressed to them that tells them the year that they will turn 100 years old.**"
   ]
  },
  {
   "cell_type": "code",
   "execution_count": 1,
   "id": "5445a4da",
   "metadata": {},
   "outputs": [],
   "source": [
    "from datetime import date"
   ]
  },
  {
   "cell_type": "code",
   "execution_count": 2,
   "id": "5aef610d",
   "metadata": {},
   "outputs": [
    {
     "name": "stdout",
     "output_type": "stream",
     "text": [
      "Your age: 23\n",
      "You will be 100 years old in: 2100\n"
     ]
    }
   ],
   "source": [
    "user_age = input('Your age: ')\n",
    "years_to_100 = 100 - int(user_age)    \n",
    "year_now = date.today().year\n",
    "\n",
    "print(f'You will be 100 years old in: {year_now+years_to_100}')"
   ]
  },
  {
   "cell_type": "markdown",
   "id": "773ac772",
   "metadata": {},
   "source": [
    "**Add on to the previous program by asking the user for another number and printing out that many copies of the previous message. Print out that many copies of the previous message on separate lines.**"
   ]
  },
  {
   "cell_type": "code",
   "execution_count": 3,
   "id": "8be4ade3",
   "metadata": {},
   "outputs": [],
   "source": [
    "def age_calculate():\n",
    "    print('Hi! If you want to end write \"pass\"')\n",
    "    \n",
    "    while True:\n",
    "        user_age = input('Your age: ')\n",
    "        year_now = date.today().year\n",
    "        \n",
    "        if str(user_age)=='pass':\n",
    "            print('Bye')\n",
    "            break\n",
    "            \n",
    "        try:\n",
    "            if int(user_age)<100:\n",
    "                print(f'You will be 100 years old in: {year_now+(100-int(user_age))}\\n')\n",
    "            elif int(user_age)>=100:\n",
    "                print('You have already 100 years!\\n')\n",
    "        except ValueError:\n",
    "            print('Not a number\\n')"
   ]
  },
  {
   "cell_type": "code",
   "execution_count": 4,
   "id": "401c8bdb",
   "metadata": {
    "scrolled": true
   },
   "outputs": [
    {
     "name": "stdout",
     "output_type": "stream",
     "text": [
      "Hi! If you want to end write \"pass\"\n",
      "Your age: 23\n",
      "You will be 100 years old in: 2100\n",
      "\n",
      "Your age: hi\n",
      "Not a number\n",
      "\n",
      "Your age: pass\n",
      "Bye\n"
     ]
    }
   ],
   "source": [
    "age_calculate()"
   ]
  },
  {
   "cell_type": "markdown",
   "id": "eeac338f",
   "metadata": {},
   "source": [
    "### Excercise 2 (Odd Or Even)\n",
    "**Ask the user for a number. Depending on whether the number is even or odd, print out an appropriate message to the user. If the number is a multiple of 4, print out a different message.**"
   ]
  },
  {
   "cell_type": "code",
   "execution_count": 5,
   "id": "efa8f3f9",
   "metadata": {},
   "outputs": [
    {
     "name": "stdout",
     "output_type": "stream",
     "text": [
      "Your number: 24\n",
      "Multiple of 4 and even\n"
     ]
    }
   ],
   "source": [
    "num = int(input('Your number: '))\n",
    "if num%4==0:\n",
    "    print('Multiple of 4 and even')\n",
    "elif num%2 == 0:\n",
    "    print('Even')\n",
    "else:\n",
    "    print('Odd')"
   ]
  },
  {
   "cell_type": "markdown",
   "id": "223c3430",
   "metadata": {},
   "source": [
    "**Ask the user for two numbers: one number to check and one number to divide by. If check divides evenly into num, tell that to the user. If not, print a different appropriate message.**"
   ]
  },
  {
   "cell_type": "code",
   "execution_count": 6,
   "id": "a4ccdde5",
   "metadata": {},
   "outputs": [
    {
     "name": "stdout",
     "output_type": "stream",
     "text": [
      "Your number: 60\n",
      "Your divisor: 10\n",
      "60 divides evenly into 10\n"
     ]
    }
   ],
   "source": [
    "number = input('Your number: ')\n",
    "divisor = input('Your divisor: ')\n",
    "if int(number)%int(divisor)==0:\n",
    "    print(f'{number} divides evenly into {divisor}')\n",
    "else:\n",
    "    print('Indivisible')"
   ]
  },
  {
   "cell_type": "markdown",
   "id": "cef1de3b",
   "metadata": {},
   "source": [
    "### Excercise 3 (List Less Than Ten)\n",
    "**Make a list of numbers and write a program that prints out all the elements of the list that are less than 5.**\n",
    "- Instead of printing the elements one by one, make a new list that has all the elements less than 5 from this list in it and print out this new list\n",
    "- Write this in one line of Python\n",
    "- Ask the user for a number and return a list that contains only elements from the original list a that are smaller than that number given by the user"
   ]
  },
  {
   "cell_type": "code",
   "execution_count": 7,
   "id": "f1eca559",
   "metadata": {},
   "outputs": [],
   "source": [
    "a = [1, 1, 2, 3, 5, 8, 13, 21, 34, 55, 89]"
   ]
  },
  {
   "cell_type": "code",
   "execution_count": 8,
   "id": "d198f357",
   "metadata": {},
   "outputs": [
    {
     "data": {
      "text/plain": [
       "[1, 1, 2, 3]"
      ]
     },
     "execution_count": 8,
     "metadata": {},
     "output_type": "execute_result"
    }
   ],
   "source": [
    "new_list = [i for i in a if i<5]\n",
    "new_list"
   ]
  },
  {
   "cell_type": "code",
   "execution_count": 9,
   "id": "b37b1233",
   "metadata": {},
   "outputs": [
    {
     "name": "stdout",
     "output_type": "stream",
     "text": [
      "Your number: 10\n",
      "[1, 1, 2, 3, 5, 8]\n"
     ]
    }
   ],
   "source": [
    "user_nr = input('Your number: ')\n",
    "new_list = [i for i in a if i<int(user_nr)]\n",
    "print(new_list)"
   ]
  },
  {
   "cell_type": "markdown",
   "id": "ae1f76e4",
   "metadata": {},
   "source": [
    "### Excercise 4 (Divisors)\n",
    "**Create a program that asks the user for a number and then prints out a list of all the divisors of that number.**"
   ]
  },
  {
   "cell_type": "code",
   "execution_count": 10,
   "id": "417cfc3d",
   "metadata": {},
   "outputs": [
    {
     "name": "stdout",
     "output_type": "stream",
     "text": [
      "Your number: 100\n",
      "[1, 2, 4, 5, 10, 20, 25, 50, 100]\n"
     ]
    }
   ],
   "source": [
    "num_to_div = int(input('Your number: '))\n",
    "div = [i for i in range(1,1000000) if num_to_div%i==0]\n",
    "print(div)"
   ]
  },
  {
   "cell_type": "markdown",
   "id": "478baba7",
   "metadata": {},
   "source": [
    "### Excercise 5 (List Overlap)\n",
    "**Write a program that returns a list that contains only the elements that are common between the lists (without duplicates).**"
   ]
  },
  {
   "cell_type": "code",
   "execution_count": 11,
   "id": "fb93bd61",
   "metadata": {},
   "outputs": [],
   "source": [
    "a = [1, 1, 2, 3, 5, 8, 13, 21, 34, 55, 89]\n",
    "b = [1, 2, 3, 4, 5, 6, 7, 8, 9, 10, 11, 12, 13]"
   ]
  },
  {
   "cell_type": "code",
   "execution_count": 12,
   "id": "64389449",
   "metadata": {},
   "outputs": [
    {
     "data": {
      "text/plain": [
       "[1, 2, 3, 5, 8, 13]"
      ]
     },
     "execution_count": 12,
     "metadata": {},
     "output_type": "execute_result"
    }
   ],
   "source": [
    "common = set(a).intersection(set(b))\n",
    "list(common)"
   ]
  },
  {
   "cell_type": "code",
   "execution_count": 13,
   "id": "c8170a55",
   "metadata": {},
   "outputs": [
    {
     "data": {
      "text/plain": [
       "[1, 2, 3, 5, 8, 13]"
      ]
     },
     "execution_count": 13,
     "metadata": {},
     "output_type": "execute_result"
    }
   ],
   "source": [
    "common2 = {i for i in a if i in b}\n",
    "list(common2)"
   ]
  },
  {
   "cell_type": "markdown",
   "id": "88d9de04",
   "metadata": {},
   "source": [
    "### Excercise 6 (String Lists)\n",
    "**Ask the user for a string and print out whether this string is a palindrome or not.**"
   ]
  },
  {
   "cell_type": "code",
   "execution_count": 14,
   "id": "c788267e",
   "metadata": {},
   "outputs": [
    {
     "name": "stdout",
     "output_type": "stream",
     "text": [
      "Your string: Abba\n",
      "Yes, your string is palindrome.\n"
     ]
    }
   ],
   "source": [
    "string = list(input('Your string: ').lower())\n",
    "if string == string[::-1]:\n",
    "    print('Yes, your string is palindrome.')\n",
    "else:\n",
    "    print('No, your string is not palindrome.')"
   ]
  },
  {
   "cell_type": "code",
   "execution_count": 15,
   "id": "c151c1e6",
   "metadata": {
    "scrolled": true
   },
   "outputs": [
    {
     "name": "stdout",
     "output_type": "stream",
     "text": [
      "Your string: Queen\n",
      "No, your string is not palindrome.\n"
     ]
    }
   ],
   "source": [
    "string = list(input('Your string: ').lower())\n",
    "if string == string[::-1]:\n",
    "    print('Yes, your string is palindrome.')\n",
    "else:\n",
    "    print('No, your string is not palindrome.')"
   ]
  },
  {
   "cell_type": "markdown",
   "id": "dc326c55",
   "metadata": {},
   "source": [
    "### Excercise 7 (List Comprehensions)\n",
    "**Write one line of Python that takes this list a and makes a new list that has only the even elements of this list in it.**"
   ]
  },
  {
   "cell_type": "code",
   "execution_count": 16,
   "id": "2c15e28e",
   "metadata": {},
   "outputs": [
    {
     "name": "stdout",
     "output_type": "stream",
     "text": [
      "[4, 16, 36, 64, 100]\n"
     ]
    }
   ],
   "source": [
    "a = [1, 4, 9, 16, 25, 36, 49, 64, 81, 100]\n",
    "print([i for i in a if i%2==0])"
   ]
  },
  {
   "cell_type": "markdown",
   "id": "85185c36",
   "metadata": {},
   "source": [
    "### Excercise 8 (Rock Paper Scissors)\n",
    "**Make a two-player Rock-Paper-Scissors game.**"
   ]
  },
  {
   "cell_type": "code",
   "execution_count": 17,
   "id": "af3394b4",
   "metadata": {},
   "outputs": [],
   "source": [
    "from IPython.display import clear_output\n",
    "\n",
    "\n",
    "def replay_rps():\n",
    "    replay = ' '\n",
    "    \n",
    "    while replay not in ['yes','no']:\n",
    "        replay = input('Do you want to play again? (yes or no)').lower()\n",
    "        \n",
    "        if replay not in ['yes','no']:\n",
    "            clear_output()\n",
    "            print(\"Sorry, I didn't understand. Make sure to choose yes or no.\")\n",
    "            \n",
    "    if replay == \"yes\":\n",
    "        return True\n",
    "    else:\n",
    "        return False"
   ]
  },
  {
   "cell_type": "code",
   "execution_count": 18,
   "id": "735079f1",
   "metadata": {},
   "outputs": [],
   "source": [
    "def game_rps():\n",
    "    \n",
    "    print('Welcome in the game Rock Paper Scissors!')\n",
    "\n",
    "    while True:\n",
    "\n",
    "        player1 = input('Player 1, choose rock, paper or scissors: ').lower()\n",
    "        player2 = input('Player 2, choose rock, paper or scissors: ').lower()\n",
    "        choice=[player1,player2]\n",
    "        if player1==player2:\n",
    "            print('Draw!')\n",
    "        elif 'rock' in choice:\n",
    "            if 'paper' in choice:\n",
    "                print('Paper beats rock!')\n",
    "                if choice[0]=='paper':\n",
    "                    print('Player 1, you are winner!')\n",
    "                else:\n",
    "                    print('Player 2, you are winner!')\n",
    "            elif 'scissors' in choice:\n",
    "                print('Rock beats scissors')\n",
    "                if choice[0]=='rock':\n",
    "                    print('Player 1, you are winner!')\n",
    "                else:\n",
    "                    print('Player 2, you are winner!')\n",
    "        else:\n",
    "            print('Scissors beats paper')            \n",
    "            if choice[0]=='scissors':\n",
    "                print('Player 1, you are winner!')\n",
    "            else:\n",
    "                print('Player 2, you are winner!')\n",
    "\n",
    "        if not replay_rps():\n",
    "            break"
   ]
  },
  {
   "cell_type": "code",
   "execution_count": 19,
   "id": "fb10985b",
   "metadata": {
    "scrolled": true
   },
   "outputs": [
    {
     "name": "stdout",
     "output_type": "stream",
     "text": [
      "Welcome in the game Rock Paper Scissors!\n",
      "Player 1, choose rock, paper or scissors: paper\n",
      "Player 2, choose rock, paper or scissors: scissors\n",
      "Scissors beats paper\n",
      "Player 2, you are winner!\n",
      "Do you want to play again? (yes or no)yes\n",
      "Player 1, choose rock, paper or scissors: scissors\n",
      "Player 2, choose rock, paper or scissors: rock\n",
      "Rock beats scissors\n",
      "Player 2, you are winner!\n",
      "Do you want to play again? (yes or no)yes\n",
      "Player 1, choose rock, paper or scissors: paper\n",
      "Player 2, choose rock, paper or scissors: rock\n",
      "Paper beats rock!\n",
      "Player 1, you are winner!\n",
      "Do you want to play again? (yes or no)yes\n",
      "Player 1, choose rock, paper or scissors: paper\n",
      "Player 2, choose rock, paper or scissors: paper\n",
      "Draw!\n",
      "Do you want to play again? (yes or no)no\n"
     ]
    }
   ],
   "source": [
    "game_rps()"
   ]
  },
  {
   "cell_type": "markdown",
   "id": "1aa4c369",
   "metadata": {},
   "source": [
    "### Excercise 9 (Guessing Game One)\n",
    "**Generate a random number between 1 and 9 (including 1 and 9). Ask the user to guess the number, then tell them whether they guessed too low, too high, or exactly right.**"
   ]
  },
  {
   "cell_type": "code",
   "execution_count": 20,
   "id": "87b1c44a",
   "metadata": {},
   "outputs": [
    {
     "name": "stdout",
     "output_type": "stream",
     "text": [
      "Try to guess the number from 1 to 9. You have 5 guesses. If you want to end put 'exit' 5\n",
      "Too low\n",
      "Try to guess the number from 1 to 9. You have 5 guesses. If you want to end put 'exit' 6\n",
      "Too low\n",
      "Try to guess the number from 1 to 9. You have 5 guesses. If you want to end put 'exit' 7\n",
      "Too low\n",
      "Try to guess the number from 1 to 9. You have 5 guesses. If you want to end put 'exit' 8\n",
      "Too low\n",
      "Try to guess the number from 1 to 9. You have 5 guesses. If you want to end put 'exit' 9\n",
      "That's right. The number is 9. You guessed it on the 5 try.\n"
     ]
    }
   ],
   "source": [
    "import random\n",
    "\n",
    "number = random.randint(1,9)\n",
    "i = 0\n",
    "\n",
    "while True:\n",
    "    i+=1\n",
    "    if i>5:\n",
    "        print('Sorry, that was the last chance to guess')  \n",
    "        break \n",
    "\n",
    "    try:\n",
    "        user_guess = input(\"Try to guess the number from 1 to 9. You have 5 guesses. If you want to end put 'exit' \")\n",
    "\n",
    "        if user_guess.lower() == 'exit':\n",
    "            print('Bye!')\n",
    "            break      \n",
    "        elif int(user_guess) == number:\n",
    "            print(f\"That's right. The number is {number}. You guessed it on the {i} try.\")\n",
    "            break\n",
    "        elif int(user_guess) < number:\n",
    "            print('Too low')\n",
    "        else:\n",
    "            int(user_guess) > number\n",
    "            print('Too high')\n",
    "            \n",
    "    except ValueError:\n",
    "        print(\"Enter a number from 1 to 9 or 'exit'\\n\")       "
   ]
  },
  {
   "cell_type": "markdown",
   "id": "a21da311",
   "metadata": {},
   "source": [
    "### Excercise 10 (List Overlap Comprehensions)\n",
    "**Write a program that returns a list that contains only the elements that are common between the lists (without duplicates)**"
   ]
  },
  {
   "cell_type": "code",
   "execution_count": 21,
   "id": "361e91ad",
   "metadata": {},
   "outputs": [
    {
     "data": {
      "text/plain": [
       "[1, 2, 3, 5, 8, 13]"
      ]
     },
     "execution_count": 21,
     "metadata": {},
     "output_type": "execute_result"
    }
   ],
   "source": [
    "a = [1, 1, 2, 3, 5, 8, 13, 21, 34, 55, 89]\n",
    "b = [1, 2, 3, 4, 5, 6, 7, 8, 9, 10, 11, 12, 13]\n",
    "list({i for i in a if i in b})"
   ]
  },
  {
   "cell_type": "markdown",
   "id": "5a17ac8d",
   "metadata": {},
   "source": [
    "### Excercise 11 (Prime number)\n",
    "**Ask the user for a number and determine whether the number is prime or not. (Prime number is a number that has no divisors.)**"
   ]
  },
  {
   "cell_type": "code",
   "execution_count": 22,
   "id": "3387b31b",
   "metadata": {
    "scrolled": true
   },
   "outputs": [
    {
     "name": "stdout",
     "output_type": "stream",
     "text": [
      "Enter a number to check if it is a prime number: 11\n"
     ]
    },
    {
     "data": {
      "text/plain": [
       "True"
      ]
     },
     "execution_count": 22,
     "metadata": {},
     "output_type": "execute_result"
    }
   ],
   "source": [
    "def prime_num():\n",
    "    num = int(input('Enter a number to check if it is a prime number: '))\n",
    "    for i in range(2,num):\n",
    "        if num%i!=0:\n",
    "            return True\n",
    "    return False\n",
    "\n",
    "prime_num()"
   ]
  },
  {
   "cell_type": "markdown",
   "id": "3e128e16",
   "metadata": {},
   "source": [
    "### Excercise 12 (List Ends)\n",
    "**Write a program that takes a list of numbers and makes a new list of only the first and last elements of the given list. For practice, write this code inside a function.**"
   ]
  },
  {
   "cell_type": "code",
   "execution_count": 23,
   "id": "a2d7ae3b",
   "metadata": {},
   "outputs": [
    {
     "data": {
      "text/plain": [
       "[5, 25]"
      ]
     },
     "execution_count": 23,
     "metadata": {},
     "output_type": "execute_result"
    }
   ],
   "source": [
    "def first_last(l):\n",
    "    return [l[0],l[-1]]\n",
    "\n",
    "a = [5, 10, 15, 20, 25]\n",
    "first_last(a)"
   ]
  },
  {
   "cell_type": "markdown",
   "id": "4d3e1703",
   "metadata": {},
   "source": [
    "### Excercise 13 (Fibonacci)\n",
    "**Write a program that asks the user how many Fibonnaci numbers to generate and then generates them.**"
   ]
  },
  {
   "cell_type": "code",
   "execution_count": 24,
   "id": "4b92013f",
   "metadata": {},
   "outputs": [
    {
     "name": "stdout",
     "output_type": "stream",
     "text": [
      "How many fibonacci numbers do you want to generate? 10\n",
      "0\n",
      "1\n",
      "1\n",
      "2\n",
      "3\n",
      "5\n",
      "8\n",
      "13\n",
      "21\n",
      "34\n"
     ]
    }
   ],
   "source": [
    "def fibonacci():\n",
    "    \n",
    "    while True: \n",
    "        f1=0\n",
    "        f2=1\n",
    "        count=0\n",
    "        hm = input('How many fibonacci numbers do you want to generate? ')\n",
    "        \n",
    "        try:\n",
    "            if int(hm)<1:\n",
    "                print('Enter a number bigger than 0.\\n')\n",
    "                continue\n",
    "\n",
    "            while count<int(hm):\n",
    "                print(f1)\n",
    "                f3=f1+f2\n",
    "                f1=f2\n",
    "                f2=f3\n",
    "                count+=1\n",
    "            break\n",
    "        except ValueError:\n",
    "            print(\"Enter a numeric value greater than zero.\\n\")       \n",
    "            \n",
    "fibonacci()"
   ]
  },
  {
   "cell_type": "markdown",
   "id": "3190b8c3",
   "metadata": {},
   "source": [
    "### Excercise 14 (List Remove Duplicates)\n",
    "**Write a program (function!) that takes a list and returns a new list that contains all the elements of the first list minus all the duplicates.**"
   ]
  },
  {
   "cell_type": "code",
   "execution_count": 25,
   "id": "2e4f67ee",
   "metadata": {},
   "outputs": [
    {
     "data": {
      "text/plain": [
       "['Michele', 'Robin', 'Sara']"
      ]
     },
     "execution_count": 25,
     "metadata": {},
     "output_type": "execute_result"
    }
   ],
   "source": [
    "def remove_duplicat(l):\n",
    "    return list(set(l))\n",
    "\n",
    "names = [\"Michele\", \"Robin\", \"Sara\", \"Michele\"]\n",
    "remove_duplicat(names)"
   ]
  },
  {
   "cell_type": "code",
   "execution_count": 26,
   "id": "4dc27917",
   "metadata": {},
   "outputs": [
    {
     "data": {
      "text/plain": [
       "['Sara', 'Robin', 'Michele']"
      ]
     },
     "execution_count": 26,
     "metadata": {},
     "output_type": "execute_result"
    }
   ],
   "source": [
    "def remove_duplicat2(l):\n",
    "    new_l = []\n",
    "    for i in l:\n",
    "        if i not in new_l:\n",
    "            new_l.append(i)\n",
    "        else:\n",
    "            continue\n",
    "    return new_l\n",
    "            \n",
    "names2 = [\"Sara\", \"Robin\", \"Sara\", \"Michele\", \"Robin\"]\n",
    "\n",
    "remove_duplicat2(names2)"
   ]
  },
  {
   "cell_type": "code",
   "execution_count": null,
   "id": "ef98e4a7",
   "metadata": {},
   "outputs": [],
   "source": []
  }
 ],
 "metadata": {
  "kernelspec": {
   "display_name": "Python 3",
   "language": "python",
   "name": "python3"
  },
  "language_info": {
   "codemirror_mode": {
    "name": "ipython",
    "version": 3
   },
   "file_extension": ".py",
   "mimetype": "text/x-python",
   "name": "python",
   "nbconvert_exporter": "python",
   "pygments_lexer": "ipython3",
   "version": "3.8.8"
  }
 },
 "nbformat": 4,
 "nbformat_minor": 5
}
