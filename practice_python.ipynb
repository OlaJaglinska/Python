{
 "cells": [
  {
   "cell_type": "markdown",
   "id": "01453dae",
   "metadata": {},
   "source": [
    "## Practice python\n",
    "source: https://www.practicepython.org/"
   ]
  },
  {
   "cell_type": "markdown",
   "id": "0b750171",
   "metadata": {},
   "source": [
    "### Excercise 1 (Character Input)\n",
    "**Create a program that asks the user to enter their name and their age. Print out a message addressed to them that tells them the year that they will turn 100 years old.**"
   ]
  },
  {
   "cell_type": "code",
   "execution_count": 1,
   "id": "5445a4da",
   "metadata": {},
   "outputs": [],
   "source": [
    "from datetime import date"
   ]
  },
  {
   "cell_type": "code",
   "execution_count": 2,
   "id": "5aef610d",
   "metadata": {},
   "outputs": [
    {
     "name": "stdout",
     "output_type": "stream",
     "text": [
      "Your age: 23\n",
      "You will be 100 years old in: 2100\n"
     ]
    }
   ],
   "source": [
    "user_age = input('Your age: ')\n",
    "years_to_100 = 100 - int(user_age)    \n",
    "year_now = date.today().year\n",
    "\n",
    "print(f'You will be 100 years old in: {year_now+years_to_100}')"
   ]
  },
  {
   "cell_type": "markdown",
   "id": "773ac772",
   "metadata": {},
   "source": [
    "**Add on to the previous program by asking the user for another number and printing out that many copies of the previous message. Print out that many copies of the previous message on separate lines.**"
   ]
  },
  {
   "cell_type": "code",
   "execution_count": 3,
   "id": "8be4ade3",
   "metadata": {},
   "outputs": [],
   "source": [
    "def age_calculate():\n",
    "    print('Hi! If you want to end write \"pass\"')\n",
    "    \n",
    "    while True:\n",
    "        user_age = input('Your age: ')\n",
    "        year_now = date.today().year\n",
    "        \n",
    "        if str(user_age)=='pass':\n",
    "            print('Bye')\n",
    "            break\n",
    "            \n",
    "        try:\n",
    "            if int(user_age)<100:\n",
    "                print(f'You will be 100 years old in: {year_now+(100-int(user_age))}\\n')\n",
    "            elif int(user_age)>=100:\n",
    "                print('You have already 100 years!\\n')\n",
    "        except ValueError:\n",
    "            print('Not a number\\n')"
   ]
  },
  {
   "cell_type": "code",
   "execution_count": 4,
   "id": "401c8bdb",
   "metadata": {
    "scrolled": true
   },
   "outputs": [
    {
     "name": "stdout",
     "output_type": "stream",
     "text": [
      "Hi! If you want to end write \"pass\"\n",
      "Your age: 23\n",
      "You will be 100 years old in: 2100\n",
      "\n",
      "Your age: hi\n",
      "Not a number\n",
      "\n",
      "Your age: pass\n",
      "Bye\n"
     ]
    }
   ],
   "source": [
    "age_calculate()"
   ]
  },
  {
   "cell_type": "markdown",
   "id": "eeac338f",
   "metadata": {},
   "source": [
    "### Excercise 2 (Odd Or Even)\n",
    "**Ask the user for a number. Depending on whether the number is even or odd, print out an appropriate message to the user. If the number is a multiple of 4, print out a different message.**"
   ]
  },
  {
   "cell_type": "code",
   "execution_count": 5,
   "id": "efa8f3f9",
   "metadata": {},
   "outputs": [
    {
     "name": "stdout",
     "output_type": "stream",
     "text": [
      "Your number: 24\n",
      "Multiple of 4 and even\n"
     ]
    }
   ],
   "source": [
    "num = int(input('Your number: '))\n",
    "if num%4==0:\n",
    "    print('Multiple of 4 and even')\n",
    "elif num%2 == 0:\n",
    "    print('Even')\n",
    "else:\n",
    "    print('Odd')"
   ]
  },
  {
   "cell_type": "markdown",
   "id": "223c3430",
   "metadata": {},
   "source": [
    "**Ask the user for two numbers: one number to check and one number to divide by. If check divides evenly into num, tell that to the user. If not, print a different appropriate message.**"
   ]
  },
  {
   "cell_type": "code",
   "execution_count": 6,
   "id": "a4ccdde5",
   "metadata": {},
   "outputs": [
    {
     "name": "stdout",
     "output_type": "stream",
     "text": [
      "Your number: 60\n",
      "Your divisor: 10\n",
      "60 divides evenly into 10\n"
     ]
    }
   ],
   "source": [
    "number = input('Your number: ')\n",
    "divisor = input('Your divisor: ')\n",
    "if int(number)%int(divisor)==0:\n",
    "    print(f'{number} divides evenly into {divisor}')\n",
    "else:\n",
    "    print('Indivisible')"
   ]
  },
  {
   "cell_type": "markdown",
   "id": "a244263e",
   "metadata": {},
   "source": [
    "### Excercise 3 (List Less Than Ten)\n",
    "**Make a list of numbers and write a program that prints out all the elements of the list that are less than 5.**\n",
    "- Instead of printing the elements one by one, make a new list that has all the elements less than 5 from this list in it and print out this new list\n",
    "- Write this in one line of Python\n",
    "- Ask the user for a number and return a list that contains only elements from the original list a that are smaller than that number given by the user"
   ]
  },
  {
   "cell_type": "code",
   "execution_count": 7,
   "id": "ac388a4d",
   "metadata": {},
   "outputs": [],
   "source": [
    "a = [1, 1, 2, 3, 5, 8, 13, 21, 34, 55, 89]"
   ]
  },
  {
   "cell_type": "code",
   "execution_count": 8,
   "id": "a5b0ee30",
   "metadata": {},
   "outputs": [
    {
     "data": {
      "text/plain": [
       "[1, 1, 2, 3]"
      ]
     },
     "execution_count": 8,
     "metadata": {},
     "output_type": "execute_result"
    }
   ],
   "source": [
    "new_list = [i for i in a if i<5]\n",
    "new_list"
   ]
  },
  {
   "cell_type": "code",
   "execution_count": 9,
   "id": "61b885fe",
   "metadata": {},
   "outputs": [
    {
     "name": "stdout",
     "output_type": "stream",
     "text": [
      "Your number: 10\n",
      "[1, 1, 2, 3, 5, 8]\n"
     ]
    }
   ],
   "source": [
    "user_nr = input('Your number: ')\n",
    "new_list = [i for i in a if i<int(user_nr)]\n",
    "print(new_list)"
   ]
  },
  {
   "cell_type": "markdown",
   "id": "f80c1b1c",
   "metadata": {},
   "source": [
    "### Excercise 4 (Divisors)\n",
    "**Create a program that asks the user for a number and then prints out a list of all the divisors of that number.**"
   ]
  },
  {
   "cell_type": "code",
   "execution_count": 10,
   "id": "e90fe255",
   "metadata": {},
   "outputs": [
    {
     "name": "stdout",
     "output_type": "stream",
     "text": [
      "Your number: 100\n",
      "[1, 2, 4, 5, 10, 20, 25, 50, 100]\n"
     ]
    }
   ],
   "source": [
    "num_to_div = int(input('Your number: '))\n",
    "div = [i for i in range(1,1000000) if num_to_div%i==0]\n",
    "print(div)"
   ]
  },
  {
   "cell_type": "markdown",
   "id": "c532c0a1",
   "metadata": {},
   "source": [
    "### Excercise 5 (List Overlap)\n",
    "**Write a program that returns a list that contains only the elements that are common between the lists (without duplicates).**"
   ]
  },
  {
   "cell_type": "code",
   "execution_count": 11,
   "id": "beec69a9",
   "metadata": {},
   "outputs": [],
   "source": [
    "a = [1, 1, 2, 3, 5, 8, 13, 21, 34, 55, 89]\n",
    "b = [1, 2, 3, 4, 5, 6, 7, 8, 9, 10, 11, 12, 13]"
   ]
  },
  {
   "cell_type": "code",
   "execution_count": 12,
   "id": "781ba0ba",
   "metadata": {},
   "outputs": [
    {
     "data": {
      "text/plain": [
       "[1, 2, 3, 5, 8, 13]"
      ]
     },
     "execution_count": 12,
     "metadata": {},
     "output_type": "execute_result"
    }
   ],
   "source": [
    "common = set(a).intersection(set(b))\n",
    "list(common)"
   ]
  },
  {
   "cell_type": "code",
   "execution_count": 13,
   "id": "28fcc977",
   "metadata": {},
   "outputs": [
    {
     "data": {
      "text/plain": [
       "[1, 2, 3, 5, 8, 13]"
      ]
     },
     "execution_count": 13,
     "metadata": {},
     "output_type": "execute_result"
    }
   ],
   "source": [
    "common2 = {i for i in a if i in b}\n",
    "list(common2)"
   ]
  },
  {
   "cell_type": "markdown",
   "id": "cd972997",
   "metadata": {},
   "source": [
    "### Excercise 6 (String Lists)\n",
    "**Ask the user for a string and print out whether this string is a palindrome or not.**"
   ]
  },
  {
   "cell_type": "code",
   "execution_count": 14,
   "id": "6621d33e",
   "metadata": {},
   "outputs": [
    {
     "name": "stdout",
     "output_type": "stream",
     "text": [
      "Your string: Abba\n",
      "Yes, your string is palindrome.\n"
     ]
    }
   ],
   "source": [
    "string = list(input('Your string: ').lower())\n",
    "if string == string[::-1]:\n",
    "    print('Yes, your string is palindrome.')\n",
    "else:\n",
    "    print('No, your string is not palindrome.')"
   ]
  },
  {
   "cell_type": "code",
   "execution_count": 15,
   "id": "2705e068",
   "metadata": {
    "scrolled": true
   },
   "outputs": [
    {
     "name": "stdout",
     "output_type": "stream",
     "text": [
      "Your string: Queen\n",
      "No, your string is not palindrome.\n"
     ]
    }
   ],
   "source": [
    "string = list(input('Your string: ').lower())\n",
    "if string == string[::-1]:\n",
    "    print('Yes, your string is palindrome.')\n",
    "else:\n",
    "    print('No, your string is not palindrome.')"
   ]
  },
  {
   "cell_type": "markdown",
   "id": "4dd0ffeb",
   "metadata": {},
   "source": [
    "### Excercise 7 (List Comprehensions)\n",
    "**Write one line of Python that takes this list a and makes a new list that has only the even elements of this list in it.**"
   ]
  },
  {
   "cell_type": "code",
   "execution_count": 16,
   "id": "a80c45c8",
   "metadata": {},
   "outputs": [
    {
     "name": "stdout",
     "output_type": "stream",
     "text": [
      "[4, 16, 36, 64, 100]\n"
     ]
    }
   ],
   "source": [
    "a = [1, 4, 9, 16, 25, 36, 49, 64, 81, 100]\n",
    "print([i for i in a if i%2==0])"
   ]
  },
  {
   "cell_type": "markdown",
   "id": "41fed48d",
   "metadata": {},
   "source": [
    "### Excercise 8 (Rock Paper Scissors)\n",
    "**Make a two-player Rock-Paper-Scissors game.**"
   ]
  },
  {
   "cell_type": "code",
   "execution_count": 17,
   "id": "125b09b6",
   "metadata": {},
   "outputs": [],
   "source": [
    "from IPython.display import clear_output\n",
    "\n",
    "\n",
    "def replay_rps():\n",
    "    replay = ' '\n",
    "    \n",
    "    while replay not in ['yes','no']:\n",
    "        replay = input('Do you want to play again? (yes or no)').lower()\n",
    "        \n",
    "        if replay not in ['yes','no']:\n",
    "            clear_output()\n",
    "            print(\"Sorry, I didn't understand. Make sure to choose yes or no.\")\n",
    "            \n",
    "    if replay == \"yes\":\n",
    "        return True\n",
    "    else:\n",
    "        return False"
   ]
  },
  {
   "cell_type": "code",
   "execution_count": 18,
   "id": "30661647",
   "metadata": {},
   "outputs": [],
   "source": [
    "def game_rps():\n",
    "    \n",
    "    print('Welcome in the game Rock Paper Scissors!')\n",
    "\n",
    "    while True:\n",
    "\n",
    "        player1 = input('Player 1, choose rock, paper or scissors: ').lower()\n",
    "        player2 = input('Player 2, choose rock, paper or scissors: ').lower()\n",
    "        choice=[player1,player2]\n",
    "        if player1==player2:\n",
    "            print('Draw!')\n",
    "        elif 'rock' in choice:\n",
    "            if 'paper' in choice:\n",
    "                print('Paper beats rock!')\n",
    "                if choice[0]=='paper':\n",
    "                    print('Player 1, you are winner!')\n",
    "                else:\n",
    "                    print('Player 2, you are winner!')\n",
    "            elif 'scissors' in choice:\n",
    "                print('Rock beats scissors')\n",
    "                if choice[0]=='rock':\n",
    "                    print('Player 1, you are winner!')\n",
    "                else:\n",
    "                    print('Player 2, you are winner!')\n",
    "        else:\n",
    "            print('Scissors beats paper')            \n",
    "            if choice[0]=='scissors':\n",
    "                print('Player 1, you are winner!')\n",
    "            else:\n",
    "                print('Player 2, you are winner!')\n",
    "\n",
    "        if not replay_rps():\n",
    "            break"
   ]
  },
  {
   "cell_type": "code",
   "execution_count": 19,
   "id": "62aae72a",
   "metadata": {},
   "outputs": [
    {
     "name": "stdout",
     "output_type": "stream",
     "text": [
      "Welcome in the game Rock Paper Scissors!\n",
      "Player 1, choose rock, paper or scissors: paper\n",
      "Player 2, choose rock, paper or scissors: scissors\n",
      "Scissors beats paper\n",
      "Player 2, you are winner!\n",
      "Do you want to play again? (yes or no)yes\n",
      "Player 1, choose rock, paper or scissors: scissors\n",
      "Player 2, choose rock, paper or scissors: rock\n",
      "Rock beats scissors\n",
      "Player 2, you are winner!\n",
      "Do you want to play again? (yes or no)yes\n",
      "Player 1, choose rock, paper or scissors: paper\n",
      "Player 2, choose rock, paper or scissors: rock\n",
      "Paper beats rock!\n",
      "Player 1, you are winner!\n",
      "Do you want to play again? (yes or no)yes\n",
      "Player 1, choose rock, paper or scissors: paper\n",
      "Player 2, choose rock, paper or scissors: paper\n",
      "Draw!\n",
      "Do you want to play again? (yes or no)no\n"
     ]
    }
   ],
   "source": [
    "game_rps()"
   ]
  }
 ],
 "metadata": {
  "kernelspec": {
   "display_name": "Python 3",
   "language": "python",
   "name": "python3"
  },
  "language_info": {
   "codemirror_mode": {
    "name": "ipython",
    "version": 3
   },
   "file_extension": ".py",
   "mimetype": "text/x-python",
   "name": "python",
   "nbconvert_exporter": "python",
   "pygments_lexer": "ipython3",
   "version": "3.8.8"
  }
 },
 "nbformat": 4,
 "nbformat_minor": 5
}
