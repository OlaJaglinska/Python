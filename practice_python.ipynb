{
 "cells": [
  {
   "cell_type": "markdown",
   "id": "01453dae",
   "metadata": {},
   "source": [
    "## Practice python\n",
    "source: https://www.practicepython.org/"
   ]
  },
  {
   "cell_type": "markdown",
   "id": "0b750171",
   "metadata": {},
   "source": [
    "### Excercise 1 \n",
    "**Create a program that asks the user to enter their name and their age. Print out a message addressed to them that tells them the year that they will turn 100 years old.**"
   ]
  },
  {
   "cell_type": "code",
   "execution_count": 1,
   "id": "5445a4da",
   "metadata": {},
   "outputs": [],
   "source": [
    "from datetime import date"
   ]
  },
  {
   "cell_type": "code",
   "execution_count": 2,
   "id": "5aef610d",
   "metadata": {},
   "outputs": [
    {
     "name": "stdout",
     "output_type": "stream",
     "text": [
      "Your age: 23\n",
      "You will be 100 years old in: 2100\n"
     ]
    }
   ],
   "source": [
    "user_age = input('Your age: ')\n",
    "years_to_100 = 100 - int(user_age)    \n",
    "year_now = date.today().year\n",
    "\n",
    "print(f'You will be 100 years old in: {year_now+years_to_100}')"
   ]
  },
  {
   "cell_type": "markdown",
   "id": "773ac772",
   "metadata": {},
   "source": [
    "**Add on to the previous program by asking the user for another number and printing out that many copies of the previous message. Print out that many copies of the previous message on separate lines.**"
   ]
  },
  {
   "cell_type": "code",
   "execution_count": 3,
   "id": "8be4ade3",
   "metadata": {},
   "outputs": [],
   "source": [
    "def age_calculate():\n",
    "    print('Hi! If you want to end write \"pass\"')\n",
    "    \n",
    "    while True:\n",
    "        user_age = input('Your age: ')\n",
    "        year_now = date.today().year\n",
    "        \n",
    "        if str(user_age)=='pass':\n",
    "            print('Bye')\n",
    "            break\n",
    "            \n",
    "        try:\n",
    "            if int(user_age)<100:\n",
    "                print(f'You will be 100 years old in: {year_now+(100-int(user_age))}\\n')\n",
    "            elif int(user_age)>=100:\n",
    "                print('You have already 100 years!\\n')\n",
    "        except ValueError:\n",
    "            print('Not a number\\n')"
   ]
  },
  {
   "cell_type": "code",
   "execution_count": 4,
   "id": "401c8bdb",
   "metadata": {
    "scrolled": true
   },
   "outputs": [
    {
     "name": "stdout",
     "output_type": "stream",
     "text": [
      "Hi! If you want to end write \"pass\"\n",
      "Your age: 23\n",
      "You will be 100 years old in: 2100\n",
      "\n",
      "Your age: f\n",
      "Not a number\n",
      "\n",
      "Your age: pass\n",
      "Bye\n"
     ]
    }
   ],
   "source": [
    "age_calculate()"
   ]
  },
  {
   "cell_type": "markdown",
   "id": "eeac338f",
   "metadata": {},
   "source": [
    "### Excercise 2\n",
    "**Ask the user for a number. Depending on whether the number is even or odd, print out an appropriate message to the user. If the number is a multiple of 4, print out a different message.\n",
    "**"
   ]
  },
  {
   "cell_type": "code",
   "execution_count": 5,
   "id": "efa8f3f9",
   "metadata": {},
   "outputs": [
    {
     "name": "stdout",
     "output_type": "stream",
     "text": [
      "Your number: 24\n",
      "Multiple of 4 and even\n"
     ]
    }
   ],
   "source": [
    "num = int(input('Your number: '))\n",
    "if num%4==0:\n",
    "    print('Multiple of 4 and even')\n",
    "elif num%2 == 0:\n",
    "    print('Even')\n",
    "else:\n",
    "    print('Odd')"
   ]
  },
  {
   "cell_type": "markdown",
   "id": "223c3430",
   "metadata": {},
   "source": [
    "**Ask the user for two numbers: one number to check and one number to divide by. If check divides evenly into num, tell that to the user. If not, print a different appropriate message.**"
   ]
  },
  {
   "cell_type": "code",
   "execution_count": 6,
   "id": "a4ccdde5",
   "metadata": {},
   "outputs": [
    {
     "name": "stdout",
     "output_type": "stream",
     "text": [
      "Your number: 60\n",
      "Your divisor: 10\n",
      "60 divides evenly into 10\n"
     ]
    }
   ],
   "source": [
    "number = input('Your number: ')\n",
    "divisor = input('Your divisor: ')\n",
    "if int(number)%int(divisor)==0:\n",
    "    print(f'{number} divides evenly into {divisor}')\n",
    "else:\n",
    "    print('Indivisible')"
   ]
  }
 ],
 "metadata": {
  "kernelspec": {
   "display_name": "Python 3",
   "language": "python",
   "name": "python3"
  },
  "language_info": {
   "codemirror_mode": {
    "name": "ipython",
    "version": 3
   },
   "file_extension": ".py",
   "mimetype": "text/x-python",
   "name": "python",
   "nbconvert_exporter": "python",
   "pygments_lexer": "ipython3",
   "version": "3.8.8"
  }
 },
 "nbformat": 4,
 "nbformat_minor": 5
}
