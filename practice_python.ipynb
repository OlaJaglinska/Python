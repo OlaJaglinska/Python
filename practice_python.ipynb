{
 "cells": [
  {
   "cell_type": "markdown",
   "id": "01453dae",
   "metadata": {},
   "source": [
    "## Practice python\n",
    "source: https://www.practicepython.org/"
   ]
  },
  {
   "cell_type": "markdown",
   "id": "0b750171",
   "metadata": {},
   "source": [
    "### Excercise 1 (Character Input)\n",
    "**Create a program that asks the user to enter their name and their age. Print out a message addressed to them that tells them the year that they will turn 100 years old.**"
   ]
  },
  {
   "cell_type": "code",
   "execution_count": 1,
   "id": "5445a4da",
   "metadata": {},
   "outputs": [],
   "source": [
    "from datetime import date"
   ]
  },
  {
   "cell_type": "code",
   "execution_count": 2,
   "id": "5aef610d",
   "metadata": {},
   "outputs": [
    {
     "name": "stdout",
     "output_type": "stream",
     "text": [
      "Your age: 23\n",
      "You will be 100 years old in: 2100\n"
     ]
    }
   ],
   "source": [
    "user_age = input('Your age: ')\n",
    "years_to_100 = 100 - int(user_age)    \n",
    "year_now = date.today().year\n",
    "\n",
    "print(f'You will be 100 years old in: {year_now+years_to_100}')"
   ]
  },
  {
   "cell_type": "markdown",
   "id": "773ac772",
   "metadata": {},
   "source": [
    "**Add on to the previous program by asking the user for another number and printing out that many copies of the previous message. Print out that many copies of the previous message on separate lines.**"
   ]
  },
  {
   "cell_type": "code",
   "execution_count": 3,
   "id": "8be4ade3",
   "metadata": {},
   "outputs": [],
   "source": [
    "def age_calculate():\n",
    "    print('Hi! If you want to end write \"pass\"')\n",
    "    \n",
    "    while True:\n",
    "        user_age = input('Your age: ')\n",
    "        year_now = date.today().year\n",
    "        \n",
    "        if str(user_age)=='pass':\n",
    "            print('Bye')\n",
    "            break\n",
    "            \n",
    "        try:\n",
    "            if int(user_age)<100:\n",
    "                print(f'You will be 100 years old in: {year_now+(100-int(user_age))}\\n')\n",
    "            elif int(user_age)>=100:\n",
    "                print('You have already 100 years!\\n')\n",
    "        except ValueError:\n",
    "            print('Not a number\\n')"
   ]
  },
  {
   "cell_type": "code",
   "execution_count": 4,
   "id": "401c8bdb",
   "metadata": {
    "scrolled": true
   },
   "outputs": [
    {
     "name": "stdout",
     "output_type": "stream",
     "text": [
      "Hi! If you want to end write \"pass\"\n",
      "Your age: 23\n",
      "You will be 100 years old in: 2100\n",
      "\n",
      "Your age: hi\n",
      "Not a number\n",
      "\n",
      "Your age: pass\n",
      "Bye\n"
     ]
    }
   ],
   "source": [
    "age_calculate()"
   ]
  },
  {
   "cell_type": "markdown",
   "id": "eeac338f",
   "metadata": {},
   "source": [
    "### Excercise 2 (Odd Or Even)\n",
    "**Ask the user for a number. Depending on whether the number is even or odd, print out an appropriate message to the user. If the number is a multiple of 4, print out a different message.**"
   ]
  },
  {
   "cell_type": "code",
   "execution_count": 5,
   "id": "efa8f3f9",
   "metadata": {},
   "outputs": [
    {
     "name": "stdout",
     "output_type": "stream",
     "text": [
      "Your number: 24\n",
      "Multiple of 4 and even\n"
     ]
    }
   ],
   "source": [
    "num = int(input('Your number: '))\n",
    "if num%4==0:\n",
    "    print('Multiple of 4 and even')\n",
    "elif num%2 == 0:\n",
    "    print('Even')\n",
    "else:\n",
    "    print('Odd')"
   ]
  },
  {
   "cell_type": "markdown",
   "id": "223c3430",
   "metadata": {},
   "source": [
    "**Ask the user for two numbers: one number to check and one number to divide by. If check divides evenly into num, tell that to the user. If not, print a different appropriate message.**"
   ]
  },
  {
   "cell_type": "code",
   "execution_count": 6,
   "id": "a4ccdde5",
   "metadata": {},
   "outputs": [
    {
     "name": "stdout",
     "output_type": "stream",
     "text": [
      "Your number: 60\n",
      "Your divisor: 10\n",
      "60 divides evenly into 10\n"
     ]
    }
   ],
   "source": [
    "number = input('Your number: ')\n",
    "divisor = input('Your divisor: ')\n",
    "if int(number)%int(divisor)==0:\n",
    "    print(f'{number} divides evenly into {divisor}')\n",
    "else:\n",
    "    print('Indivisible')"
   ]
  },
  {
   "cell_type": "markdown",
   "id": "cef1de3b",
   "metadata": {},
   "source": [
    "### Excercise 3 (List Less Than Ten)\n",
    "**Make a list of numbers and write a program that prints out all the elements of the list that are less than 5.**\n",
    "- Instead of printing the elements one by one, make a new list that has all the elements less than 5 from this list in it and print out this new list\n",
    "- Write this in one line of Python\n",
    "- Ask the user for a number and return a list that contains only elements from the original list a that are smaller than that number given by the user"
   ]
  },
  {
   "cell_type": "code",
   "execution_count": 7,
   "id": "f1eca559",
   "metadata": {},
   "outputs": [],
   "source": [
    "a = [1, 1, 2, 3, 5, 8, 13, 21, 34, 55, 89]"
   ]
  },
  {
   "cell_type": "code",
   "execution_count": 8,
   "id": "d198f357",
   "metadata": {},
   "outputs": [
    {
     "data": {
      "text/plain": [
       "[1, 1, 2, 3]"
      ]
     },
     "execution_count": 8,
     "metadata": {},
     "output_type": "execute_result"
    }
   ],
   "source": [
    "new_list = [i for i in a if i<5]\n",
    "new_list"
   ]
  },
  {
   "cell_type": "code",
   "execution_count": 9,
   "id": "b37b1233",
   "metadata": {},
   "outputs": [
    {
     "name": "stdout",
     "output_type": "stream",
     "text": [
      "Your number: 10\n",
      "[1, 1, 2, 3, 5, 8]\n"
     ]
    }
   ],
   "source": [
    "user_nr = input('Your number: ')\n",
    "new_list = [i for i in a if i<int(user_nr)]\n",
    "print(new_list)"
   ]
  },
  {
   "cell_type": "markdown",
   "id": "ae1f76e4",
   "metadata": {},
   "source": [
    "### Excercise 4 (Divisors)\n",
    "**Create a program that asks the user for a number and then prints out a list of all the divisors of that number.**"
   ]
  },
  {
   "cell_type": "code",
   "execution_count": 10,
   "id": "417cfc3d",
   "metadata": {},
   "outputs": [
    {
     "name": "stdout",
     "output_type": "stream",
     "text": [
      "Your number: 100\n",
      "[1, 2, 4, 5, 10, 20, 25, 50, 100]\n"
     ]
    }
   ],
   "source": [
    "num_to_div = int(input('Your number: '))\n",
    "div = [i for i in range(1,1000000) if num_to_div%i==0]\n",
    "print(div)"
   ]
  },
  {
   "cell_type": "markdown",
   "id": "478baba7",
   "metadata": {},
   "source": [
    "### Excercise 5 (List Overlap)\n",
    "**Write a program that returns a list that contains only the elements that are common between the lists (without duplicates).**"
   ]
  },
  {
   "cell_type": "code",
   "execution_count": 11,
   "id": "fb93bd61",
   "metadata": {},
   "outputs": [],
   "source": [
    "a = [1, 1, 2, 3, 5, 8, 13, 21, 34, 55, 89]\n",
    "b = [1, 2, 3, 4, 5, 6, 7, 8, 9, 10, 11, 12, 13]"
   ]
  },
  {
   "cell_type": "code",
   "execution_count": 12,
   "id": "64389449",
   "metadata": {},
   "outputs": [
    {
     "data": {
      "text/plain": [
       "[1, 2, 3, 5, 8, 13]"
      ]
     },
     "execution_count": 12,
     "metadata": {},
     "output_type": "execute_result"
    }
   ],
   "source": [
    "common = set(a).intersection(set(b))\n",
    "list(common)"
   ]
  },
  {
   "cell_type": "code",
   "execution_count": 13,
   "id": "c8170a55",
   "metadata": {},
   "outputs": [
    {
     "data": {
      "text/plain": [
       "[1, 2, 3, 5, 8, 13]"
      ]
     },
     "execution_count": 13,
     "metadata": {},
     "output_type": "execute_result"
    }
   ],
   "source": [
    "common2 = {i for i in a if i in b}\n",
    "list(common2)"
   ]
  },
  {
   "cell_type": "markdown",
   "id": "88d9de04",
   "metadata": {},
   "source": [
    "### Excercise 6 (String Lists)\n",
    "**Ask the user for a string and print out whether this string is a palindrome or not.**"
   ]
  },
  {
   "cell_type": "code",
   "execution_count": 14,
   "id": "c788267e",
   "metadata": {},
   "outputs": [
    {
     "name": "stdout",
     "output_type": "stream",
     "text": [
      "Your string: Abba\n",
      "Yes, your string is palindrome.\n"
     ]
    }
   ],
   "source": [
    "string = list(input('Your string: ').lower())\n",
    "if string == string[::-1]:\n",
    "    print('Yes, your string is palindrome.')\n",
    "else:\n",
    "    print('No, your string is not palindrome.')"
   ]
  },
  {
   "cell_type": "code",
   "execution_count": 15,
   "id": "c151c1e6",
   "metadata": {
    "scrolled": true
   },
   "outputs": [
    {
     "name": "stdout",
     "output_type": "stream",
     "text": [
      "Your string: Queen\n",
      "No, your string is not palindrome.\n"
     ]
    }
   ],
   "source": [
    "string = list(input('Your string: ').lower())\n",
    "if string == string[::-1]:\n",
    "    print('Yes, your string is palindrome.')\n",
    "else:\n",
    "    print('No, your string is not palindrome.')"
   ]
  },
  {
   "cell_type": "markdown",
   "id": "dc326c55",
   "metadata": {},
   "source": [
    "### Excercise 7 (List Comprehensions)\n",
    "**Write one line of Python that takes this list a and makes a new list that has only the even elements of this list in it.**"
   ]
  },
  {
   "cell_type": "code",
   "execution_count": 16,
   "id": "2c15e28e",
   "metadata": {},
   "outputs": [
    {
     "name": "stdout",
     "output_type": "stream",
     "text": [
      "[4, 16, 36, 64, 100]\n"
     ]
    }
   ],
   "source": [
    "a = [1, 4, 9, 16, 25, 36, 49, 64, 81, 100]\n",
    "print([i for i in a if i%2==0])"
   ]
  },
  {
   "cell_type": "markdown",
   "id": "85185c36",
   "metadata": {},
   "source": [
    "### Excercise 8 (Rock Paper Scissors)\n",
    "**Make a two-player Rock-Paper-Scissors game.**"
   ]
  },
  {
   "cell_type": "code",
   "execution_count": 17,
   "id": "af3394b4",
   "metadata": {},
   "outputs": [],
   "source": [
    "from IPython.display import clear_output\n",
    "\n",
    "\n",
    "def replay_rps():\n",
    "    replay = ' '\n",
    "    \n",
    "    while replay not in ['yes','no']:\n",
    "        replay = input('Do you want to play again? (yes or no)').lower()\n",
    "        \n",
    "        if replay not in ['yes','no']:\n",
    "            clear_output()\n",
    "            print(\"Sorry, I didn't understand. Make sure to choose yes or no.\")\n",
    "            \n",
    "    if replay == \"yes\":\n",
    "        return True\n",
    "    else:\n",
    "        return False"
   ]
  },
  {
   "cell_type": "code",
   "execution_count": 18,
   "id": "735079f1",
   "metadata": {},
   "outputs": [],
   "source": [
    "def game_rps():\n",
    "    \n",
    "    print('Welcome in the game Rock Paper Scissors!')\n",
    "\n",
    "    while True:\n",
    "\n",
    "        player1 = input('Player 1, choose rock, paper or scissors: ').lower()\n",
    "        player2 = input('Player 2, choose rock, paper or scissors: ').lower()\n",
    "        choice=[player1,player2]\n",
    "        if player1==player2:\n",
    "            print('Draw!')\n",
    "        elif 'rock' in choice:\n",
    "            if 'paper' in choice:\n",
    "                print('Paper beats rock!')\n",
    "                if choice[0]=='paper':\n",
    "                    print('Player 1, you are winner!')\n",
    "                else:\n",
    "                    print('Player 2, you are winner!')\n",
    "            elif 'scissors' in choice:\n",
    "                print('Rock beats scissors')\n",
    "                if choice[0]=='rock':\n",
    "                    print('Player 1, you are winner!')\n",
    "                else:\n",
    "                    print('Player 2, you are winner!')\n",
    "        else:\n",
    "            print('Scissors beats paper')            \n",
    "            if choice[0]=='scissors':\n",
    "                print('Player 1, you are winner!')\n",
    "            else:\n",
    "                print('Player 2, you are winner!')\n",
    "\n",
    "        if not replay_rps():\n",
    "            break"
   ]
  },
  {
   "cell_type": "code",
   "execution_count": 19,
   "id": "fb10985b",
   "metadata": {
    "scrolled": true
   },
   "outputs": [
    {
     "name": "stdout",
     "output_type": "stream",
     "text": [
      "Welcome in the game Rock Paper Scissors!\n",
      "Player 1, choose rock, paper or scissors: paper\n",
      "Player 2, choose rock, paper or scissors: scissors\n",
      "Scissors beats paper\n",
      "Player 2, you are winner!\n",
      "Do you want to play again? (yes or no)yes\n",
      "Player 1, choose rock, paper or scissors: scissors\n",
      "Player 2, choose rock, paper or scissors: rock\n",
      "Rock beats scissors\n",
      "Player 2, you are winner!\n",
      "Do you want to play again? (yes or no)yes\n",
      "Player 1, choose rock, paper or scissors: paper\n",
      "Player 2, choose rock, paper or scissors: rock\n",
      "Paper beats rock!\n",
      "Player 1, you are winner!\n",
      "Do you want to play again? (yes or no)yes\n",
      "Player 1, choose rock, paper or scissors: paper\n",
      "Player 2, choose rock, paper or scissors: paper\n",
      "Draw!\n",
      "Do you want to play again? (yes or no)no\n"
     ]
    }
   ],
   "source": [
    "game_rps()"
   ]
  },
  {
   "cell_type": "markdown",
   "id": "1aa4c369",
   "metadata": {},
   "source": [
    "### Excercise 9 (Guessing Game One)\n",
    "**Generate a random number between 1 and 9 (including 1 and 9). Ask the user to guess the number, then tell them whether they guessed too low, too high, or exactly right.**"
   ]
  },
  {
   "cell_type": "code",
   "execution_count": 20,
   "id": "87b1c44a",
   "metadata": {},
   "outputs": [
    {
     "name": "stdout",
     "output_type": "stream",
     "text": [
      "Try to guess the number from 1 to 9. You have 5 guesses. If you want to end put 'exit' 5\n",
      "Too high\n",
      "Try to guess the number from 1 to 9. You have 5 guesses. If you want to end put 'exit' 4\n",
      "Too high\n",
      "Try to guess the number from 1 to 9. You have 5 guesses. If you want to end put 'exit' 3\n",
      "That's right. The number is 3. You guessed it on the 3 try.\n"
     ]
    }
   ],
   "source": [
    "import random\n",
    "\n",
    "number = random.randint(1,9)\n",
    "i = 0\n",
    "\n",
    "while True:\n",
    "    i+=1\n",
    "    if i>5:\n",
    "        print('Sorry, that was the last chance to guess')  \n",
    "        break \n",
    "\n",
    "    try:\n",
    "        user_guess = input(\"Try to guess the number from 1 to 9. You have 5 guesses. If you want to end put 'exit' \")\n",
    "\n",
    "        if user_guess.lower() == 'exit':\n",
    "            print('Bye!')\n",
    "            break      \n",
    "        elif int(user_guess) == number:\n",
    "            print(f\"That's right. The number is {number}. You guessed it on the {i} try.\")\n",
    "            break\n",
    "        elif int(user_guess) < number:\n",
    "            print('Too low')\n",
    "        else:\n",
    "            int(user_guess) > number\n",
    "            print('Too high')\n",
    "            \n",
    "    except ValueError:\n",
    "        print(\"Enter a number from 1 to 9 or 'exit'\\n\")       "
   ]
  },
  {
   "cell_type": "markdown",
   "id": "a21da311",
   "metadata": {},
   "source": [
    "### Excercise 10 (List Overlap Comprehensions)\n",
    "**Write a program that returns a list that contains only the elements that are common between the lists (without duplicates)**"
   ]
  },
  {
   "cell_type": "code",
   "execution_count": 21,
   "id": "361e91ad",
   "metadata": {},
   "outputs": [
    {
     "data": {
      "text/plain": [
       "[1, 2, 3, 5, 8, 13]"
      ]
     },
     "execution_count": 21,
     "metadata": {},
     "output_type": "execute_result"
    }
   ],
   "source": [
    "a = [1, 1, 2, 3, 5, 8, 13, 21, 34, 55, 89]\n",
    "b = [1, 2, 3, 4, 5, 6, 7, 8, 9, 10, 11, 12, 13]\n",
    "list({i for i in a if i in b})"
   ]
  },
  {
   "cell_type": "markdown",
   "id": "5a17ac8d",
   "metadata": {},
   "source": [
    "### Excercise 11 (Prime number)\n",
    "**Ask the user for a number and determine whether the number is prime or not. (Prime number is a number that has no divisors.)**"
   ]
  },
  {
   "cell_type": "code",
   "execution_count": 22,
   "id": "3387b31b",
   "metadata": {
    "scrolled": true
   },
   "outputs": [
    {
     "name": "stdout",
     "output_type": "stream",
     "text": [
      "Enter a number to check if it is a prime number: 11\n"
     ]
    },
    {
     "data": {
      "text/plain": [
       "True"
      ]
     },
     "execution_count": 22,
     "metadata": {},
     "output_type": "execute_result"
    }
   ],
   "source": [
    "def prime_num():\n",
    "    num = int(input('Enter a number to check if it is a prime number: '))\n",
    "    for i in range(2,num):\n",
    "        if num%i!=0:\n",
    "            return True\n",
    "    return False\n",
    "\n",
    "prime_num()"
   ]
  },
  {
   "cell_type": "markdown",
   "id": "3e128e16",
   "metadata": {},
   "source": [
    "### Excercise 12 (List Ends)\n",
    "**Write a program that takes a list of numbers and makes a new list of only the first and last elements of the given list. For practice, write this code inside a function.**"
   ]
  },
  {
   "cell_type": "code",
   "execution_count": 23,
   "id": "a2d7ae3b",
   "metadata": {},
   "outputs": [
    {
     "data": {
      "text/plain": [
       "[5, 25]"
      ]
     },
     "execution_count": 23,
     "metadata": {},
     "output_type": "execute_result"
    }
   ],
   "source": [
    "def first_last(l):\n",
    "    return [l[0],l[-1]]\n",
    "\n",
    "a = [5, 10, 15, 20, 25]\n",
    "first_last(a)"
   ]
  },
  {
   "cell_type": "markdown",
   "id": "4d3e1703",
   "metadata": {},
   "source": [
    "### Excercise 13 (Fibonacci)\n",
    "**Write a program that asks the user how many Fibonnaci numbers to generate and then generates them.**"
   ]
  },
  {
   "cell_type": "code",
   "execution_count": 24,
   "id": "4b92013f",
   "metadata": {},
   "outputs": [
    {
     "name": "stdout",
     "output_type": "stream",
     "text": [
      "How many fibonacci numbers do you want to generate? 10\n",
      "0\n",
      "1\n",
      "1\n",
      "2\n",
      "3\n",
      "5\n",
      "8\n",
      "13\n",
      "21\n",
      "34\n"
     ]
    }
   ],
   "source": [
    "def fibonacci():\n",
    "    \n",
    "    while True: \n",
    "        f1=0\n",
    "        f2=1\n",
    "        count=0\n",
    "        hm = input('How many fibonacci numbers do you want to generate? ')\n",
    "        \n",
    "        try:\n",
    "            if int(hm)<1:\n",
    "                print('Enter a number bigger than 0.\\n')\n",
    "                continue\n",
    "\n",
    "            while count<int(hm):\n",
    "                print(f1)\n",
    "                f3=f1+f2\n",
    "                f1=f2\n",
    "                f2=f3\n",
    "                count+=1\n",
    "            break\n",
    "        except ValueError:\n",
    "            print(\"Enter a numeric value greater than zero.\\n\")       \n",
    "            \n",
    "fibonacci()"
   ]
  },
  {
   "cell_type": "markdown",
   "id": "c886a177",
   "metadata": {},
   "source": [
    "### Excercise 14 (List Remove Duplicates)\n",
    "**Write a program (function!) that takes a list and returns a new list that contains all the elements of the first list minus all the duplicates.**"
   ]
  },
  {
   "cell_type": "code",
   "execution_count": 25,
   "id": "a92785f5",
   "metadata": {},
   "outputs": [
    {
     "data": {
      "text/plain": [
       "['Michele', 'Robin', 'Sara']"
      ]
     },
     "execution_count": 25,
     "metadata": {},
     "output_type": "execute_result"
    }
   ],
   "source": [
    "def remove_duplicat(l):\n",
    "    return list(set(l))\n",
    "\n",
    "names = [\"Michele\", \"Robin\", \"Sara\", \"Michele\"]\n",
    "remove_duplicat(names)"
   ]
  },
  {
   "cell_type": "code",
   "execution_count": 26,
   "id": "a8f270b3",
   "metadata": {},
   "outputs": [
    {
     "data": {
      "text/plain": [
       "['Sara', 'Robin', 'Michele']"
      ]
     },
     "execution_count": 26,
     "metadata": {},
     "output_type": "execute_result"
    }
   ],
   "source": [
    "def remove_duplicat2(l):\n",
    "    new_l = []\n",
    "    for i in l:\n",
    "        if i not in new_l:\n",
    "            new_l.append(i)\n",
    "        else:\n",
    "            continue\n",
    "    return new_l\n",
    "            \n",
    "names2 = [\"Sara\", \"Robin\", \"Sara\", \"Michele\", \"Robin\"]\n",
    "\n",
    "remove_duplicat2(names2)"
   ]
  },
  {
   "cell_type": "markdown",
   "id": "f8838419",
   "metadata": {},
   "source": [
    "### Excercise 15 (Reverse Word Order)\n",
    "**Write a program (using functions!) that asks the user for a long string containing multiple words. Print back to the user the same string, except with the words in backwards order.**"
   ]
  },
  {
   "cell_type": "code",
   "execution_count": 27,
   "id": "d0e7d3e3",
   "metadata": {},
   "outputs": [
    {
     "name": "stdout",
     "output_type": "stream",
     "text": [
      "Give me the sentence to reverse: I'M THE HOLIDAY ARMADILLO\n",
      "ARMADILLO HOLIDAY THE I'M\n"
     ]
    }
   ],
   "source": [
    "def reverse_string():\n",
    "    string = input('Give me the sentence to reverse: ')\n",
    "    return print(' '.join(string.split(' ')[::-1]))\n",
    "\n",
    "reverse_string()"
   ]
  },
  {
   "cell_type": "markdown",
   "id": "e1ad52cb",
   "metadata": {},
   "source": [
    "### Excercise 16 (Password Generator)\n",
    "**Write a password generator in Python. The passwords should be random, generating a new password every time the user asks for a new password. Include your run-time code in a main method.**"
   ]
  },
  {
   "cell_type": "code",
   "execution_count": 28,
   "id": "7402df5e",
   "metadata": {},
   "outputs": [
    {
     "name": "stdout",
     "output_type": "stream",
     "text": [
      "Would You like a new password? yes/no: yes\n",
      "Your new password: o6|w!EW')3\n"
     ]
    }
   ],
   "source": [
    "import string\n",
    "import random\n",
    "import secrets\n",
    "\n",
    "\n",
    "def new_password():\n",
    "    n_pass = ''.join(secrets.choice(string.ascii_letters + string.digits + string.punctuation) for x in range(10))  \n",
    "    print(f'Your new password: {str(n_pass)}')\n",
    "    \n",
    "\n",
    "def main():\n",
    "    new = input('Would You like a new password? yes/no: ').lower()\n",
    "    if new == 'yes':\n",
    "        new_password()\n",
    "    else:\n",
    "        print('Bye!')\n",
    "        \n",
    "if __name__ == \"__main__\":    \n",
    "    main()"
   ]
  },
  {
   "cell_type": "markdown",
   "id": "6f3ed4b6",
   "metadata": {},
   "source": [
    "### Excercise 17 (Decode A Web Page)\n",
    "**Use the BeautifulSoup and requests Python packages to print out a list of all the article titles on the New York Times homepage.**"
   ]
  },
  {
   "cell_type": "code",
   "execution_count": 29,
   "id": "af1a2a3c",
   "metadata": {},
   "outputs": [],
   "source": [
    "from bs4 import BeautifulSoup\n",
    "import requests"
   ]
  },
  {
   "cell_type": "code",
   "execution_count": 37,
   "id": "26251fd3",
   "metadata": {},
   "outputs": [],
   "source": [
    "url = 'https://www.nytimes.com/'\n",
    "req = requests.get(url)\n",
    "soup = BeautifulSoup(req.text, features='lxml')"
   ]
  },
  {
   "cell_type": "code",
   "execution_count": 31,
   "id": "dad54a0b",
   "metadata": {
    "scrolled": true
   },
   "outputs": [
    {
     "name": "stdout",
     "output_type": "stream",
     "text": [
      "Russia-Ukraine War\n",
      "Fed Interest Rates\n",
      "Federal Reserve Raises Interest Rates Again, but Opens Door to a Pause\n",
      "The debt limit standoff between President Biden and Republicans in Congress is a new economic headwind for the Fed.\n",
      "Here’s what a rise in federal interest rates means for mortgages, credit cards and more.\n",
      "Video Shows 2 Explosions Over Kremlin, Which Set Off Flurry of Accusations\n",
      "The Kremlin’s messaging on the episode diverged significantly from its response to previous attacks on Russia.\n",
      "Secretary of State Antony Blinken said the U.S. was “intensely engaged” in efforts to free Evan Gershkovich.\n",
      "Pope Francis’s secret mission to resolve the Ukraine war is so secret, Russia and Ukraine claim to know nothing about it.\n",
      "One Dead and 4 Injured in Shooting at Atlanta Medical Building, Police Say\n",
      "It’s Not Just Math and Reading: U.S. History Scores for 8th Graders Plunge\n",
      "Can you pass an eighth-grade history test? Try a sample quiz.\n",
      "When the Circus Came to a Ghost Town\n",
      "Trump Will Offer No Defense in Rape Trial, His Lawyer Says\n",
      "Carlson’s Text That Alarmed Fox Leaders: ‘It’s Not How White Men Fight’\n",
      "Man Accused of Killing 5 in Texas Had Help Evading Capture, Officials Say\n",
      "How U.S. Efforts to Guide Sudan to Democracy Ended in War\n",
      "Fleeing Sudan, Some Find Saudi Ships ‘a Golden Opportunity’ to Escape\n",
      "Jack Dorsey Has a Lot to Say, Including About Elon Musk and Twitter\n",
      "Tori Bowie, World Champion Sprinter, Is Dead at 32\n",
      "In Blow to DeSantis, Florida Bills to Limit Press Protections Are Shelved\n",
      "Brazil’s Police Raid Bolsonaro Home in Fake Vaccine Cards Case\n",
      "It’s the End of a World as We Know It\n",
      "My dead father had a secret. Do I tell our family?\n",
      "Restaurant review: Naro makes new magic from classic Korean dishes.\n",
      "We Are Opening the Lids on Two Giant Pandora’s Boxes\n",
      "Lina Khan: We Must Regulate A.I. Here’s How.\n",
      "Why Trump Won’t Let Go of His Dream of Domination\n",
      "Tucker Carlson’s Text, and ‘an Internal Struggle With Morality’\n",
      "How Trump Cast the Republican Hawks Out Into the Cold\n",
      "John Mulaney and the Insatiable Modern Audience\n",
      "Why Does Bad Science on Covid’s Origin Get Hyped?\n",
      "A Crown, an Orb and a 12th-Century Spoon\n",
      "A.I. Could Actually Be a Boon to Education\n",
      "The Curious Conservative Case Against Defending Ukraine\n",
      "Farewell to the Media Era That Left Us All Exhausted\n",
      "Does America Realize That Sudan Is Too Big to Fail?\n",
      "A Push to Reverse ‘Wokeness’ at U.Va.\n",
      "The ‘Woke Mind Virus’ Is Eating Away at Republicans’ Brains\n",
      "What’s Driving Dollar Doomsaying?\n",
      "How Warren Buffett Came to Refuse Progressive Orthodoxy\n",
      "Read the California Today Newsletter\n",
      "Companies Flock to Climate Tax Breaks, Driving Up Costs for Taxpayers\n",
      "Eli Lilly Trial Finds Alzheimer’s Drug Can Slow Progress of Disease\n",
      "Outside Hollywood Studios, Writers Make Their Case\n",
      "$59 Million, Gone: How Bikini Atoll Leaders Blew Through U.S. Trust Fund\n",
      "The Digital Fragments Left Behind After Death\n",
      "Book Review: ‘Homegrown’\n",
      "13 New Books Coming in May\n",
      "‘Ted Lasso,’ Season 3, Episode 8 Recap\n",
      "The 50 Best Movies on Netflix Right Now\n",
      "Lionel Messi’s Run at P.S.G. Ends Here. It’s the Right Call.\n",
      "Let’s Hold a Moment of Silence for Long Baseball Games\n",
      "This Chapter of the LeBron James vs. Stephen Curry Rivalry Is Different\n",
      "After Adding Draft Picks, We Ranked Every N.F.L. Team From First to Worst\n",
      "‘He Sold Himself to the Devil’: Inside Messi’s Saudi Arabia Deal\n",
      "The Rapid Evolution of Joel Embiid, the N.B.A.’s New M.V.P.\n",
      "Wordle\n",
      "Today’s Wordle Review\n",
      "Spelling Bee\n",
      "The Crossword\n",
      "Tiles\n",
      "Letter Boxed\n"
     ]
    }
   ],
   "source": [
    "for i in soup.find_all(\"h3\",class_=\"indicate-hover\"):\n",
    "    print(i.string)"
   ]
  },
  {
   "cell_type": "markdown",
   "id": "afa0d2fa",
   "metadata": {},
   "source": [
    "### Excercise 18 (Cows And Bulls)\n",
    "**Create a program that will play the “cows and bulls” game with the user. The game works like this:\n",
    "Randomly generate a 4-digit number. Ask the user to guess a 4-digit number. For every digit that the user guessed correctly in the correct place, they have a “cow”. For every digit the user guessed correctly in the wrong place is a “bull.” Every time the user makes a guess, tell them how many “cows” and “bulls” they have. Once the user guesses the correct number, the game is over.**"
   ]
  },
  {
   "cell_type": "code",
   "execution_count": 32,
   "id": "bb9dc277",
   "metadata": {},
   "outputs": [],
   "source": [
    "import random"
   ]
  },
  {
   "cell_type": "code",
   "execution_count": 33,
   "id": "0296102c",
   "metadata": {},
   "outputs": [],
   "source": [
    "def cows_bulls():\n",
    "    nums = []\n",
    "    cows = 0\n",
    "    bulls = 0\n",
    "    rint = [1,2,3,4,5,6,7,8,9]\n",
    "    \n",
    "    for i in range(0,4):\n",
    "        n = random.choice(rint)\n",
    "        rint.remove(n)\n",
    "        nums.append(n)\n",
    "    \n",
    "    while cows!=4:\n",
    "        try:\n",
    "            guess = int(input('Try to guess four diffrent digits(1-9): '))\n",
    "            guess = list(map(int, str(guess)))\n",
    "\n",
    "            while len(set(guess))!=4 or len(guess)!=4:\n",
    "\n",
    "                print('Four diffrent digits, please.')\n",
    "                guess = int(input('Try to guess four diffrent digits(1-9): '))\n",
    "                guess = list(map(int, str(guess)))\n",
    "\n",
    "            else:\n",
    "                cows = 0\n",
    "                bulls = 0\n",
    "                for i in range(0,4):\n",
    "                    if guess[i]in nums:\n",
    "                        cows+=1\n",
    "                    else:\n",
    "                        bulls+=1\n",
    "                else:\n",
    "                    print(f'{cows} cows, {bulls} bulls')\n",
    "                    \n",
    "        except ValueError:\n",
    "            print('Four diffrent digits!') \n",
    "            \n",
    "    else:\n",
    "        print(f'You win!')"
   ]
  },
  {
   "cell_type": "code",
   "execution_count": 34,
   "id": "61988842",
   "metadata": {
    "scrolled": true
   },
   "outputs": [
    {
     "name": "stdout",
     "output_type": "stream",
     "text": [
      "Try to guess four diffrent digits(1-9): 1234\n",
      "3 cows, 1 bulls\n",
      "Try to guess four diffrent digits(1-9): 1235\n",
      "2 cows, 2 bulls\n",
      "Try to guess four diffrent digits(1-9): 1346\n",
      "4 cows, 0 bulls\n",
      "You win!\n"
     ]
    }
   ],
   "source": [
    "cows_bulls()"
   ]
  },
  {
   "cell_type": "markdown",
   "id": "6f3ed4b6",
   "metadata": {},
   "source": [
    "### Excercise 19 (Decode A Web Page Two)\n",
    "**Using the requests and BeautifulSoup Python libraries, print to the screen the full text of the article on this website: http://www.vanityfair.com/society/2014/06/monica-lewinsky-humiliation-culture.**"
   ]
  },
  {
   "cell_type": "code",
   "execution_count": 35,
   "id": "27894728",
   "metadata": {},
   "outputs": [],
   "source": [
    "from bs4 import BeautifulSoup\n",
    "import requests"
   ]
  },
  {
   "cell_type": "code",
   "execution_count": 36,
   "id": "87ac2da3",
   "metadata": {
    "scrolled": false
   },
   "outputs": [
    {
     "name": "stdout",
     "output_type": "stream",
     "text": [
      "‘How does it feel to be America’s premier blow-job queen?”\n",
      "It was early 2001. I was sitting on the stage of New York’s Cooper Union in the middle of taping a Q&A for an HBO documentary. I was the subject. And I was thunderstruck.\n",
      "Hundreds of people in the audience, mostly students, were staring at me, many with their mouths agape, wondering if I would dare to answer this question.\n",
      "The main reason I had agreed to participate in the program was not to rehash or revise the story line of Interngate but to try to shift the focus to meaningful issues. Many troubling political and judicial questions had been brought to light by the investigation and impeachment of President Bill Clinton. But the most egregious had been generally ignored. People seemed indifferent to the deeper matters at hand, such as the erosion of private life in the public sphere, the balance of power and gender inequality in politics and media, and the erosion of legal protections to ensure that neither a parent nor a child should ever have to testify against each other.\n",
      "How naïve I was.\n",
      "There were gasps and sputters from the audience. Numerous blurred, faceless people called out, “Don’t answer it!”\n",
      "“It’s hurtful and it’s insulting,” I said, attempting to gather my wits. “And as insulting as it is to me, it’s even more insulting to my family. I don’t actually know why this whole story became about oral sex. I don’t. It was a mutual relationship.… The fact that it did is maybe a result of a male-dominated society.”\n",
      "The audience laughed. Maybe they were surprised to hear these words coming from me.\n",
      "I looked straight at the smirking guy who had asked the question. “You might be better poised to answer that.” After a pause, I added, “That’s probably cost me another year of therapy.”\n",
      "You could argue that in agreeing to participate in an HBO documentary called Monica in Black and White I had signed up to be shamed and publicly humiliated yet again. You might even think I would have been inured to humiliation. This encounter at Cooper Union, after all, paled in comparison with the 445-page Starr Report, which was the culmination of independent counsel Kenneth Starr’s four-year investigation of the Clinton White House. It included chapter and verse about my intimate sexual activities, along with transcripts of audiotapes that chronicled many of my private conversations. But the “B.J. Queen” question—which was included in the show when it aired on HBO in 2002—sat with me for a long time after the audience left and the taping wrapped.\n",
      "True, this wasn’t the first time I’d been stigmatized for my affair with Bill Clinton. But never had I been so directly confronted, one-on-one, with such a crass characterization. One of the unintended consequences of my agreeing to put myself out there and to try to tell the truth had been that shame would once again be hung around my neck like a scarlet-A albatross. Believe me, once it’s on, it is a bitch to take off.\n",
      "Had that awkward moment at Cooper Union aired only a few years later, with the advent of social media, the humiliation would have been even more devastating. That clip would have gone viral on Twitter, YouTube, Facebook, TMZ, Gawker. It would have become a meme of its own on Tumblr. The viralness itself would have merited mention on the Daily Beast and Huffington Post. As it was, it was viral enough, and, thanks to the all-encompassing nature of the Web, you can, 12 years later, watch it all day long on YouTube if you want to (but I really hope you have better things to do with your time).\n",
      "I know I’m not alone when it comes to public humiliation. No one, it seems, can escape the unforgiving gaze of the Internet, where gossip, half-truths, and lies take root and fester. We have created, to borrow a term from historian Nicolaus Mills, a “culture of humiliation” that not only encourages and revels in Schadenfreude but also rewards those who humiliate others, from the ranks of the paparazzi to the gossip bloggers, the late-night comedians, and the Web “entrepreneurs” who profit from clandestine videos.\n",
      "Yes, we’re all connected now. We can tweet a revolution in the streets or chronicle achievements large and small. But we’re also caught in a feedback loop of defame and shame, one in which we have become both perps and victims. We may not have become a crueler society—although it sure feels as if we have—but the Internet has seismically shifted the tone of our interactions. The ease, the speed, and the distance that our electronic devices afford us can also make us colder, more glib, and less concerned about the consequences of our pranks and prejudice. Having lived humiliation in the most intimate possible way, I marvel at how willingly we have all signed on to this new way of being.\n",
      "In my own case, each easy click of that YouTube link reinforces the archetype, despite my efforts to parry it away: Me, America’s B.J. Queen. That Intern. That Vixen. Or, in the inescapable phrase of our 42nd president, “That Woman.”\n",
      "It may surprise you to learn that I’m actually a person.\n",
      "In 1998, when news of my affair with Bill Clinton broke, I was arguably the most humiliated person in the world. Thanks to the Drudge Report, I was also possibly the first person whose global humiliation was driven by the Internet.\n",
      "For several years I tried my hand in the fashion-accessory business and became involved in various media projects, including the HBO documentary. Then I lay low for the most part. (The last major interview I granted was 10 years ago.) After all, not lying low had exposed me to criticism for trying to “capitalize” on my “notoriety.” Apparently, others talking about me is O.K.; me speaking out for myself is not. I turned down offers that would have earned me more than $10 million, because they didn’t feel like the right thing to do. Over time, the media circus quieted down, but it never quite moved on, even as I attempted to move on.\n",
      "Meanwhile, I watched my friends’ lives move forward. Marriages. Kids. Degrees. (Second marriages. More kids. More degrees.) I decided to turn over a new leaf and attend grad school.\n",
      "I moved to England to study, to challenge myself, to escape scrutiny, and to reimagine my identity. My professors and fellow students at the London School of Economics were wonderful—welcoming and respectful. I had more anonymity in London, perhaps due to the fact that I spent most of my waking hours in class or buried in the library. In 2006, I graduated with a master’s in social psychology. My master’s thesis examined social bias in the courtroom and was titled “In Search of the Impartial Juror: An Exploration of Pretrial Publicity and the Third Person Effect.” I liked to joke that I was trading the blue dress for blue stockings, and the degree provided new scaffolding to hang my life experiences on. It would also prove, so I hoped, to be a gateway to a more normal life.\n",
      "I moved between London, Los Angeles, New York, and Portland, Oregon, interviewing for a variety of jobs that fell under the umbrella of “creative communication” and “branding,” with an emphasis on charity campaigns. Yet, because of what potential employers so tactfully referred to as my “history,” I was never “quite right” for the position. In some cases, I was right for all the wrong reasons, as in “Of course, your job would require you to attend our events.” And, of course, these would be events at which press would be in attendance.\n",
      "In one promising job interview that took place during the run-up to the 2008 primary season, the conversation took an interesting turn. “So here’s the thing, Monica,” the interviewer said. “You’re clearly a bright young woman and affable, but for us—and probably any other organization that relies on grants and other government funding—it’s risky. We would first need a Letter of Indemnification from the Clintons. After all, there is a 25 percent chance that Mrs. Clinton will be the next president.” I gave a fake smile and said, “I understand.”\n",
      "Another job interview, this one typical: walked into the stark, terminally cool reception area of a hip-yet-prestigious advertising agency in Los Angeles, my hometown. As always, I put on my best “I’m friendly, not a diva” smile. “Hi. Monica Lewinsky here to see So-and-So.”\n",
      "The twentysomething receptionist pushed her black-rimmed hipster frames up her nose. “Monica who?”\n",
      "Before I could answer, another twentysomething, in skinny jeans, plaid shirt, and bow tie, rushed over and interrupted: “ Ms. Lewinsky.” Like a maître d’, he continued, “Pleasure to have you here. I’ll let So-and-So know you’ve arrived. Soy latte? Green tea? Filtered water?”\n",
      "I found myself sitting at a small round table, face-to-face with So-and-So, the agency’s head of strategy and planning. We talked. She kept wincing. This was not going well. I tried to keep myself from getting flustered. Now she was not only wincing but also clearing her throat. Was that perspiration on her brow? It hit me: she was nervous, in full-tic mode.\n",
      "I’ve had to become adept at handling any number of reactions in social situations and job interviews. I get it: it must be disconcerting to sit across from “That Woman.” Needless to say, I didn’t get the position.\n",
      "I eventually came to realize that traditional employment might not be an option for me. I’ve managed to get by (barely, at times) with my own projects, usually with start-ups that I have participated in, or with loans from friends and family.\n",
      "In another job interview I was asked, “If you were a brand, which brand would you be?” Let me tell you, when you’re Monica Lewinsky, that is one loaded question.\n",
      "In September of 2010, the culmination of these experiences began to snap into a broader context for me. A phone conversation with my mother shifted the lens through which I viewed my world. We were discussing the tragic death of Tyler Clementi. Tyler, you will recall, was an 18-year-old Rutgers freshman who was secretly streamed via Webcam kissing another man. Days later, after being derided and humiliated on social media, he committed suicide by jumping off the George Washington Bridge.\n",
      "My mom wept. Sobbing, she kept repeating over and over, “How his parents must feel … his poor parents.”\n",
      "It was an unbearably tragic event, and while hearing of it brought me to tears, too, I couldn’t quite grasp why my mom was so distraught. And then it dawned on me: she was reliving 1998, when she wouldn’t let me out of her sight. She was replaying those weeks when she stayed by my bed, night after night, because I, too, was suicidal. The shame, the scorn, and the fear that had been thrown at her daughter left her afraid that I would take my own life—a fear that I would be literally humiliated to death. (I have never actually attempted suicide, but I had strong suicidal temptations several times during the investigations and during one or two periods after.)\n",
      "I would never be so presumptuous as to equate my own story with Tyler Clementi’s. After all, my public humiliation had been the result of my involvement with a world-renowned public figure—that is, a consequence of my own poor choices. But in that moment, when I felt the depths of my mother’s anguish, I wished I could have had a chance to have spoken to Tyler about how my love life, my sex life, my most private moments, my most sensitive secrets, had been broadcast around the globe. I wished I had been able to say to him that I knew a little of how it might have felt for him to be exposed before the world. And, as hard as it is to imagine surviving it, it is possible.\n",
      "In the wake of Tyler’s tragedy, my own suffering took on a different meaning. Perhaps by sharing my story, I reasoned, I might be able to help others in their darkest moments of humiliation. The question became: How do I find and give a purpose to my past? It was my Prufrockian moment: “Do I dare / Disturb the universe?” Or, in my case, the Clinton universe.\n",
      "Despite a decade of self-imposed silence, I have been periodically resuscitated as part of the national conversation, almost always in connection with the Clintons. For instance, in January and February of this year, Rand Paul, the Kentucky senator and a possible 2016 Republican presidential aspirant, managed to drag me into the pre-election muck. He fought back against the Democrats’ charges of a G.O.P. “war on women” by arguing that Bill Clinton had committed workplace “violence” and acted in a “predatory” manner against “a 20-year-old girl who was there from college.”\n",
      "Sure, my boss took advantage of me, but I will always remain firm on this point: it was a consensual relationship. Any “abuse” came in the aftermath, when I was made a scapegoat in order to protect his powerful position.\n",
      "So, trying to disappear has not kept me out of the fray. I am, for better or for worse, presumed to be a known quantity. Every day I am recognized. Every day. Sometimes a person will walk past me again and again, as if I wouldn’t notice. (Thankfully, 99.9 percent of the time when strangers do say something to me they are supportive and respectful.) Every day someone mentions me in a tweet or a blog post, and not altogether kindly. Every day, it seems, my name shows up in an op-ed column or a press clip or two—mentioned in passing in articles on subjects as disparate as millennials, Scandal, and French president François Hollande’s love life. Miley Cyrus references me in her twerking stage act, Eminem raps about me, and Beyoncé’s latest hit gives me a shout-out. Thanks, Beyoncé, but if we’re verbing, I think you meant “Bill Clinton’d all on my gown,” not “Monica Lewinsky’d.”\n",
      "With every man I date (yes, I date!), I go through some degree of 1998 whiplash. I need to be extremely circumspect about what it means to be “public” with someone. In the early years post-impeachment, I once left a front-row seat along the third-base line at a Yankees game when I learned that my date—a guy whose company I thoroughly enjoyed—was actually in another relationship. It was only a green-card marriage, but I freaked that we could be photographed together and someone might call the gossip rags. I’ve become adept at figuring out when men are interested in me for the wrong reason. Thankfully, those have been few and far between. But every man that has been special to me over the past 16 years has helped me find another piece of myself—the self that was shattered in 1998. And so, no matter the heartbreak, tears, or disenchantment, I’ll always be grateful to them.\n",
      "In February of this year, around the same time Senator Paul put me back into the unwanted spotlight, I became the “narcissistic loony toon,” the latest twist on Me as Archetype.\n",
      "A snapshot of a scenario I’ve grown all too accustomed to, even as I attempt to move on with my life: A shrill ring interrupts the rhythms of my day. The call—from the doorman of the apartment building where I’m staying in New York—leads me to an exasperated “What? Again?” They’ve reappeared: the paparazzi, like swallows, have returned to the sidewalk outside, pacing and circling and pacing some more.\n",
      "I hit the computer. Time for a little self-Google. (Oh, dear reader, please do not judge.) My heart sinks. There’s an explosion on Google News. I know what this means. Whatever day I’ve planned has been jettisoned. To leave the house—and risk a photo—only ensures that the story will stay alive.\n",
      "The cameras have returned because of the headlines: a conservative Web site has gone poking around the University of Arkansas archive of one of Hillary Clinton’s closest friends and admirers, Diane Blair, and has unearthed a cache of memos from the 1990s. In some of them, Blair, who died in 2000, quotes the former First Lady about her husband’s relationship with me. Though Hillary, according to Blair’s notes, claimed to find her husband’s “lapse” inexcusable, she praised him for trying to “manage someone who was clearly a ‘narcissistic loony toon.’ ”\n",
      "My first thought, as I was getting up to speed: If that’s the worst thing she said, I should be so lucky. Mrs. Clinton, I read, had supposedly confided to Blair that, in part, she blamed herself for her husband’s affair (by being emotionally neglectful) and seemed to forgive him. Although she regarded Bill as having engaged in “gross inappropriate behavior,” the affair was, nonetheless, “consensual (was not a power relationship).”\n",
      "I field the usual calls from friends who lend moral support whenever these volcanic media stories erupt. They diffuse the tension with good-natured teasing: “So, are we changing your monogram to NLT?” I try to ignore the former First Lady’s long-buried comments. Given my experiences with Linda Tripp, I know better than anyone what it’s like to have a conversation with a girlfriend exposed and scrutinized, taken out of context. But, even so, it begins to gnaw at me. I realize that Hillary Clinton was—unlike me when Tripp was prying loose my innermost secrets and insecurities and recording them surreptitiously—fully aware of this documentation: she’s the one who, according to the memos, asked Blair to keep a record or diary of their discussions for archival purposes.\n",
      "Yes, I get it. Hillary Clinton wanted it on record that she was lashing out at her husband’s mistress. She may have faulted her husband for being inappropriate, but I find her impulse to blame the Woman—not only me, but herself—troubling. And all too familiar: with every marital indiscretion that finds its way into the public sphere—many of which involve male politicians—it always seems like the woman conveniently takes the fall. Sure, the Anthony Weiners and Eliot Spitzers do what they need to do to look humiliated on cable news. They bow out of public life for a while, but they inevitably return, having put it all behind them. The women in these imbroglios return to lives that are not so easily repaired.\n",
      "But there is another layer here that is making me bristle: Narcissist? Loony?\n",
      "You might remember that just five days before the world had ever heard my name the F.B.I.—after my friend Linda Tripp approached Special Prosecutor Kenneth Starr’s office with information about my affair with the president—entrapped me in a terrifying “sting” in the Pentagon City mall. At age 24, cornered in a hotel room on January 16, 1998, with mainly male interrogators taking orders from Starr, I was discouraged from contacting my attorney and threatened with 27 years in jail for filing an affidavit denying the affair with Clinton, among other alleged crimes. I was offered immunity from that threat if I agreed to place monitored calls and wear a wire in conversations with two of the president’s confidants and possibly the president himself. I refused. Confiding in Linda Tripp turned into an unintended betrayal. But this? The mother of all betrayals. That, I couldn’t do. Courageous or foolish, maybe, but narcissistic and loony?\n",
      "These 16-year-old descriptions of me triggered memories of past anguish, particularly in the area of women lobbing derision at one another. So where, you might be wondering, were the feminists back then?\n",
      "It’s a question that troubles me to this day.\n",
      "I sorely wished for some sign of understanding from the feminist camp. Some good, old-fashioned, girl-on-girl support was much in need. None came. Given the issues at play—gender politics, sex in the workplace—you’d think they would have spoken up. They didn’t. I understood their dilemma: Bill Clinton had been a president “friendly” to women’s causes.\n",
      "It also didn’t help that my case was not one of conventional “sexual harassment”; that charge against Bill Clinton had been made by Paula Jones, who brought a colossal lawsuit against him. My name surfaced only because, thanks to newly won advances by feminists, investigations of such cases were now allowed to cast a wider net. The Jones case became a stick that the right wing used to strike back at the Clinton-supporting feminists: Why wouldn’t they enthusiastically support an investigation into a case of sexual harassment? What if the president had been a Republican? Charges of hypocrisy flew.\n",
      "A handful of representatives of the modern feminist movement did chime in, obliquely. Yet, instead of any meaningful engagement, we got this: January 30, 1998. Day Nine of the scandal. Cocktails at Le Bernardin, in Manhattan. In attendance: writers Erica Jong, Nancy Friday, Katie Roiphe, and Elizabeth Benedict; Saturday Night Live writer Patricia Marx; Marisa Bowe, the editor of Word, an online magazine; fashion designer Nicole Miller; former dominatrix Susan Shellogg; and their host, Le Bernardin co-owner Maguy Le Coze. The New York Observer brought this coven together to trade Interngate insights, to be recorded by Francine Prose. (Sadly, the gal who would really make this coven complete is missing: Maureen Dowd, or Moremean Dowdy, as I used to refer to her. Today, I’d meet her for a drink.)\n",
      "Oh, to have been at that cocktail party:\n",
      "Marisa Bowe: His whole life is about having to be in control and really intelligent all the time. And his wife is really intelligent and in control all the time. And the idea of just having stupid sex with some not-brilliant woman in the Oval Office, I can see the appeal in that.\n",
      "Imaginary Me: I’m not saying I’m brilliant, but how do you know I’m not? My first job out of college was at the White House.\n",
      "Susan Shellogg: And do you think it’s tremendously selfish? Selfish and demanding, having oral sex and not reciprocating? I mean … she didn’t say, “Well, you know he satisfied me.”\n",
      "Me: And where exactly “didn’t” I say this? In which public statement that I didn’t make? In which testimony that’s not been released?\n",
      "Katie Roiphe: I think what people are outraged about is the way that [Monica Lewinsky] looks, which is interesting. Because we like to think of our presidents as sort of godlike, and so if J.F.K. has an affair with Marilyn Monroe, it’s all in the realm of the demigods…. I mean, the thing I kept hearing over and over again was Monica Lewinsky’s not that pretty.\n",
      "Me: Well, thanks. The first picture that surfaced was a passport photo. Would you like to have a passport photo splattered across publications around the world as the picture that defines you?\n",
      "What you are also saying here is that the primary quality that would qualify a woman to have an intimate relationship with a powerful man is physical attractiveness. If that’s not setting the movement back, I don’t know what is.\n",
      "Erica Jong: My dental hygienist pointed out that she had third-stage gum disease.\n",
      "Shellogg: What do you think will happen to [her]? I mean, she’ll just fade out quietly or write a book? Or people will forget about her six months from now?\n",
      "Nancy Friday: She can rent out her mouth.\n",
      "Me: (Speechless.)\n",
      "Jong: But, you know, men do like to get close to the mouth that has been close to power. Think of the fantasy in the man’s mind as she’s going down on him and he’s thinking, “Oh my God.”\n",
      "Elizabeth Benedict: Do for me what you did to the President. Do that.\n",
      "Me: (Still speechless.)\n",
      "Jong: I think it’s a tribute to how far we’ve come that we’re not trashing Monica Lewinsky.\n",
      "The catty confab appeared under the headline SUPERGALS LOVE THAT NAUGHTY PREZ. (Writing in Vanity Fair, Marjorie Williams called it “the most embarrassing thing I had read in a long time.”) To me, it illustrates a perplexing aspect of the culture of humiliation, one that Phyllis Chesler recognized in her book Woman’s Inhumanity to Woman: that women themselves are not immune to certain kinds of misogyny. We see it today in how the “mean girls” at school lurk on the modern playground of the Web (or around a pundit’s roundtable on TV or at a French restaurant), ever eager to pile on.\n",
      "I still have deep respect for feminism and am thankful for the great strides the movement has made in advancing women’s rights over the past few decades. But, given my experience of being passed around like gender-politics cocktail food, I don’t identify myself as a Feminist, capital F. The movement’s leaders failed in articulating a position that was not essentially anti-woman during the witch hunt of 1998. In the case of the New York Supergals, it should not have been that hard for them to swoon over the president without attacking and shaming me. Instead, they joined the humiliation derby.\n",
      "I , myself, deeply regret what happened between me and President Clinton. Let me say it again: I. Myself. Deeply. Regret. What. Happened. At the time—at least from my point of view—it was an authentic connection, with emotional intimacy, frequent visits, plans made, phone calls and gifts exchanged. In my early 20s, I was too young to understand the real-life consequences, and too young to see that I would be sacrificed for political expediency. I look back now, shake my head in disbelief, and wonder: what was I—what were we—thinking? I would give anything to go back and rewind the tape.\n",
      "Like many other Americans, I’ve been thinking about Hillary Clinton. What might happen, I’ve wondered, if she does run in 2016? And what if she wins—and then wins a second term?\n",
      "But when I think about these matters, there’s a dimension at play for me other than just the fact that we might finally have a woman in the White House. We all remember the second-wave feminist rallying cry The personal is political. Many people (myself included) proclaimed that my relationship with Bill Clinton was a personal matter, not one to be used in a high-stakes political war. When I hear of Hillary’s prospective candidacy, I cannot help but fear the next wave of paparazzi, the next wave of “Where is she now?” stories, the next reference to me in Fox News’s coverage of the primaries. I’ve begun to find it debilitating to plot out the cycle of my life based, to some degree, on the political calendar. For me, it’s a scenario in which the personal and the political are impossible to separate.\n",
      "In 2008, when Hillary was running for president, I remained virtually reclusive, despite being inundated with press requests. I put off announcing several media projects in 2012 until after the election. (They were subsequently canceled—and, no, I wasn’t offered $12 million for a salacious tell-all book, contrary to press reports.) And recently I’ve found myself gun-shy yet again, fearful of “becoming an issue” should she decide to ramp up her campaign. But should I put my life on hold for another 8 to 10 years?\n",
      "Being a conscientious Democrat—and aware that I could be used as a tool for the left or the right—I have remained silent for 10 years. So silent, in fact, that the buzz in some circles has been that the Clintons must have paid me off; why else would I have refrained from speaking out? I can assure you that nothing could be further from the truth.\n",
      "So why speak now? Because it is time.\n",
      "I turned 40 last year, and it is time to stop tiptoeing around my past—and other people’s futures. I am determined to have a different ending to my story. I’ve decided, finally, to stick my head above the parapet so that I can take back my narrative and give a purpose to my past. (What this will cost me, I will soon find out.) Despite what some headlines will falsely report about this piece, this is not about Me versus the Clintons. Their lives have moved on; they occupy important and powerful places on the global stage. I wish them no ill. And I fully understand that what has happened to me and the issue of my future do not matter to either of them.\n",
      "It also goes back to the personal and the political. I have lived many of the questions that have become central to our national discourse since 1998. How far should we allow the government into our bedrooms? How do we reconcile the right to privacy with the need to expose sexual indiscretion? How do we guard against an overzealous government demanding our private data and information? And, most important to me personally, how do we cope with the shame game as it’s played in the Internet Age? (My current goal is to get involved with efforts on behalf of victims of online humiliation and harassment and to start speaking on this topic in public forums.)\n",
      "So far, That Woman has never been able to escape the shadow of that first depiction. I was the Unstable Stalker (a phrase disseminated by the Clinton White House), the Dimwit Floozy, the Poor Innocent who didn’t know any better. The Clinton administration, the special prosecutor’s minions, the political operatives on both sides of the aisle, and the media were able to brand me. And that brand stuck, in part because it was imbued with power. I became a social representation, a social canvas on which anybody could project their confusion about women, sex, infidelity, politics, and body issues.\n",
      "Unlike the other parties involved, I was so young that I had no established identity to which I could return. I didn’t “let this define” me—I simply hadn’t had the life experience to establish my own identity in 1998. If you haven’t figured out who you are, it’s hard not to accept the horrible image of you created by others. (Thus, my compassion for young people who find themselves shamed on the Web.) Despite much self-searching and therapy and exploring of different paths, I remained “stuck” for far too many years.\n",
      "No longer. It’s time to burn the beret and bury the blue dress. And move forward.\n"
     ]
    }
   ],
   "source": [
    "result = requests.get('http://www.vanityfair.com/society/2014/06/monica-lewinsky-humiliation-culture')\n",
    "soup = BeautifulSoup(result.text)\n",
    "for i in soup.select('div.body__inner-container > p'):\n",
    "    print(i.text)"
   ]
  },
  {
   "cell_type": "markdown",
   "id": "052ff3a2",
   "metadata": {},
   "source": [
    "### Excercise 20 (Element Search)\n",
    "**Write a function that takes an ordered list of numbers and another number. The function decides whether or not the given number is inside the list.**"
   ]
  },
  {
   "cell_type": "code",
   "execution_count": 38,
   "id": "ec2100c0",
   "metadata": {},
   "outputs": [
    {
     "name": "stdout",
     "output_type": "stream",
     "text": [
      "True\n",
      "False\n"
     ]
    }
   ],
   "source": [
    "l = [2,3,5,7,9]\n",
    "\n",
    "def num_on_list(l, n):\n",
    "    if n in l:\n",
    "        return True\n",
    "    else:\n",
    "        return False\n",
    "    \n",
    "print(f'{num_on_list(l,2)}\\n{num_on_list(l,6)}')"
   ]
  }
 ],
 "metadata": {
  "kernelspec": {
   "display_name": "Python 3",
   "language": "python",
   "name": "python3"
  },
  "language_info": {
   "codemirror_mode": {
    "name": "ipython",
    "version": 3
   },
   "file_extension": ".py",
   "mimetype": "text/x-python",
   "name": "python",
   "nbconvert_exporter": "python",
   "pygments_lexer": "ipython3",
   "version": "3.8.8"
  }
 },
 "nbformat": 4,
 "nbformat_minor": 5
}
