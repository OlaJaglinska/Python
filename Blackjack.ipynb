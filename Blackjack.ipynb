{
 "cells": [
  {
   "cell_type": "markdown",
   "metadata": {},
   "source": [
    "## Blackjack game\n",
    "1. Creating card class\n",
    "2. Creating deck class\n",
    "3. Creating hand class\n",
    "4. Creating chips class\n",
    "5. Function for taking bets\n",
    "6. Function for taking hits\n",
    "7. Function prompting the player to hit or stand\n",
    "8. Function to display cards\n",
    "9. Function to handle end of game scenarios\n",
    "10. Game play"
   ]
  },
  {
   "cell_type": "code",
   "execution_count": 1,
   "metadata": {},
   "outputs": [],
   "source": [
    "import random\n",
    "\n",
    "suits = ('Hearts', 'Diamonds', 'Spades', 'Clubs')\n",
    "ranks = ('Two', 'Three', 'Four', 'Five', 'Six', 'Seven', 'Eight', 'Nine', 'Ten', 'Jack', 'Queen', 'King', 'Ace')\n",
    "values = {'Two':2, 'Three':3, 'Four':4, 'Five':5, 'Six':6, 'Seven':7, 'Eight':8, 'Nine':9, 'Ten':10, 'Jack':10, 'Queen':10, 'King':10, 'Ace':11}\n",
    "\n",
    "playing = True"
   ]
  },
  {
   "cell_type": "markdown",
   "metadata": {},
   "source": [
    "**Step 1: creating card class**"
   ]
  },
  {
   "cell_type": "code",
   "execution_count": 2,
   "metadata": {},
   "outputs": [],
   "source": [
    "class Card:\n",
    "    \n",
    "    def __init__(self,suit,rank):\n",
    "        self.suit = suit\n",
    "        self.rank = rank\n",
    "    \n",
    "    def __str__(self):\n",
    "        return self.rank +' of '+ self.suit"
   ]
  },
  {
   "cell_type": "markdown",
   "metadata": {},
   "source": [
    "**TEST Cards**"
   ]
  },
  {
   "cell_type": "code",
   "execution_count": 3,
   "metadata": {
    "scrolled": true
   },
   "outputs": [
    {
     "name": "stdout",
     "output_type": "stream",
     "text": [
      "Two of Hearts\n"
     ]
    }
   ],
   "source": [
    "two_heart = Card(suits[0],ranks[0])\n",
    "print(two_heart)"
   ]
  },
  {
   "cell_type": "markdown",
   "metadata": {},
   "source": [
    "**Step 2: creating deck class**"
   ]
  },
  {
   "cell_type": "code",
   "execution_count": 4,
   "metadata": {},
   "outputs": [],
   "source": [
    "class Deck:\n",
    "    \n",
    "    def __init__(self):\n",
    "        self.deck = []\n",
    "        for suit in suits:\n",
    "            for rank in ranks:\n",
    "                self.deck.append(Card(suit,rank))\n",
    "                \n",
    "    def __str__(self):\n",
    "        deck_str = ''\n",
    "        for card in self.deck:\n",
    "            deck_str += '\\n' + card.__str__()\n",
    "        return deck_str\n",
    "        \n",
    "    def shuffle(self):\n",
    "        random.shuffle(self.deck)\n",
    "        \n",
    "    def deal(self):\n",
    "        one_card = self.deck.pop()\n",
    "        return one_card"
   ]
  },
  {
   "cell_type": "markdown",
   "metadata": {},
   "source": [
    "**TEST Deck**"
   ]
  },
  {
   "cell_type": "code",
   "execution_count": 5,
   "metadata": {
    "scrolled": true
   },
   "outputs": [
    {
     "name": "stdout",
     "output_type": "stream",
     "text": [
      "\n",
      "Two of Diamonds\n",
      "Three of Diamonds\n",
      "Seven of Hearts\n",
      "Eight of Clubs\n",
      "Three of Clubs\n",
      "Queen of Clubs\n",
      "Ten of Clubs\n",
      "Two of Clubs\n",
      "Five of Spades\n",
      "Ace of Diamonds\n",
      "Seven of Spades\n",
      "Jack of Spades\n",
      "Queen of Diamonds\n",
      "Two of Spades\n",
      "Seven of Diamonds\n",
      "King of Spades\n",
      "Four of Spades\n",
      "Nine of Hearts\n",
      "Ten of Spades\n",
      "Eight of Diamonds\n",
      "Queen of Hearts\n",
      "Six of Diamonds\n",
      "Six of Clubs\n",
      "Nine of Spades\n",
      "Queen of Spades\n",
      "Ten of Diamonds\n",
      "Six of Hearts\n",
      "Two of Hearts\n",
      "Eight of Hearts\n",
      "Seven of Clubs\n",
      "Four of Diamonds\n",
      "Jack of Diamonds\n",
      "Jack of Clubs\n",
      "Three of Hearts\n",
      "Ace of Hearts\n",
      "Five of Clubs\n",
      "Six of Spades\n",
      "Jack of Hearts\n",
      "Nine of Diamonds\n",
      "Five of Diamonds\n",
      "Eight of Spades\n",
      "Nine of Clubs\n",
      "Four of Hearts\n",
      "King of Hearts\n",
      "Ten of Hearts\n",
      "Three of Spades\n",
      "King of Diamonds\n",
      "Four of Clubs\n",
      "King of Clubs\n",
      "Five of Hearts\n",
      "Ace of Clubs\n",
      "Ace of Spades\n"
     ]
    }
   ],
   "source": [
    "test_deck = Deck()\n",
    "test_deck.shuffle()\n",
    "print(test_deck)"
   ]
  },
  {
   "cell_type": "markdown",
   "metadata": {},
   "source": [
    "**Step 3: creating hand class**"
   ]
  },
  {
   "cell_type": "code",
   "execution_count": 6,
   "metadata": {},
   "outputs": [],
   "source": [
    "class Hand:\n",
    "    def __init__(self):\n",
    "        self.cards = []\n",
    "        self.value = 0\n",
    "        self.aces = 0\n",
    "    \n",
    "    def add_card(self,card):\n",
    "        self.cards.append(card)\n",
    "        self.value += values[card.rank]\n",
    "        \n",
    "        if card.rank == 'Ace':\n",
    "            self.aces += 1\n",
    "    \n",
    "    def adjust_for_ace(self):\n",
    "        while self.value > 21 and self.aces > 0:\n",
    "            self.value -= 10\n",
    "            self.aces -= 1"
   ]
  },
  {
   "cell_type": "markdown",
   "metadata": {},
   "source": [
    "**TEST Hand**"
   ]
  },
  {
   "cell_type": "code",
   "execution_count": 7,
   "metadata": {},
   "outputs": [
    {
     "name": "stdout",
     "output_type": "stream",
     "text": [
      "Five of Clubs\n",
      "5\n"
     ]
    }
   ],
   "source": [
    "test_deck = Deck()\n",
    "test_deck.shuffle()\n",
    "\n",
    "test_player = Hand()\n",
    "\n",
    "pulled_card = test_deck.deal()\n",
    "print(pulled_card)\n",
    "test_player.add_card(pulled_card)\n",
    "print(test_player.value)"
   ]
  },
  {
   "cell_type": "code",
   "execution_count": 8,
   "metadata": {},
   "outputs": [
    {
     "data": {
      "text/plain": [
       "10"
      ]
     },
     "execution_count": 8,
     "metadata": {},
     "output_type": "execute_result"
    }
   ],
   "source": [
    "test_player.add_card(test_deck.deal())\n",
    "test_player.value"
   ]
  },
  {
   "cell_type": "markdown",
   "metadata": {},
   "source": [
    "**Step 4: creating chips class**"
   ]
  },
  {
   "cell_type": "code",
   "execution_count": 9,
   "metadata": {},
   "outputs": [],
   "source": [
    "class Chips:\n",
    "    \n",
    "    def __init__(self,total=100):\n",
    "        self.total = total\n",
    "        self.bet = 0\n",
    "        \n",
    "    def win_bet(self):\n",
    "        self.total += self.bet\n",
    "    \n",
    "    def lose_bet(self):\n",
    "        self.total -= self.bet"
   ]
  },
  {
   "cell_type": "markdown",
   "metadata": {},
   "source": [
    "**Step 5: function for taking bets**"
   ]
  },
  {
   "cell_type": "code",
   "execution_count": 10,
   "metadata": {},
   "outputs": [],
   "source": [
    "def take_bet(chips):\n",
    "    while True:\n",
    "        try:\n",
    "            chips.bet = int(input('Enter your bet value: '))\n",
    "        except ValueError:\n",
    "            print(\"Sorry, that is not a number\")\n",
    "            continue\n",
    "        else:\n",
    "            if chips.bet <= chips.total:\n",
    "                print(f'Your bet is: {chips.bet}')\n",
    "                break\n",
    "            else:\n",
    "                print(f'Sorry, you have just {chips.total} chips')"
   ]
  },
  {
   "cell_type": "markdown",
   "metadata": {},
   "source": [
    "**TEST bet**"
   ]
  },
  {
   "cell_type": "code",
   "execution_count": 11,
   "metadata": {},
   "outputs": [
    {
     "name": "stdout",
     "output_type": "stream",
     "text": [
      "Enter your bet value: 50\n",
      "Your bet is: 50\n"
     ]
    }
   ],
   "source": [
    "take_bet(Chips(100))\n"
   ]
  },
  {
   "cell_type": "markdown",
   "metadata": {},
   "source": [
    "**Step 6: function for taking hits**"
   ]
  },
  {
   "cell_type": "code",
   "execution_count": 12,
   "metadata": {},
   "outputs": [],
   "source": [
    "def hit(deck,hand):\n",
    "    single_card = deck.deal()\n",
    "    hand.add_card(single_card)\n",
    "    hand.adjust_for_ace()"
   ]
  },
  {
   "cell_type": "markdown",
   "metadata": {},
   "source": [
    "**Step 7: function prompting the player to hit or stand**"
   ]
  },
  {
   "cell_type": "code",
   "execution_count": 13,
   "metadata": {},
   "outputs": [],
   "source": [
    "def hit_or_stand(deck,hand):\n",
    "    global playing  # to control an upcoming while loop\n",
    "    \n",
    "    while True:\n",
    "        player_step = input('\\nDo You want hit or stand? (H or S):').upper() \n",
    "        \n",
    "        if player_step == 'H':\n",
    "            hit(deck,hand)\n",
    "        elif player_step == 'S':\n",
    "            print(\"Player stands. Dealer's turn\")\n",
    "            playing = False\n",
    "        else:\n",
    "            print('Please enter H or S.')\n",
    "            continue\n",
    "        break"
   ]
  },
  {
   "cell_type": "markdown",
   "metadata": {},
   "source": [
    "**Step 8: functions to display cards**"
   ]
  },
  {
   "cell_type": "code",
   "execution_count": 14,
   "metadata": {},
   "outputs": [],
   "source": [
    "def show_some(player,dealer):\n",
    "    print(\"\\nPlayer's cards:\",*player.cards,sep='\\n')\n",
    "    print(f\"\\nDealer's second card:\\n{dealer.cards[1]}\")\n",
    "    \n",
    "def show_all(player,dealer):\n",
    "    print(\"\\nPlayer's cards:\",*player.cards,sep='\\n')\n",
    "    print(f\"\\nPlayer's cards value: {player.value}\")\n",
    "    \n",
    "    print(\"\\nDealer's cards:\",*dealer.cards,sep='\\n')\n",
    "    print(f\"\\nDealer's cards value: {dealer.value}\")"
   ]
  },
  {
   "cell_type": "markdown",
   "metadata": {},
   "source": [
    "**Step 9: functions to handle end of game scenarios**"
   ]
  },
  {
   "cell_type": "code",
   "execution_count": 15,
   "metadata": {},
   "outputs": [],
   "source": [
    "def player_busts(player,dealer,chips):\n",
    "    print('Sorry, bust player.')\n",
    "    chips.lose_bet()\n",
    "\n",
    "def player_wins(player,dealer,chips):\n",
    "    print('Player is winner!')\n",
    "    chips.win_bet()\n",
    "\n",
    "def dealer_busts(player,dealer,chips):\n",
    "    print('Player is winner! Dealer busted!')\n",
    "    chips.win_bet()\n",
    "    \n",
    "def dealer_wins(player,dealer,chips):\n",
    "    print('Dealer is winner!')\n",
    "    chips.lose_bet() \n",
    "    \n",
    "def push():\n",
    "    print('Dealer and player tie!')"
   ]
  },
  {
   "cell_type": "markdown",
   "metadata": {},
   "source": [
    "**Game Play**\n",
    "1. Create a deck of 52 cards\n",
    "2. Shuffle the deck\n",
    "3. Ask the Player for their bet\n",
    "4. Make sure that the Player's bet does not exceed their available chips\n",
    "5. Deal two cards to the Dealer and two cards to the Player\n",
    "6. Show only one of the Dealer's cards, the other remains hidden\n",
    "7. Show both of the Player's cards\n",
    "8. Ask the Player if they wish to Hit, and take another card\n",
    "9. If the Player's hand doesn't Bust (go over 21), ask if they'd like to Hit again.\n",
    "10. If a Player Stands, play the Dealer's hand. The dealer will always Hit until the Dealer's value meets or exceeds 17\n",
    "11. Determine the winner and adjust the Player's chips accordingly\n",
    "12. Ask the Player if they'd like to play again"
   ]
  },
  {
   "cell_type": "code",
   "execution_count": 16,
   "metadata": {},
   "outputs": [
    {
     "name": "stdout",
     "output_type": "stream",
     "text": [
      "Welcome in Blackjack!\n",
      "Enter your bet value: 30\n",
      "Your bet is: 30\n",
      "\n",
      "Player's cards:\n",
      "Nine of Hearts\n",
      "Five of Diamonds\n",
      "\n",
      "Dealer's second card:\n",
      "Two of Hearts\n",
      "\n",
      "Do You want hit or stand? (H or S):h\n",
      "\n",
      "Player's cards:\n",
      "Nine of Hearts\n",
      "Five of Diamonds\n",
      "King of Hearts\n",
      "\n",
      "Dealer's second card:\n",
      "Two of Hearts\n",
      "Sorry, bust player.\n",
      "\n",
      "Player total chips: 70\n",
      "\n",
      "Would you like to play again? (Y or N): y\n",
      "Enter your bet value: 30\n",
      "Your bet is: 30\n",
      "\n",
      "Player's cards:\n",
      "Three of Hearts\n",
      "Ten of Hearts\n",
      "\n",
      "Dealer's second card:\n",
      "Four of Spades\n",
      "\n",
      "Do You want hit or stand? (H or S):h\n",
      "\n",
      "Player's cards:\n",
      "Three of Hearts\n",
      "Ten of Hearts\n",
      "Five of Hearts\n",
      "\n",
      "Dealer's second card:\n",
      "Four of Spades\n",
      "\n",
      "Do You want hit or stand? (H or S):s\n",
      "Player stands. Dealer's turn\n",
      "\n",
      "Player's cards:\n",
      "Three of Hearts\n",
      "Ten of Hearts\n",
      "Five of Hearts\n",
      "\n",
      "Dealer's second card:\n",
      "Four of Spades\n",
      "\n",
      "Player's cards:\n",
      "Three of Hearts\n",
      "Ten of Hearts\n",
      "Five of Hearts\n",
      "\n",
      "Player's cards value: 18\n",
      "\n",
      "Dealer's cards:\n",
      "Ace of Spades\n",
      "Four of Spades\n",
      "Nine of Hearts\n",
      "King of Clubs\n",
      "\n",
      "Dealer's cards value: 24\n",
      "Player is winner! Dealer busted!\n",
      "\n",
      "Player total chips: 100\n",
      "\n",
      "Would you like to play again? (Y or N): n\n",
      "Thank You for playing\n"
     ]
    }
   ],
   "source": [
    "print('Welcome in Blackjack!')\n",
    "\n",
    "player_chips = Chips()\n",
    "while True:\n",
    "    deck = Deck()\n",
    "    deck.shuffle()\n",
    "    \n",
    "    player_hand = Hand()\n",
    "    player_hand.add_card(deck.deal())\n",
    "    player_hand.add_card(deck.deal())\n",
    "    \n",
    "    dealer_hand = Hand()\n",
    "    dealer_hand.add_card(deck.deal())\n",
    "    dealer_hand.add_card(deck.deal())\n",
    "    \n",
    "    take_bet(player_chips)\n",
    " \n",
    "    show_some(player_hand,dealer_hand)\n",
    "    \n",
    "    while playing:\n",
    "        hit_or_stand(deck,player_hand)\n",
    "        show_some(player_hand,dealer_hand)\n",
    "        \n",
    "        if player_hand.value > 21:\n",
    "            player_busts(player_hand,dealer_hand,player_chips)\n",
    "            break\n",
    "\n",
    "    if player_hand.value <= 21:\n",
    "        \n",
    "        while dealer_hand.value < 17:\n",
    "            hit(deck,dealer_hand)\n",
    "\n",
    "        show_all(player_hand,dealer_hand)\n",
    "    \n",
    "        if dealer_hand.value > 21:\n",
    "            dealer_busts(player_hand,dealer_hand,player_chips)\n",
    "        elif dealer_hand.value > player_hand.value:\n",
    "            dealer_wins(player_hand,dealer_hand,player_chips)\n",
    "        elif dealer_hand.value < player_hand.value:\n",
    "            player_wins(player_hand,dealer_hand,player_chips)\n",
    "        else:\n",
    "            push()\n",
    "    \n",
    "    print(f'\\nPlayer total chips: {player_chips.total}')\n",
    "    new_game = input('\\nWould you like to play again? (Y or N): ').upper()\n",
    "    \n",
    "    if new_game == 'Y':\n",
    "        playing = True\n",
    "        continue\n",
    "    elif new_game == 'N':\n",
    "        print('Thank You for playing')\n",
    "        playing = False\n",
    "    else:\n",
    "        print('Please enter Y or N.')\n",
    "        continue\n",
    "    break"
   ]
  },
  {
   "cell_type": "code",
   "execution_count": null,
   "metadata": {},
   "outputs": [],
   "source": []
  }
 ],
 "metadata": {
  "kernelspec": {
   "display_name": "Python 3",
   "language": "python",
   "name": "python3"
  },
  "language_info": {
   "codemirror_mode": {
    "name": "ipython",
    "version": 3
   },
   "file_extension": ".py",
   "mimetype": "text/x-python",
   "name": "python",
   "nbconvert_exporter": "python",
   "pygments_lexer": "ipython3",
   "version": "3.8.8"
  }
 },
 "nbformat": 4,
 "nbformat_minor": 1
}
