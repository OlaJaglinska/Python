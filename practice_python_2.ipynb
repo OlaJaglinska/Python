{
 "cells": [
  {
   "cell_type": "markdown",
   "id": "01453dae",
   "metadata": {},
   "source": [
    "## Practice python - part 2\n",
    "source: https://www.practicepython.org/"
   ]
  },
  {
   "cell_type": "markdown",
   "id": "0b750171",
   "metadata": {},
   "source": [
    "### Excercise 21 (Write To A File)\n",
    "**Take the code from the How To Decode A Website exercise and instead of printing the results to a screen, write the results to a txt file. In your code, just make up a name for the file you are saving to. Ask the user to specify the name of the output file that will be saved.**"
   ]
  },
  {
   "cell_type": "code",
   "execution_count": 1,
   "id": "cc4332b6",
   "metadata": {},
   "outputs": [],
   "source": [
    "from bs4 import BeautifulSoup\n",
    "import requests"
   ]
  },
  {
   "cell_type": "code",
   "execution_count": 2,
   "id": "0584e7a2",
   "metadata": {},
   "outputs": [
    {
     "name": "stdout",
     "output_type": "stream",
     "text": [
      "Name of file: monica-lewinsky-humiliation-culture\n"
     ]
    }
   ],
   "source": [
    "result = requests.get('http://www.vanityfair.com/society/2014/06/monica-lewinsky-humiliation-culture')\n",
    "soup = BeautifulSoup(result.text)\n",
    "name_of_file = input('Name of file: ')\n",
    "\n",
    "with open(name_of_file, 'w', encoding='utf-8') as f:\n",
    "    for i in soup.select('div.body__inner-container > p'):\n",
    "        f.write(i.text)"
   ]
  },
  {
   "cell_type": "markdown",
   "id": "6f3ed4b6",
   "metadata": {},
   "source": [
    "### Excercise 22 (Read From File)\n",
    "**Given a .txt file that has a list of a bunch of names, count how many of each name there are in the file, and print out the results to the screen.**"
   ]
  },
  {
   "cell_type": "code",
   "execution_count": 3,
   "id": "401ef0f8",
   "metadata": {
    "scrolled": true
   },
   "outputs": [
    {
     "data": {
      "text/plain": [
       "{'Darth': 31, 'Luke': 15, 'Lea': 54}"
      ]
     },
     "execution_count": 3,
     "metadata": {},
     "output_type": "execute_result"
    }
   ],
   "source": [
    "with open ('nameslist.txt', 'r') as file:\n",
    "    names = file.read().split('\\n')\n",
    "\n",
    "dict(zip(names,[names.count(i) for i in list(names)]))"
   ]
  },
  {
   "cell_type": "markdown",
   "id": "5bc6feb6",
   "metadata": {},
   "source": [
    "### Excercise 23 (File Overlap)\n",
    "**Given two .txt files that have lists of numbers in them, find the numbers that are overlapping. One file has a list of all prime numbers under 1000, and the other file has a list of happy numbers up to 1000.**"
   ]
  },
  {
   "cell_type": "code",
   "execution_count": 4,
   "id": "a3461c21",
   "metadata": {
    "scrolled": true
   },
   "outputs": [],
   "source": [
    "with open ('.\\primenumbers.txt', 'r') as file:\n",
    "    prime_num = file.read().split('\\n')\n",
    "\n",
    "prime_num = [int(i) for i in prime_num]\n",
    "\n",
    "\n",
    "with open ('.\\happynumbers.txt', 'r') as file:\n",
    "    happy_num = file.read().split('\\n')\n",
    "\n",
    "happy_num = [int(i) for i in happy_num]"
   ]
  },
  {
   "cell_type": "code",
   "execution_count": 5,
   "id": "67b29679",
   "metadata": {},
   "outputs": [
    {
     "name": "stdout",
     "output_type": "stream",
     "text": [
      "[7, 13, 19, 23, 31, 79, 97, 103, 109, 139, 167, 193, 239, 263, 293, 313, 331, 367, 379, 383, 397, 409, 487, 563, 617, 653, 673, 683, 709, 739, 761, 863, 881, 907, 937]\n"
     ]
    }
   ],
   "source": [
    "def overlap(a, b):\n",
    "    c = [i for i in a if i in b]\n",
    "    return c\n",
    "\n",
    "overlap_list = overlap(prime_num,happy_num)\n",
    "print(overlap_list)"
   ]
  }
 ],
 "metadata": {
  "kernelspec": {
   "display_name": "Python 3",
   "language": "python",
   "name": "python3"
  },
  "language_info": {
   "codemirror_mode": {
    "name": "ipython",
    "version": 3
   },
   "file_extension": ".py",
   "mimetype": "text/x-python",
   "name": "python",
   "nbconvert_exporter": "python",
   "pygments_lexer": "ipython3",
   "version": "3.8.8"
  }
 },
 "nbformat": 4,
 "nbformat_minor": 5
}
