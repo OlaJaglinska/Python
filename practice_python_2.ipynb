{
 "cells": [
  {
   "cell_type": "markdown",
   "id": "01453dae",
   "metadata": {},
   "source": [
    "## Practice python - part 2\n",
    "source: https://www.practicepython.org/"
   ]
  },
  {
   "cell_type": "markdown",
   "id": "0b750171",
   "metadata": {},
   "source": [
    "### Excercise 21 (Write To A File)\n",
    "**Take the code from the How To Decode A Website exercise and instead of printing the results to a screen, write the results to a txt file. In your code, just make up a name for the file you are saving to. Ask the user to specify the name of the output file that will be saved.**"
   ]
  },
  {
   "cell_type": "code",
   "execution_count": 1,
   "id": "494a5ae8",
   "metadata": {},
   "outputs": [],
   "source": [
    "from bs4 import BeautifulSoup\n",
    "import requests"
   ]
  },
  {
   "cell_type": "code",
   "execution_count": 2,
   "id": "a5b687e0",
   "metadata": {},
   "outputs": [
    {
     "name": "stdout",
     "output_type": "stream",
     "text": [
      "Name of file: monica-lewinsky-humiliation-culture\n"
     ]
    }
   ],
   "source": [
    "result = requests.get('http://www.vanityfair.com/society/2014/06/monica-lewinsky-humiliation-culture')\n",
    "soup = BeautifulSoup(result.text)\n",
    "name_of_file = input('Name of file: ')\n",
    "\n",
    "with open(name_of_file, 'w', encoding='utf-8') as f:\n",
    "    for i in soup.select('div.body__inner-container > p'):\n",
    "        f.write(i.text)"
   ]
  }
 ],
 "metadata": {
  "kernelspec": {
   "display_name": "Python 3",
   "language": "python",
   "name": "python3"
  },
  "language_info": {
   "codemirror_mode": {
    "name": "ipython",
    "version": 3
   },
   "file_extension": ".py",
   "mimetype": "text/x-python",
   "name": "python",
   "nbconvert_exporter": "python",
   "pygments_lexer": "ipython3",
   "version": "3.8.8"
  }
 },
 "nbformat": 4,
 "nbformat_minor": 5
}
