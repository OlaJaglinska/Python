{
 "cells": [
  {
   "cell_type": "markdown",
   "id": "01453dae",
   "metadata": {},
   "source": [
    "## Practice python - part 2\n",
    "source: https://www.practicepython.org/"
   ]
  },
  {
   "cell_type": "markdown",
   "id": "0b750171",
   "metadata": {},
   "source": [
    "### Excercise 21 (Write To A File)\n",
    "**Take the code from the How To Decode A Website exercise and instead of printing the results to a screen, write the results to a txt file. In your code, just make up a name for the file you are saving to. Ask the user to specify the name of the output file that will be saved.**"
   ]
  },
  {
   "cell_type": "code",
   "execution_count": 1,
   "id": "cc4332b6",
   "metadata": {},
   "outputs": [],
   "source": [
    "from bs4 import BeautifulSoup\n",
    "import requests"
   ]
  },
  {
   "cell_type": "code",
   "execution_count": 2,
   "id": "0584e7a2",
   "metadata": {},
   "outputs": [
    {
     "name": "stdout",
     "output_type": "stream",
     "text": [
      "Name of file: monica-lewinsky-humiliation-culture\n"
     ]
    }
   ],
   "source": [
    "result = requests.get('http://www.vanityfair.com/society/2014/06/monica-lewinsky-humiliation-culture')\n",
    "soup = BeautifulSoup(result.text)\n",
    "name_of_file = input('Name of file: ')\n",
    "\n",
    "with open(name_of_file, 'w', encoding='utf-8') as f:\n",
    "    for i in soup.select('div.body__inner-container > p'):\n",
    "        f.write(i.text)"
   ]
  },
  {
   "cell_type": "markdown",
   "id": "6f3ed4b6",
   "metadata": {},
   "source": [
    "### Excercise 22 (Read From File)\n",
    "**Given a .txt file that has a list of a bunch of names, count how many of each name there are in the file, and print out the results to the screen.**"
   ]
  },
  {
   "cell_type": "code",
   "execution_count": 3,
   "id": "401ef0f8",
   "metadata": {
    "scrolled": true
   },
   "outputs": [
    {
     "data": {
      "text/plain": [
       "{'Darth': 31, 'Luke': 15, 'Lea': 54}"
      ]
     },
     "execution_count": 3,
     "metadata": {},
     "output_type": "execute_result"
    }
   ],
   "source": [
    "with open ('nameslist.txt', 'r') as file:\n",
    "    names = file.read().split('\\n')\n",
    "\n",
    "dict(zip(names,[names.count(i) for i in list(names)]))"
   ]
  },
  {
   "cell_type": "markdown",
   "id": "c5e992c1",
   "metadata": {},
   "source": [
    "### Excercise 23 (File Overlap)\n",
    "**Given two .txt files that have lists of numbers in them, find the numbers that are overlapping. One file has a list of all prime numbers under 1000, and the other file has a list of happy numbers up to 1000.**"
   ]
  },
  {
   "cell_type": "code",
   "execution_count": 4,
   "id": "ef0c96be",
   "metadata": {
    "scrolled": true
   },
   "outputs": [],
   "source": [
    "with open ('.\\primenumbers.txt', 'r') as file:\n",
    "    prime_num = file.read().split('\\n')\n",
    "\n",
    "prime_num = [int(i) for i in prime_num]\n",
    "\n",
    "\n",
    "with open ('.\\happynumbers.txt', 'r') as file:\n",
    "    happy_num = file.read().split('\\n')\n",
    "\n",
    "happy_num = [int(i) for i in happy_num]"
   ]
  },
  {
   "cell_type": "code",
   "execution_count": 5,
   "id": "b4eb5c2c",
   "metadata": {},
   "outputs": [
    {
     "name": "stdout",
     "output_type": "stream",
     "text": [
      "[7, 13, 19, 23, 31, 79, 97, 103, 109, 139, 167, 193, 239, 263, 293, 313, 331, 367, 379, 383, 397, 409, 487, 563, 617, 653, 673, 683, 709, 739, 761, 863, 881, 907, 937]\n"
     ]
    }
   ],
   "source": [
    "def overlap(a, b):\n",
    "    c = [i for i in a if i in b]\n",
    "    return c\n",
    "\n",
    "overlap_list = overlap(prime_num,happy_num)\n",
    "print(overlap_list)"
   ]
  },
  {
   "cell_type": "markdown",
   "id": "d1f773fd",
   "metadata": {},
   "source": [
    "### Excercise 28 (Max Of Three)\n",
    "**Implement a function that takes as input three variables, and returns the largest of the three. Do this without using the Python max() function!**"
   ]
  },
  {
   "cell_type": "code",
   "execution_count": 6,
   "id": "9435b6c6",
   "metadata": {},
   "outputs": [
    {
     "name": "stdout",
     "output_type": "stream",
     "text": [
      "90\n"
     ]
    }
   ],
   "source": [
    "def max_of_three(a,b,c):\n",
    "    if a>b and a>c:\n",
    "        print(a)\n",
    "    elif b>a and b>c:\n",
    "        print(b)\n",
    "    else:\n",
    "        print(c)\n",
    "        \n",
    "max_of_three(15,90,6)"
   ]
  },
  {
   "cell_type": "markdown",
   "id": "5bd6d201",
   "metadata": {},
   "source": [
    "### Excercise 30 (Hangman game)\n",
    "**1. Write a function that picks a random word from a list of words from the SOWPODS dictionary. Download this file and save it in the same directory as your Python code.**"
   ]
  },
  {
   "cell_type": "code",
   "execution_count": 7,
   "id": "ea986789",
   "metadata": {},
   "outputs": [],
   "source": [
    "import random"
   ]
  },
  {
   "cell_type": "code",
   "execution_count": 8,
   "id": "a6c864e0",
   "metadata": {},
   "outputs": [
    {
     "name": "stdout",
     "output_type": "stream",
     "text": [
      "CENTENARIANISM\n"
     ]
    }
   ],
   "source": [
    "def random_word():\n",
    "    with open ('.\\sowpods.txt', 'r') as file:\n",
    "        words = file.read().split('\\n')\n",
    "        list_of_words = [i for i in words]\n",
    "    random_word = random.choice(list_of_words)\n",
    "    print(random_word)\n",
    "        \n",
    "random_word()"
   ]
  },
  {
   "cell_type": "markdown",
   "id": "379761de",
   "metadata": {},
   "source": [
    "**2. Write the logic that asks a player to guess a letter and displays letters in the clue word that were guessed correctly. The player can only guess 6 letters incorrectly before losing. Let’s say the word the player has to guess is “EVAPORATE”.**"
   ]
  },
  {
   "cell_type": "code",
   "execution_count": 9,
   "id": "05d694da",
   "metadata": {},
   "outputs": [],
   "source": [
    "def guess_word():\n",
    "    print('Welcome in Hangman Game')\n",
    "\n",
    "    word = [*'EVAPORATE']\n",
    "    guess_table = ['_' for i in word]\n",
    "    num_of_miss = 0\n",
    "    print(guess_table)\n",
    "    \n",
    "    while True:\n",
    "        letter = input('\\nGuess your letter:').upper()\n",
    "        \n",
    "        if letter in word:\n",
    "            for i in range(0,len(word)):\n",
    "                if letter==word[i]:\n",
    "                    guess_table[i]=letter\n",
    "            print(guess_table)\n",
    "        \n",
    "        else:\n",
    "            num_of_miss+=1\n",
    "            if num_of_miss==6:\n",
    "                print('Sorry, you lost')\n",
    "                break\n",
    "            else:\n",
    "                print(f'Incorrect letter, this is your {num_of_miss} mistake. Try again')\n",
    "        \n",
    "        if guess_table==word:\n",
    "            print(f'You win! Number of mistakes: {num_of_miss}')\n",
    "            break"
   ]
  },
  {
   "cell_type": "code",
   "execution_count": 10,
   "id": "d65c4301",
   "metadata": {},
   "outputs": [
    {
     "name": "stdout",
     "output_type": "stream",
     "text": [
      "Welcome in Hangman Game\n",
      "['_', '_', '_', '_', '_', '_', '_', '_', '_']\n",
      "\n",
      "Guess your letter:a\n",
      "['_', '_', 'A', '_', '_', '_', 'A', '_', '_']\n",
      "\n",
      "Guess your letter:f\n",
      "Incorrect letter, this is your 1 mistake. Try again\n",
      "\n",
      "Guess your letter:e\n",
      "['E', '_', 'A', '_', '_', '_', 'A', '_', 'E']\n",
      "\n",
      "Guess your letter:t\n",
      "['E', '_', 'A', '_', '_', '_', 'A', 'T', 'E']\n",
      "\n",
      "Guess your letter:p\n",
      "['E', '_', 'A', 'P', '_', '_', 'A', 'T', 'E']\n",
      "\n",
      "Guess your letter:o\n",
      "['E', '_', 'A', 'P', 'O', '_', 'A', 'T', 'E']\n",
      "\n",
      "Guess your letter:r\n",
      "['E', '_', 'A', 'P', 'O', 'R', 'A', 'T', 'E']\n",
      "\n",
      "Guess your letter:y\n",
      "Incorrect letter, this is your 2 mistake. Try again\n",
      "\n",
      "Guess your letter:v\n",
      "['E', 'V', 'A', 'P', 'O', 'R', 'A', 'T', 'E']\n",
      "You win! Number of mistakes: 2\n"
     ]
    }
   ],
   "source": [
    "guess_word()"
   ]
  }
 ],
 "metadata": {
  "kernelspec": {
   "display_name": "Python 3",
   "language": "python",
   "name": "python3"
  },
  "language_info": {
   "codemirror_mode": {
    "name": "ipython",
    "version": 3
   },
   "file_extension": ".py",
   "mimetype": "text/x-python",
   "name": "python",
   "nbconvert_exporter": "python",
   "pygments_lexer": "ipython3",
   "version": "3.8.8"
  }
 },
 "nbformat": 4,
 "nbformat_minor": 5
}
